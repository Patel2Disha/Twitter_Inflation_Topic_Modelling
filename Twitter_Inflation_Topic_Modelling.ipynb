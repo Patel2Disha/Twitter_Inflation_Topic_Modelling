{
 "cells": [
  {
   "cell_type": "markdown",
   "metadata": {
    "application/vnd.databricks.v1+cell": {
     "cellMetadata": {},
     "inputWidgets": {},
     "nuid": "2ae7b44f-8648-4c8b-9cc1-65ffbe051617",
     "showTitle": false,
     "title": ""
    }
   },
   "source": [
    "## Objective\n"
   ]
  },
  {
   "cell_type": "markdown",
   "metadata": {
    "application/vnd.databricks.v1+cell": {
     "cellMetadata": {},
     "inputWidgets": {},
     "nuid": "ba556dec-b80d-4fa4-a2d7-51856a67f4c3",
     "showTitle": false,
     "title": ""
    }
   },
   "source": [
    "### Objective:- \n",
    "- objective of this project is to use spark ML for topic modlling on tweets from twitter data using AWS (EC2, S3, Athena, Quick Sight), databrick, Spark(modelling and preprocesing)\n",
    "###### Note:\n",
    "    - It took much time to get coherence socre using spark LDA so used Gensim to comapre models from diffrent libraries.\n",
    "    - I have also removed some output of the cell as output was too long and takes time to load.\n",
    "\n",
    "### Purpose of Topic modelling:-\n",
    "- Topic modeling on inflation tweets can help gain insights/understand people's sentiment and opinions regarding inflation. By analyzing the topics that comes from the tweets, businesses can understand the issues that are most important to population, the concerns they have about inflation, and the ways in which they are being impacted by it.\n",
    "\n",
    "- For example, if a topic emerges around the rising cost of food, businesses in the food industry could use this information to make impactful strategies. If another topic emerges around job security, businesses could use this information to understand how citizen/population are feeling about their employment opportuities and can adjust their labor planning or marketing strateg."
   ]
  },
  {
   "cell_type": "markdown",
   "metadata": {
    "application/vnd.databricks.v1+cell": {
     "cellMetadata": {},
     "inputWidgets": {},
     "nuid": "45efa842-621c-47bf-805c-c68b00bb3bde",
     "showTitle": false,
     "title": ""
    }
   },
   "source": [
    "## Workflow\n",
    "- Mount the s3 bucket(weclouddata)\n",
    "- Mount the Twitter project folder required for the project (Inflation)\n",
    "- Data cleaning\n",
    "- Feature Enginnering & EDA\n",
    "- Data preparation\n",
    "- Model training (Baseline Model / gridsearch)\n",
    "- Model evaluation\n",
    "- Topic Interpretation\n"
   ]
  },
  {
   "cell_type": "markdown",
   "metadata": {
    "application/vnd.databricks.v1+cell": {
     "cellMetadata": {},
     "inputWidgets": {},
     "nuid": "d34aa8c9-1197-4da7-a33c-4ee21c6b591d",
     "showTitle": false,
     "title": ""
    }
   },
   "source": [
    "#### Installing Libraries and Modules "
   ]
  },
  {
   "cell_type": "code",
   "execution_count": 0,
   "metadata": {
    "application/vnd.databricks.v1+cell": {
     "cellMetadata": {
      "byteLimit": 2048000,
      "rowLimit": 10000
     },
     "inputWidgets": {},
     "nuid": "88837c7d-2bed-43b2-a07f-247250284359",
     "showTitle": false,
     "title": ""
    }
   },
   "outputs": [
    {
     "name": "stdout",
     "output_type": "stream",
     "text": [
      "Requirement already satisfied: pip in /local_disk0/.ephemeral_nfs/envs/pythonEnv-e7dbb3b9-16f5-466e-bd9d-23f2b88e427a/lib/python3.9/site-packages (21.2.4)\r\n",
      "Collecting pip\r\n",
      "  Downloading pip-23.2.1-py3-none-any.whl (2.1 MB)\r\n",
      "\u001b[?25l\r",
      "\u001b[K     |▏                               | 10 kB 25.1 MB/s eta 0:00:01\r",
      "\u001b[K     |▎                               | 20 kB 8.1 MB/s eta 0:00:01\r",
      "\u001b[K     |▌                               | 30 kB 11.2 MB/s eta 0:00:01\r",
      "\u001b[K     |▋                               | 40 kB 5.8 MB/s eta 0:00:01\r",
      "\u001b[K     |▉                               | 51 kB 6.3 MB/s eta 0:00:01\r",
      "\u001b[K     |█                               | 61 kB 7.4 MB/s eta 0:00:01\r",
      "\u001b[K     |█                               | 71 kB 7.2 MB/s eta 0:00:01\r",
      "\u001b[K     |█▎                              | 81 kB 8.1 MB/s eta 0:00:01\r",
      "\u001b[K     |█▍                              | 92 kB 6.9 MB/s eta 0:00:01\r",
      "\u001b[K     |█▋                              | 102 kB 6.6 MB/s eta 0:00:01\r",
      "\u001b[K     |█▊                              | 112 kB 6.6 MB/s eta 0:00:01\r",
      "\u001b[K     |█▉                              | 122 kB 6.6 MB/s eta 0:00:01\r",
      "\u001b[K     |██                              | 133 kB 6.6 MB/s eta 0:00:01\r",
      "\u001b[K     |██▏                             | 143 kB 6.6 MB/s eta 0:00:01\r",
      "\u001b[K     |██▍                             | 153 kB 6.6 MB/s eta 0:00:01\r",
      "\u001b[K     |██▌                             | 163 kB 6.6 MB/s eta 0:00:01\r",
      "\u001b[K     |██▊                             | 174 kB 6.6 MB/s eta 0:00:01\r",
      "\u001b[K     |██▉                             | 184 kB 6.6 MB/s eta 0:00:01\r",
      "\u001b[K     |███                             | 194 kB 6.6 MB/s eta 0:00:01\r",
      "\u001b[K     |███▏                            | 204 kB 6.6 MB/s eta 0:00:01\r",
      "\u001b[K     |███▎                            | 215 kB 6.6 MB/s eta 0:00:01\r",
      "\u001b[K     |███▌                            | 225 kB 6.6 MB/s eta 0:00:01\r",
      "\u001b[K     |███▋                            | 235 kB 6.6 MB/s eta 0:00:01\r",
      "\u001b[K     |███▊                            | 245 kB 6.6 MB/s eta 0:00:01\r",
      "\u001b[K     |████                            | 256 kB 6.6 MB/s eta 0:00:01\r",
      "\u001b[K     |████                            | 266 kB 6.6 MB/s eta 0:00:01\r",
      "\u001b[K     |████▎                           | 276 kB 6.6 MB/s eta 0:00:01\r",
      "\u001b[K     |████▍                           | 286 kB 6.6 MB/s eta 0:00:01\r",
      "\u001b[K     |████▌                           | 296 kB 6.6 MB/s eta 0:00:01\r",
      "\u001b[K     |████▊                           | 307 kB 6.6 MB/s eta 0:00:01\r",
      "\u001b[K     |████▉                           | 317 kB 6.6 MB/s eta 0:00:01\r",
      "\u001b[K     |█████                           | 327 kB 6.6 MB/s eta 0:00:01\r",
      "\u001b[K     |█████▏                          | 337 kB 6.6 MB/s eta 0:00:01\r",
      "\u001b[K     |█████▍                          | 348 kB 6.6 MB/s eta 0:00:01\r",
      "\u001b[K     |█████▌                          | 358 kB 6.6 MB/s eta 0:00:01\r",
      "\u001b[K     |█████▋                          | 368 kB 6.6 MB/s eta 0:00:01\r",
      "\u001b[K     |█████▉                          | 378 kB 6.6 MB/s eta 0:00:01\r",
      "\u001b[K     |██████                          | 389 kB 6.6 MB/s eta 0:00:01\r",
      "\u001b[K     |██████▏                         | 399 kB 6.6 MB/s eta 0:00:01\r",
      "\u001b[K     |██████▎                         | 409 kB 6.6 MB/s eta 0:00:01\r",
      "\u001b[K     |██████▍                         | 419 kB 6.6 MB/s eta 0:00:01\r",
      "\u001b[K     |██████▋                         | 430 kB 6.6 MB/s eta 0:00:01\r",
      "\u001b[K     |██████▊                         | 440 kB 6.6 MB/s eta 0:00:01\r",
      "\u001b[K     |███████                         | 450 kB 6.6 MB/s eta 0:00:01\r",
      "\u001b[K     |███████                         | 460 kB 6.6 MB/s eta 0:00:01\r",
      "\u001b[K     |███████▎                        | 471 kB 6.6 MB/s eta 0:00:01\r",
      "\u001b[K     |███████▍                        | 481 kB 6.6 MB/s eta 0:00:01\r",
      "\u001b[K     |███████▌                        | 491 kB 6.6 MB/s eta 0:00:01\r",
      "\u001b[K     |███████▊                        | 501 kB 6.6 MB/s eta 0:00:01\r",
      "\u001b[K     |███████▉                        | 512 kB 6.6 MB/s eta 0:00:01\r",
      "\u001b[K     |████████                        | 522 kB 6.6 MB/s eta 0:00:01\r",
      "\u001b[K     |████████▏                       | 532 kB 6.6 MB/s eta 0:00:01\r",
      "\u001b[K     |████████▎                       | 542 kB 6.6 MB/s eta 0:00:01\r",
      "\u001b[K     |████████▌                       | 552 kB 6.6 MB/s eta 0:00:01\r",
      "\u001b[K     |████████▋                       | 563 kB 6.6 MB/s eta 0:00:01\r",
      "\u001b[K     |████████▉                       | 573 kB 6.6 MB/s eta 0:00:01\r",
      "\u001b[K     |█████████                       | 583 kB 6.6 MB/s eta 0:00:01\r",
      "\u001b[K     |█████████                       | 593 kB 6.6 MB/s eta 0:00:01\r",
      "\u001b[K     |█████████▎                      | 604 kB 6.6 MB/s eta 0:00:01\r",
      "\u001b[K     |█████████▍                      | 614 kB 6.6 MB/s eta 0:00:01\r",
      "\u001b[K     |█████████▋                      | 624 kB 6.6 MB/s eta 0:00:01\r",
      "\u001b[K     |█████████▊                      | 634 kB 6.6 MB/s eta 0:00:01\r",
      "\u001b[K     |██████████                      | 645 kB 6.6 MB/s eta 0:00:01\r",
      "\u001b[K     |██████████                      | 655 kB 6.6 MB/s eta 0:00:01\r",
      "\u001b[K     |██████████▏                     | 665 kB 6.6 MB/s eta 0:00:01\r",
      "\u001b[K     |██████████▍                     | 675 kB 6.6 MB/s eta 0:00:01\r",
      "\u001b[K     |██████████▌                     | 686 kB 6.6 MB/s eta 0:00:01\r",
      "\u001b[K     |██████████▊                     | 696 kB 6.6 MB/s eta 0:00:01\r",
      "\u001b[K     |██████████▉                     | 706 kB 6.6 MB/s eta 0:00:01\r",
      "\u001b[K     |███████████                     | 716 kB 6.6 MB/s eta 0:00:01\r",
      "\u001b[K     |███████████▏                    | 727 kB 6.6 MB/s eta 0:00:01\r",
      "\u001b[K     |███████████▎                    | 737 kB 6.6 MB/s eta 0:00:01\r",
      "\u001b[K     |███████████▌                    | 747 kB 6.6 MB/s eta 0:00:01\r",
      "\u001b[K     |███████████▋                    | 757 kB 6.6 MB/s eta 0:00:01\r",
      "\u001b[K     |███████████▉                    | 768 kB 6.6 MB/s eta 0:00:01\r",
      "\u001b[K     |████████████                    | 778 kB 6.6 MB/s eta 0:00:01\r",
      "\u001b[K     |████████████                    | 788 kB 6.6 MB/s eta 0:00:01\r",
      "\u001b[K     |████████████▎                   | 798 kB 6.6 MB/s eta 0:00:01\r",
      "\u001b[K     |████████████▍                   | 808 kB 6.6 MB/s eta 0:00:01\r",
      "\u001b[K     |████████████▋                   | 819 kB 6.6 MB/s eta 0:00:01\r",
      "\u001b[K     |████████████▊                   | 829 kB 6.6 MB/s eta 0:00:01\r",
      "\u001b[K     |████████████▉                   | 839 kB 6.6 MB/s eta 0:00:01\r",
      "\u001b[K     |█████████████                   | 849 kB 6.6 MB/s eta 0:00:01\r",
      "\u001b[K     |█████████████▏                  | 860 kB 6.6 MB/s eta 0:00:01\r",
      "\u001b[K     |█████████████▍                  | 870 kB 6.6 MB/s eta 0:00:01\r",
      "\u001b[K     |█████████████▌                  | 880 kB 6.6 MB/s eta 0:00:01\r",
      "\u001b[K     |█████████████▋                  | 890 kB 6.6 MB/s eta 0:00:01\r",
      "\u001b[K     |█████████████▉                  | 901 kB 6.6 MB/s eta 0:00:01\r",
      "\u001b[K     |██████████████                  | 911 kB 6.6 MB/s eta 0:00:01\r",
      "\u001b[K     |██████████████▏                 | 921 kB 6.6 MB/s eta 0:00:01\r",
      "\u001b[K     |██████████████▎                 | 931 kB 6.6 MB/s eta 0:00:01\r",
      "\u001b[K     |██████████████▌                 | 942 kB 6.6 MB/s eta 0:00:01\r",
      "\u001b[K     |██████████████▋                 | 952 kB 6.6 MB/s eta 0:00:01\r",
      "\u001b[K     |██████████████▊                 | 962 kB 6.6 MB/s eta 0:00:01\r",
      "\u001b[K     |███████████████                 | 972 kB 6.6 MB/s eta 0:00:01\r",
      "\u001b[K     |███████████████                 | 983 kB 6.6 MB/s eta 0:00:01\r",
      "\u001b[K     |███████████████▎                | 993 kB 6.6 MB/s eta 0:00:01\r",
      "\u001b[K     |███████████████▍                | 1.0 MB 6.6 MB/s eta 0:00:01\r",
      "\u001b[K     |███████████████▌                | 1.0 MB 6.6 MB/s eta 0:00:01\r",
      "\u001b[K     |███████████████▊                | 1.0 MB 6.6 MB/s eta 0:00:01\r",
      "\u001b[K     |███████████████▉                | 1.0 MB 6.6 MB/s eta 0:00:01\r",
      "\u001b[K     |████████████████                | 1.0 MB 6.6 MB/s eta 0:00:01\r",
      "\u001b[K     |████████████████▏               | 1.1 MB 6.6 MB/s eta 0:00:01\r",
      "\u001b[K     |████████████████▍               | 1.1 MB 6.6 MB/s eta 0:00:01\r",
      "\u001b[K     |████████████████▌               | 1.1 MB 6.6 MB/s eta 0:00:01\r",
      "\u001b[K     |████████████████▋               | 1.1 MB 6.6 MB/s eta 0:00:01\r",
      "\u001b[K     |████████████████▉               | 1.1 MB 6.6 MB/s eta 0:00:01\r",
      "\u001b[K     |█████████████████               | 1.1 MB 6.6 MB/s eta 0:00:01\r",
      "\u001b[K     |█████████████████▏              | 1.1 MB 6.6 MB/s eta 0:00:01\r",
      "\u001b[K     |█████████████████▎              | 1.1 MB 6.6 MB/s eta 0:00:01\r",
      "\u001b[K     |█████████████████▍              | 1.1 MB 6.6 MB/s eta 0:00:01\r",
      "\u001b[K     |█████████████████▋              | 1.1 MB 6.6 MB/s eta 0:00:01\r",
      "\u001b[K     |█████████████████▊              | 1.2 MB 6.6 MB/s eta 0:00:01\r",
      "\u001b[K     |██████████████████              | 1.2 MB 6.6 MB/s eta 0:00:01\r",
      "\u001b[K     |██████████████████              | 1.2 MB 6.6 MB/s eta 0:00:01\r",
      "\u001b[K     |██████████████████▏             | 1.2 MB 6.6 MB/s eta 0:00:01\r",
      "\u001b[K     |██████████████████▍             | 1.2 MB 6.6 MB/s eta 0:00:01\r",
      "\u001b[K     |██████████████████▌             | 1.2 MB 6.6 MB/s eta 0:00:01\r",
      "\u001b[K     |██████████████████▊             | 1.2 MB 6.6 MB/s eta 0:00:01\r",
      "\u001b[K     |██████████████████▉             | 1.2 MB 6.6 MB/s eta 0:00:01\r",
      "\u001b[K     |███████████████████             | 1.2 MB 6.6 MB/s eta 0:00:01\r",
      "\u001b[K     |███████████████████▏            | 1.2 MB 6.6 MB/s eta 0:00:01\r",
      "\u001b[K     |███████████████████▎            | 1.3 MB 6.6 MB/s eta 0:00:01\r",
      "\u001b[K     |███████████████████▌            | 1.3 MB 6.6 MB/s eta 0:00:01\r",
      "\u001b[K     |███████████████████▋            | 1.3 MB 6.6 MB/s eta 0:00:01\r",
      "\u001b[K     |███████████████████▉            | 1.3 MB 6.6 MB/s eta 0:00:01\r",
      "\u001b[K     |████████████████████            | 1.3 MB 6.6 MB/s eta 0:00:01\r",
      "\u001b[K     |████████████████████            | 1.3 MB 6.6 MB/s eta 0:00:01\r",
      "\u001b[K     |████████████████████▎           | 1.3 MB 6.6 MB/s eta 0:00:01\r",
      "\u001b[K     |████████████████████▍           | 1.3 MB 6.6 MB/s eta 0:00:01\r",
      "\u001b[K     |████████████████████▋           | 1.3 MB 6.6 MB/s eta 0:00:01\r",
      "\u001b[K     |████████████████████▊           | 1.4 MB 6.6 MB/s eta 0:00:01\r",
      "\u001b[K     |█████████████████████           | 1.4 MB 6.6 MB/s eta 0:00:01\r",
      "\u001b[K     |█████████████████████           | 1.4 MB 6.6 MB/s eta 0:00:01\r",
      "\u001b[K     |█████████████████████▏          | 1.4 MB 6.6 MB/s eta 0:00:01\r",
      "\u001b[K     |█████████████████████▍          | 1.4 MB 6.6 MB/s eta 0:00:01\r",
      "\u001b[K     |█████████████████████▌          | 1.4 MB 6.6 MB/s eta 0:00:01\r",
      "\u001b[K     |█████████████████████▊          | 1.4 MB 6.6 MB/s eta 0:00:01\r",
      "\u001b[K     |█████████████████████▉          | 1.4 MB 6.6 MB/s eta 0:00:01\r",
      "\u001b[K     |██████████████████████          | 1.4 MB 6.6 MB/s eta 0:00:01\r",
      "\u001b[K     |██████████████████████▏         | 1.4 MB 6.6 MB/s eta 0:00:01\r",
      "\u001b[K     |██████████████████████▎         | 1.5 MB 6.6 MB/s eta 0:00:01\r",
      "\u001b[K     |██████████████████████▌         | 1.5 MB 6.6 MB/s eta 0:00:01\r",
      "\u001b[K     |██████████████████████▋         | 1.5 MB 6.6 MB/s eta 0:00:01\r",
      "\u001b[K     |██████████████████████▊         | 1.5 MB 6.6 MB/s eta 0:00:01\r",
      "\u001b[K     |███████████████████████         | 1.5 MB 6.6 MB/s eta 0:00:01\r",
      "\u001b[K     |███████████████████████         | 1.5 MB 6.6 MB/s eta 0:00:01\r",
      "\u001b[K     |███████████████████████▎        | 1.5 MB 6.6 MB/s eta 0:00:01\r",
      "\u001b[K     |███████████████████████▍        | 1.5 MB 6.6 MB/s eta 0:00:01\r",
      "\u001b[K     |███████████████████████▋        | 1.5 MB 6.6 MB/s eta 0:00:01\r",
      "\u001b[K     |███████████████████████▊        | 1.5 MB 6.6 MB/s eta 0:00:01\r",
      "\u001b[K     |███████████████████████▉        | 1.6 MB 6.6 MB/s eta 0:00:01\r",
      "\u001b[K     |████████████████████████        | 1.6 MB 6.6 MB/s eta 0:00:01\r",
      "\u001b[K     |████████████████████████▏       | 1.6 MB 6.6 MB/s eta 0:00:01\r",
      "\u001b[K     |████████████████████████▍       | 1.6 MB 6.6 MB/s eta 0:00:01\r",
      "\u001b[K     |████████████████████████▌       | 1.6 MB 6.6 MB/s eta 0:00:01\r",
      "\u001b[K     |████████████████████████▋       | 1.6 MB 6.6 MB/s eta 0:00:01\r",
      "\u001b[K     |████████████████████████▉       | 1.6 MB 6.6 MB/s eta 0:00:01\r",
      "\u001b[K     |█████████████████████████       | 1.6 MB 6.6 MB/s eta 0:00:01\r",
      "\u001b[K     |█████████████████████████▏      | 1.6 MB 6.6 MB/s eta 0:00:01\r",
      "\u001b[K     |█████████████████████████▎      | 1.6 MB 6.6 MB/s eta 0:00:01\r",
      "\u001b[K     |█████████████████████████▌      | 1.7 MB 6.6 MB/s eta 0:00:01\r",
      "\u001b[K     |█████████████████████████▋      | 1.7 MB 6.6 MB/s eta 0:00:01\r",
      "\u001b[K     |█████████████████████████▊      | 1.7 MB 6.6 MB/s eta 0:00:01\r",
      "\u001b[K     |██████████████████████████      | 1.7 MB 6.6 MB/s eta 0:00:01\r",
      "\u001b[K     |██████████████████████████      | 1.7 MB 6.6 MB/s eta 0:00:01\r",
      "\u001b[K     |██████████████████████████▎     | 1.7 MB 6.6 MB/s eta 0:00:01\r",
      "\u001b[K     |██████████████████████████▍     | 1.7 MB 6.6 MB/s eta 0:00:01\r",
      "\u001b[K     |██████████████████████████▌     | 1.7 MB 6.6 MB/s eta 0:00:01\r",
      "\u001b[K     |██████████████████████████▊     | 1.7 MB 6.6 MB/s eta 0:00:01\r",
      "\u001b[K     |██████████████████████████▉     | 1.8 MB 6.6 MB/s eta 0:00:01\r",
      "\u001b[K     |███████████████████████████     | 1.8 MB 6.6 MB/s eta 0:00:01\r",
      "\u001b[K     |███████████████████████████▏    | 1.8 MB 6.6 MB/s eta 0:00:01\r",
      "\u001b[K     |███████████████████████████▎    | 1.8 MB 6.6 MB/s eta 0:00:01\r",
      "\u001b[K     |███████████████████████████▌    | 1.8 MB 6.6 MB/s eta 0:00:01\r",
      "\u001b[K     |███████████████████████████▋    | 1.8 MB 6.6 MB/s eta 0:00:01\r",
      "\u001b[K     |███████████████████████████▉    | 1.8 MB 6.6 MB/s eta 0:00:01\r",
      "\u001b[K     |████████████████████████████    | 1.8 MB 6.6 MB/s eta 0:00:01\r",
      "\u001b[K     |████████████████████████████▏   | 1.8 MB 6.6 MB/s eta 0:00:01\r",
      "\u001b[K     |████████████████████████████▎   | 1.8 MB 6.6 MB/s eta 0:00:01\r",
      "\u001b[K     |████████████████████████████▍   | 1.9 MB 6.6 MB/s eta 0:00:01\r",
      "\u001b[K     |████████████████████████████▋   | 1.9 MB 6.6 MB/s eta 0:00:01\r",
      "\u001b[K     |████████████████████████████▊   | 1.9 MB 6.6 MB/s eta 0:00:01\r",
      "\u001b[K     |█████████████████████████████   | 1.9 MB 6.6 MB/s eta 0:00:01\r",
      "\u001b[K     |█████████████████████████████   | 1.9 MB 6.6 MB/s eta 0:00:01\r",
      "\u001b[K     |█████████████████████████████▏  | 1.9 MB 6.6 MB/s eta 0:00:01\r",
      "\u001b[K     |█████████████████████████████▍  | 1.9 MB 6.6 MB/s eta 0:00:01\r",
      "\u001b[K     |█████████████████████████████▌  | 1.9 MB 6.6 MB/s eta 0:00:01\r",
      "\u001b[K     |█████████████████████████████▊  | 1.9 MB 6.6 MB/s eta 0:00:01\r",
      "\u001b[K     |█████████████████████████████▉  | 1.9 MB 6.6 MB/s eta 0:00:01\r",
      "\u001b[K     |██████████████████████████████  | 2.0 MB 6.6 MB/s eta 0:00:01\r",
      "\u001b[K     |██████████████████████████████▏ | 2.0 MB 6.6 MB/s eta 0:00:01\r",
      "\u001b[K     |██████████████████████████████▎ | 2.0 MB 6.6 MB/s eta 0:00:01\r",
      "\u001b[K     |██████████████████████████████▌ | 2.0 MB 6.6 MB/s eta 0:00:01\r",
      "\u001b[K     |██████████████████████████████▋ | 2.0 MB 6.6 MB/s eta 0:00:01\r",
      "\u001b[K     |██████████████████████████████▉ | 2.0 MB 6.6 MB/s eta 0:00:01\r",
      "\u001b[K     |███████████████████████████████ | 2.0 MB 6.6 MB/s eta 0:00:01\r",
      "\u001b[K     |███████████████████████████████ | 2.0 MB 6.6 MB/s eta 0:00:01\r",
      "\u001b[K     |███████████████████████████████▎| 2.0 MB 6.6 MB/s eta 0:00:01\r",
      "\u001b[K     |███████████████████████████████▍| 2.0 MB 6.6 MB/s eta 0:00:01\r",
      "\u001b[K     |███████████████████████████████▋| 2.1 MB 6.6 MB/s eta 0:00:01\r",
      "\u001b[K     |███████████████████████████████▊| 2.1 MB 6.6 MB/s eta 0:00:01\r",
      "\u001b[K     |███████████████████████████████▉| 2.1 MB 6.6 MB/s eta 0:00:01\r",
      "\u001b[K     |████████████████████████████████| 2.1 MB 6.6 MB/s \r\n",
      "\u001b[?25hInstalling collected packages: pip\r\n",
      "  Attempting uninstall: pip\r\n",
      "    Found existing installation: pip 21.2.4\r\n",
      "    Uninstalling pip-21.2.4:\r\n",
      "      Successfully uninstalled pip-21.2.4\r\n",
      "Successfully installed pip-23.2.1\r\n",
      "Requirement already satisfied: gensim==4.1.2 in /local_disk0/.ephemeral_nfs/cluster_libraries/python/lib/python3.9/site-packages (4.1.2)\r\n",
      "Requirement already satisfied: numpy>=1.17.0 in /local_disk0/.ephemeral_nfs/cluster_libraries/python/lib/python3.9/site-packages (from gensim==4.1.2) (1.26.0)\r\n",
      "Requirement already satisfied: scipy>=0.18.1 in /local_disk0/.ephemeral_nfs/cluster_libraries/python/lib/python3.9/site-packages (from gensim==4.1.2) (1.11.2)\r\n",
      "Requirement already satisfied: smart-open>=1.8.1 in /local_disk0/.ephemeral_nfs/cluster_libraries/python/lib/python3.9/site-packages (from gensim==4.1.2) (6.4.0)\r\n",
      "Collecting contractions\r\n",
      "  Downloading contractions-0.1.73-py2.py3-none-any.whl (8.7 kB)\r\n",
      "Collecting textsearch>=0.0.21 (from contractions)\r\n",
      "  Downloading textsearch-0.0.24-py2.py3-none-any.whl (7.6 kB)\r\n",
      "Collecting anyascii (from textsearch>=0.0.21->contractions)\r\n",
      "  Downloading anyascii-0.3.2-py3-none-any.whl (289 kB)\r\n",
      "\u001b[?25l     \u001b[90m━━━━━━━━━━━━━━━━━━━━━━━━━━━━━━━━━━━━━━━━\u001b[0m \u001b[32m0.0/289.9 kB\u001b[0m \u001b[31m?\u001b[0m eta \u001b[36m-:--:--\u001b[0m\r",
      "\u001b[2K     \u001b[90m━━━━━━━━━━━━━━━━━━━━━━━━━━━━━━━━━━━━━━━\u001b[0m \u001b[32m289.9/289.9 kB\u001b[0m \u001b[31m9.6 MB/s\u001b[0m eta \u001b[36m0:00:00\u001b[0m\r\n",
      "\u001b[?25hCollecting pyahocorasick (from textsearch>=0.0.21->contractions)\r\n",
      "  Downloading pyahocorasick-2.0.0-cp39-cp39-manylinux_2_5_x86_64.manylinux1_x86_64.whl (103 kB)\r\n",
      "\u001b[?25l     \u001b[90m━━━━━━━━━━━━━━━━━━━━━━━━━━━━━━━━━━━━━━━━\u001b[0m \u001b[32m0.0/103.2 kB\u001b[0m \u001b[31m?\u001b[0m eta \u001b[36m-:--:--\u001b[0m\r",
      "\u001b[2K     \u001b[90m━━━━━━━━━━━━━━━━━━━━━━━━━━━━━━━━━━━━━━\u001b[0m \u001b[32m103.2/103.2 kB\u001b[0m \u001b[31m18.2 MB/s\u001b[0m eta \u001b[36m0:00:00\u001b[0m\r\n",
      "\u001b[?25hInstalling collected packages: pyahocorasick, anyascii, textsearch, contractions\r\n",
      "Successfully installed anyascii-0.3.2 contractions-0.1.73 pyahocorasick-2.0.0 textsearch-0.0.24\r\n",
      "Collecting nltk\r\n",
      "  Downloading nltk-3.8.1-py3-none-any.whl (1.5 MB)\r\n",
      "\u001b[?25l     \u001b[90m━━━━━━━━━━━━━━━━━━━━━━━━━━━━━━━━━━━━━━━━\u001b[0m \u001b[32m0.0/1.5 MB\u001b[0m \u001b[31m?\u001b[0m eta \u001b[36m-:--:--\u001b[0m\r",
      "\u001b[2K     \u001b[91m━━━━━\u001b[0m\u001b[90m╺\u001b[0m\u001b[90m━━━━━━━━━━━━━━━━━━━━━━━━━━━━━━━━━━\u001b[0m \u001b[32m0.2/1.5 MB\u001b[0m \u001b[31m6.5 MB/s\u001b[0m eta \u001b[36m0:00:01\u001b[0m\r",
      "\u001b[2K     \u001b[91m━━━━━━━━━━━━━━\u001b[0m\u001b[91m╸\u001b[0m\u001b[90m━━━━━━━━━━━━━━━━━━━━━━━━━\u001b[0m \u001b[32m0.6/1.5 MB\u001b[0m \u001b[31m7.9 MB/s\u001b[0m eta \u001b[36m0:00:01\u001b[0m\r",
      "\u001b[2K     \u001b[91m━━━━━━━━━━━━━━━━━━━━━━━━━━━━━━━━━━━━━━━\u001b[0m\u001b[91m╸\u001b[0m \u001b[32m1.5/1.5 MB\u001b[0m \u001b[31m14.3 MB/s\u001b[0m eta \u001b[36m0:00:01\u001b[0m\r",
      "\u001b[2K     \u001b[90m━━━━━━━━━━━━━━━━━━━━━━━━━━━━━━━━━━━━━━━━\u001b[0m \u001b[32m1.5/1.5 MB\u001b[0m \u001b[31m12.1 MB/s\u001b[0m eta \u001b[36m0:00:00\u001b[0m\r\n",
      "\u001b[?25hRequirement already satisfied: click in /databricks/python3/lib/python3.9/site-packages (from nltk) (8.0.4)\r\n",
      "Requirement already satisfied: joblib in /local_disk0/.ephemeral_nfs/cluster_libraries/python/lib/python3.9/site-packages (from nltk) (1.3.2)\r\n",
      "Collecting regex>=2021.8.3 (from nltk)\r\n",
      "  Obtaining dependency information for regex>=2021.8.3 from https://files.pythonhosted.org/packages/c0/f4/278e305e02245937579a7952b8a3205116b4d2480a3c03fa11e599b773d6/regex-2023.8.8-cp39-cp39-manylinux_2_17_x86_64.manylinux2014_x86_64.whl.metadata\r\n",
      "  Downloading regex-2023.8.8-cp39-cp39-manylinux_2_17_x86_64.manylinux2014_x86_64.whl.metadata (40 kB)\r\n",
      "\u001b[?25l     \u001b[90m━━━━━━━━━━━━━━━━━━━━━━━━━━━━━━━━━━━━━━━━\u001b[0m \u001b[32m0.0/40.9 kB\u001b[0m \u001b[31m?\u001b[0m eta \u001b[36m-:--:--\u001b[0m\r",
      "\u001b[2K     \u001b[90m━━━━━━━━━━━━━━━━━━━━━━━━━━━━━━━━━━━━━━━━\u001b[0m \u001b[32m40.9/40.9 kB\u001b[0m \u001b[31m5.3 MB/s\u001b[0m eta \u001b[36m0:00:00\u001b[0m\r\n",
      "\u001b[?25hCollecting tqdm (from nltk)\r\n",
      "  Obtaining dependency information for tqdm from https://files.pythonhosted.org/packages/00/e5/f12a80907d0884e6dff9c16d0c0114d81b8cd07dc3ae54c5e962cc83037e/tqdm-4.66.1-py3-none-any.whl.metadata\r\n",
      "  Downloading tqdm-4.66.1-py3-none-any.whl.metadata (57 kB)\r\n",
      "\u001b[?25l     \u001b[90m━━━━━━━━━━━━━━━━━━━━━━━━━━━━━━━━━━━━━━━━\u001b[0m \u001b[32m0.0/57.6 kB\u001b[0m \u001b[31m?\u001b[0m eta \u001b[36m-:--:--\u001b[0m\r",
      "\u001b[2K     \u001b[90m━━━━━━━━━━━━━━━━━━━━━━━━━━━━━━━━━━━━━━━━\u001b[0m \u001b[32m57.6/57.6 kB\u001b[0m \u001b[31m10.0 MB/s\u001b[0m eta \u001b[36m0:00:00\u001b[0m\r\n",
      "\u001b[?25hDownloading regex-2023.8.8-cp39-cp39-manylinux_2_17_x86_64.manylinux2014_x86_64.whl (771 kB)\r\n",
      "\u001b[?25l   \u001b[90m━━━━━━━━━━━━━━━━━━━━━━━━━━━━━━━━━━━━━━━━\u001b[0m \u001b[32m0.0/771.4 kB\u001b[0m \u001b[31m?\u001b[0m eta \u001b[36m-:--:--\u001b[0m\r",
      "\u001b[2K   \u001b[90m━━━━━━━━━━━━━━━━━━━━━━━━━━━━━━━━━━━━━━━━\u001b[0m \u001b[32m771.4/771.4 kB\u001b[0m \u001b[31m46.5 MB/s\u001b[0m eta \u001b[36m0:00:00\u001b[0m\r\n",
      "\u001b[?25hDownloading tqdm-4.66.1-py3-none-any.whl (78 kB)\r\n",
      "\u001b[?25l   \u001b[90m━━━━━━━━━━━━━━━━━━━━━━━━━━━━━━━━━━━━━━━━\u001b[0m \u001b[32m0.0/78.3 kB\u001b[0m \u001b[31m?\u001b[0m eta \u001b[36m-:--:--\u001b[0m\r",
      "\u001b[2K   \u001b[90m━━━━━━━━━━━━━━━━━━━━━━━━━━━━━━━━━━━━━━━━\u001b[0m \u001b[32m78.3/78.3 kB\u001b[0m \u001b[31m14.1 MB/s\u001b[0m eta \u001b[36m0:00:00\u001b[0m\r\n",
      "\u001b[?25hInstalling collected packages: tqdm, regex, nltk\r\n",
      "Successfully installed nltk-3.8.1 regex-2023.8.8 tqdm-4.66.1\r\n",
      "Requirement already satisfied: pyLDAvis in /local_disk0/.ephemeral_nfs/cluster_libraries/python/lib/python3.9/site-packages (3.4.1)\r\n",
      "Requirement already satisfied: numpy>=1.24.2 in /local_disk0/.ephemeral_nfs/cluster_libraries/python/lib/python3.9/site-packages (from pyLDAvis) (1.26.0)\r\n",
      "Requirement already satisfied: scipy in /local_disk0/.ephemeral_nfs/cluster_libraries/python/lib/python3.9/site-packages (from pyLDAvis) (1.11.2)\r\n",
      "Requirement already satisfied: pandas>=2.0.0 in /local_disk0/.ephemeral_nfs/cluster_libraries/python/lib/python3.9/site-packages (from pyLDAvis) (2.1.1)\r\n",
      "Requirement already satisfied: joblib>=1.2.0 in /local_disk0/.ephemeral_nfs/cluster_libraries/python/lib/python3.9/site-packages (from pyLDAvis) (1.3.2)\r\n",
      "Requirement already satisfied: jinja2 in /databricks/python3/lib/python3.9/site-packages (from pyLDAvis) (2.11.3)\r\n",
      "Requirement already satisfied: numexpr in /local_disk0/.ephemeral_nfs/cluster_libraries/python/lib/python3.9/site-packages (from pyLDAvis) (2.8.6)\r\n",
      "Requirement already satisfied: funcy in /local_disk0/.ephemeral_nfs/cluster_libraries/python/lib/python3.9/site-packages (from pyLDAvis) (2.0)\r\n",
      "Requirement already satisfied: scikit-learn>=1.0.0 in /databricks/python3/lib/python3.9/site-packages (from pyLDAvis) (1.0.2)\r\n",
      "Requirement already satisfied: gensim in /local_disk0/.ephemeral_nfs/cluster_libraries/python/lib/python3.9/site-packages (from pyLDAvis) (4.1.2)\r\n",
      "Requirement already satisfied: setuptools in /databricks/python3/lib/python3.9/site-packages (from pyLDAvis) (61.2.0)\r\n",
      "Requirement already satisfied: python-dateutil>=2.8.2 in /databricks/python3/lib/python3.9/site-packages (from pandas>=2.0.0->pyLDAvis) (2.8.2)\r\n",
      "Requirement already satisfied: pytz>=2020.1 in /databricks/python3/lib/python3.9/site-packages (from pandas>=2.0.0->pyLDAvis) (2021.3)\r\n",
      "Requirement already satisfied: tzdata>=2022.1 in /local_disk0/.ephemeral_nfs/cluster_libraries/python/lib/python3.9/site-packages (from pandas>=2.0.0->pyLDAvis) (2023.3)\r\n",
      "Requirement already satisfied: threadpoolctl>=2.0.0 in /databricks/python3/lib/python3.9/site-packages (from scikit-learn>=1.0.0->pyLDAvis) (2.2.0)\r\n",
      "Requirement already satisfied: smart-open>=1.8.1 in /local_disk0/.ephemeral_nfs/cluster_libraries/python/lib/python3.9/site-packages (from gensim->pyLDAvis) (6.4.0)\r\n",
      "Requirement already satisfied: MarkupSafe>=0.23 in /databricks/python3/lib/python3.9/site-packages (from jinja2->pyLDAvis) (2.0.1)\r\n",
      "Requirement already satisfied: six>=1.5 in /databricks/python3/lib/python3.9/site-packages (from python-dateutil>=2.8.2->pandas>=2.0.0->pyLDAvis) (1.16.0)\r\n"
     ]
    }
   ],
   "source": [
    "!pip install --upgrade pip\n",
    "!pip install gensim==4.1.2\n",
    "!pip install contractions\n",
    "!pip install nltk\n",
    "!pip install pyLDAvis"
   ]
  },
  {
   "cell_type": "code",
   "execution_count": 0,
   "metadata": {
    "application/vnd.databricks.v1+cell": {
     "cellMetadata": {
      "byteLimit": 2048000,
      "rowLimit": 10000
     },
     "inputWidgets": {},
     "nuid": "a5cc52f2-6e5f-4c13-a778-02a7a6a2516d",
     "showTitle": false,
     "title": ""
    }
   },
   "outputs": [
    {
     "name": "stderr",
     "output_type": "stream",
     "text": [
      "[nltk_data] Downloading package stopwords to /root/nltk_data...\n",
      "[nltk_data]   Unzipping corpora/stopwords.zip.\n",
      "[nltk_data] Downloading package wordnet to /root/nltk_data...\n"
     ]
    }
   ],
   "source": [
    "#spark\n",
    "from pyspark.sql import SparkSession\n",
    "from pyspark.sql.types import *\n",
    "import pyspark.sql.functions as F\n",
    "from pyspark.sql.functions import *\n",
    "from pyspark.sql.functions import udf, regexp_replace, split, col, array_except, explode\n",
    "import contractions\n",
    "import unicodedata\n",
    "import matplotlib.pyplot as plt\n",
    "from pyspark.ml.feature import NGram, VectorAssembler, StopWordsRemover, HashingTF, IDF, RegexTokenizer, StringIndexer, VectorAssembler,CountVectorizer,SQLTransformer\n",
    "from pyspark.ml import Pipeline\n",
    "from pyspark.ml.clustering import LDA\n",
    "from pyspark.ml.linalg import VectorUDT\n",
    "\n",
    "# gensim\n",
    "import gensim\n",
    "from gensim.utils import simple_preprocess\n",
    "from gensim.parsing.preprocessing import STOPWORDS\n",
    "from gensim.models.coherencemodel import CoherenceModel\n",
    "from gensim import corpora, models\n",
    "from gensim.models import LdaModel\n",
    "from gensim.corpora import Dictionary\n",
    "\n",
    "import nltk\n",
    "from nltk.corpus import stopwords\n",
    "from nltk.tokenize import word_tokenize\n",
    "from nltk.stem import WordNetLemmatizer\n",
    "from nltk.util import ngrams\n",
    "nltk.download('stopwords')\n",
    "nltk.download('wordnet')\n",
    "\n",
    "import pyLDAvis\n",
    "import pyLDAvis.gensim"
   ]
  },
  {
   "cell_type": "markdown",
   "metadata": {
    "application/vnd.databricks.v1+cell": {
     "cellMetadata": {},
     "inputWidgets": {},
     "nuid": "f5afb006-9e98-4cb0-b95d-84857196c4d6",
     "showTitle": false,
     "title": ""
    }
   },
   "source": [
    "##Mounting S3 bucket"
   ]
  },
  {
   "cell_type": "markdown",
   "metadata": {
    "application/vnd.databricks.v1+cell": {
     "cellMetadata": {},
     "inputWidgets": {},
     "nuid": "daf48c9e-1d34-40ce-81e0-7fe2f33c4731",
     "showTitle": false,
     "title": ""
    }
   },
   "source": [
    "##### a. Function to mount to weclouddata public Twitter bucket"
   ]
  },
  {
   "cell_type": "code",
   "execution_count": 0,
   "metadata": {
    "application/vnd.databricks.v1+cell": {
     "cellMetadata": {
      "byteLimit": 2048000,
      "rowLimit": 10000
     },
     "inputWidgets": {},
     "nuid": "b5048174-2d69-4769-9686-a60baf9bb74b",
     "showTitle": false,
     "title": ""
    }
   },
   "outputs": [],
   "source": [
    "def mount_s3_bucket(access_key, secret_key, bucket_name, mount_folder):\n",
    "    ACCESS_KEY_ID = access_key\n",
    "    SECRET_ACCESS_KEY = secret_key\n",
    "    ENCODED_SECRET_KEY = SECRET_ACCESS_KEY.replace(\"/\", \"%2F\")\n",
    "\n",
    "    print (\"Mounting\", bucket_name)\n",
    "\n",
    "    try:\n",
    "    # Unmount the data in case it was already mounted.\n",
    "      dbutils.fs.unmount(\"/mnt/%s\" % mount_folder)\n",
    "    \n",
    "    except:\n",
    "    # If it fails to unmount it most likely wasn't mounted in the first place\n",
    "      print (\"Directory not unmounted: \", mount_folder)\n",
    "    \n",
    "    finally:\n",
    "    # Lastly, mount our bucket.\n",
    "      dbutils.fs.mount(\"s3a://%s:%s@%s\" % (ACCESS_KEY_ID, ENCODED_SECRET_KEY, bucket_name), \"/mnt/%s\" % mount_folder)\n",
    "    #dbutils.fs.mount(\"s3a://\"+ ACCESS_KEY_ID + \":\" + ENCODED_SECRET_KEY + \"@\" + bucket_name, mount_folder)\n",
    "      print (\"The bucket\", bucket_name, \"was mounted to\", mount_folder, \"\\n\")"
   ]
  },
  {
   "cell_type": "markdown",
   "metadata": {
    "application/vnd.databricks.v1+cell": {
     "cellMetadata": {},
     "inputWidgets": {},
     "nuid": "e81f4ed1-c76d-4e31-a301-bcb64113db08",
     "showTitle": false,
     "title": ""
    }
   },
   "source": [
    "##### b. Setting access key and secret access key"
   ]
  },
  {
   "cell_type": "code",
   "execution_count": 0,
   "metadata": {
    "application/vnd.databricks.v1+cell": {
     "cellMetadata": {
      "byteLimit": 2048000,
      "rowLimit": 10000
     },
     "inputWidgets": {},
     "nuid": "cbac4cf4-e54d-4a9c-b399-baed871a11dc",
     "showTitle": false,
     "title": ""
    }
   },
   "outputs": [],
   "source": [
    "# Set AWS programmatic access credentials\n",
    "ACCESS_KEY = \"\"\n",
    "SECRET_ACCESS_KEY = \"\""
   ]
  },
  {
   "cell_type": "markdown",
   "metadata": {
    "application/vnd.databricks.v1+cell": {
     "cellMetadata": {},
     "inputWidgets": {},
     "nuid": "a1272f30-e3f6-431a-8bb6-15be19687474",
     "showTitle": false,
     "title": ""
    }
   },
   "source": [
    "##### c. Mounting the twitter folder required for the project"
   ]
  },
  {
   "cell_type": "code",
   "execution_count": null,
   "metadata": {
    "application/vnd.databricks.v1+cell": {
     "cellMetadata": {
      "byteLimit": 2048000,
      "rowLimit": 10000
     },
     "inputWidgets": {},
     "nuid": "82b71ea4-934e-47e7-8968-eb168721d4b3",
     "showTitle": false,
     "title": ""
    }
   },
   "outputs": [],
   "source": [
    "mount_s3_bucket(ACCESS_KEY, SECRET_ACCESS_KEY, \"bucketname/foldername/\", \"twitter_projects\")"
   ]
  },
  {
   "cell_type": "code",
   "execution_count": null,
   "metadata": {
    "application/vnd.databricks.v1+cell": {
     "cellMetadata": {
      "byteLimit": 2048000,
      "rowLimit": 10000
     },
     "inputWidgets": {},
     "nuid": "bf9ca7bf-2549-4aa6-9337-34935a59fa9d",
     "showTitle": false,
     "title": ""
    }
   },
   "outputs": [],
   "source": [
    "%fs ls /mnt/twitter_projects/"
   ]
  },
  {
   "cell_type": "markdown",
   "metadata": {
    "application/vnd.databricks.v1+cell": {
     "cellMetadata": {},
     "inputWidgets": {},
     "nuid": "b6a2dce5-80ea-4b65-b01d-bcb68a45873a",
     "showTitle": false,
     "title": ""
    }
   },
   "source": [
    "## Project on Inflation dataset"
   ]
  },
  {
   "cell_type": "markdown",
   "metadata": {
    "application/vnd.databricks.v1+cell": {
     "cellMetadata": {},
     "inputWidgets": {},
     "nuid": "1028cf57-ec79-43c3-9a63-f918aba1065a",
     "showTitle": false,
     "title": ""
    }
   },
   "source": [
    "## 1. Reading Inflation Dataset (user-defined Schema)"
   ]
  },
  {
   "cell_type": "code",
   "execution_count": 0,
   "metadata": {
    "application/vnd.databricks.v1+cell": {
     "cellMetadata": {
      "byteLimit": 2048000,
      "rowLimit": 10000
     },
     "inputWidgets": {},
     "nuid": "79a41d10-ba8f-4688-893f-538480fcc0a0",
     "showTitle": false,
     "title": ""
    }
   },
   "outputs": [],
   "source": [
    "### Project on Inflation dataset\n",
    "\n",
    "spark = (SparkSession\n",
    "        .builder\n",
    "        .appName(\"twitter_projects\")\n",
    "        .getOrCreate()\n",
    "        )\n",
    "\n",
    "sc = spark.sparkContext"
   ]
  },
  {
   "cell_type": "code",
   "execution_count": 0,
   "metadata": {
    "application/vnd.databricks.v1+cell": {
     "cellMetadata": {
      "byteLimit": 2048000,
      "rowLimit": 10000
     },
     "inputWidgets": {},
     "nuid": "33289dac-d201-4423-8307-27b447bf8d82",
     "showTitle": false,
     "title": ""
    }
   },
   "outputs": [],
   "source": [
    "# Required for StructField, StringType, IntegerType, etc.\n",
    "\n",
    "twitterSchema = StructType([\n",
    "  StructField(\"id\", StringType(), True),\n",
    "  StructField(\"user_name\", StringType(), True),\n",
    "  StructField(\"screen_name\", StringType(), True),\n",
    "  StructField(\"tweet\", StringType(), True),\n",
    "  StructField(\"followers_count\", IntegerType(), True),\n",
    "  StructField(\"location\", StringType(), True),\n",
    "  StructField(\"geo\", StringType(), True),\n",
    "  StructField(\"created_at\", StringType(), True)\n",
    "])"
   ]
  },
  {
   "cell_type": "code",
   "execution_count": 0,
   "metadata": {
    "application/vnd.databricks.v1+cell": {
     "cellMetadata": {
      "byteLimit": 2048000,
      "rowLimit": 10000
     },
     "inputWidgets": {},
     "nuid": "9fc26698-4b09-4a74-9e2d-fcdf82d36555",
     "showTitle": false,
     "title": ""
    }
   },
   "outputs": [],
   "source": [
    "df = (\n",
    "    spark\n",
    "    .read\n",
    "    .option(\"header\", \"false\")\n",
    "    .option(\"delimiter\", \"\\t\")\n",
    "    .option(\"encoding\", \"utf-8\")\n",
    "    .schema(twitterSchema)\n",
    "    .csv(\"/mnt/twitter_projects/Inflation/*/*/*/*/*\")\n",
    ")"
   ]
  },
  {
   "cell_type": "code",
   "execution_count": 0,
   "metadata": {
    "application/vnd.databricks.v1+cell": {
     "cellMetadata": {
      "byteLimit": 2048000,
      "rowLimit": 10000
     },
     "collapsed": true,
     "inputWidgets": {},
     "nuid": "2a8cae2b-22d7-478d-bb0d-5ad0e14d9f2d",
     "showTitle": false,
     "title": ""
    }
   },
   "outputs": [
    {
     "data": {
      "text/html": [
       "<style scoped>\n",
       "  .table-result-container {\n",
       "    max-height: 300px;\n",
       "    overflow: auto;\n",
       "  }\n",
       "  table, th, td {\n",
       "    border: 1px solid black;\n",
       "    border-collapse: collapse;\n",
       "  }\n",
       "  th, td {\n",
       "    padding: 5px;\n",
       "  }\n",
       "  th {\n",
       "    text-align: left;\n",
       "  }\n",
       "</style><div class='table-result-container'><table class='table-result'><thead style='background-color: white'><tr><th>id</th><th>user_name</th><th>screen_name</th><th>tweet</th><th>followers_count</th><th>location</th><th>geo</th><th>created_at</th></tr></thead><tbody><tr><td>1602659952749076480</td><td>Marc Burr</td><td>marcburr</td><td>RT @MorningBrew: If there's one thing the market loves, it's better than expected inflation data. Happy Tuesday everyone. https://t.co/jjGc…</td><td>337</td><td>Billings, Montana</td><td>None</td><td>Tue Dec 13 13:41:23 +0000 2022</td></tr><tr><td>1602659953285951493</td><td>STOCK TRAIN</td><td>stocktrain2</td><td>10-year Treasury yield drops below 3.5% after inflation reading @CNBC https://t.co/qwJgRZngMw</td><td>34024</td><td>None</td><td>None</td><td>Tue Dec 13 13:41:23 +0000 2022</td></tr><tr><td>1602659953621204992</td><td>Caleb Kaplan</td><td>CalebKaplan</td><td>RT @RepJasonSmith: The $2 trillion American Rescue Plan sparked the worst inflation in 40 years, forcing every family to pay $8,600 more th…</td><td>2050</td><td>Georgia, USA</td><td>None</td><td>Tue Dec 13 13:41:23 +0000 2022</td></tr><tr><td>1602659955949043712</td><td>JD</td><td>JaedenJD</td><td>RT @BusinessInsider: Inflation cooled again in November to the slowest pace in a year https://t.co/CBUM5wQpWb</td><td>182</td><td>Singapore </td><td>None</td><td>Tue Dec 13 13:41:24 +0000 2022</td></tr><tr><td>1602659956016418816</td><td>Crutcial News of Crypto’s</td><td>CrusNewsCrypto</td><td>BREAKING: U.S. inflation slowed again last month in the latest sign that price increases are slowly cooling despite… https://t.co/GsyGAFPHof</td><td>51446</td><td>None</td><td>None</td><td>Tue Dec 13 13:41:24 +0000 2022</td></tr></tbody></table></div>"
      ]
     },
     "metadata": {
      "application/vnd.databricks.v1+output": {
       "addedWidgets": {},
       "aggData": [],
       "aggError": "",
       "aggOverflow": false,
       "aggSchema": [],
       "aggSeriesLimitReached": false,
       "aggType": "",
       "arguments": {},
       "columnCustomDisplayInfos": {},
       "data": [
        [
         "1602659952749076480",
         "Marc Burr",
         "marcburr",
         "RT @MorningBrew: If there's one thing the market loves, it's better than expected inflation data. Happy Tuesday everyone. https://t.co/jjGc…",
         337,
         "Billings, Montana",
         "None",
         "Tue Dec 13 13:41:23 +0000 2022"
        ],
        [
         "1602659953285951493",
         "STOCK TRAIN",
         "stocktrain2",
         "10-year Treasury yield drops below 3.5% after inflation reading @CNBC https://t.co/qwJgRZngMw",
         34024,
         "None",
         "None",
         "Tue Dec 13 13:41:23 +0000 2022"
        ],
        [
         "1602659953621204992",
         "Caleb Kaplan",
         "CalebKaplan",
         "RT @RepJasonSmith: The $2 trillion American Rescue Plan sparked the worst inflation in 40 years, forcing every family to pay $8,600 more th…",
         2050,
         "Georgia, USA",
         "None",
         "Tue Dec 13 13:41:23 +0000 2022"
        ],
        [
         "1602659955949043712",
         "JD",
         "JaedenJD",
         "RT @BusinessInsider: Inflation cooled again in November to the slowest pace in a year https://t.co/CBUM5wQpWb",
         182,
         "Singapore ",
         "None",
         "Tue Dec 13 13:41:24 +0000 2022"
        ],
        [
         "1602659956016418816",
         "Crutcial News of Crypto’s",
         "CrusNewsCrypto",
         "BREAKING: U.S. inflation slowed again last month in the latest sign that price increases are slowly cooling despite… https://t.co/GsyGAFPHof",
         51446,
         "None",
         "None",
         "Tue Dec 13 13:41:24 +0000 2022"
        ]
       ],
       "datasetInfos": [],
       "dbfsResultPath": null,
       "isJsonSchema": true,
       "metadata": {},
       "overflow": false,
       "plotOptions": {
        "customPlotOptions": {},
        "displayType": "table",
        "pivotAggregation": null,
        "pivotColumns": null,
        "xColumns": null,
        "yColumns": null
       },
       "removedWidgets": [],
       "schema": [
        {
         "metadata": "{}",
         "name": "id",
         "type": "\"string\""
        },
        {
         "metadata": "{}",
         "name": "user_name",
         "type": "\"string\""
        },
        {
         "metadata": "{}",
         "name": "screen_name",
         "type": "\"string\""
        },
        {
         "metadata": "{}",
         "name": "tweet",
         "type": "\"string\""
        },
        {
         "metadata": "{}",
         "name": "followers_count",
         "type": "\"long\""
        },
        {
         "metadata": "{}",
         "name": "location",
         "type": "\"string\""
        },
        {
         "metadata": "{}",
         "name": "geo",
         "type": "\"string\""
        },
        {
         "metadata": "{}",
         "name": "created_at",
         "type": "\"string\""
        }
       ],
       "type": "table"
      }
     },
     "output_type": "display_data"
    }
   ],
   "source": [
    "display(df.take(5))"
   ]
  },
  {
   "cell_type": "markdown",
   "metadata": {
    "application/vnd.databricks.v1+cell": {
     "cellMetadata": {},
     "inputWidgets": {},
     "nuid": "6396dcba-1274-4326-a82b-e301fbd89576",
     "showTitle": false,
     "title": ""
    }
   },
   "source": [
    "## 2. Data Profiling"
   ]
  },
  {
   "cell_type": "code",
   "execution_count": 0,
   "metadata": {
    "application/vnd.databricks.v1+cell": {
     "cellMetadata": {
      "byteLimit": 2048000,
      "rowLimit": 10000
     },
     "inputWidgets": {},
     "nuid": "a8cefc05-109f-4032-a278-04a6cfd6174b",
     "showTitle": false,
     "title": ""
    }
   },
   "outputs": [
    {
     "name": "stdout",
     "output_type": "stream",
     "text": [
      "Number of Rows:  889928\n",
      "Distinct Counts: \n"
     ]
    },
    {
     "data": {
      "text/html": [
       "<style scoped>\n",
       "  .table-result-container {\n",
       "    max-height: 300px;\n",
       "    overflow: auto;\n",
       "  }\n",
       "  table, th, td {\n",
       "    border: 1px solid black;\n",
       "    border-collapse: collapse;\n",
       "  }\n",
       "  th, td {\n",
       "    padding: 5px;\n",
       "  }\n",
       "  th {\n",
       "    text-align: left;\n",
       "  }\n",
       "</style><div class='table-result-container'><table class='table-result'><thead style='background-color: white'><tr><th>id</th><th>user_name</th><th>screen_name</th><th>tweet</th><th>followers_count</th><th>location</th><th>geo</th><th>created_at</th></tr></thead><tbody><tr><td>889417</td><td>407277</td><td>451405</td><td>382506</td><td>41402</td><td>90290</td><td>22</td><td>425979</td></tr></tbody></table></div>"
      ]
     },
     "metadata": {
      "application/vnd.databricks.v1+output": {
       "addedWidgets": {},
       "aggData": [],
       "aggError": "",
       "aggOverflow": false,
       "aggSchema": [],
       "aggSeriesLimitReached": false,
       "aggType": "",
       "arguments": {},
       "columnCustomDisplayInfos": {},
       "data": [
        [
         889417,
         407277,
         451405,
         382506,
         41402,
         90290,
         22,
         425979
        ]
       ],
       "datasetInfos": [],
       "dbfsResultPath": null,
       "isJsonSchema": true,
       "metadata": {},
       "overflow": false,
       "plotOptions": {
        "customPlotOptions": {},
        "displayType": "table",
        "pivotAggregation": null,
        "pivotColumns": null,
        "xColumns": null,
        "yColumns": null
       },
       "removedWidgets": [],
       "schema": [
        {
         "metadata": "{}",
         "name": "id",
         "type": "\"long\""
        },
        {
         "metadata": "{}",
         "name": "user_name",
         "type": "\"long\""
        },
        {
         "metadata": "{}",
         "name": "screen_name",
         "type": "\"long\""
        },
        {
         "metadata": "{}",
         "name": "tweet",
         "type": "\"long\""
        },
        {
         "metadata": "{}",
         "name": "followers_count",
         "type": "\"long\""
        },
        {
         "metadata": "{}",
         "name": "location",
         "type": "\"long\""
        },
        {
         "metadata": "{}",
         "name": "geo",
         "type": "\"long\""
        },
        {
         "metadata": "{}",
         "name": "created_at",
         "type": "\"long\""
        }
       ],
       "type": "table"
      }
     },
     "output_type": "display_data"
    },
    {
     "name": "stdout",
     "output_type": "stream",
     "text": [
      "Average Text Length:  126.51989012187076\n"
     ]
    }
   ],
   "source": [
    "# Counting number of rows in DF\n",
    "row_count = df.count()\n",
    "\n",
    "# Counting number of distinct values in each column\n",
    "distinct_counts = df.agg(*[countDistinct(col_name).alias(col_name) for col_name in df.columns])\n",
    "\n",
    "# Calculating the avg length of the 'tweet' column\n",
    "avg_text_length = df.agg(avg(length('tweet'))).collect()[0][0]\n",
    "\n",
    "print(\"Number of Rows: \", row_count)\n",
    "print(\"Distinct Counts: \")\n",
    "display(distinct_counts)\n",
    "print(\"Average Text Length: \", avg_text_length)\n"
   ]
  },
  {
   "cell_type": "code",
   "execution_count": 0,
   "metadata": {
    "application/vnd.databricks.v1+cell": {
     "cellMetadata": {
      "byteLimit": 2048000,
      "rowLimit": 10000
     },
     "inputWidgets": {},
     "nuid": "cca636ab-ad82-4f71-aadd-a5cbcb995a76",
     "showTitle": false,
     "title": ""
    },
    "collapsed": true
   },
   "outputs": [
    {
     "name": "stdout",
     "output_type": "stream",
     "text": [
      "Null Counts: \n"
     ]
    },
    {
     "data": {
      "text/html": [
       "<style scoped>\n",
       "  .table-result-container {\n",
       "    max-height: 300px;\n",
       "    overflow: auto;\n",
       "  }\n",
       "  table, th, td {\n",
       "    border: 1px solid black;\n",
       "    border-collapse: collapse;\n",
       "  }\n",
       "  th, td {\n",
       "    padding: 5px;\n",
       "  }\n",
       "  th {\n",
       "    text-align: left;\n",
       "  }\n",
       "</style><div class='table-result-container'><table class='table-result'><thead style='background-color: white'><tr><th>id</th><th>user_name</th><th>screen_name</th><th>tweet</th><th>followers_count</th><th>location</th><th>geo</th><th>created_at</th></tr></thead><tbody><tr><td>76</td><td>89</td><td>72</td><td>215</td><td>1104</td><td>1106</td><td>1251</td><td>1251</td></tr></tbody></table></div>"
      ]
     },
     "metadata": {
      "application/vnd.databricks.v1+output": {
       "addedWidgets": {},
       "aggData": [],
       "aggError": "",
       "aggOverflow": false,
       "aggSchema": [],
       "aggSeriesLimitReached": false,
       "aggType": "",
       "arguments": {},
       "columnCustomDisplayInfos": {},
       "data": [
        [
         76,
         89,
         72,
         215,
         1104,
         1106,
         1251,
         1251
        ]
       ],
       "datasetInfos": [],
       "dbfsResultPath": null,
       "isJsonSchema": true,
       "metadata": {},
       "overflow": false,
       "plotOptions": {
        "customPlotOptions": {},
        "displayType": "table",
        "pivotAggregation": null,
        "pivotColumns": null,
        "xColumns": null,
        "yColumns": null
       },
       "removedWidgets": [],
       "schema": [
        {
         "metadata": "{}",
         "name": "id",
         "type": "\"long\""
        },
        {
         "metadata": "{}",
         "name": "user_name",
         "type": "\"long\""
        },
        {
         "metadata": "{}",
         "name": "screen_name",
         "type": "\"long\""
        },
        {
         "metadata": "{}",
         "name": "tweet",
         "type": "\"long\""
        },
        {
         "metadata": "{}",
         "name": "followers_count",
         "type": "\"long\""
        },
        {
         "metadata": "{}",
         "name": "location",
         "type": "\"long\""
        },
        {
         "metadata": "{}",
         "name": "geo",
         "type": "\"long\""
        },
        {
         "metadata": "{}",
         "name": "created_at",
         "type": "\"long\""
        }
       ],
       "type": "table"
      }
     },
     "output_type": "display_data"
    },
    {
     "name": "stdout",
     "output_type": "stream",
     "text": [
      "Null Tweet Rows: \n"
     ]
    },
    {
     "data": {
      "text/html": [
       "<style scoped>\n",
       "  .table-result-container {\n",
       "    max-height: 300px;\n",
       "    overflow: auto;\n",
       "  }\n",
       "  table, th, td {\n",
       "    border: 1px solid black;\n",
       "    border-collapse: collapse;\n",
       "  }\n",
       "  th, td {\n",
       "    padding: 5px;\n",
       "  }\n",
       "  th {\n",
       "    text-align: left;\n",
       "  }\n",
       "</style><div class='table-result-container'><table class='table-result'><thead style='background-color: white'><tr><th>id</th><th>user_name</th><th>screen_name</th><th>tweet</th><th>followers_count</th><th>location</th><th>geo</th><th>created_at</th></tr></thead><tbody><tr><td>taboo  and  trauma  kinks. 1996.</td><td>None</td><td>Tue Dec 13 14:01:44 +0000 2022</td><td>null</td><td>null</td><td>null</td><td>null</td><td>null</td></tr><tr><td>meet</td><td>None</td><td>Tue Dec 13 14:10:12 +0000 2022</td><td>null</td><td>null</td><td>null</td><td>null</td><td>null</td></tr><tr><td>null</td><td>None</td><td>Tue Dec 13 15:47:44 +0000 2022</td><td>null</td><td>null</td><td>null</td><td>null</td><td>null</td></tr><tr><td>null</td><td>None</td><td>Wed Dec 14 19:59:29 +0000 2022</td><td>null</td><td>null</td><td>null</td><td>null</td><td>null</td></tr><tr><td>any prns n/sfw mdni 21 yrs miko’s</td><td>None</td><td>Tue Dec 13 17:08:26 +0000 2022</td><td>null</td><td>null</td><td>null</td><td>null</td><td>null</td></tr><tr><td>null</td><td>None</td><td>Wed Dec 14 20:05:54 +0000 2022</td><td>null</td><td>null</td><td>null</td><td>null</td><td>null</td></tr><tr><td>null</td><td>None</td><td>Tue Dec 13 17:45:00 +0000 2022</td><td>null</td><td>null</td><td>null</td><td>null</td><td>null</td></tr><tr><td>meet</td><td>None</td><td>Thu Dec 15 19:32:03 +0000 2022</td><td>null</td><td>null</td><td>null</td><td>null</td><td>null</td></tr><tr><td>Anchorage, AK, United States 99503</td><td>None</td><td>Tue Dec 13 16:22:28 +0000 2022</td><td>null</td><td>null</td><td>null</td><td>null</td><td>null</td></tr><tr><td>null</td><td>None</td><td>Tue Dec 13 16:36:32 +0000 2022</td><td>null</td><td>null</td><td>null</td><td>null</td><td>null</td></tr><tr><td>null</td><td>None</td><td>Tue Dec 13 22:12:39 +0000 2022</td><td>null</td><td>null</td><td>null</td><td>null</td><td>null</td></tr><tr><td>null</td><td>None</td><td>Wed Dec 14 19:39:15 +0000 2022</td><td>null</td><td>null</td><td>null</td><td>null</td><td>null</td></tr><tr><td>Equator</td><td>None</td><td>Tue Dec 13 18:39:50 +0000 2022</td><td>null</td><td>null</td><td>null</td><td>null</td><td>null</td></tr><tr><td>null</td><td>None</td><td>Tue Dec 13 21:19:19 +0000 2022</td><td>null</td><td>null</td><td>null</td><td>null</td><td>null</td></tr><tr><td>null</td><td>None</td><td>Wed Dec 14 19:19:10 +0000 2022</td><td>null</td><td>null</td><td>null</td><td>null</td><td>null</td></tr><tr><td>Ghana, Africa, US, Canada, UK, Europe, Asia.</td><td>None</td><td>Tue Dec 13 19:00:04 +0000 2022</td><td>null</td><td>null</td><td>null</td><td>null</td><td>null</td></tr><tr><td>null</td><td>None</td><td>Thu Dec 15 20:17:06 +0000 2022</td><td>null</td><td>null</td><td>null</td><td>null</td><td>null</td></tr><tr><td>null</td><td>None</td><td>Tue Dec 13 21:55:13 +0000 2022</td><td>null</td><td>null</td><td>null</td><td>null</td><td>null</td></tr><tr><td>Racine</td><td>None</td><td>Wed Dec 14 21:15:30 +0000 2022</td><td>null</td><td>null</td><td>null</td><td>null</td><td>null</td></tr><tr><td>Columbus, OH, USA</td><td>null</td><td>null</td><td>null</td><td>null</td><td>null</td><td>null</td><td>null</td></tr><tr><td>ht</td><td>None</td><td>Tue Dec 13 21:25:36 +0000 2022</td><td>null</td><td>null</td><td>null</td><td>null</td><td>null</td></tr><tr><td>Racine</td><td>None</td><td>Thu Dec 15 21:20:39 +0000 2022</td><td>null</td><td>null</td><td>null</td><td>null</td><td>null</td></tr><tr><td>meet</td><td>None</td><td>Wed Dec 14 18:59:34 +0000 2022</td><td>null</td><td>null</td><td>null</td><td>null</td><td>null</td></tr><tr><td>Bpd + Autistic sys </td><td>null</td><td>null</td><td>null</td><td>null</td><td>null</td><td>null</td><td>null</td></tr><tr><td>They/It + Neos</td><td>null</td><td>null</td><td>null</td><td>null</td><td>null</td><td>null</td><td>null</td></tr><tr><td>NSFW DNI </td><td>None</td><td>Thu Dec 15 20:52:02 +0000 2022</td><td>null</td><td>null</td><td>null</td><td>null</td><td>null</td></tr><tr><td>null</td><td>None</td><td>Thu Dec 15 20:53:00 +0000 2022</td><td>null</td><td>null</td><td>null</td><td>null</td><td>null</td></tr><tr><td>☆ — lunarian agender ⍣ aroace bi</td><td>null</td><td>null</td><td>null</td><td>null</td><td>null</td><td>null</td><td>null</td></tr><tr><td>☆ — pinned byf ⍣ matching w/ h, j + s</td><td>null</td><td>null</td><td>null</td><td>null</td><td>null</td><td>null</td><td>null</td></tr><tr><td>☆ — ic: crstaldream on tumblr</td><td>None</td><td>Thu Dec 15 20:38:04 +0000 2022</td><td>null</td><td>null</td><td>null</td><td>null</td><td>null</td></tr><tr><td>🇵🇷</td><td>null</td><td>null</td><td>null</td><td>null</td><td>null</td><td>null</td><td>null</td></tr><tr><td>rrbyf</td><td>None</td><td>Thu Dec 15 22:59:16 +0000 2022</td><td>null</td><td>null</td><td>null</td><td>null</td><td>null</td></tr><tr><td>null</td><td>None</td><td>Wed Dec 14 14:18:09 +0000 2022</td><td>null</td><td>null</td><td>null</td><td>null</td><td>null</td></tr><tr><td>Ghana, Africa, US, Canada, UK, Europe, Asia.</td><td>None</td><td>Wed Dec 14 15:00:08 +0000 2022</td><td>null</td><td>null</td><td>null</td><td>null</td><td>null</td></tr><tr><td>Visualizing Protest in the City https://www.springer.com/gp/book/9789812872357</td><td>None</td><td>Thu Dec 15 23:09:17 +0000 2022</td><td>null</td><td>null</td><td>null</td><td>null</td><td>null</td></tr><tr><td>                 she/he 15</td><td>null</td><td>null</td><td>null</td><td>null</td><td>null</td><td>null</td><td>null</td></tr><tr><td>           demi-girl lesbian</td><td>null</td><td>null</td><td>null</td><td>null</td><td>null</td><td>null</td><td>null</td></tr><tr><td>txt ive sserafim loona twice +</td><td>null</td><td>null</td><td>null</td><td>null</td><td>null</td><td>null</td><td>null</td></tr><tr><td>                  （╹◡╹）</td><td>null</td><td>null</td><td>null</td><td>null</td><td>null</td><td>null</td><td>null</td></tr><tr><td>╰────༺♡༻────╯</td><td>None</td><td>Thu Dec 15 21:46:09 +0000 2022</td><td>null</td><td>null</td><td>null</td><td>null</td><td>null</td></tr><tr><td>he/it/exe+, tme (agenderboy)</td><td>null</td><td>null</td><td>null</td><td>null</td><td>null</td><td>null</td><td>null</td></tr><tr><td>minor, no they/them</td><td>null</td><td>null</td><td>null</td><td>null</td><td>null</td><td>null</td><td>null</td></tr><tr><td>she/her if close</td><td>null</td><td>null</td><td>null</td><td>null</td><td>null</td><td>null</td><td>null</td></tr><tr><td>read rentry before interacting</td><td>None</td><td>Thu Dec 15 21:32:31 +0000 2022</td><td>null</td><td>null</td><td>null</td><td>null</td><td>null</td></tr><tr><td>Ghana, Africa, US, Canada, UK, Europe, Asia.</td><td>None</td><td>Wed Dec 14 15:35:05 +0000 2022</td><td>null</td><td>null</td><td>null</td><td>null</td><td>null</td></tr><tr><td>meet</td><td>None</td><td>Thu Dec 15 22:08:17 +0000 2022</td><td>null</td><td>null</td><td>null</td><td>null</td><td>null</td></tr><tr><td>null</td><td>None</td><td>Wed Dec 14 17:01:46 +0000 2022</td><td>null</td><td>null</td><td>null</td><td>null</td><td>null</td></tr><tr><td>Ghana, Africa, US, Canada, UK, Europe, Asia.</td><td>None</td><td>Thu Dec 15 14:35:12 +0000 2022</td><td>null</td><td>null</td><td>null</td><td>null</td><td>null</td></tr><tr><td>, Gauteng </td><td>None</td><td>Tue Dec 13 13:30:38 +0000 2022</td><td>null</td><td>null</td><td>null</td><td>null</td><td>null</td></tr><tr><td>null</td><td>None</td><td>Tue Dec 13 23:11:08 +0000 2022</td><td>null</td><td>null</td><td>null</td><td>null</td><td>null</td></tr><tr><td>Ghana, Africa, US, Canada, UK, Europe, Asia.</td><td>None</td><td>Wed Dec 14 13:00:08 +0000 2022</td><td>null</td><td>null</td><td>null</td><td>null</td><td>null</td></tr><tr><td>null</td><td>None</td><td>Wed Dec 14 13:00:16 +0000 2022</td><td>null</td><td>null</td><td>null</td><td>null</td><td>null</td></tr><tr><td>Floor 2</td><td>null</td><td>null</td><td>null</td><td>null</td><td>null</td><td>null</td><td>null</td></tr><tr><td>Conshohocken, PA 19428</td><td>None</td><td>Fri Dec 16 17:08:00 +0000 2022</td><td>null</td><td>null</td><td>null</td><td>null</td><td>null</td></tr><tr><td>null</td><td>None</td><td>Wed Dec 14 18:43:48 +0000 2022</td><td>null</td><td>null</td><td>null</td><td>null</td><td>null</td></tr><tr><td>null</td><td>None</td><td>Wed Dec 14 17:39:15 +0000 2022</td><td>null</td><td>null</td><td>null</td><td>null</td><td>null</td></tr><tr><td>Barron, WI 54812</td><td>None</td><td>Wed Dec 14 17:21:51 +0000 2022</td><td>null</td><td>null</td><td>null</td><td>null</td><td>null</td></tr><tr><td>Barron, WI 54812</td><td>None</td><td>Wed Dec 14 17:23:47 +0000 2022</td><td>null</td><td>null</td><td>null</td><td>null</td><td>null</td></tr><tr><td>null</td><td>None</td><td>Thu Dec 15 16:10:21 +0000 2022</td><td>null</td><td>null</td><td>null</td><td>null</td><td>null</td></tr><tr><td>null</td><td>None</td><td>Wed Dec 14 13:33:27 +0000 2022</td><td>null</td><td>null</td><td>null</td><td>null</td><td>null</td></tr><tr><td>, Gauteng </td><td>None</td><td>Wed Dec 14 13:37:26 +0000 2022</td><td>null</td><td>null</td><td>null</td><td>null</td><td>null</td></tr><tr><td>null</td><td>None</td><td>Fri Dec 16 13:47:33 +0000 2022</td><td>null</td><td>null</td><td>null</td><td>null</td><td>null</td></tr><tr><td>   blk ntv 🇲🇽🇿🇦</td><td>null</td><td>null</td><td>null</td><td>null</td><td>null</td><td>null</td><td>null</td></tr><tr><td>   16 tma lesbian</td><td>null</td><td>null</td><td>null</td><td>null</td><td>null</td><td>null</td><td>null</td></tr><tr><td>   no masc terms</td><td>null</td><td>null</td><td>null</td><td>null</td><td>null</td><td>null</td><td>null</td></tr><tr><td>   eng&esp OK!</td><td>None</td><td>Fri Dec 16 01:08:49 +0000 2022</td><td>null</td><td>null</td><td>null</td><td>null</td><td>null</td></tr><tr><td>   blk ntv 🇲🇽🇿🇦</td><td>null</td><td>null</td><td>null</td><td>null</td><td>null</td><td>null</td><td>null</td></tr><tr><td>   16 tma lesbian</td><td>null</td><td>null</td><td>null</td><td>null</td><td>null</td><td>null</td><td>null</td></tr><tr><td>   no masc terms</td><td>null</td><td>null</td><td>null</td><td>null</td><td>null</td><td>null</td><td>null</td></tr><tr><td>   eng&esp OK!</td><td>None</td><td>Fri Dec 16 01:10:28 +0000 2022</td><td>null</td><td>null</td><td>null</td><td>null</td><td>null</td></tr><tr><td>null</td><td>None</td><td>Fri Dec 16 01:11:05 +0000 2022</td><td>null</td><td>null</td><td>null</td><td>null</td><td>null</td></tr><tr><td>   blk ntv 🇲🇽🇿🇦</td><td>null</td><td>null</td><td>null</td><td>null</td><td>null</td><td>null</td><td>null</td></tr><tr><td>   16 tma lesbian</td><td>null</td><td>null</td><td>null</td><td>null</td><td>null</td><td>null</td><td>null</td></tr><tr><td>   no masc terms</td><td>null</td><td>null</td><td>null</td><td>null</td><td>null</td><td>null</td><td>null</td></tr><tr><td>   eng&esp OK!</td><td>None</td><td>Fri Dec 16 01:12:22 +0000 2022</td><td>null</td><td>null</td><td>null</td><td>null</td><td>null</td></tr><tr><td>22 ✿ they/them ✿ poc</td><td>null</td><td>null</td><td>null</td><td>null</td><td>null</td><td>null</td><td>null</td></tr><tr><td>18+ only. dm for menu!!</td><td>null</td><td>null</td><td>null</td><td>null</td><td>null</td><td>null</td><td>null</td></tr><tr><td>xtreme kinks : @c1nnamopup ♡</td><td>None</td><td>Wed Dec 14 02:11:53 +0000 2022</td><td>null</td><td>null</td><td>null</td><td>null</td><td>null</td></tr><tr><td>Ghana, Africa, US, Canada, UK, Europe, Asia.</td><td>None</td><td>Wed Dec 14 12:00:05 +0000 2022</td><td>null</td><td>null</td><td>null</td><td>null</td><td>null</td></tr><tr><td>meet</td><td>None</td><td>Mon Dec 12 14:49:02 +0000 2022</td><td>null</td><td>null</td><td>null</td><td>null</td><td>null</td></tr><tr><td>Equator</td><td>None</td><td>Mon Dec 12 14:32:23 +0000 2022</td><td>null</td><td>null</td><td>null</td><td>null</td><td>null</td></tr><tr><td>null</td><td>None</td><td>Mon Dec 12 13:47:30 +0000 2022</td><td>null</td><td>null</td><td>null</td><td>null</td><td>null</td></tr><tr><td>null</td><td>None</td><td>Thu Dec 15 18:19:04 +0000 2022</td><td>null</td><td>null</td><td>null</td><td>null</td><td>null</td></tr><tr><td>null</td><td>None</td><td>Fri Dec 16 01:44:32 +0000 2022</td><td>null</td><td>null</td><td>null</td><td>null</td><td>null</td></tr><tr><td>she filo</td><td>null</td><td>null</td><td>null</td><td>null</td><td>null</td><td>null</td><td>null</td></tr><tr><td>not a minor ! </td><td>null</td><td>null</td><td>null</td><td>null</td><td>null</td><td>null</td><td>null</td></tr><tr><td>null</td><td>None</td><td>Mon Dec 12 17:48:32 +0000 2022</td><td>null</td><td>null</td><td>null</td><td>null</td><td>null</td></tr><tr><td>viet chinese</td><td>null</td><td>null</td><td>null</td><td>null</td><td>null</td><td>null</td><td>null</td></tr><tr><td>multifandom</td><td>null</td><td>null</td><td>null</td><td>null</td><td>null</td><td>null</td><td>null</td></tr><tr><td>null</td><td>None</td><td>Thu Dec 15 13:07:38 +0000 2022</td><td>null</td><td>null</td><td>null</td><td>null</td><td>null</td></tr><tr><td>meet</td><td>None</td><td>Fri Dec 16 15:15:39 +0000 2022</td><td>null</td><td>null</td><td>null</td><td>null</td><td>null</td></tr><tr><td>Ghana, Africa, US, Canada, UK, Europe, Asia.</td><td>None</td><td>Thu Dec 15 02:00:08 +0000 2022</td><td>null</td><td>null</td><td>null</td><td>null</td><td>null</td></tr><tr><td>Floor 2</td><td>null</td><td>null</td><td>null</td><td>null</td><td>null</td><td>null</td><td>null</td></tr><tr><td>Conshohocken, PA 19428</td><td>None</td><td>Mon Dec 12 15:00:01 +0000 2022</td><td>null</td><td>null</td><td>null</td><td>null</td><td>null</td></tr><tr><td>skz filo writer.</td><td>null</td><td>null</td><td>null</td><td>null</td><td>null</td><td>null</td><td>null</td></tr><tr><td>works on moments.</td><td>None</td><td>Mon Dec 12 15:28:50 +0000 2022</td><td>null</td><td>null</td><td>null</td><td>null</td><td>null</td></tr><tr><td>territory </td><td>None</td><td>Fri Dec 16 01:55:24 +0000 2022</td><td>null</td><td>null</td><td>null</td><td>null</td><td>null</td></tr><tr><td>en | multi</td><td>null</td><td>null</td><td>null</td><td>null</td><td>null</td><td>null</td><td>null</td></tr><tr><td>mewyel ♡</td><td>null</td><td>null</td><td>null</td><td>null</td><td>null</td><td>null</td><td>null</td></tr><tr><td>ben&ben ✧ cup of joe ✧ the juans</td><td>null</td><td>null</td><td>null</td><td>null</td><td>null</td><td>null</td><td>null</td></tr><tr><td>-she/her | intp-t</td><td>null</td><td>null</td><td>null</td><td>null</td><td>null</td><td>null</td><td>null</td></tr><tr><td>-selective fb</td><td>null</td><td>null</td><td>null</td><td>null</td><td>null</td><td>null</td><td>null</td></tr><tr><td>null</td><td>None</td><td>Wed Dec 14 07:58:54 +0000 2022</td><td>null</td><td>null</td><td>null</td><td>null</td><td>null</td></tr><tr><td>null</td><td>None</td><td>Fri Dec 16 16:34:25 +0000 2022</td><td>null</td><td>null</td><td>null</td><td>null</td><td>null</td></tr><tr><td>tucked in the woods a few miles</td><td>null</td><td>null</td><td>null</td><td>null</td><td>null</td><td>null</td><td>null</td></tr><tr><td>east of Seattle.</td><td>None</td><td>Mon Dec 12 21:06:13 +0000 2022</td><td>null</td><td>null</td><td>null</td><td>null</td><td>null</td></tr><tr><td>czech republic</td><td>None</td><td>Wed Dec 14 08:23:10 +0000 2022</td><td>null</td><td>null</td><td>null</td><td>null</td><td>null</td></tr><tr><td>Ghana, Africa, US, Canada, UK, Europe, Asia.</td><td>None</td><td>Sat Dec 10 16:35:06 +0000 2022</td><td>null</td><td>null</td><td>null</td><td>null</td><td>null</td></tr><tr><td>Ghana, Africa, US, Canada, UK, Europe, Asia.</td><td>None</td><td>Sat Dec 10 16:00:09 +0000 2022</td><td>null</td><td>null</td><td>null</td><td>null</td><td>null</td></tr><tr><td>he/him/himself</td><td>null</td><td>null</td><td>null</td><td>null</td><td>null</td><td>null</td><td>null</td></tr><tr><td>19 white tme taken</td><td>None</td><td>Mon Dec 12 12:05:08 +0000 2022</td><td>null</td><td>null</td><td>null</td><td>null</td><td>null</td></tr><tr><td>null</td><td>None</td><td>Wed Dec 14 04:17:52 +0000 2022</td><td>null</td><td>null</td><td>null</td><td>null</td><td>null</td></tr><tr><td>null</td><td>None</td><td>Wed Dec 14 04:17:56 +0000 2022</td><td>null</td><td>null</td><td>null</td><td>null</td><td>null</td></tr><tr><td>Never hate your enemies. It affects your judgment.</td><td>None</td><td>Thu Dec 15 01:20:18 +0000 2022</td><td>null</td><td>null</td><td>null</td><td>null</td><td>null</td></tr><tr><td>null</td><td>None</td><td>Thu Dec 15 04:06:24 +0000 2022</td><td>null</td><td>null</td><td>null</td><td>null</td><td>null</td></tr><tr><td>null</td><td>None</td><td>Mon Dec 12 20:13:14 +0000 2022</td><td>null</td><td>null</td><td>null</td><td>null</td><td>null</td></tr><tr><td>null</td><td>None</td><td>Wed Dec 14 07:55:18 +0000 2022</td><td>null</td><td>null</td><td>null</td><td>null</td><td>null</td></tr><tr><td>null</td><td>None</td><td>Mon Dec 12 12:07:14 +0000 2022</td><td>null</td><td>null</td><td>null</td><td>null</td><td>null</td></tr><tr><td>ᅠ</td><td>null</td><td>null</td><td>null</td><td>null</td><td>null</td><td>null</td><td>null</td></tr><tr><td>ᅠ</td><td>null</td><td>null</td><td>null</td><td>null</td><td>null</td><td>null</td><td>null</td></tr><tr><td>𝗔𝗟𝗟 𝗧𝗛𝗘𝗠𝗘𝗦 ; 🎓🎭</td><td>null</td><td>null</td><td>null</td><td>null</td><td>null</td><td>null</td><td>null</td></tr><tr><td>𝙀𝙨𝙩𝙪𝙙𝙞𝙖𝙣𝙩𝙚 𝙙𝙚 𝙩𝙚𝙖𝙩𝙧𝙤</td><td>null</td><td>null</td><td>null</td><td>null</td><td>null</td><td>null</td><td>null</td></tr><tr><td>ᅠ</td><td>null</td><td>null</td><td>null</td><td>null</td><td>null</td><td>null</td><td>null</td></tr><tr><td>ᅠ</td><td>null</td><td>null</td><td>null</td><td>null</td><td>null</td><td>null</td><td>null</td></tr><tr><td>ᅠ</td><td>null</td><td>null</td><td>null</td><td>null</td><td>null</td><td>null</td><td>null</td></tr><tr><td>ᅠ</td><td>null</td><td>null</td><td>null</td><td>null</td><td>null</td><td>null</td><td>null</td></tr><tr><td>ᅠ𝙼𝚎𝚍𝚒𝚞𝚖  ⫶  𝙵𝚞𝚗𝚗𝚢   ⫶   spa&ing</td><td>null</td><td>null</td><td>null</td><td>null</td><td>null</td><td>null</td><td>null</td></tr><tr><td>ᅠ</td><td>None</td><td>Fri Dec 16 03:17:36 +0000 2022</td><td>null</td><td>null</td><td>null</td><td>null</td><td>null</td></tr><tr><td>null</td><td>None</td><td>Thu Dec 15 08:28:19 +0000 2022</td><td>null</td><td>null</td><td>null</td><td>null</td><td>null</td></tr><tr><td>null</td><td>None</td><td>Mon Dec 12 11:56:49 +0000 2022</td><td>null</td><td>null</td><td>null</td><td>null</td><td>null</td></tr><tr><td>null</td><td>None</td><td>Thu Dec 15 11:23:34 +0000 2022</td><td>null</td><td>null</td><td>null</td><td>null</td><td>null</td></tr><tr><td>null</td><td>None</td><td>Fri Dec 16 04:59:36 +0000 2022</td><td>null</td><td>null</td><td>null</td><td>null</td><td>null</td></tr><tr><td>Never hate your enemies. It affects your judgment.</td><td>None</td><td>Fri Dec 16 06:03:23 +0000 2022</td><td>null</td><td>null</td><td>null</td><td>null</td><td>null</td></tr><tr><td>null</td><td>None</td><td>Mon Dec 12 00:31:01 +0000 2022</td><td>null</td><td>null</td><td>null</td><td>null</td><td>null</td></tr><tr><td>null</td><td>None</td><td>Mon Dec 12 00:32:57 +0000 2022</td><td>null</td><td>null</td><td>null</td><td>null</td><td>null</td></tr><tr><td>czech republic</td><td>None</td><td>Wed Dec 14 04:36:05 +0000 2022</td><td>null</td><td>null</td><td>null</td><td>null</td><td>null</td></tr><tr><td>null</td><td>None</td><td>Tue Dec 13 12:23:13 +0000 2022</td><td>null</td><td>null</td><td>null</td><td>null</td><td>null</td></tr><tr><td>NO theythem, any neoprns r ok / tme, perissex</td><td>null</td><td>null</td><td>null</td><td>null</td><td>null</td><td>null</td><td>null</td></tr><tr><td>tumblr: @sl1rkt0o / ig: @sl1rkt0o1</td><td>None</td><td>Fri Dec 16 04:16:31 +0000 2022</td><td>null</td><td>null</td><td>null</td><td>null</td><td>null</td></tr><tr><td>null</td><td>None</td><td>Wed Dec 14 10:43:27 +0000 2022</td><td>null</td><td>null</td><td>null</td><td>null</td><td>null</td></tr><tr><td>tma vampkin nby t4t lesbian</td><td>null</td><td>null</td><td>null</td><td>null</td><td>null</td><td>null</td><td>null</td></tr><tr><td>they/it/xe/vamp + more</td><td>null</td><td>null</td><td>null</td><td>null</td><td>null</td><td>null</td><td>null</td></tr><tr><td>eng/esp 🇲🇽</td><td>null</td><td>null</td><td>null</td><td>null</td><td>null</td><td>null</td><td>null</td></tr><tr><td>sb to unfollow </td><td>None</td><td>Fri Dec 16 06:31:48 +0000 2022</td><td>null</td><td>null</td><td>null</td><td>null</td><td>null</td></tr><tr><td>null</td><td>None</td><td>Sat Dec 10 15:05:50 +0000 2022</td><td>null</td><td>null</td><td>null</td><td>null</td><td>null</td></tr><tr><td>🏠 🇳🇬 </td><td>null</td><td>null</td><td>null</td><td>null</td><td>null</td><td>null</td><td>null</td></tr><tr><td>📍 🇬🇧</td><td>None</td><td>Wed Dec 14 05:07:57 +0000 2022</td><td>null</td><td>null</td><td>null</td><td>null</td><td>null</td></tr><tr><td>, Gauteng </td><td>None</td><td>Sun Dec 11 15:46:41 +0000 2022</td><td>null</td><td>null</td><td>null</td><td>null</td><td>null</td></tr><tr><td>المهنة: بائع في محل خضار</td><td>None</td><td>Thu Dec 15 05:02:35 +0000 2022</td><td>null</td><td>null</td><td>null</td><td>null</td><td>null</td></tr><tr><td>null</td><td>None</td><td>Sun Dec 11 21:36:56 +0000 2022</td><td>null</td><td>null</td><td>null</td><td>null</td><td>null</td></tr><tr><td>ndy jin aus kuro yeon ★</td><td>None</td><td>Fri Dec 16 11:37:39 +0000 2022</td><td>null</td><td>null</td><td>null</td><td>null</td><td>null</td></tr><tr><td>null</td><td>None</td><td>Wed Dec 14 10:06:37 +0000 2022</td><td>null</td><td>null</td><td>null</td><td>null</td><td>null</td></tr><tr><td>cis apathetic</td><td>null</td><td>null</td><td>null</td><td>null</td><td>null</td><td>null</td><td>null</td></tr><tr><td>xe/it/dia</td><td>null</td><td>null</td><td>null</td><td>null</td><td>null</td><td>null</td><td>null</td></tr><tr><td>basic dni criteria applied </td><td>null</td><td>null</td><td>null</td><td>null</td><td>null</td><td>null</td><td>null</td></tr><tr><td>@mon73719721 - pfp</td><td>null</td><td>null</td><td>null</td><td>null</td><td>null</td><td>null</td><td>null</td></tr><tr><td>null</td><td>None</td><td>Fri Dec 16 05:54:10 +0000 2022</td><td>null</td><td>null</td><td>null</td><td>null</td><td>null</td></tr><tr><td>null</td><td>None</td><td>Sat Dec 10 20:30:01 +0000 2022</td><td>null</td><td>null</td><td>null</td><td>null</td><td>null</td></tr><tr><td>null</td><td>None</td><td>Tue Dec 13 02:21:43 +0000 2022</td><td>null</td><td>null</td><td>null</td><td>null</td><td>null</td></tr><tr><td>null</td><td>None</td><td>Sun Dec 11 19:29:22 +0000 2022</td><td>null</td><td>null</td><td>null</td><td>null</td><td>null</td></tr><tr><td>null</td><td>None</td><td>Sun Dec 11 21:40:47 +0000 2022</td><td>null</td><td>null</td><td>null</td><td>null</td><td>null</td></tr><tr><td>null</td><td>None</td><td>Sat Dec 10 22:52:40 +0000 2022</td><td>null</td><td>null</td><td>null</td><td>null</td><td>null</td></tr><tr><td>ᅠᅠᅠ</td><td>null</td><td>null</td><td>null</td><td>null</td><td>null</td><td>null</td><td>null</td></tr><tr><td>ᅠᅠᅠ</td><td>null</td><td>null</td><td>null</td><td>null</td><td>null</td><td>null</td><td>null</td></tr><tr><td>ᅠᅠᅠ</td><td>null</td><td>null</td><td>null</td><td>null</td><td>null</td><td>null</td><td>null</td></tr><tr><td>ᅠᅠᅠ</td><td>null</td><td>null</td><td>null</td><td>null</td><td>null</td><td>null</td><td>null</td></tr><tr><td>s.id : Queen boss.</td><td>null</td><td>null</td><td>null</td><td>null</td><td>null</td><td>null</td><td>null</td></tr><tr><td>looking at prefection, 1996 pride.</td><td>null</td><td>null</td><td>null</td><td>null</td><td>null</td><td>null</td><td>null</td></tr><tr><td>———————————————————</td><td>null</td><td>null</td><td>null</td><td>null</td><td>null</td><td>null</td><td>null</td></tr><tr><td>call me, Jendeuk.</td><td>null</td><td>null</td><td>null</td><td>null</td><td>null</td><td>null</td><td>null</td></tr><tr><td>ᅠᅠᅠ</td><td>null</td><td>null</td><td>null</td><td>null</td><td>null</td><td>null</td><td>null</td></tr><tr><td>ᅠᅠᅠ</td><td>null</td><td>null</td><td>null</td><td>null</td><td>null</td><td>null</td><td>null</td></tr><tr><td>ᅠᅠᅠ</td><td>null</td><td>null</td><td>null</td><td>null</td><td>null</td><td>null</td><td>null</td></tr><tr><td>ᅠᅠᅠ</td><td>null</td><td>null</td><td>null</td><td>null</td><td>null</td><td>null</td><td>null</td></tr><tr><td>ᅠᅠᅠ</td><td>None</td><td>Sat Dec 10 21:44:31 +0000 2022</td><td>null</td><td>null</td><td>null</td><td>null</td><td>null</td></tr><tr><td>null</td><td>None</td><td>Thu Dec 15 07:31:59 +0000 2022</td><td>null</td><td>null</td><td>null</td><td>null</td><td>null</td></tr><tr><td>Anchorage, AK, United States 99503</td><td>None</td><td>Sun Dec 11 17:59:46 +0000 2022</td><td>null</td><td>null</td><td>null</td><td>null</td><td>null</td></tr><tr><td>null</td><td>None</td><td>Sun Dec 11 15:50:41 +0000 2022</td><td>null</td><td>null</td><td>null</td><td>null</td><td>null</td></tr><tr><td>null</td><td>None</td><td>Fri Dec 16 08:55:23 +0000 2022</td><td>null</td><td>null</td><td>null</td><td>null</td><td>null</td></tr><tr><td>null</td><td>None</td><td>Tue Dec 13 01:41:51 +0000 2022</td><td>null</td><td>null</td><td>null</td><td>null</td><td>null</td></tr><tr><td>null</td><td>None</td><td>Tue Dec 13 01:42:11 +0000 2022</td><td>null</td><td>null</td><td>null</td><td>null</td><td>null</td></tr><tr><td>null</td><td>None</td><td>Sun Dec 11 13:34:33 +0000 2022</td><td>null</td><td>null</td><td>null</td><td>null</td><td>null</td></tr><tr><td>meet</td><td>None</td><td>Sat Dec 10 22:42:17 +0000 2022</td><td>null</td><td>null</td><td>null</td><td>null</td><td>null</td></tr><tr><td>Ghana, Africa, US, Canada, UK, Europe, Asia.</td><td>None</td><td>Thu Dec 15 07:00:07 +0000 2022</td><td>null</td><td>null</td><td>null</td><td>null</td><td>null</td></tr><tr><td>null</td><td>None</td><td>Sun Dec 11 15:05:32 +0000 2022</td><td>null</td><td>null</td><td>null</td><td>null</td><td>null</td></tr><tr><td>null</td><td>None</td><td>Fri Dec 16 08:06:25 +0000 2022</td><td>null</td><td>null</td><td>null</td><td>null</td><td>null</td></tr><tr><td>ㅤㅤ༘ * we are each other's mystery ❞ ᨓ</td><td>None</td><td>Fri Dec 16 10:49:52 +0000 2022</td><td>null</td><td>null</td><td>null</td><td>null</td><td>null</td></tr><tr><td>null</td><td>None</td><td>Sun Dec 11 14:42:28 +0000 2022</td><td>null</td><td>null</td><td>null</td><td>null</td><td>null</td></tr><tr><td>null</td><td>None</td><td>Sun Dec 11 21:44:33 +0000 2022</td><td>null</td><td>null</td><td>null</td><td>null</td><td>null</td></tr><tr><td>null</td><td>None</td><td>Tue Dec 13 09:14:31 +0000 2022</td><td>null</td><td>null</td><td>null</td><td>null</td><td>null</td></tr><tr><td>she filo</td><td>null</td><td>null</td><td>null</td><td>null</td><td>null</td><td>null</td><td>null</td></tr><tr><td>not a minor ! </td><td>null</td><td>null</td><td>null</td><td>null</td><td>null</td><td>null</td><td>null</td></tr><tr><td>rcbyt ^</td><td>null</td><td>null</td><td>null</td><td>null</td><td>null</td><td>null</td><td>null</td></tr><tr><td>null</td><td>None</td><td>Tue Dec 13 02:45:57 +0000 2022</td><td>null</td><td>null</td><td>null</td><td>null</td><td>null</td></tr><tr><td>meet</td><td>None</td><td>Tue Dec 13 04:56:18 +0000 2022</td><td>null</td><td>null</td><td>null</td><td>null</td><td>null</td></tr><tr><td>arab lol</td><td>None</td><td>Fri Dec 16 08:26:39 +0000 2022</td><td>null</td><td>null</td><td>null</td><td>null</td><td>null</td></tr><tr><td>null</td><td>None</td><td>Fri Dec 16 08:36:07 +0000 2022</td><td>null</td><td>null</td><td>null</td><td>null</td><td>null</td></tr><tr><td>xe moon star 🇲🇽</td><td>None</td><td>Tue Dec 13 04:43:57 +0000 2022</td><td>null</td><td>null</td><td>null</td><td>null</td><td>null</td></tr><tr><td>null</td><td>None</td><td>Mon Dec 12 09:37:40 +0000 2022</td><td>null</td><td>null</td><td>null</td><td>null</td><td>null</td></tr><tr><td> kade !! rbyf</td><td>None</td><td>Tue Dec 13 04:45:53 +0000 2022</td><td>null</td><td>null</td><td>null</td><td>null</td><td>null</td></tr><tr><td>Anishinaabe and Haudenosaunee Territory</td><td>None</td><td>Mon Dec 12 04:38:01 +0000 2022</td><td>null</td><td>null</td><td>null</td><td>null</td><td>null</td></tr><tr><td>null</td><td>None</td><td>Fri Dec 09 23:41:11 +0000 2022</td><td>null</td><td>null</td><td>null</td><td>null</td><td>null</td></tr><tr><td>null</td><td>None</td><td>Sat Dec 10 11:26:14 +0000 2022</td><td>null</td><td>null</td><td>null</td><td>null</td><td>null</td></tr><tr><td>Ghana, Africa, US, Canada, UK, Europe, Asia.</td><td>None</td><td>Mon Dec 12 08:00:07 +0000 2022</td><td>null</td><td>null</td><td>null</td><td>null</td><td>null</td></tr><tr><td>null</td><td>None</td><td>Tue Dec 13 05:52:22 +0000 2022</td><td>null</td><td>null</td><td>null</td><td>null</td><td>null</td></tr><tr><td>null</td><td>None</td><td>Sat Dec 10 04:27:17 +0000 2022</td><td>null</td><td>null</td><td>null</td><td>null</td><td>null</td></tr><tr><td>null</td><td>None</td><td>Sat Dec 10 12:17:46 +0000 2022</td><td>null</td><td>null</td><td>null</td><td>null</td><td>null</td></tr><tr><td>null</td><td>None</td><td>Sun Dec 11 09:45:10 +0000 2022</td><td>null</td><td>null</td><td>null</td><td>null</td><td>null</td></tr><tr><td>null</td><td>None</td><td>Sat Dec 10 08:17:08 +0000 2022</td><td>null</td><td>null</td><td>null</td><td>null</td><td>null</td></tr><tr><td>met bw 11.19-20.22 ♡ </td><td>None</td><td>Sun Dec 11 09:19:22 +0000 2022</td><td>null</td><td>null</td><td>null</td><td>null</td><td>null</td></tr><tr><td>subscribe 2 my YouTube!! I make music there!</td><td>null</td><td>null</td><td>null</td><td>null</td><td>null</td><td>null</td><td>null</td></tr><tr><td>I did this with the twitpane app :) yw</td><td>None</td><td>Sat Dec 10 08:41:37 +0000 2022</td><td>null</td><td>null</td><td>null</td><td>null</td><td>null</td></tr><tr><td>null</td><td>None</td><td>Sat Dec 10 07:15:46 +0000 2022</td><td>null</td><td>null</td><td>null</td><td>null</td><td>null</td></tr><tr><td>null</td><td>None</td><td>Sat Dec 10 08:54:40 +0000 2022</td><td>null</td><td>null</td><td>null</td><td>null</td><td>null</td></tr><tr><td>null</td><td>None</td><td>Sun Dec 11 08:10:37 +0000 2022</td><td>null</td><td>null</td><td>null</td><td>null</td><td>null</td></tr></tbody></table></div>"
      ]
     },
     "metadata": {
      "application/vnd.databricks.v1+output": {
       "addedWidgets": {},
       "aggData": [],
       "aggError": "",
       "aggOverflow": false,
       "aggSchema": [],
       "aggSeriesLimitReached": false,
       "aggType": "",
       "arguments": {},
       "columnCustomDisplayInfos": {},
       "data": [
        [
         "taboo  and  trauma  kinks. 1996.",
         "None",
         "Tue Dec 13 14:01:44 +0000 2022",
         null,
         null,
         null,
         null,
         null
        ],
        [
         "meet",
         "None",
         "Tue Dec 13 14:10:12 +0000 2022",
         null,
         null,
         null,
         null,
         null
        ],
        [
         null,
         "None",
         "Tue Dec 13 15:47:44 +0000 2022",
         null,
         null,
         null,
         null,
         null
        ],
        [
         null,
         "None",
         "Wed Dec 14 19:59:29 +0000 2022",
         null,
         null,
         null,
         null,
         null
        ],
        [
         "any prns n/sfw mdni 21 yrs miko’s",
         "None",
         "Tue Dec 13 17:08:26 +0000 2022",
         null,
         null,
         null,
         null,
         null
        ],
        [
         null,
         "None",
         "Wed Dec 14 20:05:54 +0000 2022",
         null,
         null,
         null,
         null,
         null
        ],
        [
         null,
         "None",
         "Tue Dec 13 17:45:00 +0000 2022",
         null,
         null,
         null,
         null,
         null
        ],
        [
         "meet",
         "None",
         "Thu Dec 15 19:32:03 +0000 2022",
         null,
         null,
         null,
         null,
         null
        ],
        [
         "Anchorage, AK, United States 99503",
         "None",
         "Tue Dec 13 16:22:28 +0000 2022",
         null,
         null,
         null,
         null,
         null
        ],
        [
         null,
         "None",
         "Tue Dec 13 16:36:32 +0000 2022",
         null,
         null,
         null,
         null,
         null
        ],
        [
         null,
         "None",
         "Tue Dec 13 22:12:39 +0000 2022",
         null,
         null,
         null,
         null,
         null
        ],
        [
         null,
         "None",
         "Wed Dec 14 19:39:15 +0000 2022",
         null,
         null,
         null,
         null,
         null
        ],
        [
         "Equator",
         "None",
         "Tue Dec 13 18:39:50 +0000 2022",
         null,
         null,
         null,
         null,
         null
        ],
        [
         null,
         "None",
         "Tue Dec 13 21:19:19 +0000 2022",
         null,
         null,
         null,
         null,
         null
        ],
        [
         null,
         "None",
         "Wed Dec 14 19:19:10 +0000 2022",
         null,
         null,
         null,
         null,
         null
        ],
        [
         "Ghana, Africa, US, Canada, UK, Europe, Asia.",
         "None",
         "Tue Dec 13 19:00:04 +0000 2022",
         null,
         null,
         null,
         null,
         null
        ],
        [
         null,
         "None",
         "Thu Dec 15 20:17:06 +0000 2022",
         null,
         null,
         null,
         null,
         null
        ],
        [
         null,
         "None",
         "Tue Dec 13 21:55:13 +0000 2022",
         null,
         null,
         null,
         null,
         null
        ],
        [
         "Racine",
         "None",
         "Wed Dec 14 21:15:30 +0000 2022",
         null,
         null,
         null,
         null,
         null
        ],
        [
         "Columbus, OH, USA",
         null,
         null,
         null,
         null,
         null,
         null,
         null
        ],
        [
         "ht",
         "None",
         "Tue Dec 13 21:25:36 +0000 2022",
         null,
         null,
         null,
         null,
         null
        ],
        [
         "Racine",
         "None",
         "Thu Dec 15 21:20:39 +0000 2022",
         null,
         null,
         null,
         null,
         null
        ],
        [
         "meet",
         "None",
         "Wed Dec 14 18:59:34 +0000 2022",
         null,
         null,
         null,
         null,
         null
        ],
        [
         "Bpd + Autistic sys ",
         null,
         null,
         null,
         null,
         null,
         null,
         null
        ],
        [
         "They/It + Neos",
         null,
         null,
         null,
         null,
         null,
         null,
         null
        ],
        [
         "NSFW DNI ",
         "None",
         "Thu Dec 15 20:52:02 +0000 2022",
         null,
         null,
         null,
         null,
         null
        ],
        [
         null,
         "None",
         "Thu Dec 15 20:53:00 +0000 2022",
         null,
         null,
         null,
         null,
         null
        ],
        [
         "☆ — lunarian agender ⍣ aroace bi",
         null,
         null,
         null,
         null,
         null,
         null,
         null
        ],
        [
         "☆ — pinned byf ⍣ matching w/ h, j + s",
         null,
         null,
         null,
         null,
         null,
         null,
         null
        ],
        [
         "☆ — ic: crstaldream on tumblr",
         "None",
         "Thu Dec 15 20:38:04 +0000 2022",
         null,
         null,
         null,
         null,
         null
        ],
        [
         "🇵🇷",
         null,
         null,
         null,
         null,
         null,
         null,
         null
        ],
        [
         "rrbyf",
         "None",
         "Thu Dec 15 22:59:16 +0000 2022",
         null,
         null,
         null,
         null,
         null
        ],
        [
         null,
         "None",
         "Wed Dec 14 14:18:09 +0000 2022",
         null,
         null,
         null,
         null,
         null
        ],
        [
         "Ghana, Africa, US, Canada, UK, Europe, Asia.",
         "None",
         "Wed Dec 14 15:00:08 +0000 2022",
         null,
         null,
         null,
         null,
         null
        ],
        [
         "Visualizing Protest in the City https://www.springer.com/gp/book/9789812872357",
         "None",
         "Thu Dec 15 23:09:17 +0000 2022",
         null,
         null,
         null,
         null,
         null
        ],
        [
         "                 she/he 15",
         null,
         null,
         null,
         null,
         null,
         null,
         null
        ],
        [
         "           demi-girl lesbian",
         null,
         null,
         null,
         null,
         null,
         null,
         null
        ],
        [
         "txt ive sserafim loona twice +",
         null,
         null,
         null,
         null,
         null,
         null,
         null
        ],
        [
         "                  （╹◡╹）",
         null,
         null,
         null,
         null,
         null,
         null,
         null
        ],
        [
         "╰────༺♡༻────╯",
         "None",
         "Thu Dec 15 21:46:09 +0000 2022",
         null,
         null,
         null,
         null,
         null
        ],
        [
         "he/it/exe+, tme (agenderboy)",
         null,
         null,
         null,
         null,
         null,
         null,
         null
        ],
        [
         "minor, no they/them",
         null,
         null,
         null,
         null,
         null,
         null,
         null
        ],
        [
         "she/her if close",
         null,
         null,
         null,
         null,
         null,
         null,
         null
        ],
        [
         "read rentry before interacting",
         "None",
         "Thu Dec 15 21:32:31 +0000 2022",
         null,
         null,
         null,
         null,
         null
        ],
        [
         "Ghana, Africa, US, Canada, UK, Europe, Asia.",
         "None",
         "Wed Dec 14 15:35:05 +0000 2022",
         null,
         null,
         null,
         null,
         null
        ],
        [
         "meet",
         "None",
         "Thu Dec 15 22:08:17 +0000 2022",
         null,
         null,
         null,
         null,
         null
        ],
        [
         null,
         "None",
         "Wed Dec 14 17:01:46 +0000 2022",
         null,
         null,
         null,
         null,
         null
        ],
        [
         "Ghana, Africa, US, Canada, UK, Europe, Asia.",
         "None",
         "Thu Dec 15 14:35:12 +0000 2022",
         null,
         null,
         null,
         null,
         null
        ],
        [
         ", Gauteng ",
         "None",
         "Tue Dec 13 13:30:38 +0000 2022",
         null,
         null,
         null,
         null,
         null
        ],
        [
         null,
         "None",
         "Tue Dec 13 23:11:08 +0000 2022",
         null,
         null,
         null,
         null,
         null
        ],
        [
         "Ghana, Africa, US, Canada, UK, Europe, Asia.",
         "None",
         "Wed Dec 14 13:00:08 +0000 2022",
         null,
         null,
         null,
         null,
         null
        ],
        [
         null,
         "None",
         "Wed Dec 14 13:00:16 +0000 2022",
         null,
         null,
         null,
         null,
         null
        ],
        [
         "Floor 2",
         null,
         null,
         null,
         null,
         null,
         null,
         null
        ],
        [
         "Conshohocken, PA 19428",
         "None",
         "Fri Dec 16 17:08:00 +0000 2022",
         null,
         null,
         null,
         null,
         null
        ],
        [
         null,
         "None",
         "Wed Dec 14 18:43:48 +0000 2022",
         null,
         null,
         null,
         null,
         null
        ],
        [
         null,
         "None",
         "Wed Dec 14 17:39:15 +0000 2022",
         null,
         null,
         null,
         null,
         null
        ],
        [
         "Barron, WI 54812",
         "None",
         "Wed Dec 14 17:21:51 +0000 2022",
         null,
         null,
         null,
         null,
         null
        ],
        [
         "Barron, WI 54812",
         "None",
         "Wed Dec 14 17:23:47 +0000 2022",
         null,
         null,
         null,
         null,
         null
        ],
        [
         null,
         "None",
         "Thu Dec 15 16:10:21 +0000 2022",
         null,
         null,
         null,
         null,
         null
        ],
        [
         null,
         "None",
         "Wed Dec 14 13:33:27 +0000 2022",
         null,
         null,
         null,
         null,
         null
        ],
        [
         ", Gauteng ",
         "None",
         "Wed Dec 14 13:37:26 +0000 2022",
         null,
         null,
         null,
         null,
         null
        ],
        [
         null,
         "None",
         "Fri Dec 16 13:47:33 +0000 2022",
         null,
         null,
         null,
         null,
         null
        ],
        [
         "   blk ntv 🇲🇽🇿🇦",
         null,
         null,
         null,
         null,
         null,
         null,
         null
        ],
        [
         "   16 tma lesbian",
         null,
         null,
         null,
         null,
         null,
         null,
         null
        ],
        [
         "   no masc terms",
         null,
         null,
         null,
         null,
         null,
         null,
         null
        ],
        [
         "   eng&esp OK!",
         "None",
         "Fri Dec 16 01:08:49 +0000 2022",
         null,
         null,
         null,
         null,
         null
        ],
        [
         "   blk ntv 🇲🇽🇿🇦",
         null,
         null,
         null,
         null,
         null,
         null,
         null
        ],
        [
         "   16 tma lesbian",
         null,
         null,
         null,
         null,
         null,
         null,
         null
        ],
        [
         "   no masc terms",
         null,
         null,
         null,
         null,
         null,
         null,
         null
        ],
        [
         "   eng&esp OK!",
         "None",
         "Fri Dec 16 01:10:28 +0000 2022",
         null,
         null,
         null,
         null,
         null
        ],
        [
         null,
         "None",
         "Fri Dec 16 01:11:05 +0000 2022",
         null,
         null,
         null,
         null,
         null
        ],
        [
         "   blk ntv 🇲🇽🇿🇦",
         null,
         null,
         null,
         null,
         null,
         null,
         null
        ],
        [
         "   16 tma lesbian",
         null,
         null,
         null,
         null,
         null,
         null,
         null
        ],
        [
         "   no masc terms",
         null,
         null,
         null,
         null,
         null,
         null,
         null
        ],
        [
         "   eng&esp OK!",
         "None",
         "Fri Dec 16 01:12:22 +0000 2022",
         null,
         null,
         null,
         null,
         null
        ],
        [
         "22 ✿ they/them ✿ poc",
         null,
         null,
         null,
         null,
         null,
         null,
         null
        ],
        [
         "18+ only. dm for menu!!",
         null,
         null,
         null,
         null,
         null,
         null,
         null
        ],
        [
         "xtreme kinks : @c1nnamopup ♡",
         "None",
         "Wed Dec 14 02:11:53 +0000 2022",
         null,
         null,
         null,
         null,
         null
        ],
        [
         "Ghana, Africa, US, Canada, UK, Europe, Asia.",
         "None",
         "Wed Dec 14 12:00:05 +0000 2022",
         null,
         null,
         null,
         null,
         null
        ],
        [
         "meet",
         "None",
         "Mon Dec 12 14:49:02 +0000 2022",
         null,
         null,
         null,
         null,
         null
        ],
        [
         "Equator",
         "None",
         "Mon Dec 12 14:32:23 +0000 2022",
         null,
         null,
         null,
         null,
         null
        ],
        [
         null,
         "None",
         "Mon Dec 12 13:47:30 +0000 2022",
         null,
         null,
         null,
         null,
         null
        ],
        [
         null,
         "None",
         "Thu Dec 15 18:19:04 +0000 2022",
         null,
         null,
         null,
         null,
         null
        ],
        [
         null,
         "None",
         "Fri Dec 16 01:44:32 +0000 2022",
         null,
         null,
         null,
         null,
         null
        ],
        [
         "she filo",
         null,
         null,
         null,
         null,
         null,
         null,
         null
        ],
        [
         "not a minor ! ",
         null,
         null,
         null,
         null,
         null,
         null,
         null
        ],
        [
         null,
         "None",
         "Mon Dec 12 17:48:32 +0000 2022",
         null,
         null,
         null,
         null,
         null
        ],
        [
         "viet chinese",
         null,
         null,
         null,
         null,
         null,
         null,
         null
        ],
        [
         "multifandom",
         null,
         null,
         null,
         null,
         null,
         null,
         null
        ],
        [
         null,
         "None",
         "Thu Dec 15 13:07:38 +0000 2022",
         null,
         null,
         null,
         null,
         null
        ],
        [
         "meet",
         "None",
         "Fri Dec 16 15:15:39 +0000 2022",
         null,
         null,
         null,
         null,
         null
        ],
        [
         "Ghana, Africa, US, Canada, UK, Europe, Asia.",
         "None",
         "Thu Dec 15 02:00:08 +0000 2022",
         null,
         null,
         null,
         null,
         null
        ],
        [
         "Floor 2",
         null,
         null,
         null,
         null,
         null,
         null,
         null
        ],
        [
         "Conshohocken, PA 19428",
         "None",
         "Mon Dec 12 15:00:01 +0000 2022",
         null,
         null,
         null,
         null,
         null
        ],
        [
         "skz filo writer.",
         null,
         null,
         null,
         null,
         null,
         null,
         null
        ],
        [
         "works on moments.",
         "None",
         "Mon Dec 12 15:28:50 +0000 2022",
         null,
         null,
         null,
         null,
         null
        ],
        [
         "territory ",
         "None",
         "Fri Dec 16 01:55:24 +0000 2022",
         null,
         null,
         null,
         null,
         null
        ],
        [
         "en | multi",
         null,
         null,
         null,
         null,
         null,
         null,
         null
        ],
        [
         "mewyel ♡",
         null,
         null,
         null,
         null,
         null,
         null,
         null
        ],
        [
         "ben&ben ✧ cup of joe ✧ the juans",
         null,
         null,
         null,
         null,
         null,
         null,
         null
        ],
        [
         "-she/her | intp-t",
         null,
         null,
         null,
         null,
         null,
         null,
         null
        ],
        [
         "-selective fb",
         null,
         null,
         null,
         null,
         null,
         null,
         null
        ],
        [
         null,
         "None",
         "Wed Dec 14 07:58:54 +0000 2022",
         null,
         null,
         null,
         null,
         null
        ],
        [
         null,
         "None",
         "Fri Dec 16 16:34:25 +0000 2022",
         null,
         null,
         null,
         null,
         null
        ],
        [
         "tucked in the woods a few miles",
         null,
         null,
         null,
         null,
         null,
         null,
         null
        ],
        [
         "east of Seattle.",
         "None",
         "Mon Dec 12 21:06:13 +0000 2022",
         null,
         null,
         null,
         null,
         null
        ],
        [
         "czech republic",
         "None",
         "Wed Dec 14 08:23:10 +0000 2022",
         null,
         null,
         null,
         null,
         null
        ],
        [
         "Ghana, Africa, US, Canada, UK, Europe, Asia.",
         "None",
         "Sat Dec 10 16:35:06 +0000 2022",
         null,
         null,
         null,
         null,
         null
        ],
        [
         "Ghana, Africa, US, Canada, UK, Europe, Asia.",
         "None",
         "Sat Dec 10 16:00:09 +0000 2022",
         null,
         null,
         null,
         null,
         null
        ],
        [
         "he/him/himself",
         null,
         null,
         null,
         null,
         null,
         null,
         null
        ],
        [
         "19 white tme taken",
         "None",
         "Mon Dec 12 12:05:08 +0000 2022",
         null,
         null,
         null,
         null,
         null
        ],
        [
         null,
         "None",
         "Wed Dec 14 04:17:52 +0000 2022",
         null,
         null,
         null,
         null,
         null
        ],
        [
         null,
         "None",
         "Wed Dec 14 04:17:56 +0000 2022",
         null,
         null,
         null,
         null,
         null
        ],
        [
         "Never hate your enemies. It affects your judgment.",
         "None",
         "Thu Dec 15 01:20:18 +0000 2022",
         null,
         null,
         null,
         null,
         null
        ],
        [
         null,
         "None",
         "Thu Dec 15 04:06:24 +0000 2022",
         null,
         null,
         null,
         null,
         null
        ],
        [
         null,
         "None",
         "Mon Dec 12 20:13:14 +0000 2022",
         null,
         null,
         null,
         null,
         null
        ],
        [
         null,
         "None",
         "Wed Dec 14 07:55:18 +0000 2022",
         null,
         null,
         null,
         null,
         null
        ],
        [
         null,
         "None",
         "Mon Dec 12 12:07:14 +0000 2022",
         null,
         null,
         null,
         null,
         null
        ],
        [
         "ᅠ",
         null,
         null,
         null,
         null,
         null,
         null,
         null
        ],
        [
         "ᅠ",
         null,
         null,
         null,
         null,
         null,
         null,
         null
        ],
        [
         "𝗔𝗟𝗟 𝗧𝗛𝗘𝗠𝗘𝗦 ; 🎓🎭",
         null,
         null,
         null,
         null,
         null,
         null,
         null
        ],
        [
         "𝙀𝙨𝙩𝙪𝙙𝙞𝙖𝙣𝙩𝙚 𝙙𝙚 𝙩𝙚𝙖𝙩𝙧𝙤",
         null,
         null,
         null,
         null,
         null,
         null,
         null
        ],
        [
         "ᅠ",
         null,
         null,
         null,
         null,
         null,
         null,
         null
        ],
        [
         "ᅠ",
         null,
         null,
         null,
         null,
         null,
         null,
         null
        ],
        [
         "ᅠ",
         null,
         null,
         null,
         null,
         null,
         null,
         null
        ],
        [
         "ᅠ",
         null,
         null,
         null,
         null,
         null,
         null,
         null
        ],
        [
         "ᅠ𝙼𝚎𝚍𝚒𝚞𝚖  ⫶  𝙵𝚞𝚗𝚗𝚢   ⫶   spa&ing",
         null,
         null,
         null,
         null,
         null,
         null,
         null
        ],
        [
         "ᅠ",
         "None",
         "Fri Dec 16 03:17:36 +0000 2022",
         null,
         null,
         null,
         null,
         null
        ],
        [
         null,
         "None",
         "Thu Dec 15 08:28:19 +0000 2022",
         null,
         null,
         null,
         null,
         null
        ],
        [
         null,
         "None",
         "Mon Dec 12 11:56:49 +0000 2022",
         null,
         null,
         null,
         null,
         null
        ],
        [
         null,
         "None",
         "Thu Dec 15 11:23:34 +0000 2022",
         null,
         null,
         null,
         null,
         null
        ],
        [
         null,
         "None",
         "Fri Dec 16 04:59:36 +0000 2022",
         null,
         null,
         null,
         null,
         null
        ],
        [
         "Never hate your enemies. It affects your judgment.",
         "None",
         "Fri Dec 16 06:03:23 +0000 2022",
         null,
         null,
         null,
         null,
         null
        ],
        [
         null,
         "None",
         "Mon Dec 12 00:31:01 +0000 2022",
         null,
         null,
         null,
         null,
         null
        ],
        [
         null,
         "None",
         "Mon Dec 12 00:32:57 +0000 2022",
         null,
         null,
         null,
         null,
         null
        ],
        [
         "czech republic",
         "None",
         "Wed Dec 14 04:36:05 +0000 2022",
         null,
         null,
         null,
         null,
         null
        ],
        [
         null,
         "None",
         "Tue Dec 13 12:23:13 +0000 2022",
         null,
         null,
         null,
         null,
         null
        ],
        [
         "NO theythem, any neoprns r ok / tme, perissex",
         null,
         null,
         null,
         null,
         null,
         null,
         null
        ],
        [
         "tumblr: @sl1rkt0o / ig: @sl1rkt0o1",
         "None",
         "Fri Dec 16 04:16:31 +0000 2022",
         null,
         null,
         null,
         null,
         null
        ],
        [
         null,
         "None",
         "Wed Dec 14 10:43:27 +0000 2022",
         null,
         null,
         null,
         null,
         null
        ],
        [
         "tma vampkin nby t4t lesbian",
         null,
         null,
         null,
         null,
         null,
         null,
         null
        ],
        [
         "they/it/xe/vamp + more",
         null,
         null,
         null,
         null,
         null,
         null,
         null
        ],
        [
         "eng/esp 🇲🇽",
         null,
         null,
         null,
         null,
         null,
         null,
         null
        ],
        [
         "sb to unfollow ",
         "None",
         "Fri Dec 16 06:31:48 +0000 2022",
         null,
         null,
         null,
         null,
         null
        ],
        [
         null,
         "None",
         "Sat Dec 10 15:05:50 +0000 2022",
         null,
         null,
         null,
         null,
         null
        ],
        [
         "🏠 🇳🇬 ",
         null,
         null,
         null,
         null,
         null,
         null,
         null
        ],
        [
         "📍 🇬🇧",
         "None",
         "Wed Dec 14 05:07:57 +0000 2022",
         null,
         null,
         null,
         null,
         null
        ],
        [
         ", Gauteng ",
         "None",
         "Sun Dec 11 15:46:41 +0000 2022",
         null,
         null,
         null,
         null,
         null
        ],
        [
         "المهنة: بائع في محل خضار",
         "None",
         "Thu Dec 15 05:02:35 +0000 2022",
         null,
         null,
         null,
         null,
         null
        ],
        [
         null,
         "None",
         "Sun Dec 11 21:36:56 +0000 2022",
         null,
         null,
         null,
         null,
         null
        ],
        [
         "ndy jin aus kuro yeon ★",
         "None",
         "Fri Dec 16 11:37:39 +0000 2022",
         null,
         null,
         null,
         null,
         null
        ],
        [
         null,
         "None",
         "Wed Dec 14 10:06:37 +0000 2022",
         null,
         null,
         null,
         null,
         null
        ],
        [
         "cis apathetic",
         null,
         null,
         null,
         null,
         null,
         null,
         null
        ],
        [
         "xe/it/dia",
         null,
         null,
         null,
         null,
         null,
         null,
         null
        ],
        [
         "basic dni criteria applied ",
         null,
         null,
         null,
         null,
         null,
         null,
         null
        ],
        [
         "@mon73719721 - pfp",
         null,
         null,
         null,
         null,
         null,
         null,
         null
        ],
        [
         null,
         "None",
         "Fri Dec 16 05:54:10 +0000 2022",
         null,
         null,
         null,
         null,
         null
        ],
        [
         null,
         "None",
         "Sat Dec 10 20:30:01 +0000 2022",
         null,
         null,
         null,
         null,
         null
        ],
        [
         null,
         "None",
         "Tue Dec 13 02:21:43 +0000 2022",
         null,
         null,
         null,
         null,
         null
        ],
        [
         null,
         "None",
         "Sun Dec 11 19:29:22 +0000 2022",
         null,
         null,
         null,
         null,
         null
        ],
        [
         null,
         "None",
         "Sun Dec 11 21:40:47 +0000 2022",
         null,
         null,
         null,
         null,
         null
        ],
        [
         null,
         "None",
         "Sat Dec 10 22:52:40 +0000 2022",
         null,
         null,
         null,
         null,
         null
        ],
        [
         "ᅠᅠᅠ",
         null,
         null,
         null,
         null,
         null,
         null,
         null
        ],
        [
         "ᅠᅠᅠ",
         null,
         null,
         null,
         null,
         null,
         null,
         null
        ],
        [
         "ᅠᅠᅠ",
         null,
         null,
         null,
         null,
         null,
         null,
         null
        ],
        [
         "ᅠᅠᅠ",
         null,
         null,
         null,
         null,
         null,
         null,
         null
        ],
        [
         "s.id : Queen boss.",
         null,
         null,
         null,
         null,
         null,
         null,
         null
        ],
        [
         "looking at prefection, 1996 pride.",
         null,
         null,
         null,
         null,
         null,
         null,
         null
        ],
        [
         "———————————————————",
         null,
         null,
         null,
         null,
         null,
         null,
         null
        ],
        [
         "call me, Jendeuk.",
         null,
         null,
         null,
         null,
         null,
         null,
         null
        ],
        [
         "ᅠᅠᅠ",
         null,
         null,
         null,
         null,
         null,
         null,
         null
        ],
        [
         "ᅠᅠᅠ",
         null,
         null,
         null,
         null,
         null,
         null,
         null
        ],
        [
         "ᅠᅠᅠ",
         null,
         null,
         null,
         null,
         null,
         null,
         null
        ],
        [
         "ᅠᅠᅠ",
         null,
         null,
         null,
         null,
         null,
         null,
         null
        ],
        [
         "ᅠᅠᅠ",
         "None",
         "Sat Dec 10 21:44:31 +0000 2022",
         null,
         null,
         null,
         null,
         null
        ],
        [
         null,
         "None",
         "Thu Dec 15 07:31:59 +0000 2022",
         null,
         null,
         null,
         null,
         null
        ],
        [
         "Anchorage, AK, United States 99503",
         "None",
         "Sun Dec 11 17:59:46 +0000 2022",
         null,
         null,
         null,
         null,
         null
        ],
        [
         null,
         "None",
         "Sun Dec 11 15:50:41 +0000 2022",
         null,
         null,
         null,
         null,
         null
        ],
        [
         null,
         "None",
         "Fri Dec 16 08:55:23 +0000 2022",
         null,
         null,
         null,
         null,
         null
        ],
        [
         null,
         "None",
         "Tue Dec 13 01:41:51 +0000 2022",
         null,
         null,
         null,
         null,
         null
        ],
        [
         null,
         "None",
         "Tue Dec 13 01:42:11 +0000 2022",
         null,
         null,
         null,
         null,
         null
        ],
        [
         null,
         "None",
         "Sun Dec 11 13:34:33 +0000 2022",
         null,
         null,
         null,
         null,
         null
        ],
        [
         "meet",
         "None",
         "Sat Dec 10 22:42:17 +0000 2022",
         null,
         null,
         null,
         null,
         null
        ],
        [
         "Ghana, Africa, US, Canada, UK, Europe, Asia.",
         "None",
         "Thu Dec 15 07:00:07 +0000 2022",
         null,
         null,
         null,
         null,
         null
        ],
        [
         null,
         "None",
         "Sun Dec 11 15:05:32 +0000 2022",
         null,
         null,
         null,
         null,
         null
        ],
        [
         null,
         "None",
         "Fri Dec 16 08:06:25 +0000 2022",
         null,
         null,
         null,
         null,
         null
        ],
        [
         "ㅤㅤ༘ * we are each other's mystery ❞ ᨓ",
         "None",
         "Fri Dec 16 10:49:52 +0000 2022",
         null,
         null,
         null,
         null,
         null
        ],
        [
         null,
         "None",
         "Sun Dec 11 14:42:28 +0000 2022",
         null,
         null,
         null,
         null,
         null
        ],
        [
         null,
         "None",
         "Sun Dec 11 21:44:33 +0000 2022",
         null,
         null,
         null,
         null,
         null
        ],
        [
         null,
         "None",
         "Tue Dec 13 09:14:31 +0000 2022",
         null,
         null,
         null,
         null,
         null
        ],
        [
         "she filo",
         null,
         null,
         null,
         null,
         null,
         null,
         null
        ],
        [
         "not a minor ! ",
         null,
         null,
         null,
         null,
         null,
         null,
         null
        ],
        [
         "rcbyt ^",
         null,
         null,
         null,
         null,
         null,
         null,
         null
        ],
        [
         null,
         "None",
         "Tue Dec 13 02:45:57 +0000 2022",
         null,
         null,
         null,
         null,
         null
        ],
        [
         "meet",
         "None",
         "Tue Dec 13 04:56:18 +0000 2022",
         null,
         null,
         null,
         null,
         null
        ],
        [
         "arab lol",
         "None",
         "Fri Dec 16 08:26:39 +0000 2022",
         null,
         null,
         null,
         null,
         null
        ],
        [
         null,
         "None",
         "Fri Dec 16 08:36:07 +0000 2022",
         null,
         null,
         null,
         null,
         null
        ],
        [
         "xe moon star 🇲🇽",
         "None",
         "Tue Dec 13 04:43:57 +0000 2022",
         null,
         null,
         null,
         null,
         null
        ],
        [
         null,
         "None",
         "Mon Dec 12 09:37:40 +0000 2022",
         null,
         null,
         null,
         null,
         null
        ],
        [
         " kade !! rbyf",
         "None",
         "Tue Dec 13 04:45:53 +0000 2022",
         null,
         null,
         null,
         null,
         null
        ],
        [
         "Anishinaabe and Haudenosaunee Territory",
         "None",
         "Mon Dec 12 04:38:01 +0000 2022",
         null,
         null,
         null,
         null,
         null
        ],
        [
         null,
         "None",
         "Fri Dec 09 23:41:11 +0000 2022",
         null,
         null,
         null,
         null,
         null
        ],
        [
         null,
         "None",
         "Sat Dec 10 11:26:14 +0000 2022",
         null,
         null,
         null,
         null,
         null
        ],
        [
         "Ghana, Africa, US, Canada, UK, Europe, Asia.",
         "None",
         "Mon Dec 12 08:00:07 +0000 2022",
         null,
         null,
         null,
         null,
         null
        ],
        [
         null,
         "None",
         "Tue Dec 13 05:52:22 +0000 2022",
         null,
         null,
         null,
         null,
         null
        ],
        [
         null,
         "None",
         "Sat Dec 10 04:27:17 +0000 2022",
         null,
         null,
         null,
         null,
         null
        ],
        [
         null,
         "None",
         "Sat Dec 10 12:17:46 +0000 2022",
         null,
         null,
         null,
         null,
         null
        ],
        [
         null,
         "None",
         "Sun Dec 11 09:45:10 +0000 2022",
         null,
         null,
         null,
         null,
         null
        ],
        [
         null,
         "None",
         "Sat Dec 10 08:17:08 +0000 2022",
         null,
         null,
         null,
         null,
         null
        ],
        [
         "met bw 11.19-20.22 ♡ ",
         "None",
         "Sun Dec 11 09:19:22 +0000 2022",
         null,
         null,
         null,
         null,
         null
        ],
        [
         "subscribe 2 my YouTube!! I make music there!",
         null,
         null,
         null,
         null,
         null,
         null,
         null
        ],
        [
         "I did this with the twitpane app :) yw",
         "None",
         "Sat Dec 10 08:41:37 +0000 2022",
         null,
         null,
         null,
         null,
         null
        ],
        [
         null,
         "None",
         "Sat Dec 10 07:15:46 +0000 2022",
         null,
         null,
         null,
         null,
         null
        ],
        [
         null,
         "None",
         "Sat Dec 10 08:54:40 +0000 2022",
         null,
         null,
         null,
         null,
         null
        ],
        [
         null,
         "None",
         "Sun Dec 11 08:10:37 +0000 2022",
         null,
         null,
         null,
         null,
         null
        ]
       ],
       "datasetInfos": [],
       "dbfsResultPath": null,
       "isJsonSchema": true,
       "metadata": {},
       "overflow": false,
       "plotOptions": {
        "customPlotOptions": {},
        "displayType": "table",
        "pivotAggregation": null,
        "pivotColumns": null,
        "xColumns": null,
        "yColumns": null
       },
       "removedWidgets": [],
       "schema": [
        {
         "metadata": "{}",
         "name": "id",
         "type": "\"string\""
        },
        {
         "metadata": "{}",
         "name": "user_name",
         "type": "\"string\""
        },
        {
         "metadata": "{}",
         "name": "screen_name",
         "type": "\"string\""
        },
        {
         "metadata": "{}",
         "name": "tweet",
         "type": "\"string\""
        },
        {
         "metadata": "{}",
         "name": "followers_count",
         "type": "\"integer\""
        },
        {
         "metadata": "{}",
         "name": "location",
         "type": "\"string\""
        },
        {
         "metadata": "{}",
         "name": "geo",
         "type": "\"string\""
        },
        {
         "metadata": "{}",
         "name": "created_at",
         "type": "\"string\""
        }
       ],
       "type": "table"
      }
     },
     "output_type": "display_data"
    },
    {
     "name": "stdout",
     "output_type": "stream",
     "text": [
      "Empty Tweet Rows: \n"
     ]
    },
    {
     "data": {
      "text/html": [
       "<style scoped>\n",
       "  .table-result-container {\n",
       "    max-height: 300px;\n",
       "    overflow: auto;\n",
       "  }\n",
       "  table, th, td {\n",
       "    border: 1px solid black;\n",
       "    border-collapse: collapse;\n",
       "  }\n",
       "  th, td {\n",
       "    padding: 5px;\n",
       "  }\n",
       "  th {\n",
       "    text-align: left;\n",
       "  }\n",
       "</style><div class='table-result-container'><table class='table-result'><thead style='background-color: white'><tr><th>id</th><th>user_name</th><th>screen_name</th><th>tweet</th><th>followers_count</th><th>location</th><th>geo</th><th>created_at</th></tr></thead><tbody></tbody></table></div>"
      ]
     },
     "metadata": {
      "application/vnd.databricks.v1+output": {
       "addedWidgets": {},
       "aggData": [],
       "aggError": "",
       "aggOverflow": false,
       "aggSchema": [],
       "aggSeriesLimitReached": false,
       "aggType": "",
       "arguments": {},
       "columnCustomDisplayInfos": {},
       "data": [],
       "datasetInfos": [],
       "dbfsResultPath": null,
       "isJsonSchema": true,
       "metadata": {},
       "overflow": false,
       "plotOptions": {
        "customPlotOptions": {},
        "displayType": "table",
        "pivotAggregation": null,
        "pivotColumns": null,
        "xColumns": null,
        "yColumns": null
       },
       "removedWidgets": [],
       "schema": [
        {
         "metadata": "{}",
         "name": "id",
         "type": "\"string\""
        },
        {
         "metadata": "{}",
         "name": "user_name",
         "type": "\"string\""
        },
        {
         "metadata": "{}",
         "name": "screen_name",
         "type": "\"string\""
        },
        {
         "metadata": "{}",
         "name": "tweet",
         "type": "\"string\""
        },
        {
         "metadata": "{}",
         "name": "followers_count",
         "type": "\"integer\""
        },
        {
         "metadata": "{}",
         "name": "location",
         "type": "\"string\""
        },
        {
         "metadata": "{}",
         "name": "geo",
         "type": "\"string\""
        },
        {
         "metadata": "{}",
         "name": "created_at",
         "type": "\"string\""
        }
       ],
       "type": "table"
      }
     },
     "output_type": "display_data"
    },
    {
     "name": "stdout",
     "output_type": "stream",
     "text": [
      "Duplicates Count:  405\n"
     ]
    }
   ],
   "source": [
    "# Counting No. of nulls\n",
    "null_counts = df.agg(*[sum(col(c).isNull().cast(\"int\")).alias(c) for c in df.columns])\n",
    "\n",
    "# Checking for rows with null values in 'tweet' column\n",
    "null_tweet_rows = df.filter(col(\"tweet\").isNull())\n",
    "\n",
    "# Checking for rows with empty strings in the 'tweet' column\n",
    "empty_tweet_rows = df.filter(trim(col(\"tweet\")) == '')\n",
    "\n",
    "# Counting No. of duplicates in DF\n",
    "duplicates_count = df.count() - df.dropDuplicates().count()\n",
    "\n",
    "# Printing all the results\n",
    "print(\"Null Counts: \")\n",
    "display(null_counts)\n",
    "print(\"Null Tweet Rows: \")\n",
    "display(null_tweet_rows)\n",
    "print(\"Empty Tweet Rows: \")\n",
    "display(empty_tweet_rows)\n",
    "print(\"Duplicates Count: \", duplicates_count)"
   ]
  },
  {
   "cell_type": "markdown",
   "metadata": {
    "application/vnd.databricks.v1+cell": {
     "cellMetadata": {},
     "inputWidgets": {},
     "nuid": "54050bc5-75d1-4e42-850e-54ef41a8bc45",
     "showTitle": false,
     "title": ""
    }
   },
   "source": [
    "## 3. Data Cleaning\n",
    "- Dropping duplicates and null(Tweet values)\n",
    "- Lower-Case Conversion\n",
    "- Standardizing Accent Characters\n",
    "- Removing URLs\n",
    "- Removing Mentions and creating another column for Hashtags\n",
    "- Expanding Contractions\n",
    "- Removing special characters\n",
    "- Multiple spaces to single space\n",
    "- Trimming leading and trailing spaces"
   ]
  },
  {
   "cell_type": "code",
   "execution_count": 0,
   "metadata": {
    "application/vnd.databricks.v1+cell": {
     "cellMetadata": {
      "byteLimit": 2048000,
      "rowLimit": 10000
     },
     "inputWidgets": {},
     "nuid": "664c9c07-dc3e-4dbf-8724-f371cf15273f",
     "showTitle": false,
     "title": ""
    }
   },
   "outputs": [],
   "source": [
    "# Droppign duplicates and null(tweets values) from df\n",
    "df1 = df.dropDuplicates().na.drop(subset=['tweet'])\n",
    "# df1.count()"
   ]
  },
  {
   "cell_type": "markdown",
   "metadata": {
    "application/vnd.databricks.v1+cell": {
     "cellMetadata": {},
     "inputWidgets": {},
     "nuid": "5903225e-ca74-4e52-b9f5-ed912bdac15e",
     "showTitle": false,
     "title": ""
    }
   },
   "source": [
    "###### Cleaning tweets text for modelling"
   ]
  },
  {
   "cell_type": "code",
   "execution_count": 0,
   "metadata": {
    "application/vnd.databricks.v1+cell": {
     "cellMetadata": {
      "byteLimit": 2048000,
      "rowLimit": 10000
     },
     "inputWidgets": {},
     "nuid": "07a4c973-d744-4558-a792-a4587b9125fc",
     "showTitle": false,
     "title": ""
    }
   },
   "outputs": [],
   "source": [
    "def standardize_accents(tweet):\n",
    "    return unicodedata.normalize('NFKD', tweet).encode('ASCII', 'ignore').decode('utf-8')\n",
    "\n",
    "udf_standardize_accents = udf(standardize_accents, StringType())"
   ]
  },
  {
   "cell_type": "code",
   "execution_count": 0,
   "metadata": {
    "application/vnd.databricks.v1+cell": {
     "cellMetadata": {
      "byteLimit": 2048000,
      "rowLimit": 10000
     },
     "inputWidgets": {},
     "nuid": "12b16058-9e5b-4f22-ab6e-364d40616c90",
     "showTitle": false,
     "title": ""
    }
   },
   "outputs": [],
   "source": [
    "# Define a UDF to expand contractions\n",
    "def udf_expand_contractions(tweet):\n",
    "    expanded_words = [] \n",
    "    for word in tweet.split():\n",
    "        expanded_words.append(contractions.fix(word)) \n",
    "    return ' '.join(expanded_words)\n",
    "\n",
    "# Create a UDF from the udf_expand_contractions function\n",
    "udf_expand_contractions = udf(udf_expand_contractions, StringType())"
   ]
  },
  {
   "cell_type": "markdown",
   "metadata": {
    "application/vnd.databricks.v1+cell": {
     "cellMetadata": {
      "byteLimit": 2048000,
      "rowLimit": 10000
     },
     "inputWidgets": {},
     "nuid": "f5be68f8-6399-4666-859a-c8d2e12e9512",
     "showTitle": false,
     "title": ""
    }
   },
   "source": [
    "###### Cleaning location column for eda and athena queries"
   ]
  },
  {
   "cell_type": "code",
   "execution_count": null,
   "metadata": {
    "application/vnd.databricks.v1+cell": {
     "cellMetadata": {
      "byteLimit": 2048000,
      "rowLimit": 10000
     },
     "inputWidgets": {},
     "nuid": "6f97dfa2-66e4-4c5f-8a0b-c8daa7647345",
     "showTitle": false,
     "title": ""
    }
   },
   "outputs": [],
   "source": [
    "df_clean = df1.withColumn('location', lower('location')) \\\n",
    "             .withColumn('location', when(col('location') == 'none', 'NA').otherwise(col('location'))) \\\n",
    "             .withColumn('location', regexp_replace('location', r\"http\\S+\", \"\")) \\\n",
    "             .withColumn('location', regexp_replace('location', '@\\\\S+', '')) \\\n",
    "             .withColumn('location', regexp_replace('location', '#\\\\S+', '')) \\\n",
    "             .withColumn('location', regexp_replace('location', r\"[^a-zA-Z]\", \" \")) \\\n",
    "             .withColumn('location', regexp_replace('location', r\"\\s+\", \" \")) \\\n",
    "             .withColumn('location', trim('location'))\n",
    "\n",
    "display(df_clean)\n",
    "\n",
    "\n",
    "### OUTPUT Example\n",
    "# id\tuser_name\tscreen_name\ttweet\tfollowers_count\tlocation\tgeo\tcreated_at\n",
    "# 1602660120676036608\tDeduped\tdeduped_nytimes\tRT @nytimes: Breaking News: U.S. inflation cooled more than expected in November, an encouraging sign for the economy. Consumer prices rose…\t636\tNA\tNone\tTue Dec 13 13:42:03 +0000 2022\n",
    "# 1602660601620201472\tGregory Daco\tGregDaco\t🇺🇸Inflation coming down! #CPI +0.1% in November (<expected) 🟢Core CPI +0.2% 🍲Food +0.5% ⛽️Energy -1.6% (gas -2%… https://t.co/766DTk5tnv\t15292\tnew york ny\tNone\tTue Dec 13 13:43:58 +0000 2022"
   ]
  },
  {
   "cell_type": "code",
   "execution_count": null,
   "metadata": {
    "application/vnd.databricks.v1+cell": {
     "cellMetadata": {
      "byteLimit": 2048000,
      "rowLimit": 10000
     },
     "inputWidgets": {},
     "nuid": "ba4a6a1c-9fcf-4430-bb40-6a26ba2ec7a0",
     "showTitle": false,
     "title": ""
    }
   },
   "outputs": [],
   "source": [
    "df_clean = df1.withColumn('tweet', F.lower('tweet')) \\\n",
    "             .withColumn('tweet', udf_standardize_accents('tweet')) \\\n",
    "             .withColumn('tweet', F.regexp_replace('tweet', r\"http\\S+\", \"\")) \\\n",
    "             .withColumn('tweet', regexp_replace(col('tweet'), '@\\\\S+', '')) \\\n",
    "             .withColumn('tweet', regexp_replace(col('tweet'), '#\\\\S+', '')) \\\n",
    "             .withColumn('tweet', udf_expand_contractions('tweet')) \\\n",
    "             .withColumn('tweet', F.regexp_replace('tweet', r\"[^a-zA-Z]\", \" \")) \\\n",
    "             .withColumn('tweet', F.regexp_replace('tweet', r\"\\s+\", \" \")) \\\n",
    "             .withColumn('tweet', F.trim('tweet'))\n",
    "\n",
    "display(df_clean)\n",
    "\n",
    "### OUTPUT Example\n",
    "# id\tuser_name\tscreen_name\ttweet\tfollowers_count\tlocation\tgeo\tcreated_at\n",
    "# 1602660120676036608\tDeduped\tdeduped_nytimes\tRT @nytimes: Breaking News: U.S. inflation cooled more than expected in November, an encouraging sign for the economy. Consumer prices rose…\t636\tNA\tNone\tTue Dec 13 13:42:03 +0000 2022\n",
    "# 1602660601620201472\tGregory Daco\tGregDaco\t🇺🇸Inflation coming down! #CPI +0.1% in November (<expected) 🟢Core CPI +0.2% 🍲Food +0.5% ⛽️Energy -1.6% (gas -2%… https://t.co/766DTk5tnv\t15292\tnew york ny\tNone\tTue Dec 13 13:43:58 +0000 2022"
   ]
  },
  {
   "cell_type": "code",
   "execution_count": 0,
   "metadata": {
    "application/vnd.databricks.v1+cell": {
     "cellMetadata": {
      "byteLimit": 2048000,
      "rowLimit": 10000
     },
     "inputWidgets": {},
     "nuid": "5061e760-731e-4b5c-83a3-0ef88f8e2983",
     "showTitle": false,
     "title": ""
    }
   },
   "outputs": [],
   "source": [
    "df_clean = df_clean.drop(col(\"id\")).drop(col(\"user_name\")).drop(col(\"followers_count\"))"
   ]
  },
  {
   "cell_type": "code",
   "execution_count": 0,
   "metadata": {
    "application/vnd.databricks.v1+cell": {
     "cellMetadata": {
      "byteLimit": 2048000,
      "rowLimit": 10000
     },
     "inputWidgets": {},
     "nuid": "8fe7b923-92ce-4831-87f2-79991fad8e9e",
     "showTitle": false,
     "title": ""
    }
   },
   "outputs": [
    {
     "data": {
      "text/html": [
       "<style scoped>\n",
       "  .ansiout {\n",
       "    display: block;\n",
       "    unicode-bidi: embed;\n",
       "    white-space: pre-wrap;\n",
       "    word-wrap: break-word;\n",
       "    word-break: break-all;\n",
       "    font-family: \"Source Code Pro\", \"Menlo\", monospace;;\n",
       "    font-size: 13px;\n",
       "    color: #555;\n",
       "    margin-left: 4px;\n",
       "    line-height: 19px;\n",
       "  }\n",
       "</style>"
      ]
     },
     "metadata": {
      "application/vnd.databricks.v1+output": {
       "arguments": {},
       "data": "",
       "errorSummary": "Cancelled",
       "errorTraceType": "html",
       "metadata": {},
       "type": "ipynbError"
      }
     },
     "output_type": "display_data"
    }
   ],
   "source": [
    "df_clean.cache()\n",
    "df_clean.count()"
   ]
  },
  {
   "cell_type": "markdown",
   "metadata": {
    "application/vnd.databricks.v1+cell": {
     "cellMetadata": {},
     "inputWidgets": {},
     "nuid": "387bfeed-18af-475a-ba54-bee9bfb3b2d9",
     "showTitle": false,
     "title": ""
    }
   },
   "source": [
    "#### Saving Clean df to our S3(AWS) Bucket "
   ]
  },
  {
   "cell_type": "code",
   "execution_count": 0,
   "metadata": {
    "application/vnd.databricks.v1+cell": {
     "cellMetadata": {
      "byteLimit": 2048000,
      "rowLimit": 10000
     },
     "inputWidgets": {},
     "nuid": "12a8984c-0dbc-4ab7-826c-a83ad8e262c9",
     "showTitle": false,
     "title": ""
    }
   },
   "outputs": [
    {
     "name": "stdout",
     "output_type": "stream",
     "text": [
      "Mounting b17disha/Inflation_project\n",
      "/mnt/inflation has been unmounted.\n",
      "The bucket b17disha/Inflation_project was mounted to inflation \n",
      "\n"
     ]
    }
   ],
   "source": [
    "mount_s3_bucket(ACCESS_KEY, SECRET_ACCESS_KEY, \"b17disha/Inflation_project\", \"inflation\")"
   ]
  },
  {
   "cell_type": "code",
   "execution_count": 0,
   "metadata": {
    "application/vnd.databricks.v1+cell": {
     "cellMetadata": {
      "byteLimit": 2048000,
      "rowLimit": 10000
     },
     "inputWidgets": {},
     "nuid": "49569f4c-3796-4553-afa4-4f8e16eafe0d",
     "showTitle": false,
     "title": ""
    }
   },
   "outputs": [
    {
     "data": {
      "text/html": [
       "<style scoped>\n",
       "  .table-result-container {\n",
       "    max-height: 300px;\n",
       "    overflow: auto;\n",
       "  }\n",
       "  table, th, td {\n",
       "    border: 1px solid black;\n",
       "    border-collapse: collapse;\n",
       "  }\n",
       "  th, td {\n",
       "    padding: 5px;\n",
       "  }\n",
       "  th {\n",
       "    text-align: left;\n",
       "  }\n",
       "</style><div class='table-result-container'><table class='table-result'><thead style='background-color: white'><tr><th>path</th><th>name</th><th>size</th><th>modificationTime</th></tr></thead><tbody><tr><td>dbfs:/mnt/inflation/Location.csv/</td><td>Location.csv/</td><td>0</td><td>0</td></tr><tr><td>dbfs:/mnt/inflation/Spark_LDA_predictions.parquet/</td><td>Spark_LDA_predictions.parquet/</td><td>0</td><td>0</td></tr><tr><td>dbfs:/mnt/inflation/Tweets_df.csv/</td><td>Tweets_df.csv/</td><td>0</td><td>0</td></tr></tbody></table></div>"
      ]
     },
     "metadata": {
      "application/vnd.databricks.v1+output": {
       "addedWidgets": {},
       "aggData": [],
       "aggError": "",
       "aggOverflow": false,
       "aggSchema": [],
       "aggSeriesLimitReached": false,
       "aggType": "",
       "arguments": {},
       "columnCustomDisplayInfos": {},
       "data": [
        [
         "dbfs:/mnt/inflation/Location.csv/",
         "Location.csv/",
         0,
         0
        ],
        [
         "dbfs:/mnt/inflation/Spark_LDA_predictions.parquet/",
         "Spark_LDA_predictions.parquet/",
         0,
         0
        ],
        [
         "dbfs:/mnt/inflation/Tweets_df.csv/",
         "Tweets_df.csv/",
         0,
         0
        ]
       ],
       "datasetInfos": [],
       "dbfsResultPath": null,
       "isJsonSchema": true,
       "metadata": {
        "isDbfsCommandResult": false
       },
       "overflow": false,
       "plotOptions": {
        "customPlotOptions": {},
        "displayType": "table",
        "pivotAggregation": null,
        "pivotColumns": null,
        "xColumns": null,
        "yColumns": null
       },
       "removedWidgets": [],
       "schema": [
        {
         "metadata": "{}",
         "name": "path",
         "type": "\"string\""
        },
        {
         "metadata": "{}",
         "name": "name",
         "type": "\"string\""
        },
        {
         "metadata": "{}",
         "name": "size",
         "type": "\"long\""
        },
        {
         "metadata": "{}",
         "name": "modificationTime",
         "type": "\"long\""
        }
       ],
       "type": "table"
      }
     },
     "output_type": "display_data"
    }
   ],
   "source": [
    "%fs ls /mnt/inflation/"
   ]
  },
  {
   "cell_type": "code",
   "execution_count": 0,
   "metadata": {
    "application/vnd.databricks.v1+cell": {
     "cellMetadata": {
      "byteLimit": 2048000,
      "rowLimit": 10000
     },
     "inputWidgets": {},
     "nuid": "54c1f3b6-81a1-47ff-b1ce-647e65a18b6e",
     "showTitle": false,
     "title": ""
    }
   },
   "outputs": [],
   "source": [
    "(df_clean\n",
    " .write\n",
    " .option('header', 'false')\n",
    " .option(\"delimiter\", \"\\t\")\n",
    " .csv(\"/mnt/inflation/df_clean.csv\"))"
   ]
  },
  {
   "cell_type": "code",
   "execution_count": 0,
   "metadata": {
    "application/vnd.databricks.v1+cell": {
     "cellMetadata": {
      "byteLimit": 2048000,
      "rowLimit": 10000
     },
     "inputWidgets": {},
     "nuid": "ef3aec67-87c9-4ab5-b8ee-ee6d692e7dd7",
     "showTitle": false,
     "title": ""
    }
   },
   "outputs": [],
   "source": [
    "location = df1.select(\"location\")"
   ]
  },
  {
   "cell_type": "code",
   "execution_count": 0,
   "metadata": {
    "application/vnd.databricks.v1+cell": {
     "cellMetadata": {
      "byteLimit": 2048000,
      "rowLimit": 10000
     },
     "inputWidgets": {},
     "nuid": "8556ba89-287c-4930-8e8a-069b3525ab72",
     "showTitle": false,
     "title": ""
    }
   },
   "outputs": [],
   "source": [
    "(location\n",
    " .write\n",
    " .option('header', 'false')\n",
    " .option(\"delimiter\", \"\\t\")\n",
    " .csv(\"/mnt/inflation/Location.csv\"))"
   ]
  },
  {
   "cell_type": "markdown",
   "metadata": {
    "application/vnd.databricks.v1+cell": {
     "cellMetadata": {},
     "inputWidgets": {},
     "nuid": "96398583-a9b1-4c1b-9266-1209c59684f6",
     "showTitle": false,
     "title": ""
    }
   },
   "source": [
    "## 4. Feature Enginnering & EDA\n",
    "\n",
    "- Lets extarct datetime features from created at column For EDA and analysis purpose\n",
    "- We will focus on feature tarnsfromation while tarining model in pipline "
   ]
  },
  {
   "cell_type": "code",
   "execution_count": 0,
   "metadata": {
    "application/vnd.databricks.v1+cell": {
     "cellMetadata": {
      "byteLimit": 2048000,
      "rowLimit": 10000
     },
     "inputWidgets": {},
     "nuid": "3d094f31-3f9a-4683-b87d-f9ba7b154d06",
     "showTitle": false,
     "title": ""
    }
   },
   "outputs": [
    {
     "name": "stdout",
     "output_type": "stream",
     "text": [
      "+---------------+--------------------+------------+----+--------------------+\n",
      "|    screen_name|               tweet|    location| geo|          created_at|\n",
      "+---------------+--------------------+------------+----+--------------------+\n",
      "|deduped_nytimes|rt breaking news ...|        None|None|Tue Dec 13 13:42:...|\n",
      "|       GregDaco|inflation coming ...|New York, NY|None|Tue Dec 13 13:43:...|\n",
      "|  jerseyboy0423|rt thanks to infl...|  Newark, NJ|None|Tue Dec 13 13:45:...|\n",
      "|   adamzuercher|stock futures are...| Findlay, OH|None|Tue Dec 13 13:45:...|\n",
      "|     PatRaines7|rt why did not an...|        None|None|Tue Dec 13 13:46:...|\n",
      "+---------------+--------------------+------------+----+--------------------+\n",
      "only showing top 5 rows\n",
      "\n"
     ]
    }
   ],
   "source": [
    "df_clean.show(5)"
   ]
  },
  {
   "cell_type": "markdown",
   "metadata": {
    "application/vnd.databricks.v1+cell": {
     "cellMetadata": {},
     "inputWidgets": {},
     "nuid": "17c2eff3-8358-43ea-bdbf-11305ba84a72",
     "showTitle": false,
     "title": ""
    }
   },
   "source": [
    "###### Geo column"
   ]
  },
  {
   "cell_type": "code",
   "execution_count": 0,
   "metadata": {
    "application/vnd.databricks.v1+cell": {
     "cellMetadata": {
      "byteLimit": 2048000,
      "rowLimit": 10000
     },
     "inputWidgets": {},
     "nuid": "bc50d189-dbbe-4f74-aced-77529445747e",
     "showTitle": false,
     "title": ""
    }
   },
   "outputs": [
    {
     "name": "stdout",
     "output_type": "stream",
     "text": [
      "Number of rows where `geo` is null: 1251\n"
     ]
    }
   ],
   "source": [
    "null_geo_count = df_clean.filter(col('geo').isNull()).count()\n",
    "print(f\"Number of rows where `geo` is null: {null_geo_count}\")"
   ]
  },
  {
   "cell_type": "code",
   "execution_count": 0,
   "metadata": {
    "application/vnd.databricks.v1+cell": {
     "cellMetadata": {
      "byteLimit": 2048000,
      "rowLimit": 10000
     },
     "inputWidgets": {},
     "nuid": "f3739aef-ca98-41b8-91d5-b6427e7bf84e",
     "showTitle": false,
     "title": ""
    }
   },
   "outputs": [
    {
     "name": "stdout",
     "output_type": "stream",
     "text": [
      "+--------------------------------------------------------------+\n",
      "|geo                                                           |\n",
      "+--------------------------------------------------------------+\n",
      "|None                                                          |\n",
      "|{'type': 'Point', 'coordinates': [43.7742911, -79.7164011]}   |\n",
      "|null                                                          |\n",
      "| Dunfermline Abbey                                            |\n",
      "|{'type': 'Point', 'coordinates': [38.95218019, -77.05806888]} |\n",
      "|{'type': 'Point', 'coordinates': [17.42413, 78.45788]}        |\n",
      "|{'type': 'Point', 'coordinates': [40.42300032, -98.73722448]} |\n",
      "|{'type': 'Point', 'coordinates': [-33.8637451, 151.2037022]}  |\n",
      "|{'type': 'Point', 'coordinates': [39.73817686, -104.98921759]}|\n",
      "|{'type': 'Point', 'coordinates': [23.716667, 44.116667]}      |\n",
      "|{'type': 'Point', 'coordinates': [34.56530698, -112.39506827]}|\n",
      "|{'type': 'Point', 'coordinates': [48.2951, -122.659]}         |\n",
      "|{'type': 'Point', 'coordinates': [45.41660442, -75.70226746]} |\n",
      "|E 28 01.448                                                   |\n",
      "|{'type': 'Point', 'coordinates': [3.07353803, 101.51649356]}  |\n",
      "|{'type': 'Point', 'coordinates': [33.8883051, -117.8168019]}  |\n",
      "|{'type': 'Point', 'coordinates': [19.33913967, -81.38109891]} |\n",
      "|{'type': 'Point', 'coordinates': [43.0990991, -86.21922917]}  |\n",
      "|{'type': 'Point', 'coordinates': [14.62282437, 121.05461758]} |\n",
      "|{'type': 'Point', 'coordinates': [40.66156388, -73.99486746]} |\n",
      "+--------------------------------------------------------------+\n",
      "only showing top 20 rows\n",
      "\n",
      "Unique `geo` values:\n",
      "None\n"
     ]
    }
   ],
   "source": [
    "unique_geo_values = df_clean.select(col('geo')).distinct()\n",
    "print(f\"Unique `geo` values:\\n{unique_geo_values.show(truncate=False)}\")"
   ]
  },
  {
   "cell_type": "code",
   "execution_count": 0,
   "metadata": {
    "application/vnd.databricks.v1+cell": {
     "cellMetadata": {
      "byteLimit": 2048000,
      "rowLimit": 10000
     },
     "inputWidgets": {},
     "nuid": "2c1cc253-620e-4927-ad11-fe4231619b9b",
     "showTitle": false,
     "title": ""
    }
   },
   "outputs": [
    {
     "name": "stdout",
     "output_type": "stream",
     "text": [
      "Out[22]: 23"
     ]
    }
   ],
   "source": [
    "# not_null_geo_df = df_clean.filter(col('geo').isNotNull())\n",
    "unique_geo_values.count()"
   ]
  },
  {
   "cell_type": "markdown",
   "metadata": {
    "application/vnd.databricks.v1+cell": {
     "cellMetadata": {},
     "inputWidgets": {},
     "nuid": "ada1b2a1-ecc0-48d7-8769-76ed53dbb182",
     "showTitle": false,
     "title": ""
    }
   },
   "source": [
    "###### Location column"
   ]
  },
  {
   "cell_type": "code",
   "execution_count": null,
   "metadata": {
    "application/vnd.databricks.v1+cell": {
     "cellMetadata": {
      "byteLimit": 2048000,
      "rowLimit": 10000
     },
     "inputWidgets": {},
     "nuid": "4f6e88d5-986e-413c-866a-a4a612f7bd76",
     "showTitle": false,
     "title": ""
    }
   },
   "outputs": [],
   "source": [
    "# counting No. of tweets for each location\n",
    "tweet_counts_by_location = df_clean.groupBy(\"location\").count().orderBy(\"count\", ascending=False)\n",
    "display(tweet_counts_by_location)\n",
    "tweet_counts_by_location.count()\n",
    "\n",
    "### Output Example (69263 Rows)\n",
    "\n",
    "# location\tcount\n",
    "# NA\t375890\n",
    "# united states\t14556\n",
    "# 11737\n",
    "# usa\t7706\n",
    "# london\t4744\n",
    "# london england\t4429\n",
    "# florida usa\t4358\n",
    "# india\t4238\n",
    "# canada\t4194"
   ]
  },
  {
   "cell_type": "code",
   "execution_count": 0,
   "metadata": {
    "application/vnd.databricks.v1+cell": {
     "cellMetadata": {
      "byteLimit": 2048000,
      "rowLimit": 10000
     },
     "inputWidgets": {},
     "nuid": "036dab56-6dab-4145-8690-89c40ff4564f",
     "showTitle": false,
     "title": ""
    }
   },
   "outputs": [
    {
     "name": "stdout",
     "output_type": "stream",
     "text": [
      "Distinct user count: 451262\n"
     ]
    }
   ],
   "source": [
    "distinct_user_count = df_clean.select(\"screen_name\").distinct().count()\n",
    "print(\"Distinct user count:\", distinct_user_count)"
   ]
  },
  {
   "cell_type": "code",
   "execution_count": 0,
   "metadata": {
    "application/vnd.databricks.v1+cell": {
     "cellMetadata": {
      "byteLimit": 2048000,
      "rowLimit": 10000
     },
     "inputWidgets": {},
     "nuid": "80bebe14-0895-411d-a82f-d7523d0b04ed",
     "showTitle": false,
     "title": ""
    }
   },
   "outputs": [
    {
     "name": "stdout",
     "output_type": "stream",
     "text": [
      "Distinct location: 90291\n"
     ]
    }
   ],
   "source": [
    "distinct_location = df_clean.select(\"location\").distinct().count()\n",
    "print(\"Distinct location:\", distinct_location)"
   ]
  },
  {
   "cell_type": "markdown",
   "metadata": {
    "application/vnd.databricks.v1+cell": {
     "cellMetadata": {},
     "inputWidgets": {},
     "nuid": "b3fc57e2-7079-4cd9-aca3-e9f20b7b0db5",
     "showTitle": false,
     "title": ""
    }
   },
   "source": [
    "###### screen_name column"
   ]
  },
  {
   "cell_type": "code",
   "execution_count": null,
   "metadata": {
    "application/vnd.databricks.v1+cell": {
     "cellMetadata": {
      "byteLimit": 2048000,
      "rowLimit": 10000
     },
     "inputWidgets": {},
     "nuid": "8af66ff8-191a-46e4-9742-cdc8ed3b293c",
     "showTitle": false,
     "title": ""
    }
   },
   "outputs": [],
   "source": [
    "# Counting No. of tweets per user\n",
    "tweet_counts = df_clean.groupBy(\"screen_name\").agg(count(\"*\").alias(\"tweet_count\"))\n",
    "most_active_users = tweet_counts.orderBy(desc(\"tweet_count\"))\n",
    "display(most_active_users)"
   ]
  },
  {
   "cell_type": "markdown",
   "metadata": {
    "application/vnd.databricks.v1+cell": {
     "cellMetadata": {},
     "inputWidgets": {},
     "nuid": "cce1f914-7db5-4c33-b3d7-42cbde172d42",
     "showTitle": false,
     "title": ""
    }
   },
   "source": [
    "## 5. Modelling\n",
    "\n",
    "(LDA)"
   ]
  },
  {
   "cell_type": "markdown",
   "metadata": {
    "application/vnd.databricks.v1+cell": {
     "cellMetadata": {},
     "inputWidgets": {},
     "nuid": "ce69273a-6122-4681-a867-93f7f631b49d",
     "showTitle": false,
     "title": ""
    }
   },
   "source": [
    "### spark LDA model"
   ]
  },
  {
   "cell_type": "code",
   "execution_count": 0,
   "metadata": {
    "application/vnd.databricks.v1+cell": {
     "cellMetadata": {
      "byteLimit": 2048000,
      "rowLimit": 10000
     },
     "inputWidgets": {},
     "nuid": "658eb115-00d7-4d15-84d2-c0044155256d",
     "showTitle": false,
     "title": ""
    }
   },
   "outputs": [],
   "source": [
    "# Splitting the data into training and testing sets\n",
    "train_data, test_data = df_clean.randomSplit([0.8, 0.2], seed=42)\n",
    "\n",
    "# Preprocessing steps (Transformatin steps)\n",
    "regexTokenizer = RegexTokenizer(inputCol=\"tweet\", outputCol=\"tokens\", pattern=\"\\\\s+\")\n",
    "stopwordsRemover = StopWordsRemover(inputCol=\"tokens\", outputCol=\"filtered_tokens\")\n",
    "ngram = NGram(n=2, inputCol=\"filtered_tokens\", outputCol=\"ngrams\")\n",
    "countVectorizer = CountVectorizer(inputCol=\"ngrams\", outputCol=\"rawFeatures\")\n",
    "idf = IDF(inputCol=\"rawFeatures\", outputCol=\"features\")\n",
    "\n",
    "# Preprocessing pipeline\n",
    "pipeline = Pipeline(stages=[regexTokenizer, stopwordsRemover, ngram, countVectorizer, idf])\n",
    "\n",
    "# Fitting the pipeline - training data\n",
    "model = pipeline.fit(train_data)\n",
    "\n",
    "# Transforming the training and testing data using the fitted pipeline\n",
    "train_transformed = model.transform(train_data)\n",
    "test_transformed = model.transform(test_data)\n",
    "\n",
    "# LDA model (Spark inbuilt)\n",
    "lda = LDA(k=20, maxIter=10, featuresCol=\"features\")\n",
    "\n",
    "# Fitting the LDA model to the transformed training data\n",
    "lda_model = lda.fit(train_transformed)"
   ]
  },
  {
   "cell_type": "markdown",
   "metadata": {
    "application/vnd.databricks.v1+cell": {
     "cellMetadata": {},
     "inputWidgets": {},
     "nuid": "db5e92a2-93ec-4bd7-8197-b67cad94c2a4",
     "showTitle": false,
     "title": ""
    }
   },
   "source": [
    "##### Predicting on test dataset "
   ]
  },
  {
   "cell_type": "code",
   "execution_count": 0,
   "metadata": {
    "application/vnd.databricks.v1+cell": {
     "cellMetadata": {
      "byteLimit": 2048000,
      "rowLimit": 10000
     },
     "inputWidgets": {},
     "nuid": "20bd5077-b1c1-4db1-982a-b01b63abf8d3",
     "showTitle": false,
     "title": ""
    }
   },
   "outputs": [],
   "source": [
    "# topic distribuions for Test data\n",
    "predictions = lda_model.transform(test_transformed)\n",
    "\n",
    "# # Interpreting the results\n",
    "# for row in predictions.select(\"topicDistribution\", \"tweet\").collect():\n",
    "#     print(\"Predicted topic distribution: \", row.topicDistribution)\n",
    "#     print(\"Document text: \", row.tweet)"
   ]
  },
  {
   "cell_type": "code",
   "execution_count": 0,
   "metadata": {
    "application/vnd.databricks.v1+cell": {
     "cellMetadata": {
      "byteLimit": 2048000,
      "rowLimit": 10000
     },
     "inputWidgets": {},
     "nuid": "8f013962-e50f-4d00-8b3a-25620ee12664",
     "showTitle": false,
     "title": ""
    }
   },
   "outputs": [
    {
     "data": {
      "text/html": [
       "<style scoped>\n",
       "  .table-result-container {\n",
       "    max-height: 300px;\n",
       "    overflow: auto;\n",
       "  }\n",
       "  table, th, td {\n",
       "    border: 1px solid black;\n",
       "    border-collapse: collapse;\n",
       "  }\n",
       "  th, td {\n",
       "    padding: 5px;\n",
       "  }\n",
       "  th {\n",
       "    text-align: left;\n",
       "  }\n",
       "</style><div class='table-result-container'><table class='table-result'><thead style='background-color: white'><tr><th>screen_name</th><th>tweet</th><th>location</th><th>geo</th><th>created_at</th><th>tokens</th><th>filtered_tokens</th><th>ngrams</th><th>rawFeatures</th><th>features</th><th>topicDistribution</th></tr></thead><tbody><tr><td>007DayTraders</td><td>rt sadly cpi is complete trash and does not include proper weighting of the most expensive items such as food and</td><td>None</td><td>None</td><td>Tue Dec 13 18:56:03 +0000 2022</td><td>List(rt, sadly, cpi, is, complete, trash, and, does, not, include, proper, weighting, of, the, most, expensive, items, such, as, food, and)</td><td>List(rt, sadly, cpi, complete, trash, include, proper, weighting, expensive, items, food)</td><td>List(rt sadly, sadly cpi, cpi complete, complete trash, trash include, include proper, proper weighting, weighting expensive, expensive items, items food)</td><td>Map(vectorType -> sparse, length -> 262144, indices -> List(18737, 24994, 27660, 27895, 27960, 28146, 28295, 28341, 28570, 28680), values -> List(1.0, 1.0, 1.0, 1.0, 1.0, 1.0, 1.0, 1.0, 1.0, 1.0))</td><td>Map(vectorType -> sparse, length -> 262144, indices -> List(18737, 24994, 27660, 27895, 27960, 28146, 28295, 28341, 28570, 28680), values -> List(9.864648388205458, 10.179729434845353, 10.297512470501736, 10.297512470501736, 10.297512470501736, 10.297512470501736, 10.297512470501736, 10.297512470501736, 10.297512470501736, 10.340072084920532))</td><td>Map(vectorType -> dense, length -> 20, values -> List(0.9911898744256012, 4.6293701616150385E-4, 4.62852553081183E-4, 4.6475889609018264E-4, 4.6382031561182426E-4, 4.63607569814898E-4, 4.636885515196945E-4, 4.6278834192582994E-4, 4.642121244785682E-4, 4.6317018544652787E-4, 4.6425425573610866E-4, 4.637255438009523E-4, 4.6398464852113975E-4, 4.6337957749212593E-4, 4.6657893600184926E-4, 4.633566944149604E-4, 4.638930521120803E-4, 4.628234265209655E-4, 4.632783822485352E-4, 4.6301550342010524E-4))</td></tr><tr><td>007dmax</td><td>rt f me lost count of the amount of grade a daily mail utter bullshite in this one tweet</td><td>None</td><td>None</td><td>Wed Dec 14 10:57:07 +0000 2022</td><td>List(rt, f, me, lost, count, of, the, amount, of, grade, a, daily, mail, utter, bullshite, in, this, one, tweet)</td><td>List(rt, f, lost, count, amount, grade, daily, mail, utter, bullshite, one, tweet)</td><td>List(rt f, f lost, lost count, count amount, amount grade, grade daily, daily mail, mail utter, utter bullshite, bullshite one, one tweet)</td><td>Map(vectorType -> sparse, length -> 262144, indices -> List(19278, 38889, 55931, 194519), values -> List(1.0, 1.0, 1.0, 1.0))</td><td>Map(vectorType -> sparse, length -> 262144, indices -> List(19278, 38889, 55931, 194519), values -> List(9.892047362393573, 10.642352956793466, 10.990659651061682, 12.376954012181573))</td><td>Map(vectorType -> dense, length -> 20, values -> List(0.29906721907297384, 0.001067286846294804, 0.0010670921194399481, 0.0010714871336325207, 0.0010693232652408864, 0.0010688327864749425, 0.0010690194882284141, 0.0010669440813088355, 0.0010702265680594652, 0.0010678244104994226, 0.0010703237003627441, 0.0010691047720438167, 0.3323466600449304, 0.0010683071585255873, 0.0010756831779374716, 0.0010682544009060087, 0.0010694909582985024, 0.001067024969122433, 0.3504124272480715, 0.001067467797648502))</td></tr><tr><td>00DMadHatter00</td><td>they will launder the people s money though</td><td>Here & There</td><td>None</td><td>Sat Dec 10 14:40:29 +0000 2022</td><td>List(they, will, launder, the, people, s, money, though)</td><td>List(launder, people, money, though)</td><td>List(launder people, people money, money though)</td><td>Map(vectorType -> sparse, length -> 262144, indices -> List(5591, 38682, 132734), values -> List(1.0, 1.0, 1.0))</td><td>Map(vectorType -> sparse, length -> 262144, indices -> List(5591, 38682, 132734), values -> List(8.6080318503941, 10.642352956793466, 11.866128388415582))</td><td>Map(vectorType -> dense, length -> 20, values -> List(0.0014990825039314297, 0.3570307076197461, 0.0014924379727774904, 0.001498584858121939, 0.0014955584817734006, 0.0014948724754231168, 0.0014951335958014993, 0.0014922309307883932, 0.0014968218228790207, 0.0014934621582310729, 0.6160522005318234, 0.001495252875066288, 0.0014960883414314504, 0.001494137340306339, 0.0015044534656529632, 0.0014940635440979636, 0.0014957929959128829, 0.001492344056415689, 0.0014938110341497837, 0.0014929633956697332))</td></tr><tr><td>0153phil</td><td>rt i had some major announcements the last couple of weeks too inflations easing i just signed the respect for marriag</td><td>World</td><td>None</td><td>Thu Dec 15 20:30:10 +0000 2022</td><td>List(rt, i, had, some, major, announcements, the, last, couple, of, weeks, too, inflations, easing, i, just, signed, the, respect, for, marriag)</td><td>List(rt, major, announcements, last, couple, weeks, inflations, easing, signed, respect, marriag)</td><td>List(rt major, major announcements, announcements last, last couple, couple weeks, weeks inflations, inflations easing, easing signed, signed respect, respect marriag)</td><td>Map(vectorType -> sparse, length -> 262144, indices -> List(4, 5, 6, 7, 8, 9, 10, 11, 12, 13), values -> List(1.0, 1.0, 1.0, 1.0, 1.0, 1.0, 1.0, 1.0, 1.0, 1.0))</td><td>Map(vectorType -> sparse, length -> 262144, indices -> List(4, 5, 6, 7, 8, 9, 10, 11, 12, 13), values -> List(3.553109801765952, 3.554287947305005, 3.558767734253882, 3.56173245625941, 3.565798510356404, 3.5662457931211105, 3.56833576203472, 3.5694322533726486, 3.569831275773075, 3.5713290294230084))</td><td>Map(vectorType -> dense, length -> 20, values -> List(0.0013138440105415082, 0.001308259223149746, 0.0013080205306447395, 0.0013134078527491635, 0.001310755425907483, 0.0013101542066390804, 0.0013103830608103214, 0.001307839070020642, 0.0013118626770920359, 0.001308918159156775, 0.0013119817399631372, 0.0013104876009282867, 0.0013112198304253667, 0.0013095099007204342, 0.9751073073287596, 0.001309445233187392, 0.0013109609791324992, 0.001307938219020399, 0.0013092239231373799, 0.0013084810280139404))</td></tr><tr><td>01ajr</td><td>rt can someone on please explain that the very small drop in the rate of inflation does not mean that prices are com</td><td>Brighton, England</td><td>None</td><td>Thu Dec 15 08:16:04 +0000 2022</td><td>List(rt, can, someone, on, please, explain, that, the, very, small, drop, in, the, rate, of, inflation, does, not, mean, that, prices, are, com)</td><td>List(rt, someone, please, explain, small, drop, rate, inflation, mean, prices, com)</td><td>List(rt someone, someone please, please explain, explain small, small drop, drop rate, rate inflation, inflation mean, mean prices, prices com)</td><td>Map(vectorType -> sparse, length -> 262144, indices -> List(319, 2815, 2827, 3763, 4794, 9972, 27598, 43733, 44207, 63428), values -> List(1.0, 1.0, 1.0, 1.0, 1.0, 1.0, 1.0, 1.0, 1.0, 1.0))</td><td>Map(vectorType -> sparse, length -> 262144, indices -> List(319, 2815, 2827, 3763, 4794, 9972, 27598, 43733, 44207, 63428), values -> List(5.857315202972987, 7.899617197703366, 7.89583647486346, 8.207708141786354, 8.432141183930435, 9.212886423808367, 10.297512470501736, 10.767516099747473, 10.767516099747473, 11.172981207855637))</td><td>Map(vectorType -> dense, length -> 20, values -> List(5.256816466650575E-4, 0.2952875105125129, 5.233516178000953E-4, 5.255071365105687E-4, 5.244458747496043E-4, 5.242053223578492E-4, 5.242968875726095E-4, 5.232790156269757E-4, 5.248888982482151E-4, 0.09012478987062701, 5.24936535667492E-4, 5.243387151290734E-4, 5.246316874796855E-4, 0.11359827249608462, 5.275650709981974E-4, 5.239216546915643E-4, 0.45025787803097633, 5.233186825453357E-4, 5.238331048291753E-4, 0.04286334723892784))</td></tr></tbody></table></div>"
      ]
     },
     "metadata": {
      "application/vnd.databricks.v1+output": {
       "addedWidgets": {},
       "aggData": [],
       "aggError": "",
       "aggOverflow": false,
       "aggSchema": [],
       "aggSeriesLimitReached": false,
       "aggType": "",
       "arguments": {},
       "columnCustomDisplayInfos": {},
       "data": [
        [
         "007DayTraders",
         "rt sadly cpi is complete trash and does not include proper weighting of the most expensive items such as food and",
         "None",
         "None",
         "Tue Dec 13 18:56:03 +0000 2022",
         [
          "rt",
          "sadly",
          "cpi",
          "is",
          "complete",
          "trash",
          "and",
          "does",
          "not",
          "include",
          "proper",
          "weighting",
          "of",
          "the",
          "most",
          "expensive",
          "items",
          "such",
          "as",
          "food",
          "and"
         ],
         [
          "rt",
          "sadly",
          "cpi",
          "complete",
          "trash",
          "include",
          "proper",
          "weighting",
          "expensive",
          "items",
          "food"
         ],
         [
          "rt sadly",
          "sadly cpi",
          "cpi complete",
          "complete trash",
          "trash include",
          "include proper",
          "proper weighting",
          "weighting expensive",
          "expensive items",
          "items food"
         ],
         {
          "indices": [
           18737,
           24994,
           27660,
           27895,
           27960,
           28146,
           28295,
           28341,
           28570,
           28680
          ],
          "length": 262144,
          "values": [
           1,
           1,
           1,
           1,
           1,
           1,
           1,
           1,
           1,
           1
          ],
          "vectorType": "sparse"
         },
         {
          "indices": [
           18737,
           24994,
           27660,
           27895,
           27960,
           28146,
           28295,
           28341,
           28570,
           28680
          ],
          "length": 262144,
          "values": [
           9.864648388205458,
           10.179729434845353,
           10.297512470501736,
           10.297512470501736,
           10.297512470501736,
           10.297512470501736,
           10.297512470501736,
           10.297512470501736,
           10.297512470501736,
           10.340072084920532
          ],
          "vectorType": "sparse"
         },
         {
          "length": 20,
          "values": [
           0.9911898744256012,
           0.00046293701616150385,
           0.000462852553081183,
           0.00046475889609018264,
           0.00046382031561182426,
           0.000463607569814898,
           0.0004636885515196945,
           0.00046278834192582994,
           0.0004642121244785682,
           0.00046317018544652787,
           0.00046425425573610866,
           0.0004637255438009523,
           0.00046398464852113975,
           0.00046337957749212593,
           0.00046657893600184926,
           0.0004633566944149604,
           0.0004638930521120803,
           0.0004628234265209655,
           0.0004632783822485352,
           0.00046301550342010524
          ],
          "vectorType": "dense"
         }
        ],
        [
         "007dmax",
         "rt f me lost count of the amount of grade a daily mail utter bullshite in this one tweet",
         "None",
         "None",
         "Wed Dec 14 10:57:07 +0000 2022",
         [
          "rt",
          "f",
          "me",
          "lost",
          "count",
          "of",
          "the",
          "amount",
          "of",
          "grade",
          "a",
          "daily",
          "mail",
          "utter",
          "bullshite",
          "in",
          "this",
          "one",
          "tweet"
         ],
         [
          "rt",
          "f",
          "lost",
          "count",
          "amount",
          "grade",
          "daily",
          "mail",
          "utter",
          "bullshite",
          "one",
          "tweet"
         ],
         [
          "rt f",
          "f lost",
          "lost count",
          "count amount",
          "amount grade",
          "grade daily",
          "daily mail",
          "mail utter",
          "utter bullshite",
          "bullshite one",
          "one tweet"
         ],
         {
          "indices": [
           19278,
           38889,
           55931,
           194519
          ],
          "length": 262144,
          "values": [
           1,
           1,
           1,
           1
          ],
          "vectorType": "sparse"
         },
         {
          "indices": [
           19278,
           38889,
           55931,
           194519
          ],
          "length": 262144,
          "values": [
           9.892047362393573,
           10.642352956793466,
           10.990659651061682,
           12.376954012181573
          ],
          "vectorType": "sparse"
         },
         {
          "length": 20,
          "values": [
           0.29906721907297384,
           0.001067286846294804,
           0.0010670921194399481,
           0.0010714871336325207,
           0.0010693232652408864,
           0.0010688327864749425,
           0.0010690194882284141,
           0.0010669440813088355,
           0.0010702265680594652,
           0.0010678244104994226,
           0.0010703237003627441,
           0.0010691047720438167,
           0.3323466600449304,
           0.0010683071585255873,
           0.0010756831779374716,
           0.0010682544009060087,
           0.0010694909582985024,
           0.001067024969122433,
           0.3504124272480715,
           0.001067467797648502
          ],
          "vectorType": "dense"
         }
        ],
        [
         "00DMadHatter00",
         "they will launder the people s money though",
         "Here & There",
         "None",
         "Sat Dec 10 14:40:29 +0000 2022",
         [
          "they",
          "will",
          "launder",
          "the",
          "people",
          "s",
          "money",
          "though"
         ],
         [
          "launder",
          "people",
          "money",
          "though"
         ],
         [
          "launder people",
          "people money",
          "money though"
         ],
         {
          "indices": [
           5591,
           38682,
           132734
          ],
          "length": 262144,
          "values": [
           1,
           1,
           1
          ],
          "vectorType": "sparse"
         },
         {
          "indices": [
           5591,
           38682,
           132734
          ],
          "length": 262144,
          "values": [
           8.6080318503941,
           10.642352956793466,
           11.866128388415582
          ],
          "vectorType": "sparse"
         },
         {
          "length": 20,
          "values": [
           0.0014990825039314297,
           0.3570307076197461,
           0.0014924379727774904,
           0.001498584858121939,
           0.0014955584817734006,
           0.0014948724754231168,
           0.0014951335958014993,
           0.0014922309307883932,
           0.0014968218228790207,
           0.0014934621582310729,
           0.6160522005318234,
           0.001495252875066288,
           0.0014960883414314504,
           0.001494137340306339,
           0.0015044534656529632,
           0.0014940635440979636,
           0.0014957929959128829,
           0.001492344056415689,
           0.0014938110341497837,
           0.0014929633956697332
          ],
          "vectorType": "dense"
         }
        ],
        [
         "0153phil",
         "rt i had some major announcements the last couple of weeks too inflations easing i just signed the respect for marriag",
         "World",
         "None",
         "Thu Dec 15 20:30:10 +0000 2022",
         [
          "rt",
          "i",
          "had",
          "some",
          "major",
          "announcements",
          "the",
          "last",
          "couple",
          "of",
          "weeks",
          "too",
          "inflations",
          "easing",
          "i",
          "just",
          "signed",
          "the",
          "respect",
          "for",
          "marriag"
         ],
         [
          "rt",
          "major",
          "announcements",
          "last",
          "couple",
          "weeks",
          "inflations",
          "easing",
          "signed",
          "respect",
          "marriag"
         ],
         [
          "rt major",
          "major announcements",
          "announcements last",
          "last couple",
          "couple weeks",
          "weeks inflations",
          "inflations easing",
          "easing signed",
          "signed respect",
          "respect marriag"
         ],
         {
          "indices": [
           4,
           5,
           6,
           7,
           8,
           9,
           10,
           11,
           12,
           13
          ],
          "length": 262144,
          "values": [
           1,
           1,
           1,
           1,
           1,
           1,
           1,
           1,
           1,
           1
          ],
          "vectorType": "sparse"
         },
         {
          "indices": [
           4,
           5,
           6,
           7,
           8,
           9,
           10,
           11,
           12,
           13
          ],
          "length": 262144,
          "values": [
           3.553109801765952,
           3.554287947305005,
           3.558767734253882,
           3.56173245625941,
           3.565798510356404,
           3.5662457931211105,
           3.56833576203472,
           3.5694322533726486,
           3.569831275773075,
           3.5713290294230084
          ],
          "vectorType": "sparse"
         },
         {
          "length": 20,
          "values": [
           0.0013138440105415082,
           0.001308259223149746,
           0.0013080205306447395,
           0.0013134078527491635,
           0.001310755425907483,
           0.0013101542066390804,
           0.0013103830608103214,
           0.001307839070020642,
           0.0013118626770920359,
           0.001308918159156775,
           0.0013119817399631372,
           0.0013104876009282867,
           0.0013112198304253667,
           0.0013095099007204342,
           0.9751073073287596,
           0.001309445233187392,
           0.0013109609791324992,
           0.001307938219020399,
           0.0013092239231373799,
           0.0013084810280139404
          ],
          "vectorType": "dense"
         }
        ],
        [
         "01ajr",
         "rt can someone on please explain that the very small drop in the rate of inflation does not mean that prices are com",
         "Brighton, England",
         "None",
         "Thu Dec 15 08:16:04 +0000 2022",
         [
          "rt",
          "can",
          "someone",
          "on",
          "please",
          "explain",
          "that",
          "the",
          "very",
          "small",
          "drop",
          "in",
          "the",
          "rate",
          "of",
          "inflation",
          "does",
          "not",
          "mean",
          "that",
          "prices",
          "are",
          "com"
         ],
         [
          "rt",
          "someone",
          "please",
          "explain",
          "small",
          "drop",
          "rate",
          "inflation",
          "mean",
          "prices",
          "com"
         ],
         [
          "rt someone",
          "someone please",
          "please explain",
          "explain small",
          "small drop",
          "drop rate",
          "rate inflation",
          "inflation mean",
          "mean prices",
          "prices com"
         ],
         {
          "indices": [
           319,
           2815,
           2827,
           3763,
           4794,
           9972,
           27598,
           43733,
           44207,
           63428
          ],
          "length": 262144,
          "values": [
           1,
           1,
           1,
           1,
           1,
           1,
           1,
           1,
           1,
           1
          ],
          "vectorType": "sparse"
         },
         {
          "indices": [
           319,
           2815,
           2827,
           3763,
           4794,
           9972,
           27598,
           43733,
           44207,
           63428
          ],
          "length": 262144,
          "values": [
           5.857315202972987,
           7.899617197703366,
           7.89583647486346,
           8.207708141786354,
           8.432141183930435,
           9.212886423808367,
           10.297512470501736,
           10.767516099747473,
           10.767516099747473,
           11.172981207855637
          ],
          "vectorType": "sparse"
         },
         {
          "length": 20,
          "values": [
           0.0005256816466650575,
           0.2952875105125129,
           0.0005233516178000953,
           0.0005255071365105687,
           0.0005244458747496043,
           0.0005242053223578492,
           0.0005242968875726095,
           0.0005232790156269757,
           0.0005248888982482151,
           0.09012478987062701,
           0.000524936535667492,
           0.0005243387151290734,
           0.0005246316874796855,
           0.11359827249608462,
           0.0005275650709981974,
           0.0005239216546915643,
           0.45025787803097633,
           0.0005233186825453357,
           0.0005238331048291753,
           0.04286334723892784
          ],
          "vectorType": "dense"
         }
        ]
       ],
       "datasetInfos": [],
       "dbfsResultPath": null,
       "isJsonSchema": true,
       "metadata": {},
       "overflow": false,
       "plotOptions": {
        "customPlotOptions": {},
        "displayType": "table",
        "pivotAggregation": null,
        "pivotColumns": null,
        "xColumns": null,
        "yColumns": null
       },
       "removedWidgets": [],
       "schema": [
        {
         "metadata": "{}",
         "name": "screen_name",
         "type": "\"string\""
        },
        {
         "metadata": "{}",
         "name": "tweet",
         "type": "\"string\""
        },
        {
         "metadata": "{}",
         "name": "location",
         "type": "\"string\""
        },
        {
         "metadata": "{}",
         "name": "geo",
         "type": "\"string\""
        },
        {
         "metadata": "{}",
         "name": "created_at",
         "type": "\"string\""
        },
        {
         "metadata": "{}",
         "name": "tokens",
         "type": "{\"type\":\"array\",\"elementType\":\"string\",\"containsNull\":true}"
        },
        {
         "metadata": "{}",
         "name": "filtered_tokens",
         "type": "{\"type\":\"array\",\"elementType\":\"string\",\"containsNull\":true}"
        },
        {
         "metadata": "{}",
         "name": "ngrams",
         "type": "{\"type\":\"array\",\"elementType\":\"string\",\"containsNull\":true}"
        },
        {
         "metadata": "{}",
         "name": "rawFeatures",
         "type": "{\"type\":\"udt\",\"class\":\"org.apache.spark.ml.linalg.VectorUDT\",\"pyClass\":\"pyspark.ml.linalg.VectorUDT\",\"sqlType\":{\"type\":\"struct\",\"fields\":[{\"name\":\"type\",\"type\":\"byte\",\"nullable\":false,\"metadata\":{}},{\"name\":\"size\",\"type\":\"integer\",\"nullable\":true,\"metadata\":{}},{\"name\":\"indices\",\"type\":{\"type\":\"array\",\"elementType\":\"integer\",\"containsNull\":false},\"nullable\":true,\"metadata\":{}},{\"name\":\"values\",\"type\":{\"type\":\"array\",\"elementType\":\"double\",\"containsNull\":false},\"nullable\":true,\"metadata\":{}}]}}"
        },
        {
         "metadata": "{}",
         "name": "features",
         "type": "{\"type\":\"udt\",\"class\":\"org.apache.spark.ml.linalg.VectorUDT\",\"pyClass\":\"pyspark.ml.linalg.VectorUDT\",\"sqlType\":{\"type\":\"struct\",\"fields\":[{\"name\":\"type\",\"type\":\"byte\",\"nullable\":false,\"metadata\":{}},{\"name\":\"size\",\"type\":\"integer\",\"nullable\":true,\"metadata\":{}},{\"name\":\"indices\",\"type\":{\"type\":\"array\",\"elementType\":\"integer\",\"containsNull\":false},\"nullable\":true,\"metadata\":{}},{\"name\":\"values\",\"type\":{\"type\":\"array\",\"elementType\":\"double\",\"containsNull\":false},\"nullable\":true,\"metadata\":{}}]}}"
        },
        {
         "metadata": "{}",
         "name": "topicDistribution",
         "type": "{\"type\":\"udt\",\"class\":\"org.apache.spark.ml.linalg.VectorUDT\",\"pyClass\":\"pyspark.ml.linalg.VectorUDT\",\"sqlType\":{\"type\":\"struct\",\"fields\":[{\"name\":\"type\",\"type\":\"byte\",\"nullable\":false,\"metadata\":{}},{\"name\":\"size\",\"type\":\"integer\",\"nullable\":true,\"metadata\":{}},{\"name\":\"indices\",\"type\":{\"type\":\"array\",\"elementType\":\"integer\",\"containsNull\":false},\"nullable\":true,\"metadata\":{}},{\"name\":\"values\",\"type\":{\"type\":\"array\",\"elementType\":\"double\",\"containsNull\":false},\"nullable\":true,\"metadata\":{}}]}}"
        }
       ],
       "type": "table"
      }
     },
     "output_type": "display_data"
    }
   ],
   "source": [
    "## Lets check topics for test data\n",
    "display(predictions.take(5))"
   ]
  },
  {
   "cell_type": "code",
   "execution_count": 0,
   "metadata": {
    "application/vnd.databricks.v1+cell": {
     "cellMetadata": {
      "byteLimit": 2048000,
      "rowLimit": 10000
     },
     "inputWidgets": {},
     "nuid": "a9bffa2a-7635-4ee4-b9af-cc1ac608f902",
     "showTitle": false,
     "title": ""
    }
   },
   "outputs": [
    {
     "data": {
      "text/html": [
       "<style scoped>\n",
       "  .table-result-container {\n",
       "    max-height: 300px;\n",
       "    overflow: auto;\n",
       "  }\n",
       "  table, th, td {\n",
       "    border: 1px solid black;\n",
       "    border-collapse: collapse;\n",
       "  }\n",
       "  th, td {\n",
       "    padding: 5px;\n",
       "  }\n",
       "  th {\n",
       "    text-align: left;\n",
       "  }\n",
       "</style><div class='table-result-container'><table class='table-result'><thead style='background-color: white'><tr><th>screen_name</th><th>tweet</th><th>location</th><th>geo</th><th>created_at</th><th>tokens</th><th>filtered_tokens</th><th>ngrams</th><th>rawFeatures</th><th>features</th><th>topicDistribution</th><th>topicTerms</th></tr></thead><tbody><tr><td>007DayTraders</td><td>rt sadly cpi is complete trash and does not include proper weighting of the most expensive items such as food and</td><td>None</td><td>None</td><td>Tue Dec 13 18:56:03 +0000 2022</td><td>List(rt, sadly, cpi, is, complete, trash, and, does, not, include, proper, weighting, of, the, most, expensive, items, such, as, food, and)</td><td>List(rt, sadly, cpi, complete, trash, include, proper, weighting, expensive, items, food)</td><td>List(rt sadly, sadly cpi, cpi complete, complete trash, trash include, include proper, proper weighting, weighting expensive, expensive items, items food)</td><td>Map(vectorType -> sparse, length -> 262144, indices -> List(18737, 24994, 27660, 27895, 27960, 28146, 28295, 28341, 28570, 28680), values -> List(1.0, 1.0, 1.0, 1.0, 1.0, 1.0, 1.0, 1.0, 1.0, 1.0))</td><td>Map(vectorType -> sparse, length -> 262144, indices -> List(18737, 24994, 27660, 27895, 27960, 28146, 28295, 28341, 28570, 28680), values -> List(9.864648388205458, 10.179729434845353, 10.297512470501736, 10.297512470501736, 10.297512470501736, 10.297512470501736, 10.297512470501736, 10.297512470501736, 10.297512470501736, 10.340072084920532))</td><td>Map(vectorType -> dense, length -> 20, values -> List(0.9911898744256012, 4.6293701616150385E-4, 4.62852553081183E-4, 4.6475889609018264E-4, 4.6382031561182426E-4, 4.63607569814898E-4, 4.636885515196945E-4, 4.6278834192582994E-4, 4.642121244785682E-4, 4.6317018544652787E-4, 4.6425425573610866E-4, 4.637255438009523E-4, 4.6398464852113975E-4, 4.6337957749212593E-4, 4.6657893600184926E-4, 4.633566944149604E-4, 4.638930521120803E-4, 4.628234265209655E-4, 4.632783822485352E-4, 4.6301550342010524E-4))</td><td>List(rt inflation, false told, gas prices, announcements last, couple weeks, easing signed, inflation reduction, rt major, weeks inflations, signed respect, major announcements, respect marriag, rt breaking, pay rise, inflations easing, interest rates, corporate profits, told us, reduction act, last couple)</td></tr><tr><td>007dmax</td><td>rt f me lost count of the amount of grade a daily mail utter bullshite in this one tweet</td><td>None</td><td>None</td><td>Wed Dec 14 10:57:07 +0000 2022</td><td>List(rt, f, me, lost, count, of, the, amount, of, grade, a, daily, mail, utter, bullshite, in, this, one, tweet)</td><td>List(rt, f, lost, count, amount, grade, daily, mail, utter, bullshite, one, tweet)</td><td>List(rt f, f lost, lost count, count amount, amount grade, grade daily, daily mail, mail utter, utter bullshite, bullshite one, one tweet)</td><td>Map(vectorType -> sparse, length -> 262144, indices -> List(19278, 38889, 55931, 194519), values -> List(1.0, 1.0, 1.0, 1.0))</td><td>Map(vectorType -> sparse, length -> 262144, indices -> List(19278, 38889, 55931, 194519), values -> List(9.892047362393573, 10.642352956793466, 10.990659651061682, 12.376954012181573))</td><td>Map(vectorType -> dense, length -> 20, values -> List(0.29906721907297384, 0.001067286846294804, 0.0010670921194399481, 0.0010714871336325207, 0.0010693232652408864, 0.0010688327864749425, 0.0010690194882284141, 0.0010669440813088355, 0.0010702265680594652, 0.0010678244104994226, 0.0010703237003627441, 0.0010691047720438167, 0.3323466600449304, 0.0010683071585255873, 0.0010756831779374716, 0.0010682544009060087, 0.0010694909582985024, 0.001067024969122433, 0.3504124272480715, 0.001067467797648502))</td><td>List(pay rise, easing signed, rt inflation, false told, gas prices, announcements last, couple weeks, inflation reduction, rt major, weeks inflations, signed respect, major announcements, respect marriag, rt breaking, inflations easing, interest rates, corporate profits, told us, reduction act, last couple)</td></tr><tr><td>00DMadHatter00</td><td>they will launder the people s money though</td><td>Here & There</td><td>None</td><td>Sat Dec 10 14:40:29 +0000 2022</td><td>List(they, will, launder, the, people, s, money, though)</td><td>List(launder, people, money, though)</td><td>List(launder people, people money, money though)</td><td>Map(vectorType -> sparse, length -> 262144, indices -> List(5591, 38682, 132734), values -> List(1.0, 1.0, 1.0))</td><td>Map(vectorType -> sparse, length -> 262144, indices -> List(5591, 38682, 132734), values -> List(8.6080318503941, 10.642352956793466, 11.866128388415582))</td><td>Map(vectorType -> dense, length -> 20, values -> List(0.0014990825039314297, 0.3570307076197461, 0.0014924379727774904, 0.001498584858121939, 0.0014955584817734006, 0.0014948724754231168, 0.0014951335958014993, 0.0014922309307883932, 0.0014968218228790207, 0.0014934621582310729, 0.6160522005318234, 0.001495252875066288, 0.0014960883414314504, 0.001494137340306339, 0.0015044534656529632, 0.0014940635440979636, 0.0014957929959128829, 0.001492344056415689, 0.0014938110341497837, 0.0014929633956697332))</td><td>List(announcements last, corporate profits, false told, rt inflation, gas prices, couple weeks, easing signed, inflation reduction, rt major, weeks inflations, signed respect, major announcements, respect marriag, rt breaking, pay rise, inflations easing, interest rates, told us, reduction act, last couple)</td></tr><tr><td>0153phil</td><td>rt i had some major announcements the last couple of weeks too inflations easing i just signed the respect for marriag</td><td>World</td><td>None</td><td>Thu Dec 15 20:30:10 +0000 2022</td><td>List(rt, i, had, some, major, announcements, the, last, couple, of, weeks, too, inflations, easing, i, just, signed, the, respect, for, marriag)</td><td>List(rt, major, announcements, last, couple, weeks, inflations, easing, signed, respect, marriag)</td><td>List(rt major, major announcements, announcements last, last couple, couple weeks, weeks inflations, inflations easing, easing signed, signed respect, respect marriag)</td><td>Map(vectorType -> sparse, length -> 262144, indices -> List(4, 5, 6, 7, 8, 9, 10, 11, 12, 13), values -> List(1.0, 1.0, 1.0, 1.0, 1.0, 1.0, 1.0, 1.0, 1.0, 1.0))</td><td>Map(vectorType -> sparse, length -> 262144, indices -> List(4, 5, 6, 7, 8, 9, 10, 11, 12, 13), values -> List(3.553109801765952, 3.554287947305005, 3.558767734253882, 3.56173245625941, 3.565798510356404, 3.5662457931211105, 3.56833576203472, 3.5694322533726486, 3.569831275773075, 3.5713290294230084))</td><td>Map(vectorType -> dense, length -> 20, values -> List(0.0013138440105415082, 0.001308259223149746, 0.0013080205306447395, 0.0013134078527491635, 0.001310755425907483, 0.0013101542066390804, 0.0013103830608103214, 0.001307839070020642, 0.0013118626770920359, 0.001308918159156775, 0.0013119817399631372, 0.0013104876009282867, 0.0013112198304253667, 0.0013095099007204342, 0.9751073073287596, 0.001309445233187392, 0.0013109609791324992, 0.001307938219020399, 0.0013092239231373799, 0.0013084810280139404))</td><td>List(false told, rt inflation, gas prices, announcements last, couple weeks, easing signed, inflation reduction, rt major, weeks inflations, signed respect, major announcements, respect marriag, rt breaking, pay rise, inflations easing, interest rates, corporate profits, told us, reduction act, last couple)</td></tr><tr><td>01ajr</td><td>rt can someone on please explain that the very small drop in the rate of inflation does not mean that prices are com</td><td>Brighton, England</td><td>None</td><td>Thu Dec 15 08:16:04 +0000 2022</td><td>List(rt, can, someone, on, please, explain, that, the, very, small, drop, in, the, rate, of, inflation, does, not, mean, that, prices, are, com)</td><td>List(rt, someone, please, explain, small, drop, rate, inflation, mean, prices, com)</td><td>List(rt someone, someone please, please explain, explain small, small drop, drop rate, rate inflation, inflation mean, mean prices, prices com)</td><td>Map(vectorType -> sparse, length -> 262144, indices -> List(319, 2815, 2827, 3763, 4794, 9972, 27598, 43733, 44207, 63428), values -> List(1.0, 1.0, 1.0, 1.0, 1.0, 1.0, 1.0, 1.0, 1.0, 1.0))</td><td>Map(vectorType -> sparse, length -> 262144, indices -> List(319, 2815, 2827, 3763, 4794, 9972, 27598, 43733, 44207, 63428), values -> List(5.857315202972987, 7.899617197703366, 7.89583647486346, 8.207708141786354, 8.432141183930435, 9.212886423808367, 10.297512470501736, 10.767516099747473, 10.767516099747473, 11.172981207855637))</td><td>Map(vectorType -> dense, length -> 20, values -> List(5.256816466650575E-4, 0.2952875105125129, 5.233516178000953E-4, 5.255071365105687E-4, 5.244458747496043E-4, 5.242053223578492E-4, 5.242968875726095E-4, 5.232790156269757E-4, 5.248888982482151E-4, 0.09012478987062701, 5.24936535667492E-4, 5.243387151290734E-4, 5.246316874796855E-4, 0.11359827249608462, 5.275650709981974E-4, 5.239216546915643E-4, 0.45025787803097633, 5.233186825453357E-4, 5.238331048291753E-4, 0.04286334723892784))</td><td>List(inflation reduction, corporate profits, respect marriag, inflations easing, interest rates, false told, rt inflation, gas prices, announcements last, couple weeks, easing signed, rt major, weeks inflations, signed respect, major announcements, rt breaking, pay rise, told us, reduction act, last couple)</td></tr></tbody></table></div>"
      ]
     },
     "metadata": {
      "application/vnd.databricks.v1+output": {
       "addedWidgets": {},
       "aggData": [],
       "aggError": "",
       "aggOverflow": false,
       "aggSchema": [],
       "aggSeriesLimitReached": false,
       "aggType": "",
       "arguments": {},
       "columnCustomDisplayInfos": {},
       "data": [
        [
         "007DayTraders",
         "rt sadly cpi is complete trash and does not include proper weighting of the most expensive items such as food and",
         "None",
         "None",
         "Tue Dec 13 18:56:03 +0000 2022",
         [
          "rt",
          "sadly",
          "cpi",
          "is",
          "complete",
          "trash",
          "and",
          "does",
          "not",
          "include",
          "proper",
          "weighting",
          "of",
          "the",
          "most",
          "expensive",
          "items",
          "such",
          "as",
          "food",
          "and"
         ],
         [
          "rt",
          "sadly",
          "cpi",
          "complete",
          "trash",
          "include",
          "proper",
          "weighting",
          "expensive",
          "items",
          "food"
         ],
         [
          "rt sadly",
          "sadly cpi",
          "cpi complete",
          "complete trash",
          "trash include",
          "include proper",
          "proper weighting",
          "weighting expensive",
          "expensive items",
          "items food"
         ],
         {
          "indices": [
           18737,
           24994,
           27660,
           27895,
           27960,
           28146,
           28295,
           28341,
           28570,
           28680
          ],
          "length": 262144,
          "values": [
           1,
           1,
           1,
           1,
           1,
           1,
           1,
           1,
           1,
           1
          ],
          "vectorType": "sparse"
         },
         {
          "indices": [
           18737,
           24994,
           27660,
           27895,
           27960,
           28146,
           28295,
           28341,
           28570,
           28680
          ],
          "length": 262144,
          "values": [
           9.864648388205458,
           10.179729434845353,
           10.297512470501736,
           10.297512470501736,
           10.297512470501736,
           10.297512470501736,
           10.297512470501736,
           10.297512470501736,
           10.297512470501736,
           10.340072084920532
          ],
          "vectorType": "sparse"
         },
         {
          "length": 20,
          "values": [
           0.9911898744256012,
           0.00046293701616150385,
           0.000462852553081183,
           0.00046475889609018264,
           0.00046382031561182426,
           0.000463607569814898,
           0.0004636885515196945,
           0.00046278834192582994,
           0.0004642121244785682,
           0.00046317018544652787,
           0.00046425425573610866,
           0.0004637255438009523,
           0.00046398464852113975,
           0.00046337957749212593,
           0.00046657893600184926,
           0.0004633566944149604,
           0.0004638930521120803,
           0.0004628234265209655,
           0.0004632783822485352,
           0.00046301550342010524
          ],
          "vectorType": "dense"
         },
         [
          "rt inflation",
          "false told",
          "gas prices",
          "announcements last",
          "couple weeks",
          "easing signed",
          "inflation reduction",
          "rt major",
          "weeks inflations",
          "signed respect",
          "major announcements",
          "respect marriag",
          "rt breaking",
          "pay rise",
          "inflations easing",
          "interest rates",
          "corporate profits",
          "told us",
          "reduction act",
          "last couple"
         ]
        ],
        [
         "007dmax",
         "rt f me lost count of the amount of grade a daily mail utter bullshite in this one tweet",
         "None",
         "None",
         "Wed Dec 14 10:57:07 +0000 2022",
         [
          "rt",
          "f",
          "me",
          "lost",
          "count",
          "of",
          "the",
          "amount",
          "of",
          "grade",
          "a",
          "daily",
          "mail",
          "utter",
          "bullshite",
          "in",
          "this",
          "one",
          "tweet"
         ],
         [
          "rt",
          "f",
          "lost",
          "count",
          "amount",
          "grade",
          "daily",
          "mail",
          "utter",
          "bullshite",
          "one",
          "tweet"
         ],
         [
          "rt f",
          "f lost",
          "lost count",
          "count amount",
          "amount grade",
          "grade daily",
          "daily mail",
          "mail utter",
          "utter bullshite",
          "bullshite one",
          "one tweet"
         ],
         {
          "indices": [
           19278,
           38889,
           55931,
           194519
          ],
          "length": 262144,
          "values": [
           1,
           1,
           1,
           1
          ],
          "vectorType": "sparse"
         },
         {
          "indices": [
           19278,
           38889,
           55931,
           194519
          ],
          "length": 262144,
          "values": [
           9.892047362393573,
           10.642352956793466,
           10.990659651061682,
           12.376954012181573
          ],
          "vectorType": "sparse"
         },
         {
          "length": 20,
          "values": [
           0.29906721907297384,
           0.001067286846294804,
           0.0010670921194399481,
           0.0010714871336325207,
           0.0010693232652408864,
           0.0010688327864749425,
           0.0010690194882284141,
           0.0010669440813088355,
           0.0010702265680594652,
           0.0010678244104994226,
           0.0010703237003627441,
           0.0010691047720438167,
           0.3323466600449304,
           0.0010683071585255873,
           0.0010756831779374716,
           0.0010682544009060087,
           0.0010694909582985024,
           0.001067024969122433,
           0.3504124272480715,
           0.001067467797648502
          ],
          "vectorType": "dense"
         },
         [
          "pay rise",
          "easing signed",
          "rt inflation",
          "false told",
          "gas prices",
          "announcements last",
          "couple weeks",
          "inflation reduction",
          "rt major",
          "weeks inflations",
          "signed respect",
          "major announcements",
          "respect marriag",
          "rt breaking",
          "inflations easing",
          "interest rates",
          "corporate profits",
          "told us",
          "reduction act",
          "last couple"
         ]
        ],
        [
         "00DMadHatter00",
         "they will launder the people s money though",
         "Here & There",
         "None",
         "Sat Dec 10 14:40:29 +0000 2022",
         [
          "they",
          "will",
          "launder",
          "the",
          "people",
          "s",
          "money",
          "though"
         ],
         [
          "launder",
          "people",
          "money",
          "though"
         ],
         [
          "launder people",
          "people money",
          "money though"
         ],
         {
          "indices": [
           5591,
           38682,
           132734
          ],
          "length": 262144,
          "values": [
           1,
           1,
           1
          ],
          "vectorType": "sparse"
         },
         {
          "indices": [
           5591,
           38682,
           132734
          ],
          "length": 262144,
          "values": [
           8.6080318503941,
           10.642352956793466,
           11.866128388415582
          ],
          "vectorType": "sparse"
         },
         {
          "length": 20,
          "values": [
           0.0014990825039314297,
           0.3570307076197461,
           0.0014924379727774904,
           0.001498584858121939,
           0.0014955584817734006,
           0.0014948724754231168,
           0.0014951335958014993,
           0.0014922309307883932,
           0.0014968218228790207,
           0.0014934621582310729,
           0.6160522005318234,
           0.001495252875066288,
           0.0014960883414314504,
           0.001494137340306339,
           0.0015044534656529632,
           0.0014940635440979636,
           0.0014957929959128829,
           0.001492344056415689,
           0.0014938110341497837,
           0.0014929633956697332
          ],
          "vectorType": "dense"
         },
         [
          "announcements last",
          "corporate profits",
          "false told",
          "rt inflation",
          "gas prices",
          "couple weeks",
          "easing signed",
          "inflation reduction",
          "rt major",
          "weeks inflations",
          "signed respect",
          "major announcements",
          "respect marriag",
          "rt breaking",
          "pay rise",
          "inflations easing",
          "interest rates",
          "told us",
          "reduction act",
          "last couple"
         ]
        ],
        [
         "0153phil",
         "rt i had some major announcements the last couple of weeks too inflations easing i just signed the respect for marriag",
         "World",
         "None",
         "Thu Dec 15 20:30:10 +0000 2022",
         [
          "rt",
          "i",
          "had",
          "some",
          "major",
          "announcements",
          "the",
          "last",
          "couple",
          "of",
          "weeks",
          "too",
          "inflations",
          "easing",
          "i",
          "just",
          "signed",
          "the",
          "respect",
          "for",
          "marriag"
         ],
         [
          "rt",
          "major",
          "announcements",
          "last",
          "couple",
          "weeks",
          "inflations",
          "easing",
          "signed",
          "respect",
          "marriag"
         ],
         [
          "rt major",
          "major announcements",
          "announcements last",
          "last couple",
          "couple weeks",
          "weeks inflations",
          "inflations easing",
          "easing signed",
          "signed respect",
          "respect marriag"
         ],
         {
          "indices": [
           4,
           5,
           6,
           7,
           8,
           9,
           10,
           11,
           12,
           13
          ],
          "length": 262144,
          "values": [
           1,
           1,
           1,
           1,
           1,
           1,
           1,
           1,
           1,
           1
          ],
          "vectorType": "sparse"
         },
         {
          "indices": [
           4,
           5,
           6,
           7,
           8,
           9,
           10,
           11,
           12,
           13
          ],
          "length": 262144,
          "values": [
           3.553109801765952,
           3.554287947305005,
           3.558767734253882,
           3.56173245625941,
           3.565798510356404,
           3.5662457931211105,
           3.56833576203472,
           3.5694322533726486,
           3.569831275773075,
           3.5713290294230084
          ],
          "vectorType": "sparse"
         },
         {
          "length": 20,
          "values": [
           0.0013138440105415082,
           0.001308259223149746,
           0.0013080205306447395,
           0.0013134078527491635,
           0.001310755425907483,
           0.0013101542066390804,
           0.0013103830608103214,
           0.001307839070020642,
           0.0013118626770920359,
           0.001308918159156775,
           0.0013119817399631372,
           0.0013104876009282867,
           0.0013112198304253667,
           0.0013095099007204342,
           0.9751073073287596,
           0.001309445233187392,
           0.0013109609791324992,
           0.001307938219020399,
           0.0013092239231373799,
           0.0013084810280139404
          ],
          "vectorType": "dense"
         },
         [
          "false told",
          "rt inflation",
          "gas prices",
          "announcements last",
          "couple weeks",
          "easing signed",
          "inflation reduction",
          "rt major",
          "weeks inflations",
          "signed respect",
          "major announcements",
          "respect marriag",
          "rt breaking",
          "pay rise",
          "inflations easing",
          "interest rates",
          "corporate profits",
          "told us",
          "reduction act",
          "last couple"
         ]
        ],
        [
         "01ajr",
         "rt can someone on please explain that the very small drop in the rate of inflation does not mean that prices are com",
         "Brighton, England",
         "None",
         "Thu Dec 15 08:16:04 +0000 2022",
         [
          "rt",
          "can",
          "someone",
          "on",
          "please",
          "explain",
          "that",
          "the",
          "very",
          "small",
          "drop",
          "in",
          "the",
          "rate",
          "of",
          "inflation",
          "does",
          "not",
          "mean",
          "that",
          "prices",
          "are",
          "com"
         ],
         [
          "rt",
          "someone",
          "please",
          "explain",
          "small",
          "drop",
          "rate",
          "inflation",
          "mean",
          "prices",
          "com"
         ],
         [
          "rt someone",
          "someone please",
          "please explain",
          "explain small",
          "small drop",
          "drop rate",
          "rate inflation",
          "inflation mean",
          "mean prices",
          "prices com"
         ],
         {
          "indices": [
           319,
           2815,
           2827,
           3763,
           4794,
           9972,
           27598,
           43733,
           44207,
           63428
          ],
          "length": 262144,
          "values": [
           1,
           1,
           1,
           1,
           1,
           1,
           1,
           1,
           1,
           1
          ],
          "vectorType": "sparse"
         },
         {
          "indices": [
           319,
           2815,
           2827,
           3763,
           4794,
           9972,
           27598,
           43733,
           44207,
           63428
          ],
          "length": 262144,
          "values": [
           5.857315202972987,
           7.899617197703366,
           7.89583647486346,
           8.207708141786354,
           8.432141183930435,
           9.212886423808367,
           10.297512470501736,
           10.767516099747473,
           10.767516099747473,
           11.172981207855637
          ],
          "vectorType": "sparse"
         },
         {
          "length": 20,
          "values": [
           0.0005256816466650575,
           0.2952875105125129,
           0.0005233516178000953,
           0.0005255071365105687,
           0.0005244458747496043,
           0.0005242053223578492,
           0.0005242968875726095,
           0.0005232790156269757,
           0.0005248888982482151,
           0.09012478987062701,
           0.000524936535667492,
           0.0005243387151290734,
           0.0005246316874796855,
           0.11359827249608462,
           0.0005275650709981974,
           0.0005239216546915643,
           0.45025787803097633,
           0.0005233186825453357,
           0.0005238331048291753,
           0.04286334723892784
          ],
          "vectorType": "dense"
         },
         [
          "inflation reduction",
          "corporate profits",
          "respect marriag",
          "inflations easing",
          "interest rates",
          "false told",
          "rt inflation",
          "gas prices",
          "announcements last",
          "couple weeks",
          "easing signed",
          "rt major",
          "weeks inflations",
          "signed respect",
          "major announcements",
          "rt breaking",
          "pay rise",
          "told us",
          "reduction act",
          "last couple"
         ]
        ]
       ],
       "datasetInfos": [],
       "dbfsResultPath": null,
       "isJsonSchema": true,
       "metadata": {},
       "overflow": false,
       "plotOptions": {
        "customPlotOptions": {},
        "displayType": "table",
        "pivotAggregation": null,
        "pivotColumns": null,
        "xColumns": null,
        "yColumns": null
       },
       "removedWidgets": [],
       "schema": [
        {
         "metadata": "{}",
         "name": "screen_name",
         "type": "\"string\""
        },
        {
         "metadata": "{}",
         "name": "tweet",
         "type": "\"string\""
        },
        {
         "metadata": "{}",
         "name": "location",
         "type": "\"string\""
        },
        {
         "metadata": "{}",
         "name": "geo",
         "type": "\"string\""
        },
        {
         "metadata": "{}",
         "name": "created_at",
         "type": "\"string\""
        },
        {
         "metadata": "{}",
         "name": "tokens",
         "type": "{\"type\":\"array\",\"elementType\":\"string\",\"containsNull\":true}"
        },
        {
         "metadata": "{}",
         "name": "filtered_tokens",
         "type": "{\"type\":\"array\",\"elementType\":\"string\",\"containsNull\":true}"
        },
        {
         "metadata": "{}",
         "name": "ngrams",
         "type": "{\"type\":\"array\",\"elementType\":\"string\",\"containsNull\":true}"
        },
        {
         "metadata": "{}",
         "name": "rawFeatures",
         "type": "{\"type\":\"udt\",\"class\":\"org.apache.spark.ml.linalg.VectorUDT\",\"pyClass\":\"pyspark.ml.linalg.VectorUDT\",\"sqlType\":{\"type\":\"struct\",\"fields\":[{\"name\":\"type\",\"type\":\"byte\",\"nullable\":false,\"metadata\":{}},{\"name\":\"size\",\"type\":\"integer\",\"nullable\":true,\"metadata\":{}},{\"name\":\"indices\",\"type\":{\"type\":\"array\",\"elementType\":\"integer\",\"containsNull\":false},\"nullable\":true,\"metadata\":{}},{\"name\":\"values\",\"type\":{\"type\":\"array\",\"elementType\":\"double\",\"containsNull\":false},\"nullable\":true,\"metadata\":{}}]}}"
        },
        {
         "metadata": "{}",
         "name": "features",
         "type": "{\"type\":\"udt\",\"class\":\"org.apache.spark.ml.linalg.VectorUDT\",\"pyClass\":\"pyspark.ml.linalg.VectorUDT\",\"sqlType\":{\"type\":\"struct\",\"fields\":[{\"name\":\"type\",\"type\":\"byte\",\"nullable\":false,\"metadata\":{}},{\"name\":\"size\",\"type\":\"integer\",\"nullable\":true,\"metadata\":{}},{\"name\":\"indices\",\"type\":{\"type\":\"array\",\"elementType\":\"integer\",\"containsNull\":false},\"nullable\":true,\"metadata\":{}},{\"name\":\"values\",\"type\":{\"type\":\"array\",\"elementType\":\"double\",\"containsNull\":false},\"nullable\":true,\"metadata\":{}}]}}"
        },
        {
         "metadata": "{}",
         "name": "topicDistribution",
         "type": "{\"type\":\"udt\",\"class\":\"org.apache.spark.ml.linalg.VectorUDT\",\"pyClass\":\"pyspark.ml.linalg.VectorUDT\",\"sqlType\":{\"type\":\"struct\",\"fields\":[{\"name\":\"type\",\"type\":\"byte\",\"nullable\":false,\"metadata\":{}},{\"name\":\"size\",\"type\":\"integer\",\"nullable\":true,\"metadata\":{}},{\"name\":\"indices\",\"type\":{\"type\":\"array\",\"elementType\":\"integer\",\"containsNull\":false},\"nullable\":true,\"metadata\":{}},{\"name\":\"values\",\"type\":{\"type\":\"array\",\"elementType\":\"double\",\"containsNull\":false},\"nullable\":true,\"metadata\":{}}]}}"
        },
        {
         "metadata": "{}",
         "name": "topicTerms",
         "type": "{\"type\":\"array\",\"elementType\":\"string\",\"containsNull\":true}"
        }
       ],
       "type": "table"
      }
     },
     "output_type": "display_data"
    }
   ],
   "source": [
    "# Getting the vocabulary from the CVstep\n",
    "vocabArray = model.stages[-2].vocabulary\n",
    "\n",
    "# conerting the topic ditribution to a list of topic terms\n",
    "def get_topic_terms(topicDistribution):\n",
    "    topic_terms = [vocabArray[i] for i in topicDistribution.argsort()[::-1][::]]\n",
    "    return topic_terms\n",
    "\n",
    "get_topic_terms_udf = udf(get_topic_terms, ArrayType(StringType()))\n",
    "\n",
    "# Applying the UDF to the topicDistribution column in the predictions df\n",
    "predictions_with_topic_terms = predictions.withColumn(\"topicTerms\", get_topic_terms_udf(\"topicDistribution\"))\n",
    "display(predictions_with_topic_terms.take(5))"
   ]
  },
  {
   "cell_type": "markdown",
   "metadata": {
    "application/vnd.databricks.v1+cell": {
     "cellMetadata": {},
     "inputWidgets": {},
     "nuid": "5ddde30b-24eb-47e5-82ac-548af8d5ee04",
     "showTitle": false,
     "title": ""
    }
   },
   "source": [
    "##### Topic distribution (topic probability score) with topic terms "
   ]
  },
  {
   "cell_type": "code",
   "execution_count": 0,
   "metadata": {
    "application/vnd.databricks.v1+cell": {
     "cellMetadata": {
      "byteLimit": 2048000,
      "rowLimit": 10000
     },
     "collapsed": true,
     "inputWidgets": {},
     "nuid": "9738eafa-e299-409d-8496-ddb016d5c236",
     "showTitle": false,
     "title": ""
    }
   },
   "outputs": [
    {
     "data": {
      "text/html": [
       "<style scoped>\n",
       "  .table-result-container {\n",
       "    max-height: 300px;\n",
       "    overflow: auto;\n",
       "  }\n",
       "  table, th, td {\n",
       "    border: 1px solid black;\n",
       "    border-collapse: collapse;\n",
       "  }\n",
       "  th, td {\n",
       "    padding: 5px;\n",
       "  }\n",
       "  th {\n",
       "    text-align: left;\n",
       "  }\n",
       "</style><div class='table-result-container'><table class='table-result'><thead style='background-color: white'><tr><th>screen_name</th><th>tweet</th><th>location</th><th>geo</th><th>created_at</th><th>tokens</th><th>filtered_tokens</th><th>ngrams</th><th>rawFeatures</th><th>features</th><th>topicDistribution</th><th>topicTerms</th></tr></thead><tbody><tr><td>00wasp001</td><td>so if the boats stopped completely tomorrow do you thi</td><td>UK</td><td>None</td><td>Wed Dec 14 17:59:49 +0000 2022</td><td>List(so, if, the, boats, stopped, completely, tomorrow, do, you, thi)</td><td>List(boats, stopped, completely, tomorrow, thi)</td><td>List(boats stopped, stopped completely, completely tomorrow, tomorrow thi)</td><td>Map(vectorType -> sparse, length -> 262144, indices -> List(), values -> List())</td><td>Map(vectorType -> sparse, length -> 262144, indices -> List(), values -> List())</td><td>Map(vectorType -> dense, length -> 20, values -> List(0.0, 0.0, 0.0, 0.0, 0.0, 0.0, 0.0, 0.0, 0.0, 0.0, 0.0, 0.0, 0.0, 0.0, 0.0, 0.0, 0.0, 0.0, 0.0, 0.0))</td><td>List(interest rates, pay rise, told us, corporate profits, gas prices, rt major, major announcements, signed respect, last couple, couple weeks, inflations easing, announcements last, weeks inflations, easing signed, respect marriag, false told, rt breaking, inflation reduction, reduction act, rt inflation)</td></tr><tr><td>07Cat31</td><td>rt republicans will return the committee to its proper role rooting out waste fraud abuse and mismanagement in the federal g</td><td>Nevada, USA</td><td>None</td><td>Thu Dec 15 01:58:41 +0000 2022</td><td>List(rt, republicans, will, return, the, committee, to, its, proper, role, rooting, out, waste, fraud, abuse, and, mismanagement, in, the, federal, g)</td><td>List(rt, republicans, return, committee, proper, role, rooting, waste, fraud, abuse, mismanagement, federal, g)</td><td>List(rt republicans, republicans return, return committee, committee proper, proper role, role rooting, rooting waste, waste fraud, fraud abuse, abuse mismanagement, mismanagement federal, federal g)</td><td>Map(vectorType -> sparse, length -> 262144, indices -> List(259, 23795, 23856, 23927, 24472, 24484, 25231, 30291, 31408, 31682, 31838, 34111), values -> List(1.0, 1.0, 1.0, 1.0, 1.0, 1.0, 1.0, 1.0, 1.0, 1.0, 1.0, 1.0))</td><td>Map(vectorType -> sparse, length -> 262144, indices -> List(259, 23795, 23856, 23927, 24472, 24484, 25231, 30291, 31408, 31682, 31838, 34111), values -> List(5.711974452177938, 10.142791251021253, 10.142791251021253, 10.142791251021253, 10.142791251021253, 10.142791251021253, 10.179158895192128, 10.38395330783814, 10.430473323473032, 10.430473323473032, 10.430473323473032, 10.479263487642465))</td><td>Map(vectorType -> dense, length -> 20, values -> List(4.000987650260926E-4, 4.001611651350039E-4, 4.0080293589628453E-4, 4.0060428940556894E-4, 4.0101664131722385E-4, 4.007392091361693E-4, 4.0029755485529185E-4, 4.001253925874679E-4, 4.0059830608138523E-4, 4.004339164744415E-4, 4.0053472099176626E-4, 4.008808239350384E-4, 4.0103456867079815E-4, 3.995129668474556E-4, 4.027686659101397E-4, 0.9923863726478098, 4.0066822623486745E-4, 4.0069665835050744E-4, 4.0182715147996805E-4, 4.00825393854719E-4))</td><td>List(rt breaking, false told, pay rise, easing signed, rt major, weeks inflations, interest rates, corporate profits, major announcements, reduction act, inflation reduction, gas prices, couple weeks, announcements last, inflations easing, signed respect, told us, last couple, rt inflation, respect marriag)</td></tr><tr><td>0o0ofaureo0o0</td><td>rt nasdaq futures jump after us inflation data show prices grew less than forecast last month</td><td>None</td><td>None</td><td>Tue Dec 13 15:11:45 +0000 2022</td><td>List(rt, nasdaq, futures, jump, after, us, inflation, data, show, prices, grew, less, than, forecast, last, month)</td><td>List(rt, nasdaq, futures, jump, us, inflation, data, show, prices, grew, less, forecast, last, month)</td><td>List(rt nasdaq, nasdaq futures, futures jump, jump us, us inflation, inflation data, data show, show prices, prices grew, grew less, less forecast, forecast last, last month)</td><td>Map(vectorType -> sparse, length -> 262144, indices -> List(22, 70, 80, 6571, 14677, 19456, 29434, 33272, 40767, 50574, 58271, 64596, 66543), values -> List(1.0, 1.0, 1.0, 1.0, 1.0, 1.0, 1.0, 1.0, 1.0, 1.0, 1.0, 1.0, 1.0))</td><td>Map(vectorType -> sparse, length -> 262144, indices -> List(22, 70, 80, 6571, 14677, 19456, 29434, 33272, 40767, 50574, 58271, 64596, 66543), values -> List(4.363371362159431, 4.787722299408618, 4.888836365315496, 8.783647878967312, 9.603794750288564, 9.919647699707042, 10.339501545267307, 10.479263487642465, 10.702407038956675, 10.910046403734919, 11.077100488398086, 11.17241066820241, 11.17241066820241))</td><td>Map(vectorType -> dense, length -> 20, values -> List(4.019776065342377E-4, 4.020402996527725E-4, 0.13189303694640686, 4.0248550387576013E-4, 0.10819562748920353, 4.0262105923463833E-4, 4.0217732921797003E-4, 0.1101263646014287, 0.2665903138314574, 4.023143339538781E-4, 0.12891417561344234, 4.027633398784599E-4, 4.029178041998885E-4, 0.03968407371126971, 4.046600362763117E-4, 0.10599757970891277, 4.025497410953053E-4, 4.025783079522363E-4, 4.0371410883310855E-4, 0.1037660286271742))</td><td>List(couple weeks, corporate profits, announcements last, last couple, rt major, rt breaking, interest rates, respect marriag, false told, pay rise, easing signed, weeks inflations, major announcements, reduction act, inflation reduction, gas prices, inflations easing, signed respect, told us, rt inflation)</td></tr><tr><td>11Charlie1</td><td>rt on my watch the wealthiest corporations in america are not getting another tax cut with the inflation reduction act beginnin</td><td>None</td><td>None</td><td>Sun Dec 11 06:22:18 +0000 2022</td><td>List(rt, on, my, watch, the, wealthiest, corporations, in, america, are, not, getting, another, tax, cut, with, the, inflation, reduction, act, beginnin)</td><td>List(rt, watch, wealthiest, corporations, america, getting, another, tax, cut, inflation, reduction, act, beginnin)</td><td>List(rt watch, watch wealthiest, wealthiest corporations, corporations america, america getting, getting another, another tax, tax cut, cut inflation, inflation reduction, reduction act, act beginnin)</td><td>Map(vectorType -> sparse, length -> 262144, indices -> List(16, 17, 116, 125, 126, 131, 132, 133, 134, 135, 136, 138), values -> List(1.0, 1.0, 1.0, 1.0, 1.0, 1.0, 1.0, 1.0, 1.0, 1.0, 1.0, 1.0))</td><td>Map(vectorType -> sparse, length -> 262144, indices -> List(16, 17, 116, 125, 126, 131, 132, 133, 134, 135, 136, 138), values -> List(3.8517513520151105, 3.9429342745450695, 5.188726308413391, 5.25890766256414, 5.279386193907681, 5.324527849572452, 5.327997063806464, 5.328286708993137, 5.328866251171051, 5.3291561482596155, 5.3291561482596155, 5.331187784424971))</td><td>Map(vectorType -> dense, length -> 20, values -> List(7.753202624736915E-4, 7.754411827708519E-4, 7.766848203108854E-4, 7.762998762216117E-4, 7.770989420937142E-4, 7.765613290951455E-4, 7.757054815372524E-4, 7.753718618079749E-4, 7.762882837241755E-4, 7.759697260276233E-4, 7.761650673698517E-4, 7.768357532519201E-4, 7.771336832788281E-4, 7.741850887482375E-4, 7.804940381097538E-4, 7.740456270618319E-4, 0.9852485221962527, 7.764788727283888E-4, 7.786695674149487E-4, 7.767283397206141E-4))</td><td>List(inflation reduction, false told, pay rise, easing signed, rt major, weeks inflations, interest rates, corporate profits, major announcements, reduction act, gas prices, couple weeks, announcements last, inflations easing, signed respect, told us, last couple, rt inflation, respect marriag, rt breaking)</td></tr><tr><td>1983Tolmie</td><td>consumer prices rose less than expected in november up from a year ago</td><td>Manchester, England</td><td>None</td><td>Tue Dec 13 13:32:32 +0000 2022</td><td>List(consumer, prices, rose, less, than, expected, in, november, up, from, a, year, ago)</td><td>List(consumer, prices, rose, less, expected, november, year, ago)</td><td>List(consumer prices, prices rose, rose less, less expected, expected november, november year, year ago)</td><td>Map(vectorType -> sparse, length -> 262144, indices -> List(281, 449, 571, 774, 1166, 1460, 2867), values -> List(1.0, 1.0, 1.0, 1.0, 1.0, 1.0, 1.0))</td><td>Map(vectorType -> sparse, length -> 262144, indices -> List(281, 449, 571, 774, 1166, 1460, 2867), values -> List(5.788374426251837, 6.149188258600684, 6.39076933909854, 6.626990486620093, 7.042055668457277, 7.248459091908991, 7.922036176274839))</td><td>Map(vectorType -> dense, length -> 20, values -> List(9.952677702507338E-4, 9.954229948747355E-4, 9.97019438146659E-4, 9.965252878035259E-4, 9.975510412174237E-4, 9.968609122503517E-4, 9.957622707805185E-4, 9.953340762244875E-4, 9.965104053984107E-4, 9.961014769417494E-4, 9.963522346320161E-4, 9.97213188475252E-4, 9.97595635557604E-4, 9.938105647284178E-4, 0.0010019092730154226, 9.936315418600256E-4, 9.966843312510657E-4, 9.967550644237088E-4, 9.995672301376611E-4, 0.9810641252620301))</td><td>List(interest rates, false told, pay rise, easing signed, rt major, weeks inflations, corporate profits, major announcements, reduction act, inflation reduction, gas prices, couple weeks, announcements last, inflations easing, signed respect, told us, last couple, rt inflation, respect marriag, rt breaking)</td></tr></tbody></table></div>"
      ]
     },
     "metadata": {
      "application/vnd.databricks.v1+output": {
       "addedWidgets": {},
       "aggData": [],
       "aggError": "",
       "aggOverflow": false,
       "aggSchema": [],
       "aggSeriesLimitReached": false,
       "aggType": "",
       "arguments": {},
       "columnCustomDisplayInfos": {},
       "data": [
        [
         "00wasp001",
         "so if the boats stopped completely tomorrow do you thi",
         "UK",
         "None",
         "Wed Dec 14 17:59:49 +0000 2022",
         [
          "so",
          "if",
          "the",
          "boats",
          "stopped",
          "completely",
          "tomorrow",
          "do",
          "you",
          "thi"
         ],
         [
          "boats",
          "stopped",
          "completely",
          "tomorrow",
          "thi"
         ],
         [
          "boats stopped",
          "stopped completely",
          "completely tomorrow",
          "tomorrow thi"
         ],
         {
          "indices": [],
          "length": 262144,
          "values": [],
          "vectorType": "sparse"
         },
         {
          "indices": [],
          "length": 262144,
          "values": [],
          "vectorType": "sparse"
         },
         {
          "length": 20,
          "values": [
           0,
           0,
           0,
           0,
           0,
           0,
           0,
           0,
           0,
           0,
           0,
           0,
           0,
           0,
           0,
           0,
           0,
           0,
           0,
           0
          ],
          "vectorType": "dense"
         },
         [
          "interest rates",
          "pay rise",
          "told us",
          "corporate profits",
          "gas prices",
          "rt major",
          "major announcements",
          "signed respect",
          "last couple",
          "couple weeks",
          "inflations easing",
          "announcements last",
          "weeks inflations",
          "easing signed",
          "respect marriag",
          "false told",
          "rt breaking",
          "inflation reduction",
          "reduction act",
          "rt inflation"
         ]
        ],
        [
         "07Cat31",
         "rt republicans will return the committee to its proper role rooting out waste fraud abuse and mismanagement in the federal g",
         "Nevada, USA",
         "None",
         "Thu Dec 15 01:58:41 +0000 2022",
         [
          "rt",
          "republicans",
          "will",
          "return",
          "the",
          "committee",
          "to",
          "its",
          "proper",
          "role",
          "rooting",
          "out",
          "waste",
          "fraud",
          "abuse",
          "and",
          "mismanagement",
          "in",
          "the",
          "federal",
          "g"
         ],
         [
          "rt",
          "republicans",
          "return",
          "committee",
          "proper",
          "role",
          "rooting",
          "waste",
          "fraud",
          "abuse",
          "mismanagement",
          "federal",
          "g"
         ],
         [
          "rt republicans",
          "republicans return",
          "return committee",
          "committee proper",
          "proper role",
          "role rooting",
          "rooting waste",
          "waste fraud",
          "fraud abuse",
          "abuse mismanagement",
          "mismanagement federal",
          "federal g"
         ],
         {
          "indices": [
           259,
           23795,
           23856,
           23927,
           24472,
           24484,
           25231,
           30291,
           31408,
           31682,
           31838,
           34111
          ],
          "length": 262144,
          "values": [
           1,
           1,
           1,
           1,
           1,
           1,
           1,
           1,
           1,
           1,
           1,
           1
          ],
          "vectorType": "sparse"
         },
         {
          "indices": [
           259,
           23795,
           23856,
           23927,
           24472,
           24484,
           25231,
           30291,
           31408,
           31682,
           31838,
           34111
          ],
          "length": 262144,
          "values": [
           5.711974452177938,
           10.142791251021253,
           10.142791251021253,
           10.142791251021253,
           10.142791251021253,
           10.142791251021253,
           10.179158895192128,
           10.38395330783814,
           10.430473323473032,
           10.430473323473032,
           10.430473323473032,
           10.479263487642465
          ],
          "vectorType": "sparse"
         },
         {
          "length": 20,
          "values": [
           0.0004000987650260926,
           0.0004001611651350039,
           0.00040080293589628453,
           0.00040060428940556894,
           0.00040101664131722385,
           0.0004007392091361693,
           0.00040029755485529185,
           0.0004001253925874679,
           0.00040059830608138523,
           0.0004004339164744415,
           0.00040053472099176626,
           0.0004008808239350384,
           0.00040103456867079815,
           0.0003995129668474556,
           0.0004027686659101397,
           0.9923863726478098,
           0.00040066822623486745,
           0.00040069665835050744,
           0.00040182715147996805,
           0.000400825393854719
          ],
          "vectorType": "dense"
         },
         [
          "rt breaking",
          "false told",
          "pay rise",
          "easing signed",
          "rt major",
          "weeks inflations",
          "interest rates",
          "corporate profits",
          "major announcements",
          "reduction act",
          "inflation reduction",
          "gas prices",
          "couple weeks",
          "announcements last",
          "inflations easing",
          "signed respect",
          "told us",
          "last couple",
          "rt inflation",
          "respect marriag"
         ]
        ],
        [
         "0o0ofaureo0o0",
         "rt nasdaq futures jump after us inflation data show prices grew less than forecast last month",
         "None",
         "None",
         "Tue Dec 13 15:11:45 +0000 2022",
         [
          "rt",
          "nasdaq",
          "futures",
          "jump",
          "after",
          "us",
          "inflation",
          "data",
          "show",
          "prices",
          "grew",
          "less",
          "than",
          "forecast",
          "last",
          "month"
         ],
         [
          "rt",
          "nasdaq",
          "futures",
          "jump",
          "us",
          "inflation",
          "data",
          "show",
          "prices",
          "grew",
          "less",
          "forecast",
          "last",
          "month"
         ],
         [
          "rt nasdaq",
          "nasdaq futures",
          "futures jump",
          "jump us",
          "us inflation",
          "inflation data",
          "data show",
          "show prices",
          "prices grew",
          "grew less",
          "less forecast",
          "forecast last",
          "last month"
         ],
         {
          "indices": [
           22,
           70,
           80,
           6571,
           14677,
           19456,
           29434,
           33272,
           40767,
           50574,
           58271,
           64596,
           66543
          ],
          "length": 262144,
          "values": [
           1,
           1,
           1,
           1,
           1,
           1,
           1,
           1,
           1,
           1,
           1,
           1,
           1
          ],
          "vectorType": "sparse"
         },
         {
          "indices": [
           22,
           70,
           80,
           6571,
           14677,
           19456,
           29434,
           33272,
           40767,
           50574,
           58271,
           64596,
           66543
          ],
          "length": 262144,
          "values": [
           4.363371362159431,
           4.787722299408618,
           4.888836365315496,
           8.783647878967312,
           9.603794750288564,
           9.919647699707042,
           10.339501545267307,
           10.479263487642465,
           10.702407038956675,
           10.910046403734919,
           11.077100488398086,
           11.17241066820241,
           11.17241066820241
          ],
          "vectorType": "sparse"
         },
         {
          "length": 20,
          "values": [
           0.0004019776065342377,
           0.0004020402996527725,
           0.13189303694640686,
           0.00040248550387576013,
           0.10819562748920353,
           0.00040262105923463833,
           0.00040217732921797003,
           0.1101263646014287,
           0.2665903138314574,
           0.0004023143339538781,
           0.12891417561344234,
           0.0004027633398784599,
           0.0004029178041998885,
           0.03968407371126971,
           0.0004046600362763117,
           0.10599757970891277,
           0.0004025497410953053,
           0.0004025783079522363,
           0.00040371410883310855,
           0.1037660286271742
          ],
          "vectorType": "dense"
         },
         [
          "couple weeks",
          "corporate profits",
          "announcements last",
          "last couple",
          "rt major",
          "rt breaking",
          "interest rates",
          "respect marriag",
          "false told",
          "pay rise",
          "easing signed",
          "weeks inflations",
          "major announcements",
          "reduction act",
          "inflation reduction",
          "gas prices",
          "inflations easing",
          "signed respect",
          "told us",
          "rt inflation"
         ]
        ],
        [
         "11Charlie1",
         "rt on my watch the wealthiest corporations in america are not getting another tax cut with the inflation reduction act beginnin",
         "None",
         "None",
         "Sun Dec 11 06:22:18 +0000 2022",
         [
          "rt",
          "on",
          "my",
          "watch",
          "the",
          "wealthiest",
          "corporations",
          "in",
          "america",
          "are",
          "not",
          "getting",
          "another",
          "tax",
          "cut",
          "with",
          "the",
          "inflation",
          "reduction",
          "act",
          "beginnin"
         ],
         [
          "rt",
          "watch",
          "wealthiest",
          "corporations",
          "america",
          "getting",
          "another",
          "tax",
          "cut",
          "inflation",
          "reduction",
          "act",
          "beginnin"
         ],
         [
          "rt watch",
          "watch wealthiest",
          "wealthiest corporations",
          "corporations america",
          "america getting",
          "getting another",
          "another tax",
          "tax cut",
          "cut inflation",
          "inflation reduction",
          "reduction act",
          "act beginnin"
         ],
         {
          "indices": [
           16,
           17,
           116,
           125,
           126,
           131,
           132,
           133,
           134,
           135,
           136,
           138
          ],
          "length": 262144,
          "values": [
           1,
           1,
           1,
           1,
           1,
           1,
           1,
           1,
           1,
           1,
           1,
           1
          ],
          "vectorType": "sparse"
         },
         {
          "indices": [
           16,
           17,
           116,
           125,
           126,
           131,
           132,
           133,
           134,
           135,
           136,
           138
          ],
          "length": 262144,
          "values": [
           3.8517513520151105,
           3.9429342745450695,
           5.188726308413391,
           5.25890766256414,
           5.279386193907681,
           5.324527849572452,
           5.327997063806464,
           5.328286708993137,
           5.328866251171051,
           5.3291561482596155,
           5.3291561482596155,
           5.331187784424971
          ],
          "vectorType": "sparse"
         },
         {
          "length": 20,
          "values": [
           0.0007753202624736915,
           0.0007754411827708519,
           0.0007766848203108854,
           0.0007762998762216117,
           0.0007770989420937142,
           0.0007765613290951455,
           0.0007757054815372524,
           0.0007753718618079749,
           0.0007762882837241755,
           0.0007759697260276233,
           0.0007761650673698517,
           0.0007768357532519201,
           0.0007771336832788281,
           0.0007741850887482375,
           0.0007804940381097538,
           0.0007740456270618319,
           0.9852485221962527,
           0.0007764788727283888,
           0.0007786695674149487,
           0.0007767283397206141
          ],
          "vectorType": "dense"
         },
         [
          "inflation reduction",
          "false told",
          "pay rise",
          "easing signed",
          "rt major",
          "weeks inflations",
          "interest rates",
          "corporate profits",
          "major announcements",
          "reduction act",
          "gas prices",
          "couple weeks",
          "announcements last",
          "inflations easing",
          "signed respect",
          "told us",
          "last couple",
          "rt inflation",
          "respect marriag",
          "rt breaking"
         ]
        ],
        [
         "1983Tolmie",
         "consumer prices rose less than expected in november up from a year ago",
         "Manchester, England",
         "None",
         "Tue Dec 13 13:32:32 +0000 2022",
         [
          "consumer",
          "prices",
          "rose",
          "less",
          "than",
          "expected",
          "in",
          "november",
          "up",
          "from",
          "a",
          "year",
          "ago"
         ],
         [
          "consumer",
          "prices",
          "rose",
          "less",
          "expected",
          "november",
          "year",
          "ago"
         ],
         [
          "consumer prices",
          "prices rose",
          "rose less",
          "less expected",
          "expected november",
          "november year",
          "year ago"
         ],
         {
          "indices": [
           281,
           449,
           571,
           774,
           1166,
           1460,
           2867
          ],
          "length": 262144,
          "values": [
           1,
           1,
           1,
           1,
           1,
           1,
           1
          ],
          "vectorType": "sparse"
         },
         {
          "indices": [
           281,
           449,
           571,
           774,
           1166,
           1460,
           2867
          ],
          "length": 262144,
          "values": [
           5.788374426251837,
           6.149188258600684,
           6.39076933909854,
           6.626990486620093,
           7.042055668457277,
           7.248459091908991,
           7.922036176274839
          ],
          "vectorType": "sparse"
         },
         {
          "length": 20,
          "values": [
           0.0009952677702507338,
           0.0009954229948747355,
           0.000997019438146659,
           0.0009965252878035259,
           0.0009975510412174237,
           0.0009968609122503517,
           0.0009957622707805185,
           0.0009953340762244875,
           0.0009965104053984107,
           0.0009961014769417494,
           0.0009963522346320161,
           0.000997213188475252,
           0.000997595635557604,
           0.0009938105647284178,
           0.0010019092730154226,
           0.0009936315418600256,
           0.0009966843312510657,
           0.0009967550644237088,
           0.0009995672301376611,
           0.9810641252620301
          ],
          "vectorType": "dense"
         },
         [
          "interest rates",
          "false told",
          "pay rise",
          "easing signed",
          "rt major",
          "weeks inflations",
          "corporate profits",
          "major announcements",
          "reduction act",
          "inflation reduction",
          "gas prices",
          "couple weeks",
          "announcements last",
          "inflations easing",
          "signed respect",
          "told us",
          "last couple",
          "rt inflation",
          "respect marriag",
          "rt breaking"
         ]
        ]
       ],
       "datasetInfos": [],
       "dbfsResultPath": null,
       "isJsonSchema": true,
       "metadata": {},
       "overflow": false,
       "plotOptions": {
        "customPlotOptions": {},
        "displayType": "table",
        "pivotAggregation": null,
        "pivotColumns": null,
        "xColumns": null,
        "yColumns": null
       },
       "removedWidgets": [],
       "schema": [
        {
         "metadata": "{}",
         "name": "screen_name",
         "type": "\"string\""
        },
        {
         "metadata": "{}",
         "name": "tweet",
         "type": "\"string\""
        },
        {
         "metadata": "{}",
         "name": "location",
         "type": "\"string\""
        },
        {
         "metadata": "{}",
         "name": "geo",
         "type": "\"string\""
        },
        {
         "metadata": "{}",
         "name": "created_at",
         "type": "\"string\""
        },
        {
         "metadata": "{}",
         "name": "tokens",
         "type": "{\"type\":\"array\",\"elementType\":\"string\",\"containsNull\":true}"
        },
        {
         "metadata": "{}",
         "name": "filtered_tokens",
         "type": "{\"type\":\"array\",\"elementType\":\"string\",\"containsNull\":true}"
        },
        {
         "metadata": "{}",
         "name": "ngrams",
         "type": "{\"type\":\"array\",\"elementType\":\"string\",\"containsNull\":true}"
        },
        {
         "metadata": "{}",
         "name": "rawFeatures",
         "type": "{\"type\":\"udt\",\"class\":\"org.apache.spark.ml.linalg.VectorUDT\",\"pyClass\":\"pyspark.ml.linalg.VectorUDT\",\"sqlType\":{\"type\":\"struct\",\"fields\":[{\"name\":\"type\",\"type\":\"byte\",\"nullable\":false,\"metadata\":{}},{\"name\":\"size\",\"type\":\"integer\",\"nullable\":true,\"metadata\":{}},{\"name\":\"indices\",\"type\":{\"type\":\"array\",\"elementType\":\"integer\",\"containsNull\":false},\"nullable\":true,\"metadata\":{}},{\"name\":\"values\",\"type\":{\"type\":\"array\",\"elementType\":\"double\",\"containsNull\":false},\"nullable\":true,\"metadata\":{}}]}}"
        },
        {
         "metadata": "{}",
         "name": "features",
         "type": "{\"type\":\"udt\",\"class\":\"org.apache.spark.ml.linalg.VectorUDT\",\"pyClass\":\"pyspark.ml.linalg.VectorUDT\",\"sqlType\":{\"type\":\"struct\",\"fields\":[{\"name\":\"type\",\"type\":\"byte\",\"nullable\":false,\"metadata\":{}},{\"name\":\"size\",\"type\":\"integer\",\"nullable\":true,\"metadata\":{}},{\"name\":\"indices\",\"type\":{\"type\":\"array\",\"elementType\":\"integer\",\"containsNull\":false},\"nullable\":true,\"metadata\":{}},{\"name\":\"values\",\"type\":{\"type\":\"array\",\"elementType\":\"double\",\"containsNull\":false},\"nullable\":true,\"metadata\":{}}]}}"
        },
        {
         "metadata": "{}",
         "name": "topicDistribution",
         "type": "{\"type\":\"udt\",\"class\":\"org.apache.spark.ml.linalg.VectorUDT\",\"pyClass\":\"pyspark.ml.linalg.VectorUDT\",\"sqlType\":{\"type\":\"struct\",\"fields\":[{\"name\":\"type\",\"type\":\"byte\",\"nullable\":false,\"metadata\":{}},{\"name\":\"size\",\"type\":\"integer\",\"nullable\":true,\"metadata\":{}},{\"name\":\"indices\",\"type\":{\"type\":\"array\",\"elementType\":\"integer\",\"containsNull\":false},\"nullable\":true,\"metadata\":{}},{\"name\":\"values\",\"type\":{\"type\":\"array\",\"elementType\":\"double\",\"containsNull\":false},\"nullable\":true,\"metadata\":{}}]}}"
        },
        {
         "metadata": "{}",
         "name": "topicTerms",
         "type": "{\"type\":\"array\",\"elementType\":\"string\",\"containsNull\":true}"
        }
       ],
       "type": "table"
      }
     },
     "output_type": "display_data"
    }
   ],
   "source": [
    "display(predictions_with_topic_terms.take(5))"
   ]
  },
  {
   "cell_type": "markdown",
   "metadata": {
    "application/vnd.databricks.v1+cell": {
     "cellMetadata": {},
     "inputWidgets": {},
     "nuid": "8b5ead94-f3e3-4f2f-b39a-13f331415771",
     "showTitle": false,
     "title": ""
    }
   },
   "source": [
    "##### Coherence Score \n",
    "\n",
    "tried using the logLikelihood below for cohernce score but takes too much computing power and time"
   ]
  },
  {
   "cell_type": "code",
   "execution_count": 0,
   "metadata": {
    "application/vnd.databricks.v1+cell": {
     "cellMetadata": {
      "byteLimit": 2048000,
      "rowLimit": 10000
     },
     "inputWidgets": {},
     "nuid": "f1214100-ca33-41b8-bec9-8b815011e5fc",
     "showTitle": false,
     "title": ""
    }
   },
   "outputs": [
    {
     "data": {
      "text/html": [
       "<style scoped>\n",
       "  .ansiout {\n",
       "    display: block;\n",
       "    unicode-bidi: embed;\n",
       "    white-space: pre-wrap;\n",
       "    word-wrap: break-word;\n",
       "    word-break: break-all;\n",
       "    font-family: \"Source Code Pro\", \"Menlo\", monospace;;\n",
       "    font-size: 13px;\n",
       "    color: #555;\n",
       "    margin-left: 4px;\n",
       "    line-height: 19px;\n",
       "  }\n",
       "</style>"
      ]
     },
     "metadata": {
      "application/vnd.databricks.v1+output": {
       "arguments": {},
       "data": "",
       "errorSummary": "Cancelled",
       "errorTraceType": "html",
       "metadata": {},
       "type": "ipynbError"
      }
     },
     "output_type": "display_data"
    }
   ],
   "source": [
    "# Coherence score\n",
    "log_likelihood = lda_model.logLikelihood(train_transformed)\n",
    "# num_docs = train_transformed.count()\n",
    "# coherence_score = 2.0 * log_likelihood / (num_docs * (num_docs - 1))\n",
    "# print(\"Coherence score: {}\".format(coherence_score))"
   ]
  },
  {
   "cell_type": "markdown",
   "metadata": {
    "application/vnd.databricks.v1+cell": {
     "cellMetadata": {},
     "inputWidgets": {},
     "nuid": "7caa0f52-97d8-4f7c-b634-3bd534b81418",
     "showTitle": false,
     "title": ""
    }
   },
   "source": [
    "##### Lets check list of topic term of our tweets "
   ]
  },
  {
   "cell_type": "code",
   "execution_count": 0,
   "metadata": {
    "application/vnd.databricks.v1+cell": {
     "cellMetadata": {
      "byteLimit": 2048000,
      "rowLimit": 10000
     },
     "inputWidgets": {},
     "nuid": "2b9889c8-fe87-4101-b405-06972879e9b5",
     "showTitle": false,
     "title": ""
    }
   },
   "outputs": [
    {
     "name": "stdout",
     "output_type": "stream",
     "text": [
      "Topic 0: ['control inflation', 'inflation must', 'working people', 'rt say', 'say control', 'take aim', 'must take', 'profits working', 'aim corporate', 'gas prices']\n",
      "\n",
      "Topic 1: ['victory lap', 'joe biden', 'lap inflation', 'take victory', 'rt man', 'biden take', 'incompetent corrupt', 'man incompetent', 'corrupt joe', 'inflation collapsing']\n",
      "\n",
      "Topic 2: ['gas prices', 'inflation declining', 'rt well', 'straight months', 'prices common', 'declining straight', 'common price', 'price unemployment', 'near ye', 'inflation decreasing']\n",
      "\n",
      "Topic 3: ['inflation easing', 'signs inflation', 'job creation', 'near year', 'early signs', 'year low', 'low gas', 'historic job', 'rt historic', 'easing unemployment']\n",
      "\n",
      "Topic 4: ['retail inflation', 'inflation declines', 'declines month', 'month low', 'low november', 'rt retail', 'let us', 'printing money', 'modi govt', 'november measures']\n",
      "\n",
      "Topic 5: ['reduction act', 'inflation reduction', 'rt watch', 'tax cut', 'cut inflation', 'another tax', 'america getting', 'act beginnin', 'wealthiest corporations', 'watch wealthiest']\n",
      "\n",
      "Topic 6: ['keeping inflation', 'money pay', 'wages keeping', 'plenty money', 'pay nhs', 'reasonable wages', 'rt plenty', 'workers reasonable', 'nhs workers', 'last month']\n",
      "\n",
      "Topic 7: ['last quarter', 'stock buybacks', 'billion stock', 'folks corporate', 'profits last', 'billion profits', 'announced billion', 'rt exxonmobil', 'buybacks folks', 'raked billion']\n",
      "\n",
      "Topic 8: ['current rate', 'rt absolutely', 'outlaw cash', 'trying outlaw', 'cash transaction', 'absolutely tyrannical', 'eu trying', 'tyrannical eu', 'transaction current', 'rate infla']\n",
      "\n",
      "Topic 9: ['savings account', 'since pandemic', 'rt judging', 'account since', 'saying reach', 'reach savings', 'judging girl', 'girl saying', 'inflation pay', 'rt pay']\n",
      "\n",
      "Topic 10: ['inflation n', 'dealing inflation', 'reminder republicans', 'dr fauci', 'rt reminder', 'zero plans', 'fauci still', 'plans dealing', 'busy pronouns', 'still zero']\n",
      "\n",
      "Topic 11: ['corporate profits', 'record high', 'latest inflation', 'rt latest', 'hit record', 'mention corporate', 'inflation reporting', 'high corporate', 'profits hit', 'reporting mention']\n",
      "\n",
      "Topic 12: ['gas prices', 'inflation lower', 'lower gas', 'gdp jobs', 'prices gdp', 'unemployment wages', 'jobs manufacturing', 'rt inflation', 'manufacturing booming', 'booming unemployment']\n",
      "\n",
      "Topic 13: ['inflation tax', 'rt inflation', 'weeks ago', 'inflation skyrocketing', 'skyrocketing control', 'assured inflation', 'control weeks', 'ago weird', 'rt assured', 'inflation rates']\n",
      "\n",
      "Topic 14: ['told us', 'false told', 'rt major', 'major announcements', 'signed respect', 'last couple', 'couple weeks', 'inflations easing', 'announcements last', 'weeks inflations']\n",
      "\n",
      "Topic 15: ['inflation inflation', 'price gouging', 'rt inflation', 'inflation price', 'kicked nuts', 'get kicked', 'higher wages', 'interest rates', 'federal reserve', 'save lives']\n",
      "\n",
      "Topic 16: ['rt breaking', 'breaking inflation', 'significantly november', 'inflation dropped', 'bottom line', 'dropped significantly', 'november lower', 'lower october', 'october bottom', 'line p']\n",
      "\n",
      "Topic 17: ['inflation universe', 'join inflation', 'campaign welcome', 'natives share', 'universe campaign', 'become natives', 'welcome become', 'share web', 'largest corporations', 'january largest']\n",
      "\n",
      "Topic 18: ['slow inflation', 'inflation significantly', 'record job', 'helped slow', 'breaking new', 'biden helped', 'showing president', 'reports showing', 'stopping record', 'new reports']\n",
      "\n",
      "Topic 19: ['world inflation', 'inflation rising', 'around world', 'rt world', 'double digits', 'major economies', 'rising double', 'economies around', 'many major', 'digits many']\n",
      "\n"
     ]
    }
   ],
   "source": [
    "# Lrts get the terms for each topic\n",
    "topics = lda_model.describeTopics()\n",
    "vocabArray = model.stages[-2].vocabulary\n",
    "\n",
    "topics_rdd = topics.rdd.map(lambda row: row['termIndices']).map(lambda idx_list: [vocabArray[idx] for idx in idx_list])\n",
    "for idx, topic in enumerate(topics_rdd.collect()):\n",
    "    print(\"Topic {0}: {1}\\n\".format(idx, topic))\n"
   ]
  },
  {
   "cell_type": "markdown",
   "metadata": {
    "application/vnd.databricks.v1+cell": {
     "cellMetadata": {},
     "inputWidgets": {},
     "nuid": "9cd2306f-e2b1-4595-875c-5538d96d4c54",
     "showTitle": false,
     "title": ""
    }
   },
   "source": [
    "##### Evaluation metric\n",
    "\n",
    "It's hard to get coherence score while using LDA model from spark \n",
    "however, we car try training out model with Gensim LDA model Which is more easy to interpret as well as easy to transfrom and acess the corpus of the topics"
   ]
  },
  {
   "cell_type": "markdown",
   "metadata": {
    "application/vnd.databricks.v1+cell": {
     "cellMetadata": {},
     "inputWidgets": {},
     "nuid": "5ea0dc18-809c-4c17-9da5-da150a47a39e",
     "showTitle": false,
     "title": ""
    }
   },
   "source": [
    "#### Saving the prediction in S3 bucket "
   ]
  },
  {
   "cell_type": "code",
   "execution_count": 0,
   "metadata": {
    "application/vnd.databricks.v1+cell": {
     "cellMetadata": {
      "byteLimit": 2048000,
      "rowLimit": 10000
     },
     "inputWidgets": {},
     "nuid": "27ca6227-774a-496b-ba15-1ffcc9ffa287",
     "showTitle": false,
     "title": ""
    }
   },
   "outputs": [],
   "source": [
    "predictions = predictions_with_topic_terms"
   ]
  },
  {
   "cell_type": "code",
   "execution_count": 0,
   "metadata": {
    "application/vnd.databricks.v1+cell": {
     "cellMetadata": {
      "byteLimit": 2048000,
      "rowLimit": 10000
     },
     "inputWidgets": {},
     "nuid": "6fac2d93-3e65-4b4c-8a4f-4eb2f72da004",
     "showTitle": false,
     "title": ""
    }
   },
   "outputs": [],
   "source": [
    "(predictions\n",
    " .write\n",
    " .parquet('/mnt/inflation/Sparkpred_lda.parquet'))"
   ]
  },
  {
   "cell_type": "markdown",
   "metadata": {
    "application/vnd.databricks.v1+cell": {
     "cellMetadata": {},
     "inputWidgets": {},
     "nuid": "23ccf954-fb32-4e43-b786-5d16c96f06e9",
     "showTitle": false,
     "title": ""
    }
   },
   "source": [
    "### Analyzing the Model\n",
    "##### Possible interpration from term of topics \n",
    "- topic 0 - Inflation concerns India/ politics and government policies.\n",
    "- topic 1 - Inflation control strategy.\n",
    "- topic 2 - Corporate profitability analysis.\n",
    "- topic 4 - Inflation trending downwards.\n",
    "- topic 8 - Russian oil purchases."
   ]
  },
  {
   "cell_type": "code",
   "execution_count": 0,
   "metadata": {
    "application/vnd.databricks.v1+cell": {
     "cellMetadata": {},
     "inputWidgets": {},
     "nuid": "c4000f1c-33a3-4336-8998-f4556ef4df1c",
     "showTitle": false,
     "title": ""
    }
   },
   "outputs": [],
   "source": []
  },
  {
   "cell_type": "code",
   "execution_count": 0,
   "metadata": {
    "application/vnd.databricks.v1+cell": {
     "cellMetadata": {},
     "inputWidgets": {},
     "nuid": "f6efa694-2326-46a8-9617-9a38991fde29",
     "showTitle": false,
     "title": ""
    }
   },
   "outputs": [],
   "source": []
  },
  {
   "cell_type": "markdown",
   "metadata": {
    "application/vnd.databricks.v1+cell": {
     "cellMetadata": {},
     "inputWidgets": {},
     "nuid": "237e502f-d67b-4b69-8a5e-418c2cdd0343",
     "showTitle": false,
     "title": ""
    }
   },
   "source": [
    "#### Gensim LDA model\n",
    "\n",
    "##### Spark - preprocessing steps and train model on Gensim Lda model"
   ]
  },
  {
   "cell_type": "code",
   "execution_count": 0,
   "metadata": {
    "application/vnd.databricks.v1+cell": {
     "cellMetadata": {
      "byteLimit": 2048000,
      "rowLimit": 10000
     },
     "inputWidgets": {},
     "nuid": "3a3b85a3-c4b9-4353-ad8a-e3a2afa30f40",
     "showTitle": false,
     "title": ""
    }
   },
   "outputs": [],
   "source": [
    "# Splitting data into trainng and testing set\n",
    "train_data, test_data = df_clean.randomSplit([0.8, 0.2], seed=42)\n",
    "\n",
    "# preprocessing steps\n",
    "regexTokenizer = RegexTokenizer(inputCol=\"tweet\", outputCol=\"tokens\", pattern=\"\\\\s+\")\n",
    "stopwordsRemover = StopWordsRemover(inputCol=\"tokens\", outputCol=\"filtered_tokens\")\n",
    "ngram = NGram(n=2, inputCol=\"filtered_tokens\", outputCol=\"ngrams\")\n",
    "countVectorizer = CountVectorizer(inputCol=\"ngrams\", outputCol=\"rawFeatures\")\n",
    "idf = IDF(inputCol=\"rawFeatures\", outputCol=\"features\")\n",
    "\n",
    "# pipeline for preprocessing steps\n",
    "pipeline = Pipeline(stages=[regexTokenizer, stopwordsRemover, ngram, countVectorizer, idf])\n",
    "\n",
    "# fitting pipeline to the training data\n",
    "model = pipeline.fit(train_data)\n",
    "\n",
    "# Transforming the training and testing data using the fitted pipeline\n",
    "train_transformed = model.transform(train_data)\n",
    "test_transformed = model.transform(test_data)\n",
    "\n",
    "\n",
    "texts = train_transformed.select(\"ngrams\").rdd.flatMap(lambda x: x).collect()\n",
    "texts = [text.split() if isinstance(text, str) else text for text in texts]\n",
    "\n",
    "# Creating Gensim dictionary\n",
    "dictionary = gensim.corpora.Dictionary(texts)\n",
    "\n",
    "#creating corpus\n",
    "corpus = []\n",
    "for text in texts:\n",
    "    bow = dictionary.doc2bow(text)\n",
    "    corpus.append(bow)\n",
    "\n",
    "# Training LDA model using Gensim\n",
    "lda_model = LdaModel(corpus=corpus, id2word=dictionary, num_topics=20, iterations=10)\n"
   ]
  },
  {
   "cell_type": "markdown",
   "metadata": {
    "application/vnd.databricks.v1+cell": {
     "cellMetadata": {},
     "inputWidgets": {},
     "nuid": "213bc423-0c3d-4f98-8280-ece58e7e6155",
     "showTitle": false,
     "title": ""
    }
   },
   "source": [
    "##### Coherence score and LDA perplexity for model comparison"
   ]
  },
  {
   "cell_type": "code",
   "execution_count": 0,
   "metadata": {
    "application/vnd.databricks.v1+cell": {
     "cellMetadata": {
      "byteLimit": 2048000,
      "rowLimit": 10000
     },
     "inputWidgets": {},
     "nuid": "69ff2bf7-b9a4-487c-8d24-2962f6555c5b",
     "showTitle": false,
     "title": ""
    }
   },
   "outputs": [
    {
     "name": "stdout",
     "output_type": "stream",
     "text": [
      "coherence_score:  0.33436422530193927\n",
      "LDA Perplexity:  -23.07713527142825\n"
     ]
    }
   ],
   "source": [
    "# Coherence score for eavulating the model\n",
    "coherence_model = CoherenceModel(model=lda_model, texts=texts, dictionary=dictionary, coherence='c_v')\n",
    "coherence_score = coherence_model.get_coherence()\n",
    "print('coherence_score: ', coherence_score)\n",
    "# Perplexity for checking differnec between 2 model \n",
    "print('LDA Perplexity: ', lda_model.log_perplexity(corpus)) # a measure of how good the model is. lower the better."
   ]
  },
  {
   "cell_type": "markdown",
   "metadata": {
    "application/vnd.databricks.v1+cell": {
     "cellMetadata": {},
     "inputWidgets": {},
     "nuid": "ed63bb3c-6e26-4a64-96c5-5fe45994907c",
     "showTitle": false,
     "title": ""
    }
   },
   "source": [
    "##### Term topic and their weights"
   ]
  },
  {
   "cell_type": "code",
   "execution_count": 0,
   "metadata": {
    "application/vnd.databricks.v1+cell": {
     "cellMetadata": {
      "byteLimit": 2048000,
      "rowLimit": 10000
     },
     "inputWidgets": {},
     "nuid": "a9377964-d3fd-4112-97c6-60b22983b25b",
     "showTitle": false,
     "title": ""
    }
   },
   "outputs": [
    {
     "name": "stdout",
     "output_type": "stream",
     "text": [
      "Topic 0: 0.027*\"inflation pay\" + 0.016*\"rt pay\" + 0.016*\"next year\" + 0.015*\"fuelled inflation\" + 0.015*\"pay fuelled\" + 0.015*\"years profit\" + 0.015*\"squeezed years\" + 0.015*\"pay squeezed\" + 0.015*\"profit pushed\" + 0.014*\"rt president\"\n",
      "Topic 1: 0.024*\"rt inflation\" + 0.022*\"pay rises\" + 0.021*\"inflation lower\" + 0.020*\"public sector\" + 0.015*\"climate change\" + 0.014*\"gas prices\" + 0.014*\"gdp jobs\" + 0.013*\"prices gdp\" + 0.013*\"lower gas\" + 0.012*\"jobs manufacturing\"\n",
      "Topic 2: 0.026*\"inflation still\" + 0.015*\"inflation inflation\" + 0.014*\"annual inflation\" + 0.014*\"still high\" + 0.013*\"food price\" + 0.011*\"public sector\" + 0.011*\"people said\" + 0.010*\"inflation expectations\" + 0.010*\"rt wrote\" + 0.010*\"far enough\"\n",
      "Topic 3: 0.095*\"told us\" + 0.062*\"false told\" + 0.033*\"rt told\" + 0.033*\"zero inflation\" + 0.031*\"russian collusion\" + 0.031*\"inflation false\" + 0.031*\"us russian\" + 0.031*\"us zero\" + 0.031*\"collusion false\" + 0.031*\"us twitter\"\n",
      "Topic 4: 0.041*\"us inflation\" + 0.028*\"last quarter\" + 0.028*\"stock buybacks\" + 0.028*\"billion stock\" + 0.028*\"raked billion\" + 0.028*\"announced billion\" + 0.028*\"billion profits\" + 0.028*\"profits last\" + 0.028*\"quarter announced\" + 0.028*\"exxonmobil raked\"\n",
      "Topic 5: 0.064*\"major announcements\" + 0.064*\"rt major\" + 0.064*\"signed respect\" + 0.064*\"last couple\" + 0.064*\"couple weeks\" + 0.064*\"inflations easing\" + 0.063*\"announcements last\" + 0.063*\"easing signed\" + 0.063*\"weeks inflations\" + 0.063*\"respect marriag\"\n",
      "Topic 6: 0.027*\"rt us\" + 0.020*\"lower expected\" + 0.014*\"inflation amp\" + 0.014*\"biden inflation\" + 0.013*\"rt people\" + 0.012*\"interest rates\" + 0.012*\"fell november\" + 0.011*\"november lower\" + 0.011*\"due inflation\" + 0.010*\"raising interest\"\n",
      "Topic 7: 0.050*\"inflation reduction\" + 0.048*\"reduction act\" + 0.024*\"rt absolutely\" + 0.023*\"current rate\" + 0.023*\"rate infla\" + 0.023*\"absolutely tyrannical\" + 0.023*\"outlaw cash\" + 0.023*\"trying outlaw\" + 0.023*\"cash transaction\" + 0.023*\"eu trying\"\n",
      "Topic 8: 0.026*\"president biden\" + 0.023*\"rt still\" + 0.022*\"federal reserve\" + 0.020*\"gas prices\" + 0.020*\"interest rate\" + 0.018*\"still waiting\" + 0.018*\"prices dropping\" + 0.017*\"dropping inflation\" + 0.017*\"biden credit\" + 0.017*\"plummeting gas\"\n",
      "Topic 9: 0.080*\"inflation rate\" + 0.050*\"interest rates\" + 0.022*\"lower inflation\" + 0.017*\"uk inflation\" + 0.016*\"good news\" + 0.015*\"rt good\" + 0.015*\"cost living\" + 0.012*\"raise interest\" + 0.010*\"fighting inflation\" + 0.010*\"inflation last\"\n",
      "Topic 10: 0.037*\"pay rise\" + 0.030*\"savings account\" + 0.030*\"since pandemic\" + 0.030*\"account since\" + 0.030*\"rt judging\" + 0.030*\"girl saying\" + 0.030*\"judging girl\" + 0.030*\"saying reach\" + 0.030*\"reach savings\" + 0.018*\"inflation busting\"\n",
      "Topic 11: 0.028*\"rt inflation\" + 0.020*\"let us\" + 0.018*\"families afford\" + 0.018*\"combat inflation\" + 0.016*\"inflation driving\" + 0.016*\"christmas presents\" + 0.016*\"driving costs\" + 0.016*\"christmas dinner\" + 0.016*\"costs christmas\" + 0.016*\"presents christmas\"\n",
      "Topic 12: 0.106*\"rt inflation\" + 0.019*\"inflation high\" + 0.017*\"pay rise\" + 0.012*\"inflation november\" + 0.010*\"rt workers\" + 0.010*\"rt tories\" + 0.009*\"nhs staff\" + 0.009*\"rise pay\" + 0.009*\"rise th\" + 0.008*\"losing jobs\"\n",
      "Topic 13: 0.035*\"high inflation\" + 0.017*\"rt breaking\" + 0.013*\"record inflation\" + 0.012*\"pay rise\" + 0.010*\"liberal government\" + 0.010*\"scottish govt\" + 0.010*\"years worth\" + 0.010*\"worth food\" + 0.009*\"deal pay\" + 0.009*\"strike unions\"\n",
      "Topic 14: 0.049*\"gas prices\" + 0.025*\"inflation gas\" + 0.023*\"rt biden\" + 0.014*\"food inflation\" + 0.014*\"rt like\" + 0.013*\"rt inflation\" + 0.013*\"created inflation\" + 0.012*\"trading card\" + 0.012*\"rt government\" + 0.011*\"like presidents\"\n",
      "Topic 15: 0.025*\"keeping inflation\" + 0.024*\"nhs workers\" + 0.024*\"wages keeping\" + 0.024*\"money pay\" + 0.023*\"rt plenty\" + 0.023*\"plenty money\" + 0.023*\"pay nhs\" + 0.023*\"workers reasonable\" + 0.023*\"reasonable wages\" + 0.012*\"year ago\"\n",
      "Topic 16: 0.032*\"rt breaking\" + 0.025*\"breaking inflation\" + 0.024*\"inflation dropped\" + 0.023*\"significantly november\" + 0.023*\"bottom line\" + 0.023*\"dropped significantly\" + 0.023*\"november lower\" + 0.022*\"lower october\" + 0.022*\"october bottom\" + 0.022*\"line p\"\n",
      "Topic 17: 0.023*\"rt inflation\" + 0.021*\"world inflation\" + 0.019*\"around world\" + 0.017*\"inflation rising\" + 0.015*\"gas prices\" + 0.014*\"inflation report\" + 0.014*\"double digits\" + 0.013*\"rt world\" + 0.013*\"economies around\" + 0.013*\"rising double\"\n",
      "Topic 18: 0.027*\"last month\" + 0.023*\"inflation data\" + 0.020*\"month inflation\" + 0.016*\"new year\" + 0.016*\"inflation came\" + 0.016*\"rt morning\" + 0.015*\"year year\" + 0.015*\"cpi inflation\" + 0.014*\"rt starting\" + 0.014*\"morning received\"\n",
      "Topic 19: 0.080*\"corporate profits\" + 0.027*\"record high\" + 0.026*\"control inflation\" + 0.024*\"latest inflation\" + 0.023*\"rt latest\" + 0.022*\"hit record\" + 0.022*\"mention corporate\" + 0.022*\"high corporate\" + 0.022*\"inflation reporting\" + 0.022*\"profits hit\"\n"
     ]
    }
   ],
   "source": [
    "topics = lda_model.print_topics()\n",
    "for topic in topics:\n",
    "    print(f\"Topic {topic[0]}: {topic[1]}\")"
   ]
  },
  {
   "cell_type": "markdown",
   "metadata": {
    "application/vnd.databricks.v1+cell": {
     "cellMetadata": {},
     "inputWidgets": {},
     "nuid": "576147d4-6151-4891-8ca1-5806b6893b34",
     "showTitle": false,
     "title": ""
    }
   },
   "source": [
    "##### How to interpret the reuslt \n",
    "for eg.,\n",
    "Topic 0:- These words suggest that the topic is about reporting on the latest inflation numbers and how they are affecting corporate profits, with a focus on record highs.\n",
    "Topic 4:- interest rates, federal reserve, rate hikes"
   ]
  },
  {
   "cell_type": "markdown",
   "metadata": {
    "application/vnd.databricks.v1+cell": {
     "cellMetadata": {},
     "inputWidgets": {},
     "nuid": "c0e8cad7-8e97-4b98-8e5f-10067bab496c",
     "showTitle": false,
     "title": ""
    }
   },
   "source": [
    "##### juts terms of topic"
   ]
  },
  {
   "cell_type": "code",
   "execution_count": 0,
   "metadata": {
    "application/vnd.databricks.v1+cell": {
     "cellMetadata": {
      "byteLimit": 2048000,
      "rowLimit": 10000
     },
     "inputWidgets": {},
     "nuid": "e2a83550-5c92-47a5-8f02-69aca3fbbdf3",
     "showTitle": false,
     "title": ""
    },
    "scrolled": true
   },
   "outputs": [
    {
     "name": "stdout",
     "output_type": "stream",
     "text": [
      "Topic 0: ['inflation pay', 'rt pay', 'next year', 'fuelled inflation', 'pay fuelled', 'years profit', 'squeezed years', 'pay squeezed', 'profit pushed', 'rt president']\n",
      "Topic 1: ['rt inflation', 'pay rises', 'inflation lower', 'public sector', 'climate change', 'gas prices', 'gdp jobs', 'prices gdp', 'lower gas', 'jobs manufacturing']\n",
      "Topic 2: ['inflation still', 'inflation inflation', 'annual inflation', 'still high', 'food price', 'public sector', 'people said', 'inflation expectations', 'rt wrote', 'far enough']\n",
      "Topic 3: ['told us', 'false told', 'rt told', 'zero inflation', 'russian collusion', 'inflation false', 'us russian', 'us zero', 'collusion false', 'us twitter']\n",
      "Topic 4: ['us inflation', 'last quarter', 'stock buybacks', 'billion stock', 'raked billion', 'announced billion', 'billion profits', 'profits last', 'quarter announced', 'exxonmobil raked']\n",
      "Topic 5: ['major announcements', 'rt major', 'signed respect', 'last couple', 'couple weeks', 'inflations easing', 'announcements last', 'easing signed', 'weeks inflations', 'respect marriag']\n",
      "Topic 6: ['rt us', 'lower expected', 'inflation amp', 'biden inflation', 'rt people', 'interest rates', 'fell november', 'november lower', 'due inflation', 'raising interest']\n",
      "Topic 7: ['inflation reduction', 'reduction act', 'rt absolutely', 'current rate', 'rate infla', 'absolutely tyrannical', 'outlaw cash', 'trying outlaw', 'cash transaction', 'eu trying']\n",
      "Topic 8: ['president biden', 'rt still', 'federal reserve', 'gas prices', 'interest rate', 'still waiting', 'prices dropping', 'dropping inflation', 'biden credit', 'plummeting gas']\n",
      "Topic 9: ['inflation rate', 'interest rates', 'lower inflation', 'uk inflation', 'good news', 'rt good', 'cost living', 'raise interest', 'fighting inflation', 'inflation last']\n",
      "Topic 10: ['pay rise', 'savings account', 'since pandemic', 'account since', 'rt judging', 'girl saying', 'judging girl', 'saying reach', 'reach savings', 'inflation busting']\n",
      "Topic 11: ['rt inflation', 'let us', 'families afford', 'combat inflation', 'inflation driving', 'christmas presents', 'driving costs', 'christmas dinner', 'costs christmas', 'presents christmas']\n",
      "Topic 12: ['rt inflation', 'inflation high', 'pay rise', 'inflation november', 'rt workers', 'rt tories', 'nhs staff', 'rise pay', 'rise th', 'losing jobs']\n",
      "Topic 13: ['high inflation', 'rt breaking', 'record inflation', 'pay rise', 'liberal government', 'scottish govt', 'years worth', 'worth food', 'deal pay', 'strike unions']\n",
      "Topic 14: ['gas prices', 'inflation gas', 'rt biden', 'food inflation', 'rt like', 'rt inflation', 'created inflation', 'trading card', 'rt government', 'like presidents']\n",
      "Topic 15: ['keeping inflation', 'nhs workers', 'wages keeping', 'money pay', 'rt plenty', 'plenty money', 'pay nhs', 'workers reasonable', 'reasonable wages', 'year ago']\n",
      "Topic 16: ['rt breaking', 'breaking inflation', 'inflation dropped', 'significantly november', 'bottom line', 'dropped significantly', 'november lower', 'lower october', 'october bottom', 'line p']\n",
      "Topic 17: ['rt inflation', 'world inflation', 'around world', 'inflation rising', 'gas prices', 'inflation report', 'double digits', 'rt world', 'economies around', 'rising double']\n",
      "Topic 18: ['last month', 'inflation data', 'month inflation', 'new year', 'inflation came', 'rt morning', 'year year', 'cpi inflation', 'rt starting', 'morning received']\n",
      "Topic 19: ['corporate profits', 'record high', 'control inflation', 'latest inflation', 'rt latest', 'hit record', 'mention corporate', 'high corporate', 'inflation reporting', 'profits hit']\n"
     ]
    }
   ],
   "source": [
    "topics = lda_model.show_topics(num_topics=-1, num_words=10, formatted=False)\n",
    "for topic in topics:\n",
    "    print(f\"Topic {topic[0]}: {[word[0] for word in topic[1]]}\")"
   ]
  },
  {
   "cell_type": "markdown",
   "metadata": {
    "application/vnd.databricks.v1+cell": {
     "cellMetadata": {},
     "inputWidgets": {},
     "nuid": "32911de2-fd98-422a-b47d-fdedb7fff524",
     "showTitle": false,
     "title": ""
    }
   },
   "source": [
    "##### visual representation of the topics\n",
    "\n",
    "- The bubbles represent the prevalence of topics and their similarity is based on word overlap.\n",
    "- (More strong and distinct topic from documnet if the bubble is not overlapping)\n",
    "- (Moving the silder of relevence metric to left help us to remove/ filter most comman words which is better it helps to avoid common words which were not removed by stopwrod transformation)"
   ]
  },
  {
   "cell_type": "code",
   "execution_count": 0,
   "metadata": {
    "application/vnd.databricks.v1+cell": {
     "cellMetadata": {
      "byteLimit": 2048000,
      "rowLimit": 10000
     },
     "inputWidgets": {},
     "nuid": "3551e03e-e7bf-4cd2-9895-428322e512be",
     "showTitle": false,
     "title": ""
    }
   },
   "outputs": [
    {
     "data": {
      "text/html": [
       "\n",
       "<link rel=\"stylesheet\" type=\"text/css\" href=\"https://cdn.jsdelivr.net/gh/bmabey/pyLDAvis@3.4.0/pyLDAvis/js/ldavis.v1.0.0.css\">\n",
       "\n",
       "\n",
       "<div id=\"ldavis_el160381406060140246089296309832\" style=\"background-color:white;\"></div>\n",
       "<script type=\"text/javascript\">\n",
       "\n",
       "var ldavis_el160381406060140246089296309832_data = {\"mdsDat\": {\"x\": [-0.3136664316984223, -0.10847890944162672, -0.1607682471897606, 0.023388279091060324, 0.011175122907999538, -0.055264401459887175, -0.0030322076759080508, 0.0916766842417436, 0.1105767289146624, 0.08913455529127247, -0.032968011665043005, 0.06569860560321429, 0.08344461958766924, -0.021051919579429958, 0.038491634559115244, 0.026377308095677746, 0.02528988568822644, 0.0051173931913645904, 0.08604853464716514, 0.03881077689090689], \"y\": [-0.1805110658177715, 0.026001798265968802, 0.3561099125380454, 0.08123297534648138, -0.03487954489260234, -0.05466513819612471, -0.04601854057797225, -0.006467796290653846, 0.001731317884771936, 0.0033196608481453056, -0.005305380628342191, -0.0014299178394542949, 0.003938212698112539, -0.039343134494110685, -0.03317749577352723, -0.019175409487429997, -0.01529006301284606, -0.03015021858785745, 0.004280992261350002, -0.010201164244182983], \"topics\": [1, 2, 3, 4, 5, 6, 7, 8, 9, 10, 11, 12, 13, 14, 15, 16, 17, 18, 19, 20], \"cluster\": [1, 1, 1, 1, 1, 1, 1, 1, 1, 1, 1, 1, 1, 1, 1, 1, 1, 1, 1, 1], \"Freq\": [6.284353677753515, 5.908873743875265, 5.865711459877587, 5.710565543861253, 5.6418505596459045, 5.2590069555282435, 5.173250399896079, 5.0614289040740985, 5.0367686448153, 5.014879175744418, 4.978021909334464, 4.814489286591554, 4.738248417806574, 4.637151210519075, 4.39855118571281, 4.371719335848291, 4.353442619394662, 4.3415701260265775, 4.211869752189414, 4.198247091504911]}, \"tinfo\": {\"Term\": [\"told us\", \"rt inflation\", \"corporate profits\", \"inflation rate\", \"major announcements\", \"rt major\", \"signed respect\", \"last couple\", \"couple weeks\", \"inflations easing\", \"announcements last\", \"easing signed\", \"weeks inflations\", \"respect marriag\", \"false told\", \"gas prices\", \"inflation reduction\", \"reduction act\", \"interest rates\", \"pay rise\", \"us inflation\", \"rt breaking\", \"rt told\", \"zero inflation\", \"russian collusion\", \"high inflation\", \"inflation false\", \"us russian\", \"us zero\", \"collusion false\", \"corporate profits\", \"record high\", \"control inflation\", \"latest inflation\", \"rt latest\", \"hit record\", \"mention corporate\", \"high corporate\", \"inflation reporting\", \"profits hit\", \"reporting mention\", \"profits rea\", \"inflation must\", \"working people\", \"rt say\", \"say control\", \"must take\", \"take aim\", \"profits working\", \"aim corporate\", \"retail inflation\", \"inflation years\", \"rt corporate\", \"slow inflation\", \"inflation significantly\", \"record corporate\", \"worst inflation\", \"price growth\", \"record job\", \"biden helped\", \"president biden\", \"rt breaking\", \"told us\", \"false told\", \"rt told\", \"zero inflation\", \"russian collusion\", \"inflation false\", \"us russian\", \"us zero\", \"collusion false\", \"us twitter\", \"victory lap\", \"lap inflation\", \"take victory\", \"rt man\", \"biden take\", \"incompetent corrupt\", \"inflation collapsing\", \"collapsing productivity\", \"man incompetent\", \"corrupt joe\", \"hunter biden\", \"inflation coming\", \"biden laptop\", \"november inflation\", \"printing money\", \"says inflation\", \"price gas\", \"rule law\", \"rt hunter\", \"performative investigations\", \"joe biden\", \"global inflation\", \"rt republican\", \"major announcements\", \"rt major\", \"signed respect\", \"last couple\", \"couple weeks\", \"inflations easing\", \"announcements last\", \"easing signed\", \"weeks inflations\", \"respect marriag\", \"fight inflation\", \"rt fight\", \"inflation fathom\", \"new way\", \"marriage equality\", \"fathom new\", \"big day\", \"advanced manufacturing\", \"day white\", \"equality inflation\", \"inflation advanced\", \"manufacturing gas\", \"house marriage\", \"rt consumer\", \"way fathom\", \"us cpi\", \"one year\", \"rise inflation\", \"fathom website\", \"tax dodgers\", \"consumer inflation\", \"rt big\", \"white house\", \"gas prices\", \"rt absolutely\", \"current rate\", \"rate infla\", \"absolutely tyrannical\", \"outlaw cash\", \"trying outlaw\", \"cash transaction\", \"eu trying\", \"transaction current\", \"tyrannical eu\", \"rt watch\", \"tax cut\", \"cut inflation\", \"another tax\", \"corporations america\", \"wealthiest corporations\", \"america getting\", \"getting another\", \"watch wealthiest\", \"act beginnin\", \"inflation going\", \"rise line\", \"inflation nothing\", \"lowering inflation\", \"nothing brag\", \"brag trump\", \"inflation please\", \"address inflation\", \"inflation getting\", \"trump white\", \"reduction act\", \"inflation reduction\", \"dark brandon\", \"white house\", \"rt inflation\", \"rt still\", \"still waiting\", \"prices dropping\", \"dropping inflation\", \"biden credit\", \"plummeting gas\", \"give president\", \"waiting republicans\", \"republicans give\", \"credit plummeting\", \"rate inflation\", \"rate hike\", \"complain inflation\", \"great news\", \"inflation year\", \"rt bank\", \"inflation ever\", \"raised interest\", \"trump trading\", \"new rule\", \"rt new\", \"rt price\", \"pay digital\", \"card nft\", \"nft allowed\", \"digital trump\", \"allowed complain\", \"rule pay\", \"fed inflation\", \"rt federal\", \"federal reserve\", \"interest rate\", \"president biden\", \"year high\", \"bank england\", \"rate hikes\", \"rate cuts\", \"rt fed\", \"rt powell\", \"gas prices\", \"inflation target\", \"interest rates\", \"breaking inflation\", \"significantly november\", \"bottom line\", \"dropped significantly\", \"lower october\", \"october bottom\", \"line p\", \"dealing inflation\", \"inflation n\", \"reminder republicans\", \"zero plans\", \"still zero\", \"dr fauci\", \"busy pronouns\", \"plans dealing\", \"fauci still\", \"pronouns dr\", \"republicans busy\", \"inflation caused\", \"last year\", \"inflation recession\", \"expected inflation\", \"rt well\", \"years ago\", \"jeremy hunt\", \"increase inflation\", \"rt think\", \"two years\", \"treasury secretary\", \"long term\", \"janet yellen\", \"inflation dropped\", \"rt reminder\", \"november lower\", \"rt breaking\", \"core inflation\", \"wall street\", \"record inflation\", \"liberal government\", \"scottish govt\", \"years worth\", \"worth food\", \"deal pay\", \"strike unions\", \"reached deal\", \"rt tweet\", \"breaking nurses\", \"govt reached\", \"nurses scotland\", \"scotland strike\", \"unions scottish\", \"deleting years\", \"government actively\", \"food infla\", \"actively deleting\", \"canadian liberal\", \"sinks canadian\", \"tweet sinks\", \"inflation record\", \"rt today\", \"adjusted inflation\", \"blame inflation\", \"inflation border\", \"inflation cost\", \"weeks ago\", \"illegal immigration\", \"inflation skyrocketing\", \"high inflation\", \"donald trump\", \"inflation right\", \"rt breaking\", \"pay rise\", \"climate change\", \"gdp jobs\", \"prices gdp\", \"lower gas\", \"jobs manufacturing\", \"unemployment wages\", \"rt trudeau\", \"manufacturing booming\", \"booming unemployment\", \"wages th\", \"sector workers\", \"trudeau government\", \"weather data\", \"change narrative\", \"conflicted climate\", \"data conflicted\", \"deleted weather\", \"government deleted\", \"narrative statscan\", \"statscan dele\", \"consumer prices\", \"inflation tax\", \"workers inflation\", \"inflation control\", \"small businesses\", \"tax americans\", \"inflation related\", \"amp trace\", \"pause thought\", \"giving nhs\", \"pay rises\", \"inflation lower\", \"rt uk\", \"caused inflation\", \"public sector\", \"line inflation\", \"rt inflation\", \"gas prices\", \"price inflation\", \"inflation high\", \"inflation november\", \"rt workers\", \"rt tories\", \"rise pay\", \"rise th\", \"way one\", \"one get\", \"blame nhs\", \"get blame\", \"staff asking\", \"tories way\", \"asking badly\", \"badly needed\", \"needed pay\", \"inflation unemployment\", \"jeep cherokee\", \"cherokee plant\", \"belvidere illinois\", \"illinois auto\", \"jobs jeep\", \"plant belvidere\", \"workers losing\", \"auto maker\", \"maker finance\", \"food prices\", \"resistance inflation\", \"inflation global\", \"october november\", \"inflation peaked\", \"rt inflation\", \"inflation slowed\", \"nhs staff\", \"pay rise\", \"losing jobs\", \"central bank\", \"world inflation\", \"around world\", \"inflation rising\", \"inflation report\", \"double digits\", \"rt world\", \"economies around\", \"rising double\", \"major economies\", \"many major\", \"digits many\", \"reduce inflation\", \"like inflation\", \"get inflation\", \"took office\", \"price gouging\", \"inflation declining\", \"coming america\", \"declining straight\", \"common price\", \"prices common\", \"price unemployment\", \"act nothing\", \"near ye\", \"world coming\", \"america le\", \"year inflation\", \"rt great\", \"low inflation\", \"cpi report\", \"straight months\", \"months gas\", \"rt one\", \"rt inflation\", \"gas prices\", \"unemployment near\", \"us inflation\", \"last quarter\", \"stock buybacks\", \"billion stock\", \"raked billion\", \"announced billion\", \"billion profits\", \"profits last\", \"quarter announced\", \"exxonmobil raked\", \"buybacks folks\", \"folks corporate\", \"rt exxonmobil\", \"corporate gree\", \"inflation easing\", \"inflation falls\", \"year low\", \"signs inflation\", \"near year\", \"job creation\", \"low gas\", \"early signs\", \"historic job\", \"rt historic\", \"easing unemployment\", \"creation early\", \"breaking us\", \"falls lower\", \"lower expectations\", \"fair share\", \"unemployment near\", \"gas prices\", \"month inflation\", \"new year\", \"inflation came\", \"year year\", \"rt starting\", \"morning received\", \"another reason\", \"going new\", \"year learned\", \"optimistic going\", \"reason optimistic\", \"learned last\", \"received another\", \"starting january\", \"bring inflation\", \"medicare part\", \"part d\", \"d get\", \"vaccines free\", \"recommended vaccines\", \"get recommended\", \"thanks president\", \"november cpi\", \"bidens inflati\", \"january seniors\", \"free thanks\", \"inflation crime\", \"corporate greed\", \"inflation time\", \"inflation get\", \"last month\", \"cpi inflation\", \"rt morning\", \"inflation data\", \"seniors medicare\", \"president bidens\", \"inflation gas\", \"created inflation\", \"like presidents\", \"charge one\", \"one trading\", \"presidents charge\", \"workers wages\", \"prices plummeting\", \"republicans talk\", \"weird republicans\", \"talk things\", \"plummeting weird\", \"things anymore\", \"around workers\", \"myth tories\", \"inflation utter\", \"wages created\", \"energy prices\", \"mick lynch\", \"prices inflation\", \"prices fall\", \"food energy\", \"high gas\", \"see economic\", \"americans see\", \"inflation food\", \"economic progress\", \"driving street\", \"pump gas\", \"joe bidens\", \"rt biden\", \"rt like\", \"rt government\", \"rt americans\", \"food inflation\", \"gas prices\", \"trading card\", \"rt inflation\", \"rt pay\", \"next year\", \"fuelled inflation\", \"pay fuelled\", \"pay squeezed\", \"profit pushed\", \"squeezed years\", \"years profit\", \"rt president\", \"y y\", \"highest inflation\", \"inflation eases\", \"amp gas\", \"oil amp\", \"russian oil\", \"pdm govt\", \"discounted russian\", \"months instead\", \"buy discounted\", \"gas months\", \"govt buy\", \"instead purchased\", \"purchased oil\", \"rt pdm\", \"market peak\", \"intl market\", \"oil intl\", \"peak pric\", \"american people\", \"rose november\", \"inflation pay\", \"inflation rate\", \"uk inflation\", \"rt good\", \"cost living\", \"raise interest\", \"fighting inflation\", \"inflation last\", \"central banks\", \"see inflation\", \"much lower\", \"fed raise\", \"kept inflation\", \"said inflation\", \"inflation hit\", \"wage workers\", \"rates puts\", \"inflation much\", \"rt relying\", \"lower wage\", \"relying exclusively\", \"burden fighting\", \"puts burden\", \"exclusively fed\", \"percentage point\", \"inflation good\", \"rt story\", \"key interest\", \"cutting rates\", \"rates see\", \"rt private\", \"lower inflation\", \"good news\", \"interest rates\", \"news inflation\", \"inflation transitory\", \"rt fed\", \"inflation lower\", \"fed chair\", \"keeping inflation\", \"wages keeping\", \"money pay\", \"rt plenty\", \"plenty money\", \"pay nhs\", \"workers reasonable\", \"reasonable wages\", \"stock market\", \"consumer price\", \"price index\", \"inflation people\", \"rates inflation\", \"inflation increased\", \"tell us\", \"biden took\", \"middle class\", \"fight unemployment\", \"rt fucking\", \"unemployment kms\", \"walked states\", \"states fight\", \"faster wages\", \"increased faster\", \"fyi inflation\", \"wages straight\", \"running country\", \"fucking clowns\", \"country fyi\", \"clowns running\", \"nhs workers\", \"year ago\", \"straight months\", \"savings account\", \"since pandemic\", \"account since\", \"rt judging\", \"girl saying\", \"judging girl\", \"reach savings\", \"saying reach\", \"inflation busting\", \"busting pay\", \"higher inflation\", \"rt cost\", \"billion cost\", \"rise billion\", \"demand inflation\", \"rishi sunaks\", \"nurses demand\", \"cost meeting\", \"meeting nurses\", \"cost rishi\", \"bank tax\", \"sunaks bank\", \"tax g\", \"pay cut\", \"rt unemployment\", \"real terms\", \"rt always\", \"nurses pay\", \"zero accountability\", \"democrats stand\", \"pay rise\", \"unemployment inflation\", \"rt democrats\", \"rt us\", \"inflation amp\", \"due inflation\", \"raising interest\", \"record profits\", \"expected core\", \"also lower\", \"us fell\", \"november also\", \"core november\", \"lower expec\", \"rt joe\", \"rising inflation\", \"united states\", \"housing market\", \"inflation fell\", \"inflation eased\", \"driving inflation\", \"health care\", \"inflation fed\", \"sky high\", \"people pay\", \"bad news\", \"high interest\", \"act publix\", \"publix morning\", \"rt week\", \"high cost\", \"india wholesale\", \"rt stop\", \"lower expected\", \"rt people\", \"fell november\", \"biden inflation\", \"using inflation\", \"november lower\", \"rt big\", \"month low\", \"interest rates\", \"joe biden\", \"let us\", \"families afford\", \"combat inflation\", \"inflation driving\", \"christmas presents\", \"driving costs\", \"christmas dinner\", \"costs christmas\", \"presents christmas\", \"christmas travel\", \"dinner christmas\", \"travel families\", \"afford jo\", \"plan combat\", \"inflation rates\", \"republican plan\", \"prices still\", \"inflation numbers\", \"crisis inflation\", \"climate crisis\", \"rt attacking\", \"attacking pronouns\", \"pronouns republican\", \"largest investment\", \"making largest\", \"inflation declined\", \"combating climate\", \"investment ever\", \"ever combating\", \"rt making\", \"rt inflation\", \"inflation higher\", \"inflation reduction\", \"reduction act\", \"inflation still\", \"inflation inflation\", \"still high\", \"inflation expectations\", \"rt wrote\", \"far enough\", \"go far\", \"paying public\", \"yesterday people\", \"said go\", \"sector wo\", \"thread yesterday\", \"enough explaining\", \"explaining paying\", \"wrote thread\", \"inflation fallen\", \"rt annual\", \"prices falling\", \"increases slowing\", \"inflation universe\", \"become natives\", \"campaign welcome\", \"join inflation\", \"natives share\", \"universe campaign\", \"welcome become\", \"five months\", \"last five\", \"like still\", \"deal like\", \"annual inflation\", \"food price\", \"people said\", \"price increases\", \"rt india\", \"rt republicans\", \"public sector\", \"gas prices\"], \"Freq\": [36987.0, 68393.0, 33308.0, 23374.0, 25011.0, 24989.0, 24812.0, 24720.0, 24695.0, 24671.0, 24605.0, 24592.0, 24584.0, 24573.0, 24205.0, 42509.0, 22105.0, 20060.0, 22712.0, 23216.0, 13397.0, 25570.0, 13002.0, 12791.0, 12293.0, 13815.0, 12137.0, 12116.0, 12115.0, 12112.0, 33307.06044254183, 11152.396780764273, 10870.352611321252, 9951.06800332755, 9709.685741058558, 9330.688210877519, 9321.056210625311, 9278.404412723936, 9257.199300914674, 9254.834660338287, 9235.480069477802, 9208.82714787959, 8721.540074027047, 8642.378814076446, 8614.950841654083, 8340.456642826759, 8161.863562909257, 8133.176616820488, 7950.844555454601, 7949.171343835226, 3818.1980691088784, 3214.1392520058157, 3064.0050937338137, 2900.686747978329, 2887.265438302142, 2783.0731725514265, 2718.2199624931586, 2683.712973165178, 2674.511277104302, 2660.986214370736, 3118.0424346985856, 2680.1675608536943, 36986.20559414957, 24204.00891777516, 13000.675368000893, 12790.348985885286, 12291.456473204886, 12135.619085342818, 12114.726517175006, 12113.993406291147, 12110.499663360024, 12064.384295110603, 6108.9008809213165, 5140.59681409266, 4831.096618517569, 4731.200614395933, 4643.210563992898, 4620.914383328481, 4602.933146267474, 4579.765531910923, 4579.37567999602, 4577.633540626532, 3637.2168079757353, 2728.3489598408014, 2098.8376732949546, 2053.1036027867654, 1935.57326064698, 1753.5377149012677, 1658.0765948181104, 1633.4595030337905, 1630.6024090281253, 1609.86072192355, 8573.286241686033, 2309.0632253634767, 1768.1240370375924, 25009.850709259623, 24988.31434212811, 24811.161100443092, 24718.861145256236, 24694.358830114397, 24670.232317352034, 24603.692169884493, 24591.13169804739, 24582.921861449606, 24571.728732116288, 5933.710712527724, 2628.9315078741115, 2194.4793855057364, 2157.116498645875, 2008.6122261466173, 1964.2856127905318, 1649.2596924610114, 1642.2119524520679, 1626.282809766247, 1619.9075392075006, 1619.1176315137172, 1619.1046229698125, 1619.0876395930475, 1319.8690875244602, 1203.9946696572063, 1120.9137069289827, 922.0839852541425, 910.9577053825583, 881.4352666758475, 794.5570738469276, 2718.39343239904, 1637.1306706634214, 1953.2527414911538, 1679.9632888868687, 8899.433311859564, 8799.290401215803, 8548.792056452256, 8541.866700635499, 8541.530388527359, 8541.517724054669, 8541.434701400358, 8540.674129457057, 8540.657243493468, 8540.657243493468, 6148.196932139435, 5901.7586062462115, 5600.5302535808305, 5399.264694614265, 5373.16356818816, 5373.161809233619, 5358.963528182907, 5358.963528182907, 5357.519426505177, 5295.002312436713, 2823.1051514984806, 2547.0273862255326, 1977.8518597550942, 1938.7881178429595, 1721.7413946347083, 1601.1365658216043, 1576.7731105860337, 1565.9557160575678, 1558.2963485110702, 1505.9568972047018, 18293.809695299722, 18954.2661676481, 2825.7986385863096, 4020.1190973187327, 2210.6461511733087, 8552.353974078416, 6670.648807821206, 6549.131470854719, 6500.884884019591, 6427.231125166671, 6341.0110656451625, 6264.029093073845, 6246.447533011303, 6245.247068288731, 6231.315560489203, 3971.416043642205, 3094.5419046742904, 2612.8469195756547, 2568.313640527427, 2453.910117093541, 2323.206305513662, 2283.3714869032133, 2063.909401016376, 2053.5521778743255, 1980.7546277197432, 5973.258047190727, 1953.124649641383, 1936.1030052325941, 1925.6175332536507, 1924.6235178782729, 1911.3198732870035, 1910.726418303277, 1909.6246600025956, 1886.0016760720441, 1849.0077951113644, 8029.480338044543, 7367.731632220011, 9634.813779048674, 4595.297281916541, 4508.5319041698685, 4003.1074086677604, 2516.6615083581582, 5572.836678668712, 2603.106090233686, 7552.369640638646, 2414.3210218643485, 4488.444799757292, 8858.222788442961, 8123.5601718894995, 7932.608357964549, 7899.954439902765, 7800.211480448111, 7727.684223040228, 7689.38474604376, 5002.682817015823, 4964.611093257683, 4943.0597405976905, 4832.4588155917945, 4800.805003144114, 4788.948875818643, 4774.528823702105, 4774.157550286568, 4773.690056797372, 4763.470642644056, 4762.9043372947035, 3861.9394162588146, 3153.453519340583, 2920.2815033975, 2018.574521490505, 1826.6778394011444, 1691.0021899807427, 1464.2868001589022, 1457.8439429034186, 1443.470542943808, 1431.4642539882293, 1401.0828467233778, 1347.2886171411851, 2573.846797717236, 8353.320100910738, 6520.7981069346615, 7855.575927680176, 11277.680752279464, 2258.8337776066137, 2697.7291706346905, 4556.885926462321, 3453.8047336989302, 3315.1049322512354, 3275.361051624648, 3275.323446156651, 3201.558408537601, 3199.0401169434117, 3193.5675652785912, 3189.1173724386454, 3184.664948765852, 3184.664948765852, 3184.664948765852, 3184.664948765852, 3184.664948765852, 3179.907538373793, 3159.3210941685516, 3154.289610026682, 3153.007518520301, 3153.007518520301, 3153.007518520301, 3153.007518520301, 2641.9020422574476, 2572.462430184098, 2404.9568402505083, 2373.4718215150124, 2299.955681103639, 2069.0248044530063, 2024.6215107344376, 1986.3055224753223, 1961.0081966774083, 12041.500309812931, 3052.417353293347, 2637.128856690254, 5867.146477896402, 3996.8834624004303, 5098.682343574607, 4550.332402921231, 4472.255358986227, 4425.29301763133, 4041.1326092831932, 4008.6275824340755, 3760.417128297405, 3728.2104957800757, 3728.208624969218, 3701.5339801578334, 3461.5600826235886, 3166.2083128933095, 3155.4146696503444, 3148.0717370342354, 3146.069034011167, 3146.069034011167, 3146.069034011167, 3146.069034011167, 3146.031305992205, 3115.9290238878743, 2704.442928549906, 2607.6044579293875, 2356.8319283232236, 2291.608602187221, 1965.6431953848655, 1957.8565687936944, 1901.8009953644917, 1808.2560872587912, 1805.629157012901, 1803.3043627205143, 7281.936075303689, 6965.17661692981, 2447.031514813713, 2608.1033408247495, 6689.502659403463, 3376.995378436213, 7914.78150014271, 4691.330116628331, 2611.486858161637, 6456.298103491935, 3981.8693607789137, 3466.162529339424, 3317.8294257873154, 2911.0324253997005, 2839.9296045192145, 2794.3825936196563, 2792.2056505405285, 2778.777237972329, 2768.7067042528074, 2766.9536072748897, 2766.9526764269367, 2766.952366144286, 2766.952366144286, 2766.952366144286, 2764.7580472367044, 2749.93336273919, 2749.9327421738885, 2749.835313421487, 2749.835313421487, 2749.835313421487, 2749.835313421487, 2749.835313421487, 2747.762625313082, 2747.2537617655094, 2698.6886315200736, 2561.8663937532383, 2509.821598718624, 2144.4538481696923, 2082.5409788453067, 35446.99536367295, 2753.7994845701382, 3089.062060909783, 5782.125267967972, 2801.780042301167, 2761.5708238460547, 6970.342326697337, 6254.991015612493, 5672.401698082614, 4509.4455355334185, 4499.664679308171, 4418.7501828383165, 4162.750636581969, 4161.913733880952, 4142.413190398638, 4139.104505301595, 4115.688529987355, 3361.5109886853097, 2971.2789221642015, 2968.7580192331206, 2945.5076326408243, 2882.5792842895385, 2638.976339983617, 2616.658934623167, 2345.5298001688684, 2337.2741520037616, 2337.2668920504675, 2307.8611463343577, 2295.397505666279, 2246.879701202639, 2230.070437853182, 2216.8883707431637, 2177.8790970226937, 2147.4707054165324, 2134.9520744639276, 2114.475453431277, 3748.2360343640617, 3586.608466511492, 2637.731335227213, 7640.77151827134, 5050.002503897719, 2246.8807824722785, 13396.340079716072, 9212.40652427079, 9152.087011839876, 9149.139360878566, 9106.95716310181, 9106.724098731169, 9105.847040704812, 9103.63415583831, 9102.973602345732, 9102.367634982065, 9102.352915127078, 9101.04652799691, 9098.796843492937, 9084.957726495224, 7083.172140355449, 5707.612118307824, 4608.258521888069, 4560.604524683236, 4536.563934851674, 4494.365790565347, 4390.355295221427, 4368.824134001642, 4358.122492761852, 4317.700544310723, 4261.348032799026, 4241.851891531308, 3756.0773571236487, 3289.955975770245, 3226.1199513154716, 2472.2497847100535, 4475.838399754014, 4519.368384253093, 6414.054959607456, 5187.549578733617, 5059.536228643515, 4883.302770762845, 4550.940468222475, 4467.308171936391, 4463.472973612838, 4454.314884228053, 4446.893326138945, 4431.059897749582, 4428.650998145228, 4428.648922019, 4428.648922019, 4083.9668864368127, 3410.8182508879054, 2964.3992085359428, 2961.760155509651, 2929.553209321971, 2929.1531101387313, 2929.0688787317335, 2929.066209426582, 2864.981827942681, 2589.1438415186954, 2430.304020888347, 2424.971787259085, 2424.9545850703316, 2118.4762379930407, 1924.9682235307462, 1556.503123934315, 1505.8632910240585, 8665.604957078616, 4759.173259667942, 4939.570240405778, 7345.33756345882, 3330.9903076214027, 3457.587146444527, 7786.440082739575, 3928.7349248587157, 3538.324569392523, 3517.017273898598, 3506.7992760896427, 3506.7992760896427, 3430.4226176113443, 3232.53479950622, 3232.2350256460304, 3180.56650515929, 3162.286721328351, 3160.3821210968645, 3160.3821210968645, 3063.8181596285826, 3050.3969307176594, 3042.022819446988, 3015.101842473836, 2971.2070098591203, 2663.8430623408776, 2586.729374654226, 2419.4739499120406, 2414.906558015919, 2315.8002106447634, 2240.556387951661, 2211.5518804877265, 2143.8139340632174, 2126.9404895296434, 2124.027837666058, 2120.702449445795, 2114.8196428457354, 7067.989848291973, 4296.761484347655, 3792.7298304434626, 3394.092477655513, 4476.956223060965, 15308.940227560543, 3827.5794903419605, 4002.3134993800736, 5045.130252764946, 5005.04348095728, 4506.5281026850225, 4465.252965257381, 4449.4517018190845, 4449.4517018190845, 4449.4517018190845, 4449.4517018190845, 4315.338071314187, 3513.247553798931, 3327.8485195069748, 3270.585579518478, 2924.643777599298, 2803.967534209308, 2799.894239647955, 2791.8182097339354, 2639.2849121194204, 2639.1120849078616, 2638.376783680502, 2638.376783680502, 2638.376783680502, 2638.376783680502, 2638.376783680502, 2621.001792790176, 2608.4911023269983, 2552.2945490835423, 2552.2945490835423, 2534.502201902162, 2261.3050873170005, 2142.3612581823804, 8236.592963848445, 23373.302693511843, 5017.473767444691, 4295.678577352859, 4285.14883034007, 3532.278151148529, 2903.4877779941057, 2892.7236452076145, 2797.0378885649943, 2668.0479457259025, 2402.8709264808963, 2360.7340546597234, 2212.525155792592, 1911.929059063548, 1817.4031732929877, 1756.8591602160427, 1729.2586773069024, 1724.3224858161154, 1695.5283967414748, 1691.1625891277317, 1668.5157750300762, 1658.1326207381803, 1658.1326207381803, 1657.9388798963341, 1626.252361987725, 1571.9091397147088, 1548.2023057942527, 1445.72193589329, 1358.0099019821507, 1336.037387303984, 1329.1310004830377, 6431.878376893729, 4553.411612811572, 14676.967266876409, 1781.8026839297663, 1756.7514511466247, 2088.5148945213728, 1953.3710380330924, 1683.4412714230755, 7109.912502342503, 6869.308560086715, 6855.4168426780825, 6705.17289082485, 6697.992460257035, 6682.811809508909, 6678.587900086301, 6678.200627595245, 3087.7774338391287, 2395.337990218118, 2093.059287882117, 2066.782526188084, 2064.4342490769873, 1723.267382952977, 1699.0145105289578, 1692.5461442631956, 1678.7358941205875, 1578.93889720964, 1569.2002598319968, 1534.1833397315215, 1530.2244345726115, 1527.6848103788343, 1389.2922585543774, 1343.1145923217268, 1293.4794822502947, 1281.6839647263132, 1265.4173081922481, 1261.4853343609495, 1259.982027653668, 1259.9810850572017, 7050.108257621556, 3570.3585467456214, 1541.1625932820766, 8660.422284550908, 8581.45290546482, 8551.816592381414, 8528.501455518086, 8528.380234828588, 8528.378089329659, 8528.378089329659, 8528.378089329659, 5145.718503502686, 4772.76642464446, 4174.407691912537, 4013.8138788155093, 3830.2339947534147, 3828.2842726015283, 3739.7255860514992, 3674.299400768453, 3608.79705027342, 3608.756285793766, 3608.756285793766, 3606.0087062275934, 3591.554748129118, 3591.5432160723735, 3573.255251387465, 1690.9972405794647, 1674.6738824452636, 1542.7501033514143, 1390.4745236964745, 1296.978507735685, 1262.0174685911202, 1260.252527534509, 10671.928369100711, 2269.582250618026, 1698.409939379759, 7841.5530763989045, 4003.0524162303286, 3230.4525976468826, 2943.8900986037456, 2574.571103135779, 2434.977804106265, 2381.3167737941803, 2377.0487112840487, 2376.8767370896626, 2376.729903757286, 2354.571710823373, 2307.591463406424, 2200.263117566751, 2023.5451902120974, 1849.6249861239703, 1764.9547084426395, 1640.7734264650792, 1624.4832177066448, 1606.1186203764235, 1578.6668049815642, 1529.8758805879518, 1313.2444276889328, 1288.3480204437824, 1217.7532822882038, 1198.4603452554713, 1198.4603452554713, 1146.6002297768223, 1031.4249261103307, 1005.4261321844475, 1004.6019665856901, 5816.626208600183, 3818.5369435409443, 3308.186270789329, 3959.1005728616447, 1609.6410156175834, 3289.5809630781623, 1809.6796333181246, 2254.6948222818282, 3546.135168752816, 2368.8303239666325, 5621.440469168543, 4984.711473305888, 4881.380184655156, 4536.953626367861, 4461.832516921094, 4442.006721393198, 4420.919402270791, 4388.948004221486, 4388.948004221486, 4356.878528031762, 4356.878528031762, 4356.877490167842, 4338.541288830832, 3516.3524971501984, 3420.356052286642, 3406.876535162316, 3012.612270378395, 2901.511013492113, 2315.137358756082, 1938.325424448474, 1877.5020580938015, 1868.0966757866336, 1867.9661643987192, 1769.9609339183985, 1769.5398206329414, 1760.091237240112, 1754.1809914158457, 1750.0087784582674, 1749.924581747774, 1746.3540703976971, 7817.017720626029, 2156.5018046101704, 1766.5406533707119, 1764.6789849645786, 7186.924136912661, 4115.856086603457, 3816.5819745276476, 2893.694824287514, 2888.1796082856467, 2886.3909455016415, 2886.1522329872346, 2880.9359895386224, 2874.0707417651374, 2873.705560757183, 2865.700286154332, 2857.0551689072317, 2856.92352787816, 2856.92352787816, 2856.92352787816, 2319.05690421977, 2170.24512622463, 2157.6612524898187, 2123.41842075771, 2095.70953589881, 2095.7057858105554, 2095.7057858105554, 2095.7057858105554, 2095.7057858105554, 2095.7057858105554, 2095.7057858105554, 2057.8587313257144, 1986.2246748017674, 1919.1729674980354, 1900.365757648198, 3870.1438384996377, 3523.977071128985, 2918.390577890623, 2593.5046561705035, 2879.11267076661, 2617.3761662379525, 3030.1512253045903, 2505.9659581056976], \"Total\": [36987.0, 68393.0, 33308.0, 23374.0, 25011.0, 24989.0, 24812.0, 24720.0, 24695.0, 24671.0, 24605.0, 24592.0, 24584.0, 24573.0, 24205.0, 42509.0, 22105.0, 20060.0, 22712.0, 23216.0, 13397.0, 25570.0, 13002.0, 12791.0, 12293.0, 13815.0, 12137.0, 12116.0, 12115.0, 12112.0, 33308.67400556331, 11154.010343785774, 10871.966174342753, 9952.68156634905, 9711.29930408006, 9332.30177389902, 9322.669773646812, 9280.017975745437, 9258.812863936175, 9256.448223359788, 9237.093632499304, 9210.440710901092, 8723.153637048548, 8643.992377097948, 8616.564404675584, 8342.07020584826, 8163.477125930757, 8134.790179841988, 7952.458118476101, 7950.784906856727, 3819.811632130378, 3215.7528153279177, 3065.618656755313, 2902.3003109998285, 2888.879001323641, 2784.686735572926, 2719.8335501157585, 2685.3265361866775, 2676.1248401258013, 2662.5997773922354, 13433.069662749249, 25570.198296171857, 36987.813590937374, 24205.61691456298, 13002.28336478871, 12791.956982673102, 12293.064469992702, 12137.227082130634, 12116.334513962822, 12115.601403078963, 12112.10766014784, 12065.99229189842, 6110.5088777091305, 5142.204810880474, 4832.704615305383, 4732.808611183747, 4644.818560780712, 4622.522380116295, 4604.541143055288, 4581.373528698737, 4580.983676783834, 4579.241537414346, 3638.824804774156, 2729.9569566286154, 2100.445670241868, 2054.7115995745794, 1937.181257463202, 1755.1457116890824, 1659.684591605925, 1635.0674998216052, 1632.21040581594, 1611.4687187113648, 12625.76028454302, 3156.8068098852455, 2227.3672883689146, 25011.46520863656, 24989.928841505047, 24812.77559982003, 24720.475644633174, 24695.973329491335, 24671.846816728972, 24605.30666926143, 24592.746197424327, 24584.536360826543, 24573.343231493225, 5935.325211904661, 2630.5460072510477, 2196.0938848826727, 2158.730998022811, 2010.2267255235545, 1965.900112167469, 1650.8741918379485, 1643.826451829005, 1627.8973091431842, 1621.5220385844377, 1620.7321308906544, 1620.7191223467496, 1620.7021389699846, 1321.4835869013973, 1205.6091690341434, 1122.5282063141042, 923.6984846310785, 912.5722047594943, 883.0497660527835, 796.1715732238636, 3576.1790533235594, 3448.324528857255, 5974.915614085975, 42509.48261823204, 8901.040711451167, 8800.897800807406, 8550.399456043859, 8543.474100227102, 8543.137788118962, 8543.125123646272, 8543.042100991961, 8542.28152904866, 8542.264643085071, 8542.264643085071, 6149.804331731037, 5903.366005837813, 5602.137653172432, 5400.872094205866, 5374.770967779761, 5374.769208825221, 5360.570927774508, 5360.570927774508, 5359.126826096778, 5296.609712028314, 2824.7125510900814, 2548.6347858171334, 1979.459259346696, 1940.3955174345613, 1723.34879422631, 1602.743965413206, 1578.3805101835426, 1567.5631156491695, 1559.903748102672, 1507.5642967963036, 20060.01236861621, 22105.37056782032, 3045.413290494264, 5974.915614085975, 68393.3296788292, 8553.938293337698, 6672.233127080486, 6550.715790113999, 6502.469203278871, 6428.815444425951, 6342.595384904443, 6265.613412333125, 6248.031852270583, 6246.831387548011, 6232.899879748483, 3973.0003629014846, 3096.1263640198426, 2614.4312388349344, 2569.897961826958, 2455.4944363528207, 2324.7906247729416, 2284.955806162493, 2065.4937202756555, 2055.136497133605, 1982.3389469790236, 5978.0936033678, 1954.7089689006634, 1937.6873244918745, 1927.201852512931, 1926.2078371375533, 1912.9041925462839, 1912.3107375625573, 1911.208979261876, 1887.5859953313245, 1850.5921143706448, 8509.45860861959, 8547.472370088004, 13433.069662749249, 6171.127615959732, 6066.145505098829, 5172.674100707079, 2781.419969894939, 8743.710870303708, 3398.9205921606103, 42509.48261823204, 3300.8436055535212, 22712.923129266594, 8859.82046083094, 8125.157844277479, 7934.206030352529, 7901.552112290745, 7801.80915283609, 7729.2818954282075, 7690.9824184317395, 5004.280489403803, 4966.208765645662, 4944.65741298567, 4834.056487979774, 4802.402675532094, 4790.546548206622, 4776.126496090084, 4775.755222674547, 4775.287729185351, 4765.068315032036, 4764.502009682683, 3863.537088646793, 3155.0511917285617, 2921.8791757854783, 2020.1721938784844, 1828.2755117891238, 1692.5998623687221, 1465.8844725468816, 1459.441615291398, 1445.0682153317873, 1433.0619263762087, 1402.6805191113572, 1348.8862895291645, 2714.7312040111574, 10370.229123511426, 8570.181643586502, 11146.65428864509, 25570.198296171857, 2716.309688762118, 3737.4697641526705, 4558.478977526593, 3455.3977847632013, 3316.6979833155065, 3276.954102688919, 3276.916497220922, 3203.151459601872, 3200.633168007683, 3195.1606163428623, 3190.7104235029165, 3186.257999830123, 3186.257999830123, 3186.257999830123, 3186.257999830123, 3186.257999830123, 3181.5005894380643, 3160.9141452328226, 3155.882661090953, 3154.600569584572, 3154.600569584572, 3154.600569584572, 3154.600569584572, 2643.4950933299033, 2574.0554812570867, 2406.5498913147794, 2375.0648725792835, 2301.54873216791, 2070.6178555172773, 2026.2145617987094, 1987.898573539594, 1962.60124774168, 13815.132212650165, 3269.9236152083026, 3405.9902796092742, 25570.198296171857, 23216.34740772263, 5100.275624831879, 4551.925684178503, 4473.848640243499, 4426.886298888602, 4042.7258905404633, 4010.2208636913456, 3762.010409554675, 3729.8037770373458, 3729.801906226488, 3703.1272614151035, 3463.1533638808587, 3167.8015941505796, 3157.0079509076145, 3149.6650182915055, 3147.662315268437, 3147.662315268437, 3147.662315268437, 3147.662315268437, 3147.624587249475, 3117.5223051451444, 2706.036209807176, 2609.1977391866576, 2358.4252095804936, 2293.201883444491, 1967.2364766421367, 1959.4498500509656, 1903.3942766217629, 1809.8493685160624, 1807.2224382701722, 1804.8976439777855, 7606.879731909801, 8920.032785342199, 2668.285400054959, 2946.644837800905, 13132.39585599539, 5085.794039877388, 68393.3296788292, 42509.48261823204, 4589.6075394596655, 6457.879709546385, 3983.450966843088, 3467.7441353938725, 3319.411031841764, 2912.614031454149, 2841.511210573663, 2795.9641996741047, 2793.787256594977, 2780.3588440267777, 2770.288310307256, 2768.535213329338, 2768.534282481385, 2768.5339721987343, 2768.5339721987343, 2768.5339721987343, 2766.339653291153, 2751.5149687936387, 2751.514348228337, 2751.4169194759356, 2751.4169194759356, 2751.4169194759356, 2751.4169194759356, 2751.4169194759356, 2749.3442313675305, 2748.835367819958, 2700.270237574522, 2563.4479998159054, 2511.4032047730725, 2146.0354542241407, 2084.122584899755, 68393.3296788292, 3207.89713772089, 4266.979329078343, 23216.34740772263, 3386.7229437463975, 3732.9749490723975, 6971.931265867419, 6256.579954829931, 5673.990637252696, 4511.034474703501, 4501.253618478253, 4420.339122008399, 4164.339575752051, 4163.502673051034, 4144.00212956872, 4140.693444471677, 4117.277469157437, 3363.0999278553904, 2972.867861334282, 2970.3469584032014, 2947.096571810905, 2884.168223459619, 2640.5652791536977, 2618.247873793248, 2347.118739338949, 2338.8630911738423, 2338.855831220548, 2309.4500855044384, 2296.9864448363596, 2248.4686403727196, 2231.6593770232626, 2218.4773099132444, 2179.4680361927744, 2149.059644586613, 2136.5410136340083, 2116.0643926013577, 5290.899388489864, 5444.009032260631, 3184.835309713894, 68393.3296788292, 42509.48261823204, 6724.2354341434975, 13397.945516155643, 9214.01196071036, 9153.692448279447, 9150.744797318137, 9108.562599541381, 9108.32953517074, 9107.452477144383, 9105.239592277881, 9104.579038785303, 9103.973071421637, 9103.958351566649, 9102.651964436482, 9100.402279932508, 9086.563162934795, 7084.7775767950225, 5709.217554747397, 4609.863958327642, 4562.20996112281, 4538.169371291247, 4495.97122700492, 4391.960731661, 4370.429570441215, 4359.7279292014255, 4319.305980750296, 4262.9534692386, 4243.457327970881, 3757.6827935632205, 3291.561412209817, 3227.7253877550434, 2473.8552211586766, 6724.2354341434975, 42509.48261823204, 6415.645984547675, 5189.140603673835, 5061.127253583733, 4884.893795703064, 4552.531493162694, 4468.8991968766095, 4465.063998553057, 4455.905909168272, 4448.484351079163, 4432.650922689801, 4430.242023085447, 4430.239946959218, 4430.239946959218, 4085.5579113770305, 3412.409275828123, 2965.9902334761605, 2963.351180449869, 2931.1442342621885, 2930.744135078949, 2930.6599036719513, 2930.6572343668, 2866.5728528828986, 2590.734866458913, 2431.895045828565, 2426.5628121993027, 2426.5456100105494, 2120.0672629332585, 1926.5592484709646, 1558.0941488745334, 1507.454315964277, 9293.592014226899, 5172.466989115209, 5537.100326394162, 9798.288727127665, 3874.109201671783, 4570.629563987828, 7788.02957895299, 3930.3244210721305, 3539.9140656059376, 3518.606770112013, 3508.3887723030575, 3508.3887723030575, 3432.012113824759, 3234.124295719635, 3233.824521859445, 3182.156001372705, 3163.876217541766, 3161.9716173102793, 3161.9716173102793, 3065.4076558419974, 3051.986426931074, 3043.6123156604026, 3016.6913386872507, 2972.796506072535, 2665.4325585542924, 2588.3188708676407, 2421.0634461254554, 2416.496054229334, 2317.389706858178, 2242.1458841650756, 2213.1413767011413, 2145.403430276632, 2128.529985743058, 2125.617333879473, 2122.29194565921, 2116.40913905915, 8497.056384965246, 5406.35541834643, 4598.542078464132, 4010.275495374508, 5973.14901917956, 42509.48261823204, 5783.637852258564, 68393.3296788292, 5046.723550554466, 5006.6367787468, 4508.1214004745425, 4466.846263046901, 4451.0449996086045, 4451.0449996086045, 4451.0449996086045, 4451.0449996086045, 4316.931369103707, 3514.8408515884507, 3329.4418172964943, 3272.178877371637, 2926.2370753888176, 2805.5608319988273, 2801.4875374374747, 2793.411507523455, 2640.87820990894, 2640.705382697381, 2639.9700814700213, 2639.9700814700213, 2639.9700814700213, 2639.9700814700213, 2639.9700814700213, 2622.5950905796954, 2610.084400116518, 2553.887846873062, 2553.887846873062, 2536.0954996916817, 2262.89838510652, 2143.954556297743, 9162.709094981581, 23374.87266632632, 5019.043740259165, 4297.248550167334, 4286.718803154545, 3533.848123963003, 2905.05775080858, 2894.2936180220886, 2798.6078613794684, 2669.6179185403766, 2404.4408992953704, 2362.3040274741975, 2214.0951286070663, 1913.4990318780226, 1818.9731461074623, 1758.4291330305173, 1730.828650121377, 1725.89245863059, 1697.0983695559494, 1692.7325619422063, 1670.0857478445507, 1659.702593552655, 1659.702593552655, 1659.5088527108087, 1627.8223348021995, 1573.4791125291833, 1549.7722786087272, 1447.2919087183714, 1359.5798747966253, 1337.6073601184585, 1330.7009732975123, 7419.040229313727, 5109.685320610461, 22712.923129266594, 2030.8773541253001, 2470.6795059677556, 8743.710870303708, 8920.032785342199, 2571.462201433904, 7111.502447708597, 6870.898505452809, 6857.006788044177, 6706.762836190944, 6699.5824056231295, 6684.4017548750035, 6680.177845452395, 6679.790572961339, 3089.3673792052214, 2396.927935584211, 2094.64923324821, 2068.3724715541766, 2066.02419444308, 1724.8573283190703, 1700.6044558950512, 1694.1360896387168, 1680.3258394916243, 1580.5288425757333, 1570.7902051980902, 1535.773285097615, 1531.8143799387049, 1529.2747557449277, 1390.8822039204708, 1344.7045376878202, 1295.069427616388, 1283.2739100924066, 1267.0072535583415, 1263.075279727043, 1261.5719730197613, 1261.571030423295, 8906.310768342315, 4131.551336113959, 5290.899388489864, 8662.019297925772, 8583.049918839683, 8553.413605756277, 8530.09846889295, 8529.977248203451, 8529.975102704522, 8529.975102704522, 8529.975102704522, 5147.31551687755, 4774.363438019324, 4176.0047052874015, 4015.410892190372, 3831.8310081282775, 3829.881285976391, 3741.322599426362, 3675.8964141433157, 3610.394063648283, 3610.353299168629, 3610.353299168629, 3607.6057196024562, 3593.1517615039807, 3593.1402294472364, 3574.8522647623276, 1692.5942539543282, 1676.2708958201272, 1544.3471167262778, 1392.071537071338, 1298.5755211105486, 1263.6144819659837, 1261.8495409093725, 23216.34740772263, 2970.554860141185, 2272.8404631544518, 7843.130925590127, 4004.6302654215497, 3232.0304468381037, 2945.4679477949667, 2576.148952327, 2436.555653297486, 2382.8946229854014, 2378.62656047527, 2378.4545862808836, 2378.307752948507, 2356.149560014594, 2309.169312597645, 2201.840966757972, 2025.123042553486, 1851.2028353151916, 1766.5325576338607, 1642.3512756563005, 1626.061066897866, 1607.6964695676447, 1580.2446541727854, 1531.453729779173, 1314.822276880154, 1289.9258696350037, 1219.331131479425, 1200.0381944466926, 1200.0381944466926, 1148.1780789680436, 1033.002775301552, 1007.0039813756689, 1006.1798157769115, 6375.346525483531, 5171.100158837487, 4448.875596116694, 6197.9346346121265, 2093.5434015757783, 11146.65428864509, 3448.324528857255, 6228.165444211337, 22712.923129266594, 12625.76028454302, 5623.034881572326, 4986.305885709671, 4882.974597058939, 4538.548038771644, 4463.426929324877, 4443.601133796981, 4422.513814674574, 4390.54241662527, 4390.54241662527, 4358.472940435545, 4358.472940435545, 4358.471902571625, 4340.135701234615, 3517.9469095539816, 3421.950464690425, 3408.4709475660993, 3014.206682782178, 2903.105425895896, 2316.7317711598653, 1939.9198368522573, 1879.0964704975847, 1869.6910881904168, 1869.5605768025025, 1771.5553463221818, 1771.1342330367247, 1761.6856496438952, 1755.775403819629, 1751.6031908620507, 1751.5189941515573, 1747.9484828014804, 68393.3296788292, 3008.6953446772022, 22105.37056782032, 20060.01236861621, 7188.517710564859, 4117.449660255655, 3818.1755481798455, 2895.288397939712, 2889.7731819378446, 2887.9845191538393, 2887.7458066394324, 2882.52956319082, 2875.6643154173353, 2875.2991344093807, 2867.29385980653, 2858.6487425594296, 2858.5171015303576, 2858.5171015303576, 2858.5171015303576, 2320.6504778719677, 2171.838699876828, 2159.2548261420166, 2125.011994409908, 2097.3031095510078, 2097.2993594627533, 2097.2993594627533, 2097.2993594627533, 2097.2993594627533, 2097.2993594627533, 2097.2993594627533, 2059.4523049779123, 1987.8182484539652, 1920.7665411502333, 1901.959331300396, 4156.882299125809, 4404.6881134332, 3691.77906290593, 3266.4303046785944, 4046.2184416773543, 3781.87064600715, 13132.39585599539, 42509.48261823204], \"Category\": [\"Default\", \"Default\", \"Default\", \"Default\", \"Default\", \"Default\", \"Default\", \"Default\", \"Default\", \"Default\", \"Default\", \"Default\", \"Default\", \"Default\", \"Default\", \"Default\", \"Default\", \"Default\", \"Default\", \"Default\", \"Default\", \"Default\", \"Default\", \"Default\", \"Default\", \"Default\", \"Default\", \"Default\", \"Default\", \"Default\", \"Topic1\", \"Topic1\", \"Topic1\", \"Topic1\", \"Topic1\", \"Topic1\", \"Topic1\", \"Topic1\", \"Topic1\", \"Topic1\", \"Topic1\", \"Topic1\", \"Topic1\", \"Topic1\", \"Topic1\", \"Topic1\", \"Topic1\", \"Topic1\", \"Topic1\", \"Topic1\", \"Topic1\", \"Topic1\", \"Topic1\", \"Topic1\", \"Topic1\", \"Topic1\", \"Topic1\", \"Topic1\", \"Topic1\", \"Topic1\", \"Topic1\", \"Topic1\", \"Topic2\", \"Topic2\", \"Topic2\", \"Topic2\", \"Topic2\", \"Topic2\", \"Topic2\", \"Topic2\", \"Topic2\", \"Topic2\", \"Topic2\", \"Topic2\", \"Topic2\", \"Topic2\", \"Topic2\", \"Topic2\", \"Topic2\", \"Topic2\", \"Topic2\", \"Topic2\", \"Topic2\", \"Topic2\", \"Topic2\", \"Topic2\", \"Topic2\", \"Topic2\", \"Topic2\", \"Topic2\", \"Topic2\", \"Topic2\", \"Topic2\", \"Topic2\", \"Topic2\", \"Topic3\", \"Topic3\", \"Topic3\", \"Topic3\", \"Topic3\", \"Topic3\", \"Topic3\", \"Topic3\", \"Topic3\", \"Topic3\", \"Topic3\", \"Topic3\", \"Topic3\", \"Topic3\", \"Topic3\", \"Topic3\", \"Topic3\", \"Topic3\", \"Topic3\", \"Topic3\", \"Topic3\", \"Topic3\", \"Topic3\", \"Topic3\", \"Topic3\", \"Topic3\", \"Topic3\", \"Topic3\", \"Topic3\", \"Topic3\", \"Topic3\", \"Topic3\", \"Topic3\", \"Topic3\", \"Topic4\", \"Topic4\", \"Topic4\", \"Topic4\", \"Topic4\", \"Topic4\", \"Topic4\", \"Topic4\", \"Topic4\", \"Topic4\", \"Topic4\", \"Topic4\", \"Topic4\", \"Topic4\", \"Topic4\", \"Topic4\", \"Topic4\", \"Topic4\", \"Topic4\", \"Topic4\", \"Topic4\", \"Topic4\", \"Topic4\", \"Topic4\", \"Topic4\", \"Topic4\", \"Topic4\", \"Topic4\", \"Topic4\", \"Topic4\", \"Topic4\", \"Topic4\", \"Topic4\", \"Topic4\", \"Topic4\", \"Topic5\", \"Topic5\", \"Topic5\", \"Topic5\", \"Topic5\", \"Topic5\", \"Topic5\", \"Topic5\", \"Topic5\", \"Topic5\", \"Topic5\", \"Topic5\", \"Topic5\", \"Topic5\", \"Topic5\", \"Topic5\", \"Topic5\", \"Topic5\", \"Topic5\", \"Topic5\", \"Topic5\", \"Topic5\", \"Topic5\", \"Topic5\", \"Topic5\", \"Topic5\", \"Topic5\", \"Topic5\", \"Topic5\", \"Topic5\", \"Topic5\", \"Topic5\", \"Topic5\", \"Topic5\", \"Topic5\", \"Topic5\", \"Topic5\", \"Topic5\", \"Topic5\", \"Topic5\", \"Topic5\", \"Topic5\", \"Topic6\", \"Topic6\", \"Topic6\", \"Topic6\", \"Topic6\", \"Topic6\", \"Topic6\", \"Topic6\", \"Topic6\", \"Topic6\", \"Topic6\", \"Topic6\", \"Topic6\", \"Topic6\", \"Topic6\", \"Topic6\", \"Topic6\", \"Topic6\", \"Topic6\", \"Topic6\", \"Topic6\", \"Topic6\", \"Topic6\", \"Topic6\", \"Topic6\", \"Topic6\", \"Topic6\", \"Topic6\", \"Topic6\", \"Topic6\", \"Topic6\", \"Topic6\", \"Topic6\", \"Topic6\", \"Topic6\", \"Topic6\", \"Topic6\", \"Topic7\", \"Topic7\", \"Topic7\", \"Topic7\", \"Topic7\", \"Topic7\", \"Topic7\", \"Topic7\", \"Topic7\", \"Topic7\", \"Topic7\", \"Topic7\", \"Topic7\", \"Topic7\", \"Topic7\", \"Topic7\", \"Topic7\", \"Topic7\", \"Topic7\", \"Topic7\", \"Topic7\", \"Topic7\", \"Topic7\", \"Topic7\", \"Topic7\", \"Topic7\", \"Topic7\", \"Topic7\", \"Topic7\", \"Topic7\", \"Topic7\", \"Topic7\", \"Topic7\", \"Topic7\", \"Topic7\", \"Topic8\", \"Topic8\", \"Topic8\", \"Topic8\", \"Topic8\", \"Topic8\", \"Topic8\", \"Topic8\", \"Topic8\", \"Topic8\", \"Topic8\", \"Topic8\", \"Topic8\", \"Topic8\", \"Topic8\", \"Topic8\", \"Topic8\", \"Topic8\", \"Topic8\", \"Topic8\", \"Topic8\", \"Topic8\", \"Topic8\", \"Topic8\", \"Topic8\", \"Topic8\", \"Topic8\", \"Topic8\", \"Topic8\", \"Topic8\", \"Topic8\", \"Topic8\", \"Topic8\", \"Topic8\", \"Topic8\", \"Topic8\", \"Topic8\", \"Topic8\", \"Topic8\", \"Topic9\", \"Topic9\", \"Topic9\", \"Topic9\", \"Topic9\", \"Topic9\", \"Topic9\", \"Topic9\", \"Topic9\", \"Topic9\", \"Topic9\", \"Topic9\", \"Topic9\", \"Topic9\", \"Topic9\", \"Topic9\", \"Topic9\", \"Topic9\", \"Topic9\", \"Topic9\", \"Topic9\", \"Topic9\", \"Topic9\", \"Topic9\", \"Topic9\", \"Topic9\", \"Topic9\", \"Topic9\", \"Topic9\", \"Topic9\", \"Topic9\", \"Topic9\", \"Topic9\", \"Topic9\", \"Topic9\", \"Topic9\", \"Topic10\", \"Topic10\", \"Topic10\", \"Topic10\", \"Topic10\", \"Topic10\", \"Topic10\", \"Topic10\", \"Topic10\", \"Topic10\", \"Topic10\", \"Topic10\", \"Topic10\", \"Topic10\", \"Topic10\", \"Topic10\", \"Topic10\", \"Topic10\", \"Topic10\", \"Topic10\", \"Topic10\", \"Topic10\", \"Topic10\", \"Topic10\", \"Topic10\", \"Topic10\", \"Topic10\", \"Topic10\", \"Topic10\", \"Topic10\", \"Topic10\", \"Topic10\", \"Topic10\", \"Topic10\", \"Topic10\", \"Topic10\", \"Topic11\", \"Topic11\", \"Topic11\", \"Topic11\", \"Topic11\", \"Topic11\", \"Topic11\", \"Topic11\", \"Topic11\", \"Topic11\", \"Topic11\", \"Topic11\", \"Topic11\", \"Topic11\", \"Topic11\", \"Topic11\", \"Topic11\", \"Topic11\", \"Topic11\", \"Topic11\", \"Topic11\", \"Topic11\", \"Topic11\", \"Topic11\", \"Topic11\", \"Topic11\", \"Topic11\", \"Topic11\", \"Topic11\", \"Topic11\", \"Topic11\", \"Topic11\", \"Topic12\", \"Topic12\", \"Topic12\", \"Topic12\", \"Topic12\", \"Topic12\", \"Topic12\", \"Topic12\", \"Topic12\", \"Topic12\", \"Topic12\", \"Topic12\", \"Topic12\", \"Topic12\", \"Topic12\", \"Topic12\", \"Topic12\", \"Topic12\", \"Topic12\", \"Topic12\", \"Topic12\", \"Topic12\", \"Topic12\", \"Topic12\", \"Topic12\", \"Topic12\", \"Topic12\", \"Topic12\", \"Topic12\", \"Topic12\", \"Topic12\", \"Topic12\", \"Topic12\", \"Topic12\", \"Topic12\", \"Topic12\", \"Topic13\", \"Topic13\", \"Topic13\", \"Topic13\", \"Topic13\", \"Topic13\", \"Topic13\", \"Topic13\", \"Topic13\", \"Topic13\", \"Topic13\", \"Topic13\", \"Topic13\", \"Topic13\", \"Topic13\", \"Topic13\", \"Topic13\", \"Topic13\", \"Topic13\", \"Topic13\", \"Topic13\", \"Topic13\", \"Topic13\", \"Topic13\", \"Topic13\", \"Topic13\", \"Topic13\", \"Topic13\", \"Topic13\", \"Topic13\", \"Topic13\", \"Topic13\", \"Topic13\", \"Topic13\", \"Topic13\", \"Topic13\", \"Topic13\", \"Topic13\", \"Topic14\", \"Topic14\", \"Topic14\", \"Topic14\", \"Topic14\", \"Topic14\", \"Topic14\", \"Topic14\", \"Topic14\", \"Topic14\", \"Topic14\", \"Topic14\", \"Topic14\", \"Topic14\", \"Topic14\", \"Topic14\", \"Topic14\", \"Topic14\", \"Topic14\", \"Topic14\", \"Topic14\", \"Topic14\", \"Topic14\", \"Topic14\", \"Topic14\", \"Topic14\", \"Topic14\", \"Topic14\", \"Topic14\", \"Topic14\", \"Topic14\", \"Topic15\", \"Topic15\", \"Topic15\", \"Topic15\", \"Topic15\", \"Topic15\", \"Topic15\", \"Topic15\", \"Topic15\", \"Topic15\", \"Topic15\", \"Topic15\", \"Topic15\", \"Topic15\", \"Topic15\", \"Topic15\", \"Topic15\", \"Topic15\", \"Topic15\", \"Topic15\", \"Topic15\", \"Topic15\", \"Topic15\", \"Topic15\", \"Topic15\", \"Topic15\", \"Topic15\", \"Topic15\", \"Topic15\", \"Topic15\", \"Topic15\", \"Topic15\", \"Topic15\", \"Topic15\", \"Topic15\", \"Topic15\", \"Topic15\", \"Topic15\", \"Topic16\", \"Topic16\", \"Topic16\", \"Topic16\", \"Topic16\", \"Topic16\", \"Topic16\", \"Topic16\", \"Topic16\", \"Topic16\", \"Topic16\", \"Topic16\", \"Topic16\", \"Topic16\", \"Topic16\", \"Topic16\", \"Topic16\", \"Topic16\", \"Topic16\", \"Topic16\", \"Topic16\", \"Topic16\", \"Topic16\", \"Topic16\", \"Topic16\", \"Topic16\", \"Topic16\", \"Topic16\", \"Topic16\", \"Topic16\", \"Topic16\", \"Topic16\", \"Topic16\", \"Topic17\", \"Topic17\", \"Topic17\", \"Topic17\", \"Topic17\", \"Topic17\", \"Topic17\", \"Topic17\", \"Topic17\", \"Topic17\", \"Topic17\", \"Topic17\", \"Topic17\", \"Topic17\", \"Topic17\", \"Topic17\", \"Topic17\", \"Topic17\", \"Topic17\", \"Topic17\", \"Topic17\", \"Topic17\", \"Topic17\", \"Topic17\", \"Topic17\", \"Topic17\", \"Topic17\", \"Topic17\", \"Topic17\", \"Topic17\", \"Topic17\", \"Topic17\", \"Topic17\", \"Topic18\", \"Topic18\", \"Topic18\", \"Topic18\", \"Topic18\", \"Topic18\", \"Topic18\", \"Topic18\", \"Topic18\", \"Topic18\", \"Topic18\", \"Topic18\", \"Topic18\", \"Topic18\", \"Topic18\", \"Topic18\", \"Topic18\", \"Topic18\", \"Topic18\", \"Topic18\", \"Topic18\", \"Topic18\", \"Topic18\", \"Topic18\", \"Topic18\", \"Topic18\", \"Topic18\", \"Topic18\", \"Topic18\", \"Topic18\", \"Topic18\", \"Topic18\", \"Topic18\", \"Topic18\", \"Topic18\", \"Topic18\", \"Topic18\", \"Topic18\", \"Topic18\", \"Topic18\", \"Topic19\", \"Topic19\", \"Topic19\", \"Topic19\", \"Topic19\", \"Topic19\", \"Topic19\", \"Topic19\", \"Topic19\", \"Topic19\", \"Topic19\", \"Topic19\", \"Topic19\", \"Topic19\", \"Topic19\", \"Topic19\", \"Topic19\", \"Topic19\", \"Topic19\", \"Topic19\", \"Topic19\", \"Topic19\", \"Topic19\", \"Topic19\", \"Topic19\", \"Topic19\", \"Topic19\", \"Topic19\", \"Topic19\", \"Topic19\", \"Topic19\", \"Topic19\", \"Topic19\", \"Topic19\", \"Topic20\", \"Topic20\", \"Topic20\", \"Topic20\", \"Topic20\", \"Topic20\", \"Topic20\", \"Topic20\", \"Topic20\", \"Topic20\", \"Topic20\", \"Topic20\", \"Topic20\", \"Topic20\", \"Topic20\", \"Topic20\", \"Topic20\", \"Topic20\", \"Topic20\", \"Topic20\", \"Topic20\", \"Topic20\", \"Topic20\", \"Topic20\", \"Topic20\", \"Topic20\", \"Topic20\", \"Topic20\", \"Topic20\", \"Topic20\", \"Topic20\", \"Topic20\", \"Topic20\", \"Topic20\", \"Topic20\", \"Topic20\", \"Topic20\", \"Topic20\"], \"logprob\": [30.0, 29.0, 28.0, 27.0, 26.0, 25.0, 24.0, 23.0, 22.0, 21.0, 20.0, 19.0, 18.0, 17.0, 16.0, 15.0, 14.0, 13.0, 12.0, 11.0, 10.0, 9.0, 8.0, 7.0, 6.0, 5.0, 4.0, 3.0, 2.0, 1.0, -2.5242, -3.6183, -3.6439, -3.7323, -3.7568, -3.7966, -3.7977, -3.8022, -3.8045, -3.8048, -3.8069, -3.8098, -3.8641, -3.8733, -3.8764, -3.9088, -3.9305, -3.934, -3.9567, -3.9569, -4.6902, -4.8624, -4.9102, -4.965, -4.9696, -5.0064, -5.03, -5.0427, -5.0462, -5.0512, -4.8927, -5.0441, -2.3578, -2.7818, -3.4033, -3.4196, -3.4594, -3.4722, -3.4739, -3.474, -3.4743, -3.4781, -4.1586, -4.3312, -4.3933, -4.4141, -4.4329, -4.4377, -4.4416, -4.4467, -4.4468, -4.4471, -4.6771, -4.9646, -5.2269, -5.249, -5.3079, -5.4067, -5.4627, -5.4776, -5.4794, -5.4922, -3.8197, -5.1315, -5.3984, -2.7417, -2.7426, -2.7497, -2.7534, -2.7544, -2.7554, -2.7581, -2.7586, -2.7589, -2.7594, -4.1803, -4.9944, -5.175, -5.1922, -5.2635, -5.2859, -5.4607, -5.4649, -5.4747, -5.4786, -5.4791, -5.4791, -5.4791, -5.6835, -5.7753, -5.8468, -6.0421, -6.0543, -6.0872, -6.191, -4.961, -5.468, -5.2915, -5.4422, -3.7482, -3.7595, -3.7884, -3.7892, -3.7892, -3.7892, -3.7893, -3.7893, -3.7893, -3.7893, -4.118, -4.1589, -4.2113, -4.2479, -4.2528, -4.2528, -4.2554, -4.2554, -4.2557, -4.2674, -4.8963, -4.9993, -5.2522, -5.2721, -5.3909, -5.4635, -5.4788, -5.4857, -5.4906, -5.5248, -3.0276, -2.9922, -4.8954, -4.5429, -5.1409, -3.7759, -4.0244, -4.0427, -4.0501, -4.0615, -4.075, -4.0873, -4.0901, -4.0903, -4.0925, -4.543, -4.7924, -4.9616, -4.9788, -5.0244, -5.0791, -5.0964, -5.1975, -5.2025, -5.2386, -4.1348, -5.2527, -5.2614, -5.2668, -5.2674, -5.2743, -5.2746, -5.2752, -5.2876, -5.3074, -3.839, -3.925, -3.6567, -4.397, -4.4161, -4.535, -4.9991, -4.2042, -4.9654, -3.9002, -5.0407, -4.4206, -3.6705, -3.757, -3.7808, -3.785, -3.7977, -3.807, -3.812, -4.2418, -4.2495, -4.2538, -4.2765, -4.283, -4.2855, -4.2885, -4.2886, -4.2887, -4.2908, -4.291, -4.5006, -4.7033, -4.7801, -5.1494, -5.2493, -5.3265, -5.4704, -5.4749, -5.4848, -5.4931, -5.5146, -5.5537, -4.9064, -3.7292, -3.9768, -3.7906, -3.429, -5.037, -4.8594, -4.3187, -4.5959, -4.6369, -4.6489, -4.649, -4.6717, -4.6725, -4.6742, -4.6756, -4.677, -4.677, -4.677, -4.677, -4.677, -4.6785, -4.685, -4.6866, -4.687, -4.687, -4.687, -4.687, -4.8639, -4.8905, -4.9578, -4.971, -5.0025, -5.1083, -5.13, -5.1491, -5.1619, -3.347, -4.7194, -4.8657, -4.066, -4.4499, -4.1845, -4.2983, -4.3156, -4.3262, -4.417, -4.4251, -4.489, -4.4976, -4.4976, -4.5048, -4.5718, -4.661, -4.6644, -4.6667, -4.6674, -4.6674, -4.6674, -4.6674, -4.6674, -4.677, -4.8186, -4.8551, -4.9562, -4.9843, -5.1377, -5.1417, -5.1707, -5.2212, -5.2226, -5.2239, -3.8281, -3.8726, -4.9186, -4.8549, -3.913, -4.5965, -3.7448, -4.2678, -4.8536, -3.9436, -4.4269, -4.5656, -4.6093, -4.7401, -4.7649, -4.781, -4.7818, -4.7866, -4.7903, -4.7909, -4.7909, -4.7909, -4.7909, -4.7909, -4.7917, -4.7971, -4.7971, -4.7971, -4.7971, -4.7971, -4.7971, -4.7971, -4.7978, -4.798, -4.8159, -4.8679, -4.8884, -5.0457, -5.075, -2.2406, -4.7957, -4.6808, -4.0539, -4.7784, -4.7928, -3.8626, -3.9709, -4.0687, -4.2981, -4.3003, -4.3184, -4.3781, -4.3783, -4.383, -4.3838, -4.3895, -4.5919, -4.7153, -4.7161, -4.724, -4.7456, -4.8339, -4.8424, -4.9518, -4.9553, -4.9553, -4.968, -4.9734, -4.9947, -5.0022, -5.0082, -5.0259, -5.04, -5.0458, -5.0555, -4.483, -4.5271, -4.8344, -3.7708, -4.1849, -4.9947, -3.2019, -3.5763, -3.5829, -3.5832, -3.5879, -3.5879, -3.588, -3.5882, -3.5883, -3.5884, -3.5884, -3.5885, -3.5888, -3.5903, -3.8392, -4.0551, -4.2691, -4.2794, -4.2847, -4.2941, -4.3175, -4.3224, -4.3249, -4.3342, -4.3473, -4.3519, -4.4735, -4.606, -4.6256, -4.8918, -4.2982, -4.2885, -3.905, -4.1172, -4.1422, -4.1777, -4.2482, -4.2667, -4.2676, -4.2696, -4.2713, -4.2749, -4.2754, -4.2754, -4.2754, -4.3564, -4.5365, -4.6768, -4.6777, -4.6886, -4.6888, -4.6888, -4.6888, -4.7109, -4.8122, -4.8755, -4.8777, -4.8777, -5.0128, -5.1086, -5.3211, -5.3541, -3.6041, -4.2034, -4.1662, -3.7694, -4.5602, -4.5229, -3.6952, -4.3792, -4.4839, -4.4899, -4.4928, -4.4928, -4.5149, -4.5743, -4.5744, -4.5905, -4.5962, -4.5968, -4.5968, -4.6279, -4.6323, -4.635, -4.6439, -4.6586, -4.7678, -4.7971, -4.864, -4.8659, -4.9078, -4.9408, -4.9538, -4.9849, -4.9929, -4.9942, -4.9958, -4.9986, -3.792, -4.2897, -4.4145, -4.5255, -4.2486, -3.0191, -4.4053, -4.3607, -4.1075, -4.1155, -4.2204, -4.2296, -4.2332, -4.2332, -4.2332, -4.2332, -4.2638, -4.4694, -4.5236, -4.541, -4.6528, -4.6949, -4.6964, -4.6993, -4.7555, -4.7555, -4.7558, -4.7558, -4.7558, -4.7558, -4.7558, -4.7624, -4.7672, -4.789, -4.789, -4.796, -4.91, -4.9641, -3.6174, -2.5215, -4.0602, -4.2155, -4.218, -4.4112, -4.6072, -4.6109, -4.6446, -4.6918, -4.7965, -4.8142, -4.879, -5.025, -5.0757, -5.1096, -5.1255, -5.1283, -5.1451, -5.1477, -5.1612, -5.1675, -5.1675, -5.1676, -5.1869, -5.2209, -5.236, -5.3045, -5.3671, -5.3834, -5.3886, -3.8119, -4.1573, -2.9869, -5.0955, -5.1097, -4.9367, -5.0036, -5.1523, -3.7055, -3.74, -3.742, -3.7641, -3.7652, -3.7675, -3.7681, -3.7682, -4.5396, -4.7935, -4.9284, -4.941, -4.9422, -5.1228, -5.137, -5.1408, -5.149, -5.2103, -5.2165, -5.239, -5.2416, -5.2433, -5.3382, -5.372, -5.4097, -5.4189, -5.4316, -5.4347, -5.4359, -5.4359, -3.714, -4.3944, -5.2345, -3.5041, -3.5132, -3.5167, -3.5194, -3.5194, -3.5194, -3.5194, -3.5194, -4.0247, -4.0999, -4.2339, -4.2731, -4.3199, -4.3204, -4.3438, -4.3615, -4.3795, -4.3795, -4.3795, -4.3802, -4.3843, -4.3843, -4.3894, -5.1375, -5.1472, -5.2293, -5.3332, -5.4028, -5.4301, -5.4315, -3.2952, -4.8432, -5.1331, -3.6007, -4.273, -4.4875, -4.5804, -4.7144, -4.7702, -4.7925, -4.7942, -4.7943, -4.7944, -4.8037, -4.8239, -4.8715, -4.9553, -5.0451, -5.092, -5.1649, -5.1749, -5.1863, -5.2035, -5.2349, -5.3876, -5.4067, -5.4631, -5.4791, -5.4791, -5.5233, -5.6292, -5.6547, -5.6555, -3.8994, -4.3202, -4.4637, -4.2841, -5.1841, -4.4693, -5.067, -4.8471, -4.3942, -4.7977, -3.9032, -4.0234, -4.0443, -4.1175, -4.1342, -4.1387, -4.1434, -4.1507, -4.1507, -4.158, -4.158, -4.158, -4.1622, -4.3724, -4.4, -4.404, -4.527, -4.5645, -4.7903, -4.968, -4.9998, -5.0049, -5.0049, -5.0588, -5.0591, -5.0644, -5.0678, -5.0702, -5.0702, -5.0722, -3.5735, -4.8613, -5.0608, -5.0618, -3.6543, -4.2117, -4.2872, -4.564, -4.5659, -4.5665, -4.5666, -4.5684, -4.5708, -4.5709, -4.5737, -4.5767, -4.5768, -4.5768, -4.5768, -4.7854, -4.8517, -4.8575, -4.8735, -4.8866, -4.8866, -4.8866, -4.8866, -4.8866, -4.8866, -4.8866, -4.9049, -4.9403, -4.9746, -4.9845, -4.2732, -4.3669, -4.5555, -4.6735, -4.5691, -4.6644, -4.5179, -4.7079], \"loglift\": [30.0, 29.0, 28.0, 27.0, 26.0, 25.0, 24.0, 23.0, 22.0, 21.0, 20.0, 19.0, 18.0, 17.0, 16.0, 15.0, 14.0, 13.0, 12.0, 11.0, 10.0, 9.0, 8.0, 7.0, 6.0, 5.0, 4.0, 3.0, 2.0, 1.0, 2.7671, 2.767, 2.767, 2.7669, 2.7669, 2.7669, 2.7669, 2.7669, 2.7669, 2.7669, 2.7669, 2.7669, 2.7669, 2.7669, 2.7669, 2.7669, 2.7669, 2.7669, 2.7669, 2.7669, 2.7667, 2.7666, 2.7666, 2.7666, 2.7666, 2.7665, 2.7665, 2.7665, 2.7665, 2.7665, 1.3066, 0.5116, 2.8287, 2.8287, 2.8286, 2.8286, 2.8286, 2.8286, 2.8286, 2.8286, 2.8286, 2.8286, 2.8285, 2.8284, 2.8284, 2.8284, 2.8284, 2.8284, 2.8284, 2.8284, 2.8284, 2.8284, 2.8283, 2.8281, 2.828, 2.8279, 2.8279, 2.8278, 2.8277, 2.8277, 2.8277, 2.8277, 2.4416, 2.516, 2.5978, 2.836, 2.836, 2.836, 2.836, 2.836, 2.836, 2.836, 2.836, 2.836, 2.836, 2.8358, 2.8354, 2.8353, 2.8353, 2.8352, 2.8352, 2.8351, 2.8351, 2.8351, 2.8351, 2.8351, 2.8351, 2.8351, 2.8348, 2.8347, 2.8346, 2.8343, 2.8343, 2.8342, 2.834, 2.5618, 2.0911, 1.718, -0.3949, 2.8627, 2.8627, 2.8627, 2.8627, 2.8627, 2.8627, 2.8627, 2.8627, 2.8627, 2.8627, 2.8626, 2.8626, 2.8626, 2.8626, 2.8626, 2.8626, 2.8626, 2.8626, 2.8626, 2.8626, 2.8623, 2.8622, 2.862, 2.862, 2.8619, 2.8619, 2.8618, 2.8618, 2.8618, 2.8618, 2.7707, 2.7091, 2.788, 2.4666, -0.5691, 2.8748, 2.8747, 2.8747, 2.8747, 2.8747, 2.8747, 2.8747, 2.8747, 2.8747, 2.8747, 2.8746, 2.8744, 2.8744, 2.8743, 2.8743, 2.8743, 2.8743, 2.8742, 2.8742, 2.8742, 2.8742, 2.8742, 2.8741, 2.8741, 2.8741, 2.8741, 2.8741, 2.8741, 2.8741, 2.8741, 2.8169, 2.7264, 2.5426, 2.5801, 2.5782, 2.6186, 2.7749, 2.4245, 2.6082, 1.1471, 2.5622, 1.2535, 2.9451, 2.945, 2.945, 2.945, 2.945, 2.945, 2.945, 2.9449, 2.9449, 2.9449, 2.9449, 2.9449, 2.9449, 2.9449, 2.9449, 2.9449, 2.9449, 2.9449, 2.9448, 2.9447, 2.9447, 2.9444, 2.9444, 2.9443, 2.9441, 2.9441, 2.9441, 2.9441, 2.9441, 2.944, 2.8919, 2.729, 2.6719, 2.5953, 2.1266, 2.7608, 2.6192, 2.9613, 2.9612, 2.9612, 2.9612, 2.9612, 2.9612, 2.9612, 2.9612, 2.9612, 2.9612, 2.9612, 2.9612, 2.9612, 2.9612, 2.9612, 2.9612, 2.9612, 2.9612, 2.9612, 2.9612, 2.9612, 2.9611, 2.9611, 2.961, 2.961, 2.961, 2.9609, 2.9609, 2.9609, 2.9609, 2.8243, 2.8928, 2.7058, 1.4896, 1.2023, 2.9832, 2.9832, 2.9832, 2.9832, 2.9831, 2.9831, 2.9831, 2.9831, 2.9831, 2.9831, 2.9831, 2.983, 2.983, 2.983, 2.983, 2.983, 2.983, 2.983, 2.983, 2.983, 2.9829, 2.9829, 2.9828, 2.9828, 2.9827, 2.9827, 2.9827, 2.9826, 2.9826, 2.9826, 2.9399, 2.7361, 2.897, 2.8615, 2.309, 2.5741, 0.827, 0.7795, 2.4196, 2.9882, 2.988, 2.988, 2.9879, 2.9879, 2.9879, 2.9878, 2.9878, 2.9878, 2.9878, 2.9878, 2.9878, 2.9878, 2.9878, 2.9878, 2.9878, 2.9878, 2.9878, 2.9878, 2.9878, 2.9878, 2.9878, 2.9878, 2.9878, 2.9878, 2.9878, 2.9878, 2.9878, 2.9877, 2.9876, 2.3312, 2.8358, 2.6654, 1.5983, 2.7988, 2.687, 2.9925, 2.9925, 2.9925, 2.9924, 2.9924, 2.9924, 2.9924, 2.9924, 2.9924, 2.9924, 2.9924, 2.9923, 2.9922, 2.9922, 2.9922, 2.9922, 2.9922, 2.9922, 2.9921, 2.9921, 2.9921, 2.9921, 2.9921, 2.9921, 2.9921, 2.992, 2.992, 2.992, 2.992, 2.992, 2.6481, 2.5755, 2.8043, 0.801, 0.8624, 1.8966, 3.0, 3.0, 3.0, 3.0, 3.0, 3.0, 3.0, 3.0, 3.0, 3.0, 3.0, 3.0, 3.0, 3.0, 2.9999, 2.9999, 2.9998, 2.9998, 2.9998, 2.9998, 2.9998, 2.9998, 2.9998, 2.9998, 2.9998, 2.9998, 2.9997, 2.9997, 2.9996, 2.9995, 2.5931, 0.7588, 3.0333, 3.0332, 3.0332, 3.0332, 3.0332, 3.0332, 3.0332, 3.0332, 3.0332, 3.0332, 3.0332, 3.0332, 3.0332, 3.0332, 3.0331, 3.033, 3.033, 3.033, 3.033, 3.033, 3.033, 3.033, 3.0329, 3.0329, 3.0329, 3.0329, 3.0328, 3.0327, 3.0325, 3.0325, 2.9636, 2.9503, 2.9194, 2.7454, 2.8825, 2.7545, 3.0493, 3.0491, 3.0491, 3.0491, 3.0491, 3.0491, 3.049, 3.049, 3.049, 3.049, 3.049, 3.049, 3.049, 3.049, 3.049, 3.049, 3.049, 3.049, 3.0489, 3.0489, 3.0488, 3.0488, 3.0488, 3.0488, 3.0488, 3.0488, 3.0488, 3.0488, 3.0488, 3.0488, 2.8654, 2.8198, 2.8569, 2.8827, 2.7612, 2.0282, 2.6367, 0.2111, 3.0708, 3.0708, 3.0707, 3.0707, 3.0707, 3.0707, 3.0707, 3.0707, 3.0707, 3.0706, 3.0706, 3.0706, 3.0705, 3.0705, 3.0705, 3.0705, 3.0705, 3.0705, 3.0705, 3.0705, 3.0705, 3.0705, 3.0705, 3.0705, 3.0705, 3.0704, 3.0704, 3.0704, 3.0704, 3.0703, 2.9645, 3.1238, 3.1236, 3.1235, 3.1235, 3.1235, 3.1234, 3.1234, 3.1233, 3.1233, 3.1232, 3.1232, 3.1232, 3.1231, 3.123, 3.123, 3.123, 3.123, 3.123, 3.123, 3.123, 3.123, 3.123, 3.123, 3.1229, 3.1229, 3.1229, 3.1228, 3.1227, 3.1227, 3.1227, 2.9811, 3.0086, 2.6872, 2.9931, 2.7829, 1.692, 1.6052, 2.7003, 3.1298, 3.1298, 3.1298, 3.1298, 3.1298, 3.1298, 3.1298, 3.1298, 3.1295, 3.1294, 3.1293, 3.1292, 3.1292, 3.1291, 3.1291, 3.1291, 3.1291, 3.129, 3.129, 3.129, 3.129, 3.129, 3.1289, 3.1288, 3.1288, 3.1288, 3.1288, 3.1288, 3.1288, 3.1288, 2.8963, 2.984, 1.8966, 3.134, 3.134, 3.134, 3.134, 3.134, 3.134, 3.134, 3.134, 3.1339, 3.1339, 3.1338, 3.1338, 3.1338, 3.1338, 3.1338, 3.1338, 3.1338, 3.1338, 3.1338, 3.1338, 3.1338, 3.1338, 3.1338, 3.1333, 3.1333, 3.1332, 3.1331, 3.133, 3.1329, 3.1329, 2.357, 2.8651, 2.8429, 3.1367, 3.1365, 3.1364, 3.1364, 3.1363, 3.1363, 3.1363, 3.1363, 3.1363, 3.1363, 3.1363, 3.1363, 3.1362, 3.1362, 3.1361, 3.136, 3.136, 3.136, 3.136, 3.1359, 3.1359, 3.1357, 3.1357, 3.1356, 3.1356, 3.1356, 3.1356, 3.1354, 3.1354, 3.1354, 3.0452, 2.8337, 2.8407, 2.6887, 2.8741, 1.9166, 2.4922, 2.1209, 1.2799, 1.4636, 3.167, 3.1669, 3.1669, 3.1669, 3.1669, 3.1669, 3.1669, 3.1669, 3.1669, 3.1669, 3.1669, 3.1669, 3.1669, 3.1668, 3.1668, 3.1668, 3.1667, 3.1667, 3.1666, 3.1664, 3.1664, 3.1664, 3.1664, 3.1664, 3.1664, 3.1664, 3.1664, 3.1664, 3.1664, 3.1664, 0.9983, 2.8342, 0.6405, 0.7365, 3.1703, 3.1701, 3.1701, 3.17, 3.17, 3.17, 3.17, 3.17, 3.17, 3.17, 3.1699, 3.1699, 3.1699, 3.1699, 3.1699, 3.1698, 3.1698, 3.1698, 3.1698, 3.1697, 3.1697, 3.1697, 3.1697, 3.1697, 3.1697, 3.1697, 3.1697, 3.1697, 3.1697, 3.1697, 3.099, 2.9474, 2.9354, 2.9398, 2.8302, 2.8025, 1.704, 0.3395]}, \"token.table\": {\"Topic\": [4, 17, 4, 10, 18, 7, 4, 7, 3, 19, 1, 5, 18, 4, 10, 14, 13, 14, 8, 11, 3, 13, 20, 12, 4, 13, 10, 9, 19, 9, 18, 9, 5, 8, 17, 20, 9, 5, 1, 13, 14, 18, 2, 2, 16, 12, 3, 17, 11, 11, 7, 9, 8, 6, 4, 6, 7, 11, 12, 15, 17, 6, 14, 11, 20, 7, 5, 4, 6, 8, 9, 15, 15, 8, 13, 9, 19, 19, 19, 8, 19, 16, 2, 2, 19, 19, 10, 10, 5, 8, 3, 9, 16, 8, 1, 6, 20, 18, 11, 12, 1, 4, 2, 15, 17, 17, 19, 16, 3, 9, 12, 10, 13, 11, 5, 19, 4, 4, 15, 12, 4, 8, 8, 3, 20, 7, 6, 10, 8, 7, 17, 17, 5, 10, 19, 14, 7, 8, 10, 6, 19, 18, 13, 6, 5, 18, 11, 3, 11, 13, 10, 13, 20, 3, 4, 19, 15, 18, 6, 20, 11, 11, 11, 2, 19, 20, 16, 3, 3, 6, 5, 15, 5, 15, 5, 6, 2, 18, 3, 16, 15, 20, 11, 13, 7, 13, 16, 18, 2, 20, 9, 12, 16, 14, 16, 14, 3, 5, 6, 8, 10, 11, 13, 20, 8, 9, 10, 12, 4, 17, 5, 8, 2, 14, 19, 20, 12, 15, 16, 7, 8, 14, 7, 5, 18, 1, 18, 13, 1, 7, 14, 18, 17, 14, 11, 1, 3, 18, 2, 7, 9, 2, 6, 16, 20, 18, 3, 18, 7, 17, 12, 6, 2, 2, 8, 7, 12, 9, 12, 19, 10, 19, 6, 10, 18, 18, 14, 11, 5, 20, 20, 11, 2, 3, 18, 18, 13, 13, 12, 4, 9, 4, 15, 9, 2, 19, 15, 16, 20, 15, 8, 15, 15, 1, 6, 4, 9, 19, 13, 14, 9, 16, 4, 15, 19, 6, 7, 4, 12, 19, 8, 10, 1, 2, 7, 10, 1, 7, 9, 18, 20, 5, 7, 8, 12, 6, 15, 9, 20, 13, 5, 1, 3, 14, 5, 10, 12, 5, 15, 18, 14, 19, 5, 6, 12, 9, 6, 11, 9, 8, 2, 7, 18, 19, 13, 20, 17, 16, 15, 15, 2, 19, 3, 20, 12, 18, 11, 6, 1, 12, 19, 7, 10, 13, 20, 4, 8, 6, 6, 9, 18, 11, 10, 18, 11, 16, 18, 8, 15, 20, 6, 15, 4, 3, 10, 9, 19, 2, 8, 3, 10, 14, 3, 12, 17, 1, 13, 16, 16, 12, 1, 14, 18, 10, 20, 14, 12, 15, 1, 13, 8, 20, 10, 11, 9, 5, 3, 12, 8, 15, 14, 5, 4, 9, 8, 16, 4, 18, 12, 2, 6, 18, 17, 17, 7, 6, 9, 14, 14, 9, 13, 3, 12, 4, 12, 8, 17, 5, 14, 16, 4, 7, 9, 12, 17, 7, 8, 14, 20, 14, 14, 18, 16, 20, 15, 2, 19, 6, 9, 16, 5, 13, 19, 1, 5, 14, 11, 12, 13, 2, 10, 1, 15, 18, 20, 16, 2, 8, 18, 10, 10, 5, 13, 20, 8, 13, 13, 19, 2, 14, 1, 11, 1, 1, 6, 19, 7, 8, 12, 13, 19, 20, 18, 13, 14, 15, 11, 15, 5, 18, 11, 5, 9, 5, 5, 12, 4, 5, 16, 15, 15, 17, 7, 17, 12, 16, 12, 12, 1, 1, 7, 1, 18, 10, 4, 19, 15, 6, 1, 19, 6, 5, 13, 9, 3, 1, 17, 3, 4, 9, 9, 17, 10, 18, 14, 4, 17, 4, 13, 20, 19, 5, 4, 6, 13, 3, 18, 1, 4, 6, 7, 8, 11, 3, 1, 17, 15, 17, 20, 11, 5, 6, 15, 16, 5, 3, 16, 15, 2, 7, 9, 13, 10, 11, 2, 18, 20, 4, 7, 8, 9, 10, 12, 13, 19, 18, 17, 1, 10, 13, 3, 19, 2, 4, 12, 5, 12, 10, 16, 14, 14, 3, 16, 18, 16, 5, 9, 15, 14, 5, 15, 15, 1, 6, 18, 2, 18, 2, 20, 1, 12, 5, 18, 15, 6, 7, 2, 9, 8, 7, 8, 10, 17, 18, 4, 18, 6, 9, 10, 20, 2, 5, 16, 2, 14, 20, 15, 17, 1, 17, 2, 7, 7, 20, 8, 13, 15, 4, 12, 3, 6, 11, 17, 7, 18, 1, 8, 14, 9, 12, 16, 8, 20, 5, 6, 11, 16, 10, 16, 7, 17, 1, 2, 13, 8, 4, 3, 17, 16, 12, 13, 20, 2, 10, 9, 5, 13, 4, 19, 6, 8, 5, 4, 4, 7, 6, 4, 15, 17, 19, 16, 10, 11, 8, 7, 18, 20, 3, 18, 11, 2, 2, 2, 13, 18, 12, 2, 15, 13, 16, 16, 8, 5, 16, 6, 14, 17, 4, 3, 9, 4, 8, 7, 3, 13, 20, 3, 4, 8, 9, 16, 13, 1, 10, 10, 1, 7, 20, 14, 7, 16, 5, 7, 10, 12, 11, 12, 6, 14, 7, 20, 17, 2, 6], \"Freq\": [0.99982745892247, 0.9998347319770289, 0.9996960863428056, 0.9991351952290249, 0.9983015586869447, 0.9994926236937874, 0.9990028371849499, 0.9993559695893391, 0.9988889022761662, 0.9997383258697897, 0.9997755055786772, 0.9993145791963559, 0.9992049069366619, 0.9997069476748515, 0.9993340883376887, 0.9991610824776692, 0.9994842730278521, 0.9995772470387919, 0.9989781643996269, 0.9998540308444478, 0.9999468948191138, 0.06856099824138283, 0.9309861866461457, 0.9995377449116685, 0.999653371867874, 0.9995407932647018, 0.9997474730857213, 0.999445926178209, 0.9990955253511672, 0.9995110720032093, 0.9985069920060223, 0.999445926178209, 0.7433056124700622, 0.25650555178607604, 0.9996794564826568, 0.9993804606591373, 0.9994850218932995, 0.9997176082527731, 0.9993991671576709, 0.269767285163477, 0.09115939959172517, 0.6387611734223716, 0.9993117316661175, 0.9996084753888845, 0.9993293988330305, 0.9992207534482973, 0.9988647276411403, 0.9995221584343377, 0.9998405177355547, 0.9998093272890041, 0.9991306037139772, 0.9995112702701319, 0.9995168895636307, 0.9998479960883402, 0.9989118877058093, 0.9997945262165313, 0.9996051795459784, 0.9995521725340673, 0.9995870144187845, 0.9989741574428642, 0.9997144251716434, 0.9997641402314184, 0.9992537485618306, 0.999784890100435, 0.9993804606591373, 0.9994926236937874, 0.9993763743474178, 0.9997609632531573, 0.11436736306894206, 0.8850744299222579, 0.7398924551278668, 0.2598463727277447, 0.9994254781451676, 0.999471366547923, 0.9995433504744943, 0.9994496309898177, 0.999657702669113, 0.9996803063324501, 0.9996620512606882, 0.9997498910008572, 0.999010352481692, 0.998754703155503, 0.9997001928155099, 0.9998259873337508, 0.9995956159468599, 0.9989888206568068, 0.9995233935618785, 0.9992034201656039, 0.9994525620663972, 0.9994718889442576, 0.7600290588006208, 0.23936161675251338, 0.9991956639348271, 0.9992475304654844, 0.9998191519076473, 0.8316430226442537, 0.1678748199759981, 0.9994501330002873, 0.9998279698377961, 0.999190656362008, 0.9999497426537294, 0.9996705035823149, 0.9997288770631115, 0.9995990399106002, 0.9996251615682763, 0.9995549071247638, 0.9996486956555917, 0.998753956925661, 0.999920095091414, 0.07965251414209137, 0.9200638708791575, 0.9990244188179832, 0.9996630249999136, 0.9996565706078213, 0.9996951852612528, 0.999252493887543, 0.9997843628172535, 0.9997969251662734, 0.99883796838574, 0.9996096288102054, 0.9279528689327242, 0.07158305924534107, 0.9994718889442576, 0.9988345031762582, 0.9989698353334104, 0.9996405228986533, 0.999744121176558, 0.9995233563090786, 0.9994718889442576, 0.9995283390978943, 0.9996464888041023, 0.9985342619310701, 0.999004554146672, 0.999689729641248, 0.9996620512606882, 0.9992887934392837, 0.933355135821905, 0.06605658890482682, 0.9997214957021958, 0.9996771666466322, 0.9996396765261393, 0.9987324787858072, 0.9992391227462748, 0.9998035686826224, 0.9997740545579009, 0.9993717736043947, 0.9996728993298774, 0.9999289954277448, 0.9995417568470555, 0.9992812007567166, 0.9996783221618498, 0.9993956848143271, 0.9994692697379541, 0.9990613518976489, 0.9998499781300462, 0.9991327561067683, 0.9990907835722938, 0.9993615359060727, 0.9994197554634023, 0.9994692697379541, 0.9997832735876789, 0.9992500688226178, 0.9995256317551832, 0.9999332008529803, 0.9997381055756299, 0.9993128359446952, 0.9986467553361704, 0.9990334645408947, 0.9976787649670686, 0.9997303347445473, 0.3449399332043027, 0.6544914403414221, 0.9991597758537903, 0.9994479849083643, 0.9435382871322844, 0.05617278630579548, 0.25601974597675936, 0.7435586652248639, 0.9997767246347339, 0.9990327018814527, 0.9992916661267724, 0.9992948100937313, 0.9998185183347736, 0.999380899370096, 0.9994034438877704, 0.7495208951969086, 0.07131916492157316, 0.17896757582432327, 0.19956009991247037, 0.8000566462929984, 0.9995295887215855, 0.9993630410225247, 0.9983569627556234, 0.9997512488296291, 0.9984020720648182, 0.9992537485618306, 0.039520593912838145, 0.1776544793034248, 0.0282525198150706, 0.11035184883638317, 0.11879702336894798, 0.10630569279292594, 0.36013141203073756, 0.05895155258665023, 0.9995769517535851, 0.9995349544296662, 0.9995465316267547, 0.9994345178455651, 0.9997069476748515, 0.9997682000612759, 0.999742497306018, 0.9989486140756418, 0.7314353202640029, 0.10707022011660156, 0.16092210597406387, 0.9993954431046463, 0.9995722734709567, 0.8910529150660196, 0.10861725628412934, 0.9993944330200459, 0.9994718889442576, 0.9992537485618306, 0.9996051795459784, 0.9992614641300354, 0.9989447824264359, 0.9997825461383036, 0.998061210144409, 0.999400313700339, 0.0419829496433562, 0.8716528958711989, 0.08628219995669067, 0.9989083101012848, 0.9995199465927652, 0.999566949243863, 0.9996036612308186, 0.9998605088079491, 0.9989497521296131, 0.9993502412095286, 0.9994985181007446, 0.9990449344021544, 0.9994850218932995, 0.9996706603038109, 0.9990122144823792, 0.9987324072760615, 0.9990531844454522, 0.998009956849494, 0.9989312663964387, 0.999592904884222, 0.9993270912988875, 0.9997444266097082, 0.9997772722306211, 0.9996021550689108, 0.999665299319214, 0.9992831547677469, 0.999475892875735, 0.9992186605012767, 0.9990249069124353, 0.25014572118232553, 0.7496206944447902, 0.9990431609383683, 0.9994072181566368, 0.9996589132122389, 0.8054788279520309, 0.12034449626291566, 0.07405815154640964, 0.9991772310367887, 0.9996397271005599, 0.9997490991388572, 0.9991440507701644, 0.9995550018641912, 0.9992887865330409, 0.9997867387718682, 0.9998988993019303, 0.9990465412717159, 0.9992123661551401, 0.9991324486903805, 0.9993458431841645, 0.9997393976316583, 0.9990352503894311, 0.9987795733518895, 0.9994412666311783, 0.9993937255352158, 0.9990599732037079, 0.9997089277547851, 0.2828468497169501, 0.7169220385892613, 0.9989152417606139, 0.9989231988706682, 0.9996479227737384, 0.9995530453392726, 0.7808267264942348, 0.2189453836099412, 0.9989034898315208, 0.9998677500022872, 0.9997566019265995, 0.9992627989993704, 0.9996357512982674, 0.9996192264028596, 0.10095267572192408, 0.898969935050258, 0.9994613633056478, 0.999336448549257, 0.9991253628800941, 0.9999198854961457, 0.999430013756613, 0.9993568605433614, 0.9994344255324417, 0.8574386908307298, 0.06256398171461956, 0.07993532587833173, 0.9992674788198704, 0.9995490004089064, 0.9998042012552996, 0.22519148236911238, 0.7742241708048883, 0.9996491645157772, 0.999349574238734, 0.9991841196761071, 0.8585063303983089, 0.14121400423763034, 0.9997888701640634, 0.7313281962037078, 0.2681132782271257, 0.9995409549959863, 0.9992977645957251, 0.28817982999422354, 0.71114039508406, 0.9995157307275847, 0.9993786737143174, 0.9994702624732766, 0.9993913908617768, 0.9994549284635427, 0.9999251447715816, 0.9992537485618306, 0.8620092210867409, 0.032290247695431665, 0.10552827326550493, 0.19759675909865673, 0.6461959967225902, 0.15612257303115792, 0.9992607949188633, 0.999084729423642, 0.0512021226243763, 0.9481601700370115, 0.9993559564205609, 0.999449405578083, 0.9987144467506314, 0.9995615570239684, 0.9994850218932995, 0.9995730874199258, 0.6790086146729257, 0.08823231036342462, 0.18763226503676206, 0.04498738984418778, 0.9993341840038658, 0.9993804606591373, 0.999768451527614, 0.9997887299175322, 0.99950538321822, 0.9991073613342346, 0.9997657014987181, 0.9991220447470576, 0.9999403067863909, 0.9990853044762119, 0.9324704577878863, 0.06735823985405225, 0.9997816411874719, 0.9993498705396796, 0.9998310438912528, 0.9997201174261297, 0.9996381168505649, 0.9995954779014546, 0.9993716971552702, 0.9994592903752849, 0.9990802936679772, 0.33564080389719314, 0.6640064409846639, 0.9997422411957426, 0.9986015948536159, 0.8273484564699656, 0.1721428087516024, 0.9995535634809152, 0.9992787343541853, 0.9995121022730887, 0.9994654477851217, 0.08736779997346968, 0.9124209918234705, 0.9995738994044018, 0.8669585015304561, 0.1329012877035183, 0.9997681111136342, 0.9989764703644511, 0.999280807741503, 0.999941418520493, 0.9995168608735902, 0.9993323107518755, 0.999359600748736, 0.9995669758017504, 0.999516388221694, 0.9989392842207845, 0.999591023944567, 0.9992014050900329, 0.9993897576288391, 0.9993289817836561, 0.9996251615682763, 0.9998208910443731, 0.9994625418115739, 0.999210962861807, 0.9997073376028043, 0.9997434421176544, 0.3795660248873414, 0.2581819661670241, 0.36206488414592, 0.6588894284972363, 0.3409252242238279, 0.9993541942586419, 0.9995750190834609, 0.9994007341599485, 0.999819056768584, 0.9993491363809662, 0.9994838688018717, 0.9993804606591373, 0.999346826392706, 0.9997423253308603, 0.999445926178209, 0.9993245620376555, 0.9991981409335409, 0.9997801941090153, 0.12211471042120794, 0.8774532821394861, 0.9996730781921812, 0.999372945580292, 0.275604803610336, 0.7239313251295306, 0.20827928064150197, 0.7915735463733633, 0.9992173411262834, 0.9993884321822776, 0.9993303573895679, 0.9991669879242743, 0.7047854716372406, 0.2951558301535796, 0.9996138749333987, 0.9987867312413211, 0.9996051795459784, 0.9998341507729243, 0.9990515281468746, 0.9994436648883085, 0.9992607949188633, 0.9993602746269394, 0.9996041566675788, 0.9981612131454812, 0.999627554093793, 0.9998668184749936, 0.999544036340079, 0.999323581732782, 0.999058100338812, 0.9991292070343099, 0.999586674145879, 0.9997902946402075, 0.07038144163265192, 0.17216317148452248, 0.249048650869029, 0.0486726003946736, 0.4596760985946519, 0.04246156260957564, 0.9572913279347672, 0.9995405574176885, 0.9994693677350781, 0.9994947011853952, 0.9995680368930054, 0.9986140508020004, 0.20911327217732567, 0.7904048292920159, 0.9988805075570971, 0.9990885837904819, 0.9994465779035225, 0.9996324722284312, 0.9994850218932995, 0.9997638053348219, 0.999748464972519, 0.9993764595167504, 0.9996486956555917, 0.2321137370891786, 0.7172597360019999, 0.05054689784591156, 0.24329252336734794, 0.7565697354355119, 0.9996041566675788, 0.9989849929230861, 0.9995949530786322, 0.999506005631419, 0.07714843927300508, 0.12858073212167512, 0.7941390931514887, 0.9992126446652586, 0.19108387644474917, 0.5688939582636717, 0.23945402532814064, 0.9993721078825041, 0.9992065217548789, 0.9997380759341462, 0.9991477108422097, 0.9994188614855345, 0.9995867897212994, 0.9994904527094846, 0.9996523647155049, 0.9995996682015633, 0.9993902184121124, 0.9995405574176885, 0.999843544378487, 0.9998638594552819, 0.9998435785054903, 0.999816645563626, 0.9995659422078985, 0.9991652708011358, 0.037083865376908186, 0.509427226635556, 0.08840732587800905, 0.07241633670110818, 0.061907972384859046, 0.23072712955242672, 0.9983015586869447, 0.999391249793954, 0.9992537485618306, 0.9989741574428642, 0.9998265665245393, 0.9994770222436921, 0.9992768216814253, 0.9995016249298976, 0.9998284471864464, 0.9049334610533745, 0.09455601917244238, 0.9996362021805918, 0.7738743872251318, 0.22580196959254406, 0.9998363285772726, 0.9994965107679921, 0.9990202464963748, 0.9989434828680189, 0.998798331882447, 0.999768451527614, 0.9996367580593833, 0.9991277111786024, 0.9997196489313733, 0.9997319417514993, 0.9997201174261297, 0.9994336075401068, 0.9993942817512007, 0.9998197649344216, 0.9996755546019003, 0.9995796757651454, 0.999554003922808, 0.9996729422619054, 0.9119635453775129, 0.08798598762388271, 0.9993498849709053, 0.999664807316819, 0.9997733451037091, 0.999568443566418, 0.9996847499109811, 0.9997068293612564, 0.9994358005986064, 0.9994351358732421, 0.9999453378614147, 0.9995257273643707, 0.9995087873915884, 0.9982771722047916, 0.9993585641119588, 0.9994458478065688, 0.9994681665980977, 0.9994840947813385, 0.9996390844034373, 0.9991638965821029, 0.9990883406124438, 0.999770733387553, 0.9985119032921999, 0.15335604766040317, 0.8463258955437535, 0.9991533902232554, 0.9994164905768279, 0.9992297694451016, 0.07579095286921932, 0.09226724697122352, 0.8318174765211833, 0.47472330005508145, 0.5248925919973717, 0.10480951179800689, 0.03668332912930241, 0.4410603261410156, 0.22944679317869643, 0.06112584587324059, 0.1268664389077367, 0.9988773323285263, 0.9994719967039128, 0.9996486306810802, 0.04575772109216125, 0.7470827924470174, 0.20634972300215024, 0.9998459101159076, 0.6373724020229896, 0.053752921039082205, 0.23891457883115474, 0.06987879735080688, 0.9991396729953179, 0.9994122865569406, 0.9988603155328025, 0.9997094535834365, 0.04588410770190711, 0.0008698409043015566, 0.12830153338447958, 0.824826637503951, 0.9990416065967265, 0.9996976410663851, 0.999258425377251, 0.2881703043982559, 0.7115285646334295, 0.03232771398004334, 0.0187298967021418, 0.11572765995117279, 0.5182815366126623, 0.11172142131230717, 0.03039770120511538, 0.05851447822167953, 0.11429477167887779, 0.9994936219742461, 0.9998712243596067, 0.9998662069781421, 0.20494398060475447, 0.7948053110637454, 0.9999228152462025, 0.9988852744685258, 0.9996178566825048, 0.10763756566934442, 0.8921637154472507, 0.9991479552335998, 0.0005018322226185835, 0.8283002866597149, 0.17143743613199558, 0.9996584812825191, 0.9993917892299026, 0.10655372804147543, 0.1548993396755387, 0.7385275633219505, 0.9997371554304215, 0.7658313659941484, 0.07914277274392083, 0.15475501287472995, 0.9995526060206725, 0.9991257169594794, 0.9987217464091146, 0.9993527955858936, 0.1904277024538106, 0.7608940243267763, 0.04854039474312819, 0.7937622183967216, 0.20562392309145844, 0.3075197723189926, 0.6919855925699084, 0.9998184421769383, 0.9996635952623296, 0.9997734033995537, 0.9988274304866666, 0.9988564264355546, 0.9985687766779145, 0.999201461945147, 0.9999012969681783, 0.9995749149990079, 0.9994656023413522, 0.9994639364668391, 0.9170683165862238, 0.0824499508169061, 0.9992418314824315, 0.9998558068708968, 0.9997066033919605, 0.998973957969044, 0.9993023415886177, 0.999497040345027, 0.9996970544631448, 0.9993863940779409, 0.9987355263181301, 0.9993674269663891, 0.998415752117674, 0.9998320622170541, 0.9994690187203776, 0.9995481741729639, 0.9992166017055408, 0.999766879077924, 0.9997518354800217, 0.999768451527614, 0.9993472270242567, 0.9996051795459784, 0.9994880500654422, 0.9995487522835845, 0.9996669613616054, 0.9994889341620595, 0.9993939512732739, 0.1399031291544679, 0.859810559434562, 0.9999284400968007, 0.9998574988572937, 0.9997347861818898, 0.9997611666180359, 0.9994926236937874, 0.9990507517459357, 0.99955197227699, 0.9993714651711586, 0.9995405574176885, 0.9994454781279477, 0.9996186784251199, 0.9991664311856723, 0.9995116939042803, 0.9996921178282633, 0.9998151852525234, 0.9997079221325524, 0.9998151075875653, 0.9995573918419592, 0.7083861787569844, 0.29125482963300775, 0.9994897359609944, 0.999682664918588, 0.9997799353391531, 0.9996472750889874, 0.9994069876908068, 0.9992600728970288, 0.9997686055995068, 0.9985284915170739, 0.9994818625707738, 0.9990565378742309, 0.9994513124334807, 0.9993764595167504, 0.99942324408911, 0.9999509678793823, 0.9996279145307304, 0.9994458141656061, 0.33802254738971155, 0.6618671669605196, 0.9998519545884013, 0.9996622893058559, 0.9988019231118845, 0.9994312793598228, 0.9994469967638693, 0.9989623681062043, 0.9998683006944195, 0.9994926236937874, 0.9985611742673098, 0.9998519545884013, 0.9995928028594826, 0.7641670014106762, 0.23530957444319942, 0.9988453470868246, 0.33416438523113856, 0.6656518862014136, 0.9996955619820346, 0.9996051795459784, 0.9994454447804466, 0.9993804606591373, 0.9986386031945494, 0.9993161766112018, 0.9998547899636331, 0.9998898582767516, 0.9998348837086729, 0.9998678230633639, 0.23023167307503917, 0.7690311071593632, 0.9994048831973856, 0.9997530684040679, 0.999187267201349, 0.999439339827194, 0.9997236889103656, 0.9990072968191842, 0.9996955920400443, 0.9996748012304315, 0.9988155353791773, 0.721878749596164, 0.11237549104165638, 0.16535250824700867, 0.999789736997585, 0.9986652647678247, 0.9992974875449644, 0.9996708307358918, 0.9993639702722202, 0.999400575920434, 0.9999375070245786, 0.9996367238525684, 0.9993804606591373, 0.3268665410764574, 0.6728128495275775, 0.9993956943918747, 0.9994850218932995, 0.9998236805247339, 0.9994137218173986, 0.9997695073050705, 0.9992564380387315, 0.9997229941326482, 0.999325859438832, 0.999415152255925, 0.9994692697379541, 0.9994762631748693, 0.13554230710024842, 0.8640822077640837, 0.7445964961276185, 0.2550587344733126, 0.9993264245364484, 0.9996663243113796, 0.9995956587126016, 0.9996123158901162, 0.9990547899687979, 0.9995405574176885, 0.999403683229095, 0.999421241412493, 0.998722330276342, 0.9998470145986457, 0.999574583378393], \"Term\": [\"absolutely tyrannical\", \"account since\", \"act beginnin\", \"act nothing\", \"act publix\", \"actively deleting\", \"address inflation\", \"adjusted inflation\", \"advanced manufacturing\", \"afford jo\", \"aim corporate\", \"allowed complain\", \"also lower\", \"america getting\", \"america le\", \"american people\", \"americans see\", \"amp gas\", \"amp trace\", \"announced billion\", \"announcements last\", \"annual inflation\", \"annual inflation\", \"another reason\", \"another tax\", \"around workers\", \"around world\", \"asking badly\", \"attacking pronouns\", \"auto maker\", \"bad news\", \"badly needed\", \"bank england\", \"bank england\", \"bank tax\", \"become natives\", \"belvidere illinois\", \"biden credit\", \"biden helped\", \"biden inflation\", \"biden inflation\", \"biden inflation\", \"biden laptop\", \"biden take\", \"biden took\", \"bidens inflati\", \"big day\", \"billion cost\", \"billion profits\", \"billion stock\", \"blame inflation\", \"blame nhs\", \"booming unemployment\", \"bottom line\", \"brag trump\", \"breaking inflation\", \"breaking nurses\", \"breaking us\", \"bring inflation\", \"burden fighting\", \"busting pay\", \"busy pronouns\", \"buy discounted\", \"buybacks folks\", \"campaign welcome\", \"canadian liberal\", \"card nft\", \"cash transaction\", \"caused inflation\", \"caused inflation\", \"central bank\", \"central bank\", \"central banks\", \"change narrative\", \"charge one\", \"cherokee plant\", \"christmas dinner\", \"christmas presents\", \"christmas travel\", \"climate change\", \"climate crisis\", \"clowns running\", \"collapsing productivity\", \"collusion false\", \"combat inflation\", \"combating climate\", \"coming america\", \"common price\", \"complain inflation\", \"conflicted climate\", \"consumer inflation\", \"consumer inflation\", \"consumer price\", \"consumer prices\", \"control inflation\", \"core inflation\", \"core inflation\", \"core november\", \"corporate gree\", \"corporate greed\", \"corporate profits\", \"corporations america\", \"corrupt joe\", \"cost living\", \"cost meeting\", \"cost rishi\", \"costs christmas\", \"country fyi\", \"couple weeks\", \"cpi inflation\", \"cpi inflation\", \"cpi report\", \"created inflation\", \"creation early\", \"credit plummeting\", \"crisis inflation\", \"current rate\", \"cut inflation\", \"cutting rates\", \"d get\", \"dark brandon\", \"dark brandon\", \"data conflicted\", \"day white\", \"deal like\", \"deal pay\", \"dealing inflation\", \"declining straight\", \"deleted weather\", \"deleting years\", \"demand inflation\", \"democrats stand\", \"digital trump\", \"digits many\", \"dinner christmas\", \"discounted russian\", \"donald trump\", \"donald trump\", \"double digits\", \"dr fauci\", \"driving costs\", \"driving inflation\", \"driving street\", \"dropped significantly\", \"dropping inflation\", \"due inflation\", \"early signs\", \"easing signed\", \"easing unemployment\", \"economic progress\", \"economies around\", \"energy prices\", \"enough explaining\", \"equality inflation\", \"eu trying\", \"ever combating\", \"exclusively fed\", \"expected core\", \"expected inflation\", \"explaining paying\", \"exxonmobil raked\", \"fair share\", \"falls lower\", \"false told\", \"families afford\", \"far enough\", \"faster wages\", \"fathom new\", \"fathom website\", \"fauci still\", \"fed chair\", \"fed chair\", \"fed inflation\", \"fed raise\", \"federal reserve\", \"federal reserve\", \"fell november\", \"fell november\", \"fight inflation\", \"fight unemployment\", \"fighting inflation\", \"five months\", \"folks corporate\", \"food energy\", \"food infla\", \"food inflation\", \"food inflation\", \"food inflation\", \"food price\", \"food price\", \"food prices\", \"free thanks\", \"fucking clowns\", \"fuelled inflation\", \"fyi inflation\", \"gas months\", \"gas prices\", \"gas prices\", \"gas prices\", \"gas prices\", \"gas prices\", \"gas prices\", \"gas prices\", \"gas prices\", \"gdp jobs\", \"get blame\", \"get inflation\", \"get recommended\", \"getting another\", \"girl saying\", \"give president\", \"giving nhs\", \"global inflation\", \"global inflation\", \"global inflation\", \"go far\", \"going new\", \"good news\", \"good news\", \"government actively\", \"government deleted\", \"govt buy\", \"govt reached\", \"great news\", \"health care\", \"high corporate\", \"high cost\", \"high gas\", \"high inflation\", \"high inflation\", \"high inflation\", \"high interest\", \"higher inflation\", \"highest inflation\", \"historic job\", \"hit record\", \"house marriage\", \"housing market\", \"hunter biden\", \"illegal immigration\", \"illinois auto\", \"incompetent corrupt\", \"increase inflation\", \"increased faster\", \"increases slowing\", \"india wholesale\", \"inflation advanced\", \"inflation amp\", \"inflation border\", \"inflation busting\", \"inflation came\", \"inflation caused\", \"inflation collapsing\", \"inflation coming\", \"inflation control\", \"inflation cost\", \"inflation crime\", \"inflation data\", \"inflation data\", \"inflation declined\", \"inflation declining\", \"inflation driving\", \"inflation dropped\", \"inflation dropped\", \"inflation dropped\", \"inflation eased\", \"inflation eases\", \"inflation easing\", \"inflation ever\", \"inflation expectations\", \"inflation fallen\", \"inflation falls\", \"inflation false\", \"inflation fathom\", \"inflation fed\", \"inflation fell\", \"inflation food\", \"inflation gas\", \"inflation get\", \"inflation getting\", \"inflation global\", \"inflation going\", \"inflation good\", \"inflation high\", \"inflation higher\", \"inflation higher\", \"inflation hit\", \"inflation increased\", \"inflation inflation\", \"inflation last\", \"inflation lower\", \"inflation lower\", \"inflation much\", \"inflation must\", \"inflation n\", \"inflation nothing\", \"inflation november\", \"inflation numbers\", \"inflation pay\", \"inflation pay\", \"inflation peaked\", \"inflation people\", \"inflation please\", \"inflation rate\", \"inflation rates\", \"inflation recession\", \"inflation record\", \"inflation reduction\", \"inflation reduction\", \"inflation reduction\", \"inflation related\", \"inflation report\", \"inflation reporting\", \"inflation right\", \"inflation right\", \"inflation rising\", \"inflation significantly\", \"inflation skyrocketing\", \"inflation slowed\", \"inflation slowed\", \"inflation still\", \"inflation target\", \"inflation target\", \"inflation tax\", \"inflation time\", \"inflation transitory\", \"inflation transitory\", \"inflation unemployment\", \"inflation universe\", \"inflation utter\", \"inflation year\", \"inflation years\", \"inflations easing\", \"instead purchased\", \"interest rate\", \"interest rate\", \"interest rate\", \"interest rates\", \"interest rates\", \"interest rates\", \"intl market\", \"investment ever\", \"janet yellen\", \"janet yellen\", \"january seniors\", \"jeep cherokee\", \"jeremy hunt\", \"job creation\", \"jobs jeep\", \"jobs manufacturing\", \"joe biden\", \"joe biden\", \"joe biden\", \"joe biden\", \"joe bidens\", \"join inflation\", \"judging girl\", \"keeping inflation\", \"kept inflation\", \"key interest\", \"lap inflation\", \"largest investment\", \"last couple\", \"last five\", \"last month\", \"last month\", \"last quarter\", \"last year\", \"latest inflation\", \"learned last\", \"let us\", \"liberal government\", \"like inflation\", \"like presidents\", \"like still\", \"line inflation\", \"line inflation\", \"line p\", \"long term\", \"losing jobs\", \"losing jobs\", \"low gas\", \"low inflation\", \"lower expec\", \"lower expectations\", \"lower expected\", \"lower expected\", \"lower gas\", \"lower inflation\", \"lower inflation\", \"lower october\", \"lower wage\", \"lowering inflation\", \"major announcements\", \"major economies\", \"maker finance\", \"making largest\", \"man incompetent\", \"manufacturing booming\", \"manufacturing gas\", \"many major\", \"market peak\", \"marriage equality\", \"medicare part\", \"meeting nurses\", \"mention corporate\", \"mick lynch\", \"middle class\", \"money pay\", \"month inflation\", \"month low\", \"month low\", \"month low\", \"months gas\", \"months gas\", \"months instead\", \"morning received\", \"much lower\", \"must take\", \"myth tories\", \"narrative statscan\", \"natives share\", \"near ye\", \"near year\", \"needed pay\", \"new rule\", \"new way\", \"new year\", \"news inflation\", \"news inflation\", \"next year\", \"nft allowed\", \"nhs staff\", \"nhs staff\", \"nhs workers\", \"nhs workers\", \"nothing brag\", \"november also\", \"november cpi\", \"november inflation\", \"november lower\", \"november lower\", \"nurses demand\", \"nurses pay\", \"nurses scotland\", \"october bottom\", \"october november\", \"oil amp\", \"oil intl\", \"one get\", \"one trading\", \"one year\", \"optimistic going\", \"outlaw cash\", \"part d\", \"pause thought\", \"pay cut\", \"pay digital\", \"pay fuelled\", \"pay nhs\", \"pay rise\", \"pay rise\", \"pay rise\", \"pay rise\", \"pay rise\", \"pay rises\", \"pay rises\", \"pay squeezed\", \"paying public\", \"pdm govt\", \"peak pric\", \"people pay\", \"people said\", \"people said\", \"percentage point\", \"performative investigations\", \"plan combat\", \"plans dealing\", \"plant belvidere\", \"plenty money\", \"plummeting gas\", \"plummeting weird\", \"presents christmas\", \"president biden\", \"president biden\", \"president biden\", \"president bidens\", \"president bidens\", \"presidents charge\", \"price gas\", \"price gouging\", \"price growth\", \"price increases\", \"price increases\", \"price increases\", \"price index\", \"price inflation\", \"price inflation\", \"price inflation\", \"price unemployment\", \"prices common\", \"prices dropping\", \"prices fall\", \"prices falling\", \"prices gdp\", \"prices inflation\", \"prices plummeting\", \"prices still\", \"printing money\", \"profit pushed\", \"profits hit\", \"profits last\", \"profits rea\", \"profits working\", \"pronouns dr\", \"pronouns republican\", \"public sector\", \"public sector\", \"public sector\", \"public sector\", \"public sector\", \"public sector\", \"publix morning\", \"pump gas\", \"purchased oil\", \"puts burden\", \"quarter announced\", \"raise interest\", \"raised interest\", \"raising interest\", \"raked billion\", \"rate cuts\", \"rate cuts\", \"rate hike\", \"rate hikes\", \"rate hikes\", \"rate infla\", \"rate inflation\", \"rates inflation\", \"rates puts\", \"rates see\", \"reach savings\", \"reached deal\", \"real terms\", \"reason optimistic\", \"reasonable wages\", \"received another\", \"recommended vaccines\", \"record corporate\", \"record high\", \"record inflation\", \"record job\", \"record profits\", \"reduce inflation\", \"reduction act\", \"reduction act\", \"relying exclusively\", \"reminder republicans\", \"reporting mention\", \"republican plan\", \"republicans busy\", \"republicans give\", \"republicans talk\", \"resistance inflation\", \"respect marriag\", \"retail inflation\", \"rise billion\", \"rise inflation\", \"rise line\", \"rise pay\", \"rise th\", \"rishi sunaks\", \"rising double\", \"rising inflation\", \"rose november\", \"rt absolutely\", \"rt always\", \"rt americans\", \"rt americans\", \"rt annual\", \"rt attacking\", \"rt bank\", \"rt biden\", \"rt biden\", \"rt biden\", \"rt big\", \"rt big\", \"rt breaking\", \"rt breaking\", \"rt breaking\", \"rt breaking\", \"rt breaking\", \"rt breaking\", \"rt consumer\", \"rt corporate\", \"rt cost\", \"rt democrats\", \"rt democrats\", \"rt democrats\", \"rt exxonmobil\", \"rt fed\", \"rt fed\", \"rt fed\", \"rt fed\", \"rt federal\", \"rt fight\", \"rt fucking\", \"rt good\", \"rt government\", \"rt government\", \"rt government\", \"rt government\", \"rt great\", \"rt historic\", \"rt hunter\", \"rt india\", \"rt india\", \"rt inflation\", \"rt inflation\", \"rt inflation\", \"rt inflation\", \"rt inflation\", \"rt inflation\", \"rt inflation\", \"rt inflation\", \"rt joe\", \"rt judging\", \"rt latest\", \"rt like\", \"rt like\", \"rt major\", \"rt making\", \"rt man\", \"rt morning\", \"rt morning\", \"rt new\", \"rt new\", \"rt one\", \"rt one\", \"rt pay\", \"rt pdm\", \"rt people\", \"rt people\", \"rt people\", \"rt plenty\", \"rt powell\", \"rt powell\", \"rt powell\", \"rt president\", \"rt price\", \"rt private\", \"rt relying\", \"rt reminder\", \"rt reminder\", \"rt reminder\", \"rt republican\", \"rt republican\", \"rt republicans\", \"rt republicans\", \"rt say\", \"rt starting\", \"rt still\", \"rt stop\", \"rt story\", \"rt think\", \"rt today\", \"rt told\", \"rt tories\", \"rt trudeau\", \"rt tweet\", \"rt uk\", \"rt uk\", \"rt unemployment\", \"rt us\", \"rt watch\", \"rt week\", \"rt well\", \"rt workers\", \"rt world\", \"rt wrote\", \"rule law\", \"rule pay\", \"running country\", \"russian collusion\", \"russian oil\", \"said go\", \"said inflation\", \"savings account\", \"say control\", \"saying reach\", \"says inflation\", \"scotland strike\", \"scottish govt\", \"sector wo\", \"sector workers\", \"see economic\", \"see inflation\", \"seniors medicare\", \"seniors medicare\", \"signed respect\", \"significantly november\", \"signs inflation\", \"since pandemic\", \"sinks canadian\", \"sky high\", \"slow inflation\", \"small businesses\", \"squeezed years\", \"staff asking\", \"starting january\", \"states fight\", \"statscan dele\", \"still high\", \"still waiting\", \"still zero\", \"stock buybacks\", \"stock market\", \"straight months\", \"straight months\", \"strike unions\", \"sunaks bank\", \"take aim\", \"take victory\", \"talk things\", \"tax americans\", \"tax cut\", \"tax dodgers\", \"tax g\", \"tell us\", \"thanks president\", \"things anymore\", \"thread yesterday\", \"told us\", \"took office\", \"tories way\", \"trading card\", \"trading card\", \"transaction current\", \"travel families\", \"treasury secretary\", \"trudeau government\", \"trump trading\", \"trump white\", \"trying outlaw\", \"tweet sinks\", \"two years\", \"tyrannical eu\", \"uk inflation\", \"unemployment inflation\", \"unemployment inflation\", \"unemployment kms\", \"unemployment near\", \"unemployment near\", \"unemployment wages\", \"unions scottish\", \"united states\", \"universe campaign\", \"us cpi\", \"us fell\", \"us inflation\", \"us russian\", \"us twitter\", \"us zero\", \"using inflation\", \"using inflation\", \"vaccines free\", \"victory lap\", \"wage workers\", \"wages created\", \"wages keeping\", \"wages straight\", \"wages th\", \"waiting republicans\", \"walked states\", \"wall street\", \"wall street\", \"wall street\", \"watch wealthiest\", \"way fathom\", \"way one\", \"wealthiest corporations\", \"weather data\", \"weeks ago\", \"weeks inflations\", \"weird republicans\", \"welcome become\", \"white house\", \"white house\", \"workers inflation\", \"workers losing\", \"workers reasonable\", \"workers wages\", \"working people\", \"world coming\", \"world inflation\", \"worst inflation\", \"worth food\", \"wrote thread\", \"y y\", \"year ago\", \"year ago\", \"year high\", \"year high\", \"year inflation\", \"year learned\", \"year low\", \"year year\", \"years ago\", \"years profit\", \"years worth\", \"yesterday people\", \"zero accountability\", \"zero inflation\", \"zero plans\"]}, \"R\": 30, \"lambda.step\": 0.01, \"plot.opts\": {\"xlab\": \"PC1\", \"ylab\": \"PC2\"}, \"topic.order\": [20, 4, 6, 8, 9, 17, 14, 2, 13, 18, 5, 19, 15, 1, 10, 16, 11, 7, 12, 3]};\n",
       "\n",
       "function LDAvis_load_lib(url, callback){\n",
       "  var s = document.createElement('script');\n",
       "  s.src = url;\n",
       "  s.async = true;\n",
       "  s.onreadystatechange = s.onload = callback;\n",
       "  s.onerror = function(){console.warn(\"failed to load library \" + url);};\n",
       "  document.getElementsByTagName(\"head\")[0].appendChild(s);\n",
       "}\n",
       "\n",
       "if(typeof(LDAvis) !== \"undefined\"){\n",
       "   // already loaded: just create the visualization\n",
       "   !function(LDAvis){\n",
       "       new LDAvis(\"#\" + \"ldavis_el160381406060140246089296309832\", ldavis_el160381406060140246089296309832_data);\n",
       "   }(LDAvis);\n",
       "}else if(typeof define === \"function\" && define.amd){\n",
       "   // require.js is available: use it to load d3/LDAvis\n",
       "   require.config({paths: {d3: \"https://d3js.org/d3.v5\"}});\n",
       "   require([\"d3\"], function(d3){\n",
       "      window.d3 = d3;\n",
       "      LDAvis_load_lib(\"https://cdn.jsdelivr.net/gh/bmabey/pyLDAvis@3.4.0/pyLDAvis/js/ldavis.v3.0.0.js\", function(){\n",
       "        new LDAvis(\"#\" + \"ldavis_el160381406060140246089296309832\", ldavis_el160381406060140246089296309832_data);\n",
       "      });\n",
       "    });\n",
       "}else{\n",
       "    // require.js not available: dynamically load d3 & LDAvis\n",
       "    LDAvis_load_lib(\"https://d3js.org/d3.v5.js\", function(){\n",
       "         LDAvis_load_lib(\"https://cdn.jsdelivr.net/gh/bmabey/pyLDAvis@3.4.0/pyLDAvis/js/ldavis.v3.0.0.js\", function(){\n",
       "                 new LDAvis(\"#\" + \"ldavis_el160381406060140246089296309832\", ldavis_el160381406060140246089296309832_data);\n",
       "            })\n",
       "         });\n",
       "}\n",
       "</script>"
      ]
     },
     "metadata": {
      "application/vnd.databricks.v1+output": {
       "addedWidgets": {},
       "arguments": {},
       "data": "\n<link rel=\"stylesheet\" type=\"text/css\" href=\"https://cdn.jsdelivr.net/gh/bmabey/pyLDAvis@3.4.0/pyLDAvis/js/ldavis.v1.0.0.css\">\n\n\n<div id=\"ldavis_el160381406060140246089296309832\" style=\"background-color:white;\"></div>\n<script type=\"text/javascript\">\n\nvar ldavis_el160381406060140246089296309832_data = {\"mdsDat\": {\"x\": [-0.3136664316984223, -0.10847890944162672, -0.1607682471897606, 0.023388279091060324, 0.011175122907999538, -0.055264401459887175, -0.0030322076759080508, 0.0916766842417436, 0.1105767289146624, 0.08913455529127247, -0.032968011665043005, 0.06569860560321429, 0.08344461958766924, -0.021051919579429958, 0.038491634559115244, 0.026377308095677746, 0.02528988568822644, 0.0051173931913645904, 0.08604853464716514, 0.03881077689090689], \"y\": [-0.1805110658177715, 0.026001798265968802, 0.3561099125380454, 0.08123297534648138, -0.03487954489260234, -0.05466513819612471, -0.04601854057797225, -0.006467796290653846, 0.001731317884771936, 0.0033196608481453056, -0.005305380628342191, -0.0014299178394542949, 0.003938212698112539, -0.039343134494110685, -0.03317749577352723, -0.019175409487429997, -0.01529006301284606, -0.03015021858785745, 0.004280992261350002, -0.010201164244182983], \"topics\": [1, 2, 3, 4, 5, 6, 7, 8, 9, 10, 11, 12, 13, 14, 15, 16, 17, 18, 19, 20], \"cluster\": [1, 1, 1, 1, 1, 1, 1, 1, 1, 1, 1, 1, 1, 1, 1, 1, 1, 1, 1, 1], \"Freq\": [6.284353677753515, 5.908873743875265, 5.865711459877587, 5.710565543861253, 5.6418505596459045, 5.2590069555282435, 5.173250399896079, 5.0614289040740985, 5.0367686448153, 5.014879175744418, 4.978021909334464, 4.814489286591554, 4.738248417806574, 4.637151210519075, 4.39855118571281, 4.371719335848291, 4.353442619394662, 4.3415701260265775, 4.211869752189414, 4.198247091504911]}, \"tinfo\": {\"Term\": [\"told us\", \"rt inflation\", \"corporate profits\", \"inflation rate\", \"major announcements\", \"rt major\", \"signed respect\", \"last couple\", \"couple weeks\", \"inflations easing\", \"announcements last\", \"easing signed\", \"weeks inflations\", \"respect marriag\", \"false told\", \"gas prices\", \"inflation reduction\", \"reduction act\", \"interest rates\", \"pay rise\", \"us inflation\", \"rt breaking\", \"rt told\", \"zero inflation\", \"russian collusion\", \"high inflation\", \"inflation false\", \"us russian\", \"us zero\", \"collusion false\", \"corporate profits\", \"record high\", \"control inflation\", \"latest inflation\", \"rt latest\", \"hit record\", \"mention corporate\", \"high corporate\", \"inflation reporting\", \"profits hit\", \"reporting mention\", \"profits rea\", \"inflation must\", \"working people\", \"rt say\", \"say control\", \"must take\", \"take aim\", \"profits working\", \"aim corporate\", \"retail inflation\", \"inflation years\", \"rt corporate\", \"slow inflation\", \"inflation significantly\", \"record corporate\", \"worst inflation\", \"price growth\", \"record job\", \"biden helped\", \"president biden\", \"rt breaking\", \"told us\", \"false told\", \"rt told\", \"zero inflation\", \"russian collusion\", \"inflation false\", \"us russian\", \"us zero\", \"collusion false\", \"us twitter\", \"victory lap\", \"lap inflation\", \"take victory\", \"rt man\", \"biden take\", \"incompetent corrupt\", \"inflation collapsing\", \"collapsing productivity\", \"man incompetent\", \"corrupt joe\", \"hunter biden\", \"inflation coming\", \"biden laptop\", \"november inflation\", \"printing money\", \"says inflation\", \"price gas\", \"rule law\", \"rt hunter\", \"performative investigations\", \"joe biden\", \"global inflation\", \"rt republican\", \"major announcements\", \"rt major\", \"signed respect\", \"last couple\", \"couple weeks\", \"inflations easing\", \"announcements last\", \"easing signed\", \"weeks inflations\", \"respect marriag\", \"fight inflation\", \"rt fight\", \"inflation fathom\", \"new way\", \"marriage equality\", \"fathom new\", \"big day\", \"advanced manufacturing\", \"day white\", \"equality inflation\", \"inflation advanced\", \"manufacturing gas\", \"house marriage\", \"rt consumer\", \"way fathom\", \"us cpi\", \"one year\", \"rise inflation\", \"fathom website\", \"tax dodgers\", \"consumer inflation\", \"rt big\", \"white house\", \"gas prices\", \"rt absolutely\", \"current rate\", \"rate infla\", \"absolutely tyrannical\", \"outlaw cash\", \"trying outlaw\", \"cash transaction\", \"eu trying\", \"transaction current\", \"tyrannical eu\", \"rt watch\", \"tax cut\", \"cut inflation\", \"another tax\", \"corporations america\", \"wealthiest corporations\", \"america getting\", \"getting another\", \"watch wealthiest\", \"act beginnin\", \"inflation going\", \"rise line\", \"inflation nothing\", \"lowering inflation\", \"nothing brag\", \"brag trump\", \"inflation please\", \"address inflation\", \"inflation getting\", \"trump white\", \"reduction act\", \"inflation reduction\", \"dark brandon\", \"white house\", \"rt inflation\", \"rt still\", \"still waiting\", \"prices dropping\", \"dropping inflation\", \"biden credit\", \"plummeting gas\", \"give president\", \"waiting republicans\", \"republicans give\", \"credit plummeting\", \"rate inflation\", \"rate hike\", \"complain inflation\", \"great news\", \"inflation year\", \"rt bank\", \"inflation ever\", \"raised interest\", \"trump trading\", \"new rule\", \"rt new\", \"rt price\", \"pay digital\", \"card nft\", \"nft allowed\", \"digital trump\", \"allowed complain\", \"rule pay\", \"fed inflation\", \"rt federal\", \"federal reserve\", \"interest rate\", \"president biden\", \"year high\", \"bank england\", \"rate hikes\", \"rate cuts\", \"rt fed\", \"rt powell\", \"gas prices\", \"inflation target\", \"interest rates\", \"breaking inflation\", \"significantly november\", \"bottom line\", \"dropped significantly\", \"lower october\", \"october bottom\", \"line p\", \"dealing inflation\", \"inflation n\", \"reminder republicans\", \"zero plans\", \"still zero\", \"dr fauci\", \"busy pronouns\", \"plans dealing\", \"fauci still\", \"pronouns dr\", \"republicans busy\", \"inflation caused\", \"last year\", \"inflation recession\", \"expected inflation\", \"rt well\", \"years ago\", \"jeremy hunt\", \"increase inflation\", \"rt think\", \"two years\", \"treasury secretary\", \"long term\", \"janet yellen\", \"inflation dropped\", \"rt reminder\", \"november lower\", \"rt breaking\", \"core inflation\", \"wall street\", \"record inflation\", \"liberal government\", \"scottish govt\", \"years worth\", \"worth food\", \"deal pay\", \"strike unions\", \"reached deal\", \"rt tweet\", \"breaking nurses\", \"govt reached\", \"nurses scotland\", \"scotland strike\", \"unions scottish\", \"deleting years\", \"government actively\", \"food infla\", \"actively deleting\", \"canadian liberal\", \"sinks canadian\", \"tweet sinks\", \"inflation record\", \"rt today\", \"adjusted inflation\", \"blame inflation\", \"inflation border\", \"inflation cost\", \"weeks ago\", \"illegal immigration\", \"inflation skyrocketing\", \"high inflation\", \"donald trump\", \"inflation right\", \"rt breaking\", \"pay rise\", \"climate change\", \"gdp jobs\", \"prices gdp\", \"lower gas\", \"jobs manufacturing\", \"unemployment wages\", \"rt trudeau\", \"manufacturing booming\", \"booming unemployment\", \"wages th\", \"sector workers\", \"trudeau government\", \"weather data\", \"change narrative\", \"conflicted climate\", \"data conflicted\", \"deleted weather\", \"government deleted\", \"narrative statscan\", \"statscan dele\", \"consumer prices\", \"inflation tax\", \"workers inflation\", \"inflation control\", \"small businesses\", \"tax americans\", \"inflation related\", \"amp trace\", \"pause thought\", \"giving nhs\", \"pay rises\", \"inflation lower\", \"rt uk\", \"caused inflation\", \"public sector\", \"line inflation\", \"rt inflation\", \"gas prices\", \"price inflation\", \"inflation high\", \"inflation november\", \"rt workers\", \"rt tories\", \"rise pay\", \"rise th\", \"way one\", \"one get\", \"blame nhs\", \"get blame\", \"staff asking\", \"tories way\", \"asking badly\", \"badly needed\", \"needed pay\", \"inflation unemployment\", \"jeep cherokee\", \"cherokee plant\", \"belvidere illinois\", \"illinois auto\", \"jobs jeep\", \"plant belvidere\", \"workers losing\", \"auto maker\", \"maker finance\", \"food prices\", \"resistance inflation\", \"inflation global\", \"october november\", \"inflation peaked\", \"rt inflation\", \"inflation slowed\", \"nhs staff\", \"pay rise\", \"losing jobs\", \"central bank\", \"world inflation\", \"around world\", \"inflation rising\", \"inflation report\", \"double digits\", \"rt world\", \"economies around\", \"rising double\", \"major economies\", \"many major\", \"digits many\", \"reduce inflation\", \"like inflation\", \"get inflation\", \"took office\", \"price gouging\", \"inflation declining\", \"coming america\", \"declining straight\", \"common price\", \"prices common\", \"price unemployment\", \"act nothing\", \"near ye\", \"world coming\", \"america le\", \"year inflation\", \"rt great\", \"low inflation\", \"cpi report\", \"straight months\", \"months gas\", \"rt one\", \"rt inflation\", \"gas prices\", \"unemployment near\", \"us inflation\", \"last quarter\", \"stock buybacks\", \"billion stock\", \"raked billion\", \"announced billion\", \"billion profits\", \"profits last\", \"quarter announced\", \"exxonmobil raked\", \"buybacks folks\", \"folks corporate\", \"rt exxonmobil\", \"corporate gree\", \"inflation easing\", \"inflation falls\", \"year low\", \"signs inflation\", \"near year\", \"job creation\", \"low gas\", \"early signs\", \"historic job\", \"rt historic\", \"easing unemployment\", \"creation early\", \"breaking us\", \"falls lower\", \"lower expectations\", \"fair share\", \"unemployment near\", \"gas prices\", \"month inflation\", \"new year\", \"inflation came\", \"year year\", \"rt starting\", \"morning received\", \"another reason\", \"going new\", \"year learned\", \"optimistic going\", \"reason optimistic\", \"learned last\", \"received another\", \"starting january\", \"bring inflation\", \"medicare part\", \"part d\", \"d get\", \"vaccines free\", \"recommended vaccines\", \"get recommended\", \"thanks president\", \"november cpi\", \"bidens inflati\", \"january seniors\", \"free thanks\", \"inflation crime\", \"corporate greed\", \"inflation time\", \"inflation get\", \"last month\", \"cpi inflation\", \"rt morning\", \"inflation data\", \"seniors medicare\", \"president bidens\", \"inflation gas\", \"created inflation\", \"like presidents\", \"charge one\", \"one trading\", \"presidents charge\", \"workers wages\", \"prices plummeting\", \"republicans talk\", \"weird republicans\", \"talk things\", \"plummeting weird\", \"things anymore\", \"around workers\", \"myth tories\", \"inflation utter\", \"wages created\", \"energy prices\", \"mick lynch\", \"prices inflation\", \"prices fall\", \"food energy\", \"high gas\", \"see economic\", \"americans see\", \"inflation food\", \"economic progress\", \"driving street\", \"pump gas\", \"joe bidens\", \"rt biden\", \"rt like\", \"rt government\", \"rt americans\", \"food inflation\", \"gas prices\", \"trading card\", \"rt inflation\", \"rt pay\", \"next year\", \"fuelled inflation\", \"pay fuelled\", \"pay squeezed\", \"profit pushed\", \"squeezed years\", \"years profit\", \"rt president\", \"y y\", \"highest inflation\", \"inflation eases\", \"amp gas\", \"oil amp\", \"russian oil\", \"pdm govt\", \"discounted russian\", \"months instead\", \"buy discounted\", \"gas months\", \"govt buy\", \"instead purchased\", \"purchased oil\", \"rt pdm\", \"market peak\", \"intl market\", \"oil intl\", \"peak pric\", \"american people\", \"rose november\", \"inflation pay\", \"inflation rate\", \"uk inflation\", \"rt good\", \"cost living\", \"raise interest\", \"fighting inflation\", \"inflation last\", \"central banks\", \"see inflation\", \"much lower\", \"fed raise\", \"kept inflation\", \"said inflation\", \"inflation hit\", \"wage workers\", \"rates puts\", \"inflation much\", \"rt relying\", \"lower wage\", \"relying exclusively\", \"burden fighting\", \"puts burden\", \"exclusively fed\", \"percentage point\", \"inflation good\", \"rt story\", \"key interest\", \"cutting rates\", \"rates see\", \"rt private\", \"lower inflation\", \"good news\", \"interest rates\", \"news inflation\", \"inflation transitory\", \"rt fed\", \"inflation lower\", \"fed chair\", \"keeping inflation\", \"wages keeping\", \"money pay\", \"rt plenty\", \"plenty money\", \"pay nhs\", \"workers reasonable\", \"reasonable wages\", \"stock market\", \"consumer price\", \"price index\", \"inflation people\", \"rates inflation\", \"inflation increased\", \"tell us\", \"biden took\", \"middle class\", \"fight unemployment\", \"rt fucking\", \"unemployment kms\", \"walked states\", \"states fight\", \"faster wages\", \"increased faster\", \"fyi inflation\", \"wages straight\", \"running country\", \"fucking clowns\", \"country fyi\", \"clowns running\", \"nhs workers\", \"year ago\", \"straight months\", \"savings account\", \"since pandemic\", \"account since\", \"rt judging\", \"girl saying\", \"judging girl\", \"reach savings\", \"saying reach\", \"inflation busting\", \"busting pay\", \"higher inflation\", \"rt cost\", \"billion cost\", \"rise billion\", \"demand inflation\", \"rishi sunaks\", \"nurses demand\", \"cost meeting\", \"meeting nurses\", \"cost rishi\", \"bank tax\", \"sunaks bank\", \"tax g\", \"pay cut\", \"rt unemployment\", \"real terms\", \"rt always\", \"nurses pay\", \"zero accountability\", \"democrats stand\", \"pay rise\", \"unemployment inflation\", \"rt democrats\", \"rt us\", \"inflation amp\", \"due inflation\", \"raising interest\", \"record profits\", \"expected core\", \"also lower\", \"us fell\", \"november also\", \"core november\", \"lower expec\", \"rt joe\", \"rising inflation\", \"united states\", \"housing market\", \"inflation fell\", \"inflation eased\", \"driving inflation\", \"health care\", \"inflation fed\", \"sky high\", \"people pay\", \"bad news\", \"high interest\", \"act publix\", \"publix morning\", \"rt week\", \"high cost\", \"india wholesale\", \"rt stop\", \"lower expected\", \"rt people\", \"fell november\", \"biden inflation\", \"using inflation\", \"november lower\", \"rt big\", \"month low\", \"interest rates\", \"joe biden\", \"let us\", \"families afford\", \"combat inflation\", \"inflation driving\", \"christmas presents\", \"driving costs\", \"christmas dinner\", \"costs christmas\", \"presents christmas\", \"christmas travel\", \"dinner christmas\", \"travel families\", \"afford jo\", \"plan combat\", \"inflation rates\", \"republican plan\", \"prices still\", \"inflation numbers\", \"crisis inflation\", \"climate crisis\", \"rt attacking\", \"attacking pronouns\", \"pronouns republican\", \"largest investment\", \"making largest\", \"inflation declined\", \"combating climate\", \"investment ever\", \"ever combating\", \"rt making\", \"rt inflation\", \"inflation higher\", \"inflation reduction\", \"reduction act\", \"inflation still\", \"inflation inflation\", \"still high\", \"inflation expectations\", \"rt wrote\", \"far enough\", \"go far\", \"paying public\", \"yesterday people\", \"said go\", \"sector wo\", \"thread yesterday\", \"enough explaining\", \"explaining paying\", \"wrote thread\", \"inflation fallen\", \"rt annual\", \"prices falling\", \"increases slowing\", \"inflation universe\", \"become natives\", \"campaign welcome\", \"join inflation\", \"natives share\", \"universe campaign\", \"welcome become\", \"five months\", \"last five\", \"like still\", \"deal like\", \"annual inflation\", \"food price\", \"people said\", \"price increases\", \"rt india\", \"rt republicans\", \"public sector\", \"gas prices\"], \"Freq\": [36987.0, 68393.0, 33308.0, 23374.0, 25011.0, 24989.0, 24812.0, 24720.0, 24695.0, 24671.0, 24605.0, 24592.0, 24584.0, 24573.0, 24205.0, 42509.0, 22105.0, 20060.0, 22712.0, 23216.0, 13397.0, 25570.0, 13002.0, 12791.0, 12293.0, 13815.0, 12137.0, 12116.0, 12115.0, 12112.0, 33307.06044254183, 11152.396780764273, 10870.352611321252, 9951.06800332755, 9709.685741058558, 9330.688210877519, 9321.056210625311, 9278.404412723936, 9257.199300914674, 9254.834660338287, 9235.480069477802, 9208.82714787959, 8721.540074027047, 8642.378814076446, 8614.950841654083, 8340.456642826759, 8161.863562909257, 8133.176616820488, 7950.844555454601, 7949.171343835226, 3818.1980691088784, 3214.1392520058157, 3064.0050937338137, 2900.686747978329, 2887.265438302142, 2783.0731725514265, 2718.2199624931586, 2683.712973165178, 2674.511277104302, 2660.986214370736, 3118.0424346985856, 2680.1675608536943, 36986.20559414957, 24204.00891777516, 13000.675368000893, 12790.348985885286, 12291.456473204886, 12135.619085342818, 12114.726517175006, 12113.993406291147, 12110.499663360024, 12064.384295110603, 6108.9008809213165, 5140.59681409266, 4831.096618517569, 4731.200614395933, 4643.210563992898, 4620.914383328481, 4602.933146267474, 4579.765531910923, 4579.37567999602, 4577.633540626532, 3637.2168079757353, 2728.3489598408014, 2098.8376732949546, 2053.1036027867654, 1935.57326064698, 1753.5377149012677, 1658.0765948181104, 1633.4595030337905, 1630.6024090281253, 1609.86072192355, 8573.286241686033, 2309.0632253634767, 1768.1240370375924, 25009.850709259623, 24988.31434212811, 24811.161100443092, 24718.861145256236, 24694.358830114397, 24670.232317352034, 24603.692169884493, 24591.13169804739, 24582.921861449606, 24571.728732116288, 5933.710712527724, 2628.9315078741115, 2194.4793855057364, 2157.116498645875, 2008.6122261466173, 1964.2856127905318, 1649.2596924610114, 1642.2119524520679, 1626.282809766247, 1619.9075392075006, 1619.1176315137172, 1619.1046229698125, 1619.0876395930475, 1319.8690875244602, 1203.9946696572063, 1120.9137069289827, 922.0839852541425, 910.9577053825583, 881.4352666758475, 794.5570738469276, 2718.39343239904, 1637.1306706634214, 1953.2527414911538, 1679.9632888868687, 8899.433311859564, 8799.290401215803, 8548.792056452256, 8541.866700635499, 8541.530388527359, 8541.517724054669, 8541.434701400358, 8540.674129457057, 8540.657243493468, 8540.657243493468, 6148.196932139435, 5901.7586062462115, 5600.5302535808305, 5399.264694614265, 5373.16356818816, 5373.161809233619, 5358.963528182907, 5358.963528182907, 5357.519426505177, 5295.002312436713, 2823.1051514984806, 2547.0273862255326, 1977.8518597550942, 1938.7881178429595, 1721.7413946347083, 1601.1365658216043, 1576.7731105860337, 1565.9557160575678, 1558.2963485110702, 1505.9568972047018, 18293.809695299722, 18954.2661676481, 2825.7986385863096, 4020.1190973187327, 2210.6461511733087, 8552.353974078416, 6670.648807821206, 6549.131470854719, 6500.884884019591, 6427.231125166671, 6341.0110656451625, 6264.029093073845, 6246.447533011303, 6245.247068288731, 6231.315560489203, 3971.416043642205, 3094.5419046742904, 2612.8469195756547, 2568.313640527427, 2453.910117093541, 2323.206305513662, 2283.3714869032133, 2063.909401016376, 2053.5521778743255, 1980.7546277197432, 5973.258047190727, 1953.124649641383, 1936.1030052325941, 1925.6175332536507, 1924.6235178782729, 1911.3198732870035, 1910.726418303277, 1909.6246600025956, 1886.0016760720441, 1849.0077951113644, 8029.480338044543, 7367.731632220011, 9634.813779048674, 4595.297281916541, 4508.5319041698685, 4003.1074086677604, 2516.6615083581582, 5572.836678668712, 2603.106090233686, 7552.369640638646, 2414.3210218643485, 4488.444799757292, 8858.222788442961, 8123.5601718894995, 7932.608357964549, 7899.954439902765, 7800.211480448111, 7727.684223040228, 7689.38474604376, 5002.682817015823, 4964.611093257683, 4943.0597405976905, 4832.4588155917945, 4800.805003144114, 4788.948875818643, 4774.528823702105, 4774.157550286568, 4773.690056797372, 4763.470642644056, 4762.9043372947035, 3861.9394162588146, 3153.453519340583, 2920.2815033975, 2018.574521490505, 1826.6778394011444, 1691.0021899807427, 1464.2868001589022, 1457.8439429034186, 1443.470542943808, 1431.4642539882293, 1401.0828467233778, 1347.2886171411851, 2573.846797717236, 8353.320100910738, 6520.7981069346615, 7855.575927680176, 11277.680752279464, 2258.8337776066137, 2697.7291706346905, 4556.885926462321, 3453.8047336989302, 3315.1049322512354, 3275.361051624648, 3275.323446156651, 3201.558408537601, 3199.0401169434117, 3193.5675652785912, 3189.1173724386454, 3184.664948765852, 3184.664948765852, 3184.664948765852, 3184.664948765852, 3184.664948765852, 3179.907538373793, 3159.3210941685516, 3154.289610026682, 3153.007518520301, 3153.007518520301, 3153.007518520301, 3153.007518520301, 2641.9020422574476, 2572.462430184098, 2404.9568402505083, 2373.4718215150124, 2299.955681103639, 2069.0248044530063, 2024.6215107344376, 1986.3055224753223, 1961.0081966774083, 12041.500309812931, 3052.417353293347, 2637.128856690254, 5867.146477896402, 3996.8834624004303, 5098.682343574607, 4550.332402921231, 4472.255358986227, 4425.29301763133, 4041.1326092831932, 4008.6275824340755, 3760.417128297405, 3728.2104957800757, 3728.208624969218, 3701.5339801578334, 3461.5600826235886, 3166.2083128933095, 3155.4146696503444, 3148.0717370342354, 3146.069034011167, 3146.069034011167, 3146.069034011167, 3146.069034011167, 3146.031305992205, 3115.9290238878743, 2704.442928549906, 2607.6044579293875, 2356.8319283232236, 2291.608602187221, 1965.6431953848655, 1957.8565687936944, 1901.8009953644917, 1808.2560872587912, 1805.629157012901, 1803.3043627205143, 7281.936075303689, 6965.17661692981, 2447.031514813713, 2608.1033408247495, 6689.502659403463, 3376.995378436213, 7914.78150014271, 4691.330116628331, 2611.486858161637, 6456.298103491935, 3981.8693607789137, 3466.162529339424, 3317.8294257873154, 2911.0324253997005, 2839.9296045192145, 2794.3825936196563, 2792.2056505405285, 2778.777237972329, 2768.7067042528074, 2766.9536072748897, 2766.9526764269367, 2766.952366144286, 2766.952366144286, 2766.952366144286, 2764.7580472367044, 2749.93336273919, 2749.9327421738885, 2749.835313421487, 2749.835313421487, 2749.835313421487, 2749.835313421487, 2749.835313421487, 2747.762625313082, 2747.2537617655094, 2698.6886315200736, 2561.8663937532383, 2509.821598718624, 2144.4538481696923, 2082.5409788453067, 35446.99536367295, 2753.7994845701382, 3089.062060909783, 5782.125267967972, 2801.780042301167, 2761.5708238460547, 6970.342326697337, 6254.991015612493, 5672.401698082614, 4509.4455355334185, 4499.664679308171, 4418.7501828383165, 4162.750636581969, 4161.913733880952, 4142.413190398638, 4139.104505301595, 4115.688529987355, 3361.5109886853097, 2971.2789221642015, 2968.7580192331206, 2945.5076326408243, 2882.5792842895385, 2638.976339983617, 2616.658934623167, 2345.5298001688684, 2337.2741520037616, 2337.2668920504675, 2307.8611463343577, 2295.397505666279, 2246.879701202639, 2230.070437853182, 2216.8883707431637, 2177.8790970226937, 2147.4707054165324, 2134.9520744639276, 2114.475453431277, 3748.2360343640617, 3586.608466511492, 2637.731335227213, 7640.77151827134, 5050.002503897719, 2246.8807824722785, 13396.340079716072, 9212.40652427079, 9152.087011839876, 9149.139360878566, 9106.95716310181, 9106.724098731169, 9105.847040704812, 9103.63415583831, 9102.973602345732, 9102.367634982065, 9102.352915127078, 9101.04652799691, 9098.796843492937, 9084.957726495224, 7083.172140355449, 5707.612118307824, 4608.258521888069, 4560.604524683236, 4536.563934851674, 4494.365790565347, 4390.355295221427, 4368.824134001642, 4358.122492761852, 4317.700544310723, 4261.348032799026, 4241.851891531308, 3756.0773571236487, 3289.955975770245, 3226.1199513154716, 2472.2497847100535, 4475.838399754014, 4519.368384253093, 6414.054959607456, 5187.549578733617, 5059.536228643515, 4883.302770762845, 4550.940468222475, 4467.308171936391, 4463.472973612838, 4454.314884228053, 4446.893326138945, 4431.059897749582, 4428.650998145228, 4428.648922019, 4428.648922019, 4083.9668864368127, 3410.8182508879054, 2964.3992085359428, 2961.760155509651, 2929.553209321971, 2929.1531101387313, 2929.0688787317335, 2929.066209426582, 2864.981827942681, 2589.1438415186954, 2430.304020888347, 2424.971787259085, 2424.9545850703316, 2118.4762379930407, 1924.9682235307462, 1556.503123934315, 1505.8632910240585, 8665.604957078616, 4759.173259667942, 4939.570240405778, 7345.33756345882, 3330.9903076214027, 3457.587146444527, 7786.440082739575, 3928.7349248587157, 3538.324569392523, 3517.017273898598, 3506.7992760896427, 3506.7992760896427, 3430.4226176113443, 3232.53479950622, 3232.2350256460304, 3180.56650515929, 3162.286721328351, 3160.3821210968645, 3160.3821210968645, 3063.8181596285826, 3050.3969307176594, 3042.022819446988, 3015.101842473836, 2971.2070098591203, 2663.8430623408776, 2586.729374654226, 2419.4739499120406, 2414.906558015919, 2315.8002106447634, 2240.556387951661, 2211.5518804877265, 2143.8139340632174, 2126.9404895296434, 2124.027837666058, 2120.702449445795, 2114.8196428457354, 7067.989848291973, 4296.761484347655, 3792.7298304434626, 3394.092477655513, 4476.956223060965, 15308.940227560543, 3827.5794903419605, 4002.3134993800736, 5045.130252764946, 5005.04348095728, 4506.5281026850225, 4465.252965257381, 4449.4517018190845, 4449.4517018190845, 4449.4517018190845, 4449.4517018190845, 4315.338071314187, 3513.247553798931, 3327.8485195069748, 3270.585579518478, 2924.643777599298, 2803.967534209308, 2799.894239647955, 2791.8182097339354, 2639.2849121194204, 2639.1120849078616, 2638.376783680502, 2638.376783680502, 2638.376783680502, 2638.376783680502, 2638.376783680502, 2621.001792790176, 2608.4911023269983, 2552.2945490835423, 2552.2945490835423, 2534.502201902162, 2261.3050873170005, 2142.3612581823804, 8236.592963848445, 23373.302693511843, 5017.473767444691, 4295.678577352859, 4285.14883034007, 3532.278151148529, 2903.4877779941057, 2892.7236452076145, 2797.0378885649943, 2668.0479457259025, 2402.8709264808963, 2360.7340546597234, 2212.525155792592, 1911.929059063548, 1817.4031732929877, 1756.8591602160427, 1729.2586773069024, 1724.3224858161154, 1695.5283967414748, 1691.1625891277317, 1668.5157750300762, 1658.1326207381803, 1658.1326207381803, 1657.9388798963341, 1626.252361987725, 1571.9091397147088, 1548.2023057942527, 1445.72193589329, 1358.0099019821507, 1336.037387303984, 1329.1310004830377, 6431.878376893729, 4553.411612811572, 14676.967266876409, 1781.8026839297663, 1756.7514511466247, 2088.5148945213728, 1953.3710380330924, 1683.4412714230755, 7109.912502342503, 6869.308560086715, 6855.4168426780825, 6705.17289082485, 6697.992460257035, 6682.811809508909, 6678.587900086301, 6678.200627595245, 3087.7774338391287, 2395.337990218118, 2093.059287882117, 2066.782526188084, 2064.4342490769873, 1723.267382952977, 1699.0145105289578, 1692.5461442631956, 1678.7358941205875, 1578.93889720964, 1569.2002598319968, 1534.1833397315215, 1530.2244345726115, 1527.6848103788343, 1389.2922585543774, 1343.1145923217268, 1293.4794822502947, 1281.6839647263132, 1265.4173081922481, 1261.4853343609495, 1259.982027653668, 1259.9810850572017, 7050.108257621556, 3570.3585467456214, 1541.1625932820766, 8660.422284550908, 8581.45290546482, 8551.816592381414, 8528.501455518086, 8528.380234828588, 8528.378089329659, 8528.378089329659, 8528.378089329659, 5145.718503502686, 4772.76642464446, 4174.407691912537, 4013.8138788155093, 3830.2339947534147, 3828.2842726015283, 3739.7255860514992, 3674.299400768453, 3608.79705027342, 3608.756285793766, 3608.756285793766, 3606.0087062275934, 3591.554748129118, 3591.5432160723735, 3573.255251387465, 1690.9972405794647, 1674.6738824452636, 1542.7501033514143, 1390.4745236964745, 1296.978507735685, 1262.0174685911202, 1260.252527534509, 10671.928369100711, 2269.582250618026, 1698.409939379759, 7841.5530763989045, 4003.0524162303286, 3230.4525976468826, 2943.8900986037456, 2574.571103135779, 2434.977804106265, 2381.3167737941803, 2377.0487112840487, 2376.8767370896626, 2376.729903757286, 2354.571710823373, 2307.591463406424, 2200.263117566751, 2023.5451902120974, 1849.6249861239703, 1764.9547084426395, 1640.7734264650792, 1624.4832177066448, 1606.1186203764235, 1578.6668049815642, 1529.8758805879518, 1313.2444276889328, 1288.3480204437824, 1217.7532822882038, 1198.4603452554713, 1198.4603452554713, 1146.6002297768223, 1031.4249261103307, 1005.4261321844475, 1004.6019665856901, 5816.626208600183, 3818.5369435409443, 3308.186270789329, 3959.1005728616447, 1609.6410156175834, 3289.5809630781623, 1809.6796333181246, 2254.6948222818282, 3546.135168752816, 2368.8303239666325, 5621.440469168543, 4984.711473305888, 4881.380184655156, 4536.953626367861, 4461.832516921094, 4442.006721393198, 4420.919402270791, 4388.948004221486, 4388.948004221486, 4356.878528031762, 4356.878528031762, 4356.877490167842, 4338.541288830832, 3516.3524971501984, 3420.356052286642, 3406.876535162316, 3012.612270378395, 2901.511013492113, 2315.137358756082, 1938.325424448474, 1877.5020580938015, 1868.0966757866336, 1867.9661643987192, 1769.9609339183985, 1769.5398206329414, 1760.091237240112, 1754.1809914158457, 1750.0087784582674, 1749.924581747774, 1746.3540703976971, 7817.017720626029, 2156.5018046101704, 1766.5406533707119, 1764.6789849645786, 7186.924136912661, 4115.856086603457, 3816.5819745276476, 2893.694824287514, 2888.1796082856467, 2886.3909455016415, 2886.1522329872346, 2880.9359895386224, 2874.0707417651374, 2873.705560757183, 2865.700286154332, 2857.0551689072317, 2856.92352787816, 2856.92352787816, 2856.92352787816, 2319.05690421977, 2170.24512622463, 2157.6612524898187, 2123.41842075771, 2095.70953589881, 2095.7057858105554, 2095.7057858105554, 2095.7057858105554, 2095.7057858105554, 2095.7057858105554, 2095.7057858105554, 2057.8587313257144, 1986.2246748017674, 1919.1729674980354, 1900.365757648198, 3870.1438384996377, 3523.977071128985, 2918.390577890623, 2593.5046561705035, 2879.11267076661, 2617.3761662379525, 3030.1512253045903, 2505.9659581056976], \"Total\": [36987.0, 68393.0, 33308.0, 23374.0, 25011.0, 24989.0, 24812.0, 24720.0, 24695.0, 24671.0, 24605.0, 24592.0, 24584.0, 24573.0, 24205.0, 42509.0, 22105.0, 20060.0, 22712.0, 23216.0, 13397.0, 25570.0, 13002.0, 12791.0, 12293.0, 13815.0, 12137.0, 12116.0, 12115.0, 12112.0, 33308.67400556331, 11154.010343785774, 10871.966174342753, 9952.68156634905, 9711.29930408006, 9332.30177389902, 9322.669773646812, 9280.017975745437, 9258.812863936175, 9256.448223359788, 9237.093632499304, 9210.440710901092, 8723.153637048548, 8643.992377097948, 8616.564404675584, 8342.07020584826, 8163.477125930757, 8134.790179841988, 7952.458118476101, 7950.784906856727, 3819.811632130378, 3215.7528153279177, 3065.618656755313, 2902.3003109998285, 2888.879001323641, 2784.686735572926, 2719.8335501157585, 2685.3265361866775, 2676.1248401258013, 2662.5997773922354, 13433.069662749249, 25570.198296171857, 36987.813590937374, 24205.61691456298, 13002.28336478871, 12791.956982673102, 12293.064469992702, 12137.227082130634, 12116.334513962822, 12115.601403078963, 12112.10766014784, 12065.99229189842, 6110.5088777091305, 5142.204810880474, 4832.704615305383, 4732.808611183747, 4644.818560780712, 4622.522380116295, 4604.541143055288, 4581.373528698737, 4580.983676783834, 4579.241537414346, 3638.824804774156, 2729.9569566286154, 2100.445670241868, 2054.7115995745794, 1937.181257463202, 1755.1457116890824, 1659.684591605925, 1635.0674998216052, 1632.21040581594, 1611.4687187113648, 12625.76028454302, 3156.8068098852455, 2227.3672883689146, 25011.46520863656, 24989.928841505047, 24812.77559982003, 24720.475644633174, 24695.973329491335, 24671.846816728972, 24605.30666926143, 24592.746197424327, 24584.536360826543, 24573.343231493225, 5935.325211904661, 2630.5460072510477, 2196.0938848826727, 2158.730998022811, 2010.2267255235545, 1965.900112167469, 1650.8741918379485, 1643.826451829005, 1627.8973091431842, 1621.5220385844377, 1620.7321308906544, 1620.7191223467496, 1620.7021389699846, 1321.4835869013973, 1205.6091690341434, 1122.5282063141042, 923.6984846310785, 912.5722047594943, 883.0497660527835, 796.1715732238636, 3576.1790533235594, 3448.324528857255, 5974.915614085975, 42509.48261823204, 8901.040711451167, 8800.897800807406, 8550.399456043859, 8543.474100227102, 8543.137788118962, 8543.125123646272, 8543.042100991961, 8542.28152904866, 8542.264643085071, 8542.264643085071, 6149.804331731037, 5903.366005837813, 5602.137653172432, 5400.872094205866, 5374.770967779761, 5374.769208825221, 5360.570927774508, 5360.570927774508, 5359.126826096778, 5296.609712028314, 2824.7125510900814, 2548.6347858171334, 1979.459259346696, 1940.3955174345613, 1723.34879422631, 1602.743965413206, 1578.3805101835426, 1567.5631156491695, 1559.903748102672, 1507.5642967963036, 20060.01236861621, 22105.37056782032, 3045.413290494264, 5974.915614085975, 68393.3296788292, 8553.938293337698, 6672.233127080486, 6550.715790113999, 6502.469203278871, 6428.815444425951, 6342.595384904443, 6265.613412333125, 6248.031852270583, 6246.831387548011, 6232.899879748483, 3973.0003629014846, 3096.1263640198426, 2614.4312388349344, 2569.897961826958, 2455.4944363528207, 2324.7906247729416, 2284.955806162493, 2065.4937202756555, 2055.136497133605, 1982.3389469790236, 5978.0936033678, 1954.7089689006634, 1937.6873244918745, 1927.201852512931, 1926.2078371375533, 1912.9041925462839, 1912.3107375625573, 1911.208979261876, 1887.5859953313245, 1850.5921143706448, 8509.45860861959, 8547.472370088004, 13433.069662749249, 6171.127615959732, 6066.145505098829, 5172.674100707079, 2781.419969894939, 8743.710870303708, 3398.9205921606103, 42509.48261823204, 3300.8436055535212, 22712.923129266594, 8859.82046083094, 8125.157844277479, 7934.206030352529, 7901.552112290745, 7801.80915283609, 7729.2818954282075, 7690.9824184317395, 5004.280489403803, 4966.208765645662, 4944.65741298567, 4834.056487979774, 4802.402675532094, 4790.546548206622, 4776.126496090084, 4775.755222674547, 4775.287729185351, 4765.068315032036, 4764.502009682683, 3863.537088646793, 3155.0511917285617, 2921.8791757854783, 2020.1721938784844, 1828.2755117891238, 1692.5998623687221, 1465.8844725468816, 1459.441615291398, 1445.0682153317873, 1433.0619263762087, 1402.6805191113572, 1348.8862895291645, 2714.7312040111574, 10370.229123511426, 8570.181643586502, 11146.65428864509, 25570.198296171857, 2716.309688762118, 3737.4697641526705, 4558.478977526593, 3455.3977847632013, 3316.6979833155065, 3276.954102688919, 3276.916497220922, 3203.151459601872, 3200.633168007683, 3195.1606163428623, 3190.7104235029165, 3186.257999830123, 3186.257999830123, 3186.257999830123, 3186.257999830123, 3186.257999830123, 3181.5005894380643, 3160.9141452328226, 3155.882661090953, 3154.600569584572, 3154.600569584572, 3154.600569584572, 3154.600569584572, 2643.4950933299033, 2574.0554812570867, 2406.5498913147794, 2375.0648725792835, 2301.54873216791, 2070.6178555172773, 2026.2145617987094, 1987.898573539594, 1962.60124774168, 13815.132212650165, 3269.9236152083026, 3405.9902796092742, 25570.198296171857, 23216.34740772263, 5100.275624831879, 4551.925684178503, 4473.848640243499, 4426.886298888602, 4042.7258905404633, 4010.2208636913456, 3762.010409554675, 3729.8037770373458, 3729.801906226488, 3703.1272614151035, 3463.1533638808587, 3167.8015941505796, 3157.0079509076145, 3149.6650182915055, 3147.662315268437, 3147.662315268437, 3147.662315268437, 3147.662315268437, 3147.624587249475, 3117.5223051451444, 2706.036209807176, 2609.1977391866576, 2358.4252095804936, 2293.201883444491, 1967.2364766421367, 1959.4498500509656, 1903.3942766217629, 1809.8493685160624, 1807.2224382701722, 1804.8976439777855, 7606.879731909801, 8920.032785342199, 2668.285400054959, 2946.644837800905, 13132.39585599539, 5085.794039877388, 68393.3296788292, 42509.48261823204, 4589.6075394596655, 6457.879709546385, 3983.450966843088, 3467.7441353938725, 3319.411031841764, 2912.614031454149, 2841.511210573663, 2795.9641996741047, 2793.787256594977, 2780.3588440267777, 2770.288310307256, 2768.535213329338, 2768.534282481385, 2768.5339721987343, 2768.5339721987343, 2768.5339721987343, 2766.339653291153, 2751.5149687936387, 2751.514348228337, 2751.4169194759356, 2751.4169194759356, 2751.4169194759356, 2751.4169194759356, 2751.4169194759356, 2749.3442313675305, 2748.835367819958, 2700.270237574522, 2563.4479998159054, 2511.4032047730725, 2146.0354542241407, 2084.122584899755, 68393.3296788292, 3207.89713772089, 4266.979329078343, 23216.34740772263, 3386.7229437463975, 3732.9749490723975, 6971.931265867419, 6256.579954829931, 5673.990637252696, 4511.034474703501, 4501.253618478253, 4420.339122008399, 4164.339575752051, 4163.502673051034, 4144.00212956872, 4140.693444471677, 4117.277469157437, 3363.0999278553904, 2972.867861334282, 2970.3469584032014, 2947.096571810905, 2884.168223459619, 2640.5652791536977, 2618.247873793248, 2347.118739338949, 2338.8630911738423, 2338.855831220548, 2309.4500855044384, 2296.9864448363596, 2248.4686403727196, 2231.6593770232626, 2218.4773099132444, 2179.4680361927744, 2149.059644586613, 2136.5410136340083, 2116.0643926013577, 5290.899388489864, 5444.009032260631, 3184.835309713894, 68393.3296788292, 42509.48261823204, 6724.2354341434975, 13397.945516155643, 9214.01196071036, 9153.692448279447, 9150.744797318137, 9108.562599541381, 9108.32953517074, 9107.452477144383, 9105.239592277881, 9104.579038785303, 9103.973071421637, 9103.958351566649, 9102.651964436482, 9100.402279932508, 9086.563162934795, 7084.7775767950225, 5709.217554747397, 4609.863958327642, 4562.20996112281, 4538.169371291247, 4495.97122700492, 4391.960731661, 4370.429570441215, 4359.7279292014255, 4319.305980750296, 4262.9534692386, 4243.457327970881, 3757.6827935632205, 3291.561412209817, 3227.7253877550434, 2473.8552211586766, 6724.2354341434975, 42509.48261823204, 6415.645984547675, 5189.140603673835, 5061.127253583733, 4884.893795703064, 4552.531493162694, 4468.8991968766095, 4465.063998553057, 4455.905909168272, 4448.484351079163, 4432.650922689801, 4430.242023085447, 4430.239946959218, 4430.239946959218, 4085.5579113770305, 3412.409275828123, 2965.9902334761605, 2963.351180449869, 2931.1442342621885, 2930.744135078949, 2930.6599036719513, 2930.6572343668, 2866.5728528828986, 2590.734866458913, 2431.895045828565, 2426.5628121993027, 2426.5456100105494, 2120.0672629332585, 1926.5592484709646, 1558.0941488745334, 1507.454315964277, 9293.592014226899, 5172.466989115209, 5537.100326394162, 9798.288727127665, 3874.109201671783, 4570.629563987828, 7788.02957895299, 3930.3244210721305, 3539.9140656059376, 3518.606770112013, 3508.3887723030575, 3508.3887723030575, 3432.012113824759, 3234.124295719635, 3233.824521859445, 3182.156001372705, 3163.876217541766, 3161.9716173102793, 3161.9716173102793, 3065.4076558419974, 3051.986426931074, 3043.6123156604026, 3016.6913386872507, 2972.796506072535, 2665.4325585542924, 2588.3188708676407, 2421.0634461254554, 2416.496054229334, 2317.389706858178, 2242.1458841650756, 2213.1413767011413, 2145.403430276632, 2128.529985743058, 2125.617333879473, 2122.29194565921, 2116.40913905915, 8497.056384965246, 5406.35541834643, 4598.542078464132, 4010.275495374508, 5973.14901917956, 42509.48261823204, 5783.637852258564, 68393.3296788292, 5046.723550554466, 5006.6367787468, 4508.1214004745425, 4466.846263046901, 4451.0449996086045, 4451.0449996086045, 4451.0449996086045, 4451.0449996086045, 4316.931369103707, 3514.8408515884507, 3329.4418172964943, 3272.178877371637, 2926.2370753888176, 2805.5608319988273, 2801.4875374374747, 2793.411507523455, 2640.87820990894, 2640.705382697381, 2639.9700814700213, 2639.9700814700213, 2639.9700814700213, 2639.9700814700213, 2639.9700814700213, 2622.5950905796954, 2610.084400116518, 2553.887846873062, 2553.887846873062, 2536.0954996916817, 2262.89838510652, 2143.954556297743, 9162.709094981581, 23374.87266632632, 5019.043740259165, 4297.248550167334, 4286.718803154545, 3533.848123963003, 2905.05775080858, 2894.2936180220886, 2798.6078613794684, 2669.6179185403766, 2404.4408992953704, 2362.3040274741975, 2214.0951286070663, 1913.4990318780226, 1818.9731461074623, 1758.4291330305173, 1730.828650121377, 1725.89245863059, 1697.0983695559494, 1692.7325619422063, 1670.0857478445507, 1659.702593552655, 1659.702593552655, 1659.5088527108087, 1627.8223348021995, 1573.4791125291833, 1549.7722786087272, 1447.2919087183714, 1359.5798747966253, 1337.6073601184585, 1330.7009732975123, 7419.040229313727, 5109.685320610461, 22712.923129266594, 2030.8773541253001, 2470.6795059677556, 8743.710870303708, 8920.032785342199, 2571.462201433904, 7111.502447708597, 6870.898505452809, 6857.006788044177, 6706.762836190944, 6699.5824056231295, 6684.4017548750035, 6680.177845452395, 6679.790572961339, 3089.3673792052214, 2396.927935584211, 2094.64923324821, 2068.3724715541766, 2066.02419444308, 1724.8573283190703, 1700.6044558950512, 1694.1360896387168, 1680.3258394916243, 1580.5288425757333, 1570.7902051980902, 1535.773285097615, 1531.8143799387049, 1529.2747557449277, 1390.8822039204708, 1344.7045376878202, 1295.069427616388, 1283.2739100924066, 1267.0072535583415, 1263.075279727043, 1261.5719730197613, 1261.571030423295, 8906.310768342315, 4131.551336113959, 5290.899388489864, 8662.019297925772, 8583.049918839683, 8553.413605756277, 8530.09846889295, 8529.977248203451, 8529.975102704522, 8529.975102704522, 8529.975102704522, 5147.31551687755, 4774.363438019324, 4176.0047052874015, 4015.410892190372, 3831.8310081282775, 3829.881285976391, 3741.322599426362, 3675.8964141433157, 3610.394063648283, 3610.353299168629, 3610.353299168629, 3607.6057196024562, 3593.1517615039807, 3593.1402294472364, 3574.8522647623276, 1692.5942539543282, 1676.2708958201272, 1544.3471167262778, 1392.071537071338, 1298.5755211105486, 1263.6144819659837, 1261.8495409093725, 23216.34740772263, 2970.554860141185, 2272.8404631544518, 7843.130925590127, 4004.6302654215497, 3232.0304468381037, 2945.4679477949667, 2576.148952327, 2436.555653297486, 2382.8946229854014, 2378.62656047527, 2378.4545862808836, 2378.307752948507, 2356.149560014594, 2309.169312597645, 2201.840966757972, 2025.123042553486, 1851.2028353151916, 1766.5325576338607, 1642.3512756563005, 1626.061066897866, 1607.6964695676447, 1580.2446541727854, 1531.453729779173, 1314.822276880154, 1289.9258696350037, 1219.331131479425, 1200.0381944466926, 1200.0381944466926, 1148.1780789680436, 1033.002775301552, 1007.0039813756689, 1006.1798157769115, 6375.346525483531, 5171.100158837487, 4448.875596116694, 6197.9346346121265, 2093.5434015757783, 11146.65428864509, 3448.324528857255, 6228.165444211337, 22712.923129266594, 12625.76028454302, 5623.034881572326, 4986.305885709671, 4882.974597058939, 4538.548038771644, 4463.426929324877, 4443.601133796981, 4422.513814674574, 4390.54241662527, 4390.54241662527, 4358.472940435545, 4358.472940435545, 4358.471902571625, 4340.135701234615, 3517.9469095539816, 3421.950464690425, 3408.4709475660993, 3014.206682782178, 2903.105425895896, 2316.7317711598653, 1939.9198368522573, 1879.0964704975847, 1869.6910881904168, 1869.5605768025025, 1771.5553463221818, 1771.1342330367247, 1761.6856496438952, 1755.775403819629, 1751.6031908620507, 1751.5189941515573, 1747.9484828014804, 68393.3296788292, 3008.6953446772022, 22105.37056782032, 20060.01236861621, 7188.517710564859, 4117.449660255655, 3818.1755481798455, 2895.288397939712, 2889.7731819378446, 2887.9845191538393, 2887.7458066394324, 2882.52956319082, 2875.6643154173353, 2875.2991344093807, 2867.29385980653, 2858.6487425594296, 2858.5171015303576, 2858.5171015303576, 2858.5171015303576, 2320.6504778719677, 2171.838699876828, 2159.2548261420166, 2125.011994409908, 2097.3031095510078, 2097.2993594627533, 2097.2993594627533, 2097.2993594627533, 2097.2993594627533, 2097.2993594627533, 2097.2993594627533, 2059.4523049779123, 1987.8182484539652, 1920.7665411502333, 1901.959331300396, 4156.882299125809, 4404.6881134332, 3691.77906290593, 3266.4303046785944, 4046.2184416773543, 3781.87064600715, 13132.39585599539, 42509.48261823204], \"Category\": [\"Default\", \"Default\", \"Default\", \"Default\", \"Default\", \"Default\", \"Default\", \"Default\", \"Default\", \"Default\", \"Default\", \"Default\", \"Default\", \"Default\", \"Default\", \"Default\", \"Default\", \"Default\", \"Default\", \"Default\", \"Default\", \"Default\", \"Default\", \"Default\", \"Default\", \"Default\", \"Default\", \"Default\", \"Default\", \"Default\", \"Topic1\", \"Topic1\", \"Topic1\", \"Topic1\", \"Topic1\", \"Topic1\", \"Topic1\", \"Topic1\", \"Topic1\", \"Topic1\", \"Topic1\", \"Topic1\", \"Topic1\", \"Topic1\", \"Topic1\", \"Topic1\", \"Topic1\", \"Topic1\", \"Topic1\", \"Topic1\", \"Topic1\", \"Topic1\", \"Topic1\", \"Topic1\", \"Topic1\", \"Topic1\", \"Topic1\", \"Topic1\", \"Topic1\", \"Topic1\", \"Topic1\", \"Topic1\", \"Topic2\", \"Topic2\", \"Topic2\", \"Topic2\", \"Topic2\", \"Topic2\", \"Topic2\", \"Topic2\", \"Topic2\", \"Topic2\", \"Topic2\", \"Topic2\", \"Topic2\", \"Topic2\", \"Topic2\", \"Topic2\", \"Topic2\", \"Topic2\", \"Topic2\", \"Topic2\", \"Topic2\", \"Topic2\", \"Topic2\", \"Topic2\", \"Topic2\", \"Topic2\", \"Topic2\", \"Topic2\", \"Topic2\", \"Topic2\", \"Topic2\", \"Topic2\", \"Topic2\", \"Topic3\", \"Topic3\", \"Topic3\", \"Topic3\", \"Topic3\", \"Topic3\", \"Topic3\", \"Topic3\", \"Topic3\", \"Topic3\", \"Topic3\", \"Topic3\", \"Topic3\", \"Topic3\", \"Topic3\", \"Topic3\", \"Topic3\", \"Topic3\", \"Topic3\", \"Topic3\", \"Topic3\", \"Topic3\", \"Topic3\", \"Topic3\", \"Topic3\", \"Topic3\", \"Topic3\", \"Topic3\", \"Topic3\", \"Topic3\", \"Topic3\", \"Topic3\", \"Topic3\", \"Topic3\", \"Topic4\", \"Topic4\", \"Topic4\", \"Topic4\", \"Topic4\", \"Topic4\", \"Topic4\", \"Topic4\", \"Topic4\", \"Topic4\", \"Topic4\", \"Topic4\", \"Topic4\", \"Topic4\", \"Topic4\", \"Topic4\", \"Topic4\", \"Topic4\", \"Topic4\", \"Topic4\", \"Topic4\", \"Topic4\", \"Topic4\", \"Topic4\", \"Topic4\", \"Topic4\", \"Topic4\", \"Topic4\", \"Topic4\", \"Topic4\", \"Topic4\", \"Topic4\", \"Topic4\", \"Topic4\", \"Topic4\", \"Topic5\", \"Topic5\", \"Topic5\", \"Topic5\", \"Topic5\", \"Topic5\", \"Topic5\", \"Topic5\", \"Topic5\", \"Topic5\", \"Topic5\", \"Topic5\", \"Topic5\", \"Topic5\", \"Topic5\", \"Topic5\", \"Topic5\", \"Topic5\", \"Topic5\", \"Topic5\", \"Topic5\", \"Topic5\", \"Topic5\", \"Topic5\", \"Topic5\", \"Topic5\", \"Topic5\", \"Topic5\", \"Topic5\", \"Topic5\", \"Topic5\", \"Topic5\", \"Topic5\", \"Topic5\", \"Topic5\", \"Topic5\", \"Topic5\", \"Topic5\", \"Topic5\", \"Topic5\", \"Topic5\", \"Topic5\", \"Topic6\", \"Topic6\", \"Topic6\", \"Topic6\", \"Topic6\", \"Topic6\", \"Topic6\", \"Topic6\", \"Topic6\", \"Topic6\", \"Topic6\", \"Topic6\", \"Topic6\", \"Topic6\", \"Topic6\", \"Topic6\", \"Topic6\", \"Topic6\", \"Topic6\", \"Topic6\", \"Topic6\", \"Topic6\", \"Topic6\", \"Topic6\", \"Topic6\", \"Topic6\", \"Topic6\", \"Topic6\", \"Topic6\", \"Topic6\", \"Topic6\", \"Topic6\", \"Topic6\", \"Topic6\", \"Topic6\", \"Topic6\", \"Topic6\", \"Topic7\", \"Topic7\", \"Topic7\", \"Topic7\", \"Topic7\", \"Topic7\", \"Topic7\", \"Topic7\", \"Topic7\", \"Topic7\", \"Topic7\", \"Topic7\", \"Topic7\", \"Topic7\", \"Topic7\", \"Topic7\", \"Topic7\", \"Topic7\", \"Topic7\", \"Topic7\", \"Topic7\", \"Topic7\", \"Topic7\", \"Topic7\", \"Topic7\", \"Topic7\", \"Topic7\", \"Topic7\", \"Topic7\", \"Topic7\", \"Topic7\", \"Topic7\", \"Topic7\", \"Topic7\", \"Topic7\", \"Topic8\", \"Topic8\", \"Topic8\", \"Topic8\", \"Topic8\", \"Topic8\", \"Topic8\", \"Topic8\", \"Topic8\", \"Topic8\", \"Topic8\", \"Topic8\", \"Topic8\", \"Topic8\", \"Topic8\", \"Topic8\", \"Topic8\", \"Topic8\", \"Topic8\", \"Topic8\", \"Topic8\", \"Topic8\", \"Topic8\", \"Topic8\", \"Topic8\", \"Topic8\", \"Topic8\", \"Topic8\", \"Topic8\", \"Topic8\", \"Topic8\", \"Topic8\", \"Topic8\", \"Topic8\", \"Topic8\", \"Topic8\", \"Topic8\", \"Topic8\", \"Topic8\", \"Topic9\", \"Topic9\", \"Topic9\", \"Topic9\", \"Topic9\", \"Topic9\", \"Topic9\", \"Topic9\", \"Topic9\", \"Topic9\", \"Topic9\", \"Topic9\", \"Topic9\", \"Topic9\", \"Topic9\", \"Topic9\", \"Topic9\", \"Topic9\", \"Topic9\", \"Topic9\", \"Topic9\", \"Topic9\", \"Topic9\", \"Topic9\", \"Topic9\", \"Topic9\", \"Topic9\", \"Topic9\", \"Topic9\", \"Topic9\", \"Topic9\", \"Topic9\", \"Topic9\", \"Topic9\", \"Topic9\", \"Topic9\", \"Topic10\", \"Topic10\", \"Topic10\", \"Topic10\", \"Topic10\", \"Topic10\", \"Topic10\", \"Topic10\", \"Topic10\", \"Topic10\", \"Topic10\", \"Topic10\", \"Topic10\", \"Topic10\", \"Topic10\", \"Topic10\", \"Topic10\", \"Topic10\", \"Topic10\", \"Topic10\", \"Topic10\", \"Topic10\", \"Topic10\", \"Topic10\", \"Topic10\", \"Topic10\", \"Topic10\", \"Topic10\", \"Topic10\", \"Topic10\", \"Topic10\", \"Topic10\", \"Topic10\", \"Topic10\", \"Topic10\", \"Topic10\", \"Topic11\", \"Topic11\", \"Topic11\", \"Topic11\", \"Topic11\", \"Topic11\", \"Topic11\", \"Topic11\", \"Topic11\", \"Topic11\", \"Topic11\", \"Topic11\", \"Topic11\", \"Topic11\", \"Topic11\", \"Topic11\", \"Topic11\", \"Topic11\", \"Topic11\", \"Topic11\", \"Topic11\", \"Topic11\", \"Topic11\", \"Topic11\", \"Topic11\", \"Topic11\", \"Topic11\", \"Topic11\", \"Topic11\", \"Topic11\", \"Topic11\", \"Topic11\", \"Topic12\", \"Topic12\", \"Topic12\", \"Topic12\", \"Topic12\", \"Topic12\", \"Topic12\", \"Topic12\", \"Topic12\", \"Topic12\", \"Topic12\", \"Topic12\", \"Topic12\", \"Topic12\", \"Topic12\", \"Topic12\", \"Topic12\", \"Topic12\", \"Topic12\", \"Topic12\", \"Topic12\", \"Topic12\", \"Topic12\", \"Topic12\", \"Topic12\", \"Topic12\", \"Topic12\", \"Topic12\", \"Topic12\", \"Topic12\", \"Topic12\", \"Topic12\", \"Topic12\", \"Topic12\", \"Topic12\", \"Topic12\", \"Topic13\", \"Topic13\", \"Topic13\", \"Topic13\", \"Topic13\", \"Topic13\", \"Topic13\", \"Topic13\", \"Topic13\", \"Topic13\", \"Topic13\", \"Topic13\", \"Topic13\", \"Topic13\", \"Topic13\", \"Topic13\", \"Topic13\", \"Topic13\", \"Topic13\", \"Topic13\", \"Topic13\", \"Topic13\", \"Topic13\", \"Topic13\", \"Topic13\", \"Topic13\", \"Topic13\", \"Topic13\", \"Topic13\", \"Topic13\", \"Topic13\", \"Topic13\", \"Topic13\", \"Topic13\", \"Topic13\", \"Topic13\", \"Topic13\", \"Topic13\", \"Topic14\", \"Topic14\", \"Topic14\", \"Topic14\", \"Topic14\", \"Topic14\", \"Topic14\", \"Topic14\", \"Topic14\", \"Topic14\", \"Topic14\", \"Topic14\", \"Topic14\", \"Topic14\", \"Topic14\", \"Topic14\", \"Topic14\", \"Topic14\", \"Topic14\", \"Topic14\", \"Topic14\", \"Topic14\", \"Topic14\", \"Topic14\", \"Topic14\", \"Topic14\", \"Topic14\", \"Topic14\", \"Topic14\", \"Topic14\", \"Topic14\", \"Topic15\", \"Topic15\", \"Topic15\", \"Topic15\", \"Topic15\", \"Topic15\", \"Topic15\", \"Topic15\", \"Topic15\", \"Topic15\", \"Topic15\", \"Topic15\", \"Topic15\", \"Topic15\", \"Topic15\", \"Topic15\", \"Topic15\", \"Topic15\", \"Topic15\", \"Topic15\", \"Topic15\", \"Topic15\", \"Topic15\", \"Topic15\", \"Topic15\", \"Topic15\", \"Topic15\", \"Topic15\", \"Topic15\", \"Topic15\", \"Topic15\", \"Topic15\", \"Topic15\", \"Topic15\", \"Topic15\", \"Topic15\", \"Topic15\", \"Topic15\", \"Topic16\", \"Topic16\", \"Topic16\", \"Topic16\", \"Topic16\", \"Topic16\", \"Topic16\", \"Topic16\", \"Topic16\", \"Topic16\", \"Topic16\", \"Topic16\", \"Topic16\", \"Topic16\", \"Topic16\", \"Topic16\", \"Topic16\", \"Topic16\", \"Topic16\", \"Topic16\", \"Topic16\", \"Topic16\", \"Topic16\", \"Topic16\", \"Topic16\", \"Topic16\", \"Topic16\", \"Topic16\", \"Topic16\", \"Topic16\", \"Topic16\", \"Topic16\", \"Topic16\", \"Topic17\", \"Topic17\", \"Topic17\", \"Topic17\", \"Topic17\", \"Topic17\", \"Topic17\", \"Topic17\", \"Topic17\", \"Topic17\", \"Topic17\", \"Topic17\", \"Topic17\", \"Topic17\", \"Topic17\", \"Topic17\", \"Topic17\", \"Topic17\", \"Topic17\", \"Topic17\", \"Topic17\", \"Topic17\", \"Topic17\", \"Topic17\", \"Topic17\", \"Topic17\", \"Topic17\", \"Topic17\", \"Topic17\", \"Topic17\", \"Topic17\", \"Topic17\", \"Topic17\", \"Topic18\", \"Topic18\", \"Topic18\", \"Topic18\", \"Topic18\", \"Topic18\", \"Topic18\", \"Topic18\", \"Topic18\", \"Topic18\", \"Topic18\", \"Topic18\", \"Topic18\", \"Topic18\", \"Topic18\", \"Topic18\", \"Topic18\", \"Topic18\", \"Topic18\", \"Topic18\", \"Topic18\", \"Topic18\", \"Topic18\", \"Topic18\", \"Topic18\", \"Topic18\", \"Topic18\", \"Topic18\", \"Topic18\", \"Topic18\", \"Topic18\", \"Topic18\", \"Topic18\", \"Topic18\", \"Topic18\", \"Topic18\", \"Topic18\", \"Topic18\", \"Topic18\", \"Topic18\", \"Topic19\", \"Topic19\", \"Topic19\", \"Topic19\", \"Topic19\", \"Topic19\", \"Topic19\", \"Topic19\", \"Topic19\", \"Topic19\", \"Topic19\", \"Topic19\", \"Topic19\", \"Topic19\", \"Topic19\", \"Topic19\", \"Topic19\", \"Topic19\", \"Topic19\", \"Topic19\", \"Topic19\", \"Topic19\", \"Topic19\", \"Topic19\", \"Topic19\", \"Topic19\", \"Topic19\", \"Topic19\", \"Topic19\", \"Topic19\", \"Topic19\", \"Topic19\", \"Topic19\", \"Topic19\", \"Topic20\", \"Topic20\", \"Topic20\", \"Topic20\", \"Topic20\", \"Topic20\", \"Topic20\", \"Topic20\", \"Topic20\", \"Topic20\", \"Topic20\", \"Topic20\", \"Topic20\", \"Topic20\", \"Topic20\", \"Topic20\", \"Topic20\", \"Topic20\", \"Topic20\", \"Topic20\", \"Topic20\", \"Topic20\", \"Topic20\", \"Topic20\", \"Topic20\", \"Topic20\", \"Topic20\", \"Topic20\", \"Topic20\", \"Topic20\", \"Topic20\", \"Topic20\", \"Topic20\", \"Topic20\", \"Topic20\", \"Topic20\", \"Topic20\", \"Topic20\"], \"logprob\": [30.0, 29.0, 28.0, 27.0, 26.0, 25.0, 24.0, 23.0, 22.0, 21.0, 20.0, 19.0, 18.0, 17.0, 16.0, 15.0, 14.0, 13.0, 12.0, 11.0, 10.0, 9.0, 8.0, 7.0, 6.0, 5.0, 4.0, 3.0, 2.0, 1.0, -2.5242, -3.6183, -3.6439, -3.7323, -3.7568, -3.7966, -3.7977, -3.8022, -3.8045, -3.8048, -3.8069, -3.8098, -3.8641, -3.8733, -3.8764, -3.9088, -3.9305, -3.934, -3.9567, -3.9569, -4.6902, -4.8624, -4.9102, -4.965, -4.9696, -5.0064, -5.03, -5.0427, -5.0462, -5.0512, -4.8927, -5.0441, -2.3578, -2.7818, -3.4033, -3.4196, -3.4594, -3.4722, -3.4739, -3.474, -3.4743, -3.4781, -4.1586, -4.3312, -4.3933, -4.4141, -4.4329, -4.4377, -4.4416, -4.4467, -4.4468, -4.4471, -4.6771, -4.9646, -5.2269, -5.249, -5.3079, -5.4067, -5.4627, -5.4776, -5.4794, -5.4922, -3.8197, -5.1315, -5.3984, -2.7417, -2.7426, -2.7497, -2.7534, -2.7544, -2.7554, -2.7581, -2.7586, -2.7589, -2.7594, -4.1803, -4.9944, -5.175, -5.1922, -5.2635, -5.2859, -5.4607, -5.4649, -5.4747, -5.4786, -5.4791, -5.4791, -5.4791, -5.6835, -5.7753, -5.8468, -6.0421, -6.0543, -6.0872, -6.191, -4.961, -5.468, -5.2915, -5.4422, -3.7482, -3.7595, -3.7884, -3.7892, -3.7892, -3.7892, -3.7893, -3.7893, -3.7893, -3.7893, -4.118, -4.1589, -4.2113, -4.2479, -4.2528, -4.2528, -4.2554, -4.2554, -4.2557, -4.2674, -4.8963, -4.9993, -5.2522, -5.2721, -5.3909, -5.4635, -5.4788, -5.4857, -5.4906, -5.5248, -3.0276, -2.9922, -4.8954, -4.5429, -5.1409, -3.7759, -4.0244, -4.0427, -4.0501, -4.0615, -4.075, -4.0873, -4.0901, -4.0903, -4.0925, -4.543, -4.7924, -4.9616, -4.9788, -5.0244, -5.0791, -5.0964, -5.1975, -5.2025, -5.2386, -4.1348, -5.2527, -5.2614, -5.2668, -5.2674, -5.2743, -5.2746, -5.2752, -5.2876, -5.3074, -3.839, -3.925, -3.6567, -4.397, -4.4161, -4.535, -4.9991, -4.2042, -4.9654, -3.9002, -5.0407, -4.4206, -3.6705, -3.757, -3.7808, -3.785, -3.7977, -3.807, -3.812, -4.2418, -4.2495, -4.2538, -4.2765, -4.283, -4.2855, -4.2885, -4.2886, -4.2887, -4.2908, -4.291, -4.5006, -4.7033, -4.7801, -5.1494, -5.2493, -5.3265, -5.4704, -5.4749, -5.4848, -5.4931, -5.5146, -5.5537, -4.9064, -3.7292, -3.9768, -3.7906, -3.429, -5.037, -4.8594, -4.3187, -4.5959, -4.6369, -4.6489, -4.649, -4.6717, -4.6725, -4.6742, -4.6756, -4.677, -4.677, -4.677, -4.677, -4.677, -4.6785, -4.685, -4.6866, -4.687, -4.687, -4.687, -4.687, -4.8639, -4.8905, -4.9578, -4.971, -5.0025, -5.1083, -5.13, -5.1491, -5.1619, -3.347, -4.7194, -4.8657, -4.066, -4.4499, -4.1845, -4.2983, -4.3156, -4.3262, -4.417, -4.4251, -4.489, -4.4976, -4.4976, -4.5048, -4.5718, -4.661, -4.6644, -4.6667, -4.6674, -4.6674, -4.6674, -4.6674, -4.6674, -4.677, -4.8186, -4.8551, -4.9562, -4.9843, -5.1377, -5.1417, -5.1707, -5.2212, -5.2226, -5.2239, -3.8281, -3.8726, -4.9186, -4.8549, -3.913, -4.5965, -3.7448, -4.2678, -4.8536, -3.9436, -4.4269, -4.5656, -4.6093, -4.7401, -4.7649, -4.781, -4.7818, -4.7866, -4.7903, -4.7909, -4.7909, -4.7909, -4.7909, -4.7909, -4.7917, -4.7971, -4.7971, -4.7971, -4.7971, -4.7971, -4.7971, -4.7971, -4.7978, -4.798, -4.8159, -4.8679, -4.8884, -5.0457, -5.075, -2.2406, -4.7957, -4.6808, -4.0539, -4.7784, -4.7928, -3.8626, -3.9709, -4.0687, -4.2981, -4.3003, -4.3184, -4.3781, -4.3783, -4.383, -4.3838, -4.3895, -4.5919, -4.7153, -4.7161, -4.724, -4.7456, -4.8339, -4.8424, -4.9518, -4.9553, -4.9553, -4.968, -4.9734, -4.9947, -5.0022, -5.0082, -5.0259, -5.04, -5.0458, -5.0555, -4.483, -4.5271, -4.8344, -3.7708, -4.1849, -4.9947, -3.2019, -3.5763, -3.5829, -3.5832, -3.5879, -3.5879, -3.588, -3.5882, -3.5883, -3.5884, -3.5884, -3.5885, -3.5888, -3.5903, -3.8392, -4.0551, -4.2691, -4.2794, -4.2847, -4.2941, -4.3175, -4.3224, -4.3249, -4.3342, -4.3473, -4.3519, -4.4735, -4.606, -4.6256, -4.8918, -4.2982, -4.2885, -3.905, -4.1172, -4.1422, -4.1777, -4.2482, -4.2667, -4.2676, -4.2696, -4.2713, -4.2749, -4.2754, -4.2754, -4.2754, -4.3564, -4.5365, -4.6768, -4.6777, -4.6886, -4.6888, -4.6888, -4.6888, -4.7109, -4.8122, -4.8755, -4.8777, -4.8777, -5.0128, -5.1086, -5.3211, -5.3541, -3.6041, -4.2034, -4.1662, -3.7694, -4.5602, -4.5229, -3.6952, -4.3792, -4.4839, -4.4899, -4.4928, -4.4928, -4.5149, -4.5743, -4.5744, -4.5905, -4.5962, -4.5968, -4.5968, -4.6279, -4.6323, -4.635, -4.6439, -4.6586, -4.7678, -4.7971, -4.864, -4.8659, -4.9078, -4.9408, -4.9538, -4.9849, -4.9929, -4.9942, -4.9958, -4.9986, -3.792, -4.2897, -4.4145, -4.5255, -4.2486, -3.0191, -4.4053, -4.3607, -4.1075, -4.1155, -4.2204, -4.2296, -4.2332, -4.2332, -4.2332, -4.2332, -4.2638, -4.4694, -4.5236, -4.541, -4.6528, -4.6949, -4.6964, -4.6993, -4.7555, -4.7555, -4.7558, -4.7558, -4.7558, -4.7558, -4.7558, -4.7624, -4.7672, -4.789, -4.789, -4.796, -4.91, -4.9641, -3.6174, -2.5215, -4.0602, -4.2155, -4.218, -4.4112, -4.6072, -4.6109, -4.6446, -4.6918, -4.7965, -4.8142, -4.879, -5.025, -5.0757, -5.1096, -5.1255, -5.1283, -5.1451, -5.1477, -5.1612, -5.1675, -5.1675, -5.1676, -5.1869, -5.2209, -5.236, -5.3045, -5.3671, -5.3834, -5.3886, -3.8119, -4.1573, -2.9869, -5.0955, -5.1097, -4.9367, -5.0036, -5.1523, -3.7055, -3.74, -3.742, -3.7641, -3.7652, -3.7675, -3.7681, -3.7682, -4.5396, -4.7935, -4.9284, -4.941, -4.9422, -5.1228, -5.137, -5.1408, -5.149, -5.2103, -5.2165, -5.239, -5.2416, -5.2433, -5.3382, -5.372, -5.4097, -5.4189, -5.4316, -5.4347, -5.4359, -5.4359, -3.714, -4.3944, -5.2345, -3.5041, -3.5132, -3.5167, -3.5194, -3.5194, -3.5194, -3.5194, -3.5194, -4.0247, -4.0999, -4.2339, -4.2731, -4.3199, -4.3204, -4.3438, -4.3615, -4.3795, -4.3795, -4.3795, -4.3802, -4.3843, -4.3843, -4.3894, -5.1375, -5.1472, -5.2293, -5.3332, -5.4028, -5.4301, -5.4315, -3.2952, -4.8432, -5.1331, -3.6007, -4.273, -4.4875, -4.5804, -4.7144, -4.7702, -4.7925, -4.7942, -4.7943, -4.7944, -4.8037, -4.8239, -4.8715, -4.9553, -5.0451, -5.092, -5.1649, -5.1749, -5.1863, -5.2035, -5.2349, -5.3876, -5.4067, -5.4631, -5.4791, -5.4791, -5.5233, -5.6292, -5.6547, -5.6555, -3.8994, -4.3202, -4.4637, -4.2841, -5.1841, -4.4693, -5.067, -4.8471, -4.3942, -4.7977, -3.9032, -4.0234, -4.0443, -4.1175, -4.1342, -4.1387, -4.1434, -4.1507, -4.1507, -4.158, -4.158, -4.158, -4.1622, -4.3724, -4.4, -4.404, -4.527, -4.5645, -4.7903, -4.968, -4.9998, -5.0049, -5.0049, -5.0588, -5.0591, -5.0644, -5.0678, -5.0702, -5.0702, -5.0722, -3.5735, -4.8613, -5.0608, -5.0618, -3.6543, -4.2117, -4.2872, -4.564, -4.5659, -4.5665, -4.5666, -4.5684, -4.5708, -4.5709, -4.5737, -4.5767, -4.5768, -4.5768, -4.5768, -4.7854, -4.8517, -4.8575, -4.8735, -4.8866, -4.8866, -4.8866, -4.8866, -4.8866, -4.8866, -4.8866, -4.9049, -4.9403, -4.9746, -4.9845, -4.2732, -4.3669, -4.5555, -4.6735, -4.5691, -4.6644, -4.5179, -4.7079], \"loglift\": [30.0, 29.0, 28.0, 27.0, 26.0, 25.0, 24.0, 23.0, 22.0, 21.0, 20.0, 19.0, 18.0, 17.0, 16.0, 15.0, 14.0, 13.0, 12.0, 11.0, 10.0, 9.0, 8.0, 7.0, 6.0, 5.0, 4.0, 3.0, 2.0, 1.0, 2.7671, 2.767, 2.767, 2.7669, 2.7669, 2.7669, 2.7669, 2.7669, 2.7669, 2.7669, 2.7669, 2.7669, 2.7669, 2.7669, 2.7669, 2.7669, 2.7669, 2.7669, 2.7669, 2.7669, 2.7667, 2.7666, 2.7666, 2.7666, 2.7666, 2.7665, 2.7665, 2.7665, 2.7665, 2.7665, 1.3066, 0.5116, 2.8287, 2.8287, 2.8286, 2.8286, 2.8286, 2.8286, 2.8286, 2.8286, 2.8286, 2.8286, 2.8285, 2.8284, 2.8284, 2.8284, 2.8284, 2.8284, 2.8284, 2.8284, 2.8284, 2.8284, 2.8283, 2.8281, 2.828, 2.8279, 2.8279, 2.8278, 2.8277, 2.8277, 2.8277, 2.8277, 2.4416, 2.516, 2.5978, 2.836, 2.836, 2.836, 2.836, 2.836, 2.836, 2.836, 2.836, 2.836, 2.836, 2.8358, 2.8354, 2.8353, 2.8353, 2.8352, 2.8352, 2.8351, 2.8351, 2.8351, 2.8351, 2.8351, 2.8351, 2.8351, 2.8348, 2.8347, 2.8346, 2.8343, 2.8343, 2.8342, 2.834, 2.5618, 2.0911, 1.718, -0.3949, 2.8627, 2.8627, 2.8627, 2.8627, 2.8627, 2.8627, 2.8627, 2.8627, 2.8627, 2.8627, 2.8626, 2.8626, 2.8626, 2.8626, 2.8626, 2.8626, 2.8626, 2.8626, 2.8626, 2.8626, 2.8623, 2.8622, 2.862, 2.862, 2.8619, 2.8619, 2.8618, 2.8618, 2.8618, 2.8618, 2.7707, 2.7091, 2.788, 2.4666, -0.5691, 2.8748, 2.8747, 2.8747, 2.8747, 2.8747, 2.8747, 2.8747, 2.8747, 2.8747, 2.8747, 2.8746, 2.8744, 2.8744, 2.8743, 2.8743, 2.8743, 2.8743, 2.8742, 2.8742, 2.8742, 2.8742, 2.8742, 2.8741, 2.8741, 2.8741, 2.8741, 2.8741, 2.8741, 2.8741, 2.8741, 2.8169, 2.7264, 2.5426, 2.5801, 2.5782, 2.6186, 2.7749, 2.4245, 2.6082, 1.1471, 2.5622, 1.2535, 2.9451, 2.945, 2.945, 2.945, 2.945, 2.945, 2.945, 2.9449, 2.9449, 2.9449, 2.9449, 2.9449, 2.9449, 2.9449, 2.9449, 2.9449, 2.9449, 2.9449, 2.9448, 2.9447, 2.9447, 2.9444, 2.9444, 2.9443, 2.9441, 2.9441, 2.9441, 2.9441, 2.9441, 2.944, 2.8919, 2.729, 2.6719, 2.5953, 2.1266, 2.7608, 2.6192, 2.9613, 2.9612, 2.9612, 2.9612, 2.9612, 2.9612, 2.9612, 2.9612, 2.9612, 2.9612, 2.9612, 2.9612, 2.9612, 2.9612, 2.9612, 2.9612, 2.9612, 2.9612, 2.9612, 2.9612, 2.9612, 2.9611, 2.9611, 2.961, 2.961, 2.961, 2.9609, 2.9609, 2.9609, 2.9609, 2.8243, 2.8928, 2.7058, 1.4896, 1.2023, 2.9832, 2.9832, 2.9832, 2.9832, 2.9831, 2.9831, 2.9831, 2.9831, 2.9831, 2.9831, 2.9831, 2.983, 2.983, 2.983, 2.983, 2.983, 2.983, 2.983, 2.983, 2.983, 2.9829, 2.9829, 2.9828, 2.9828, 2.9827, 2.9827, 2.9827, 2.9826, 2.9826, 2.9826, 2.9399, 2.7361, 2.897, 2.8615, 2.309, 2.5741, 0.827, 0.7795, 2.4196, 2.9882, 2.988, 2.988, 2.9879, 2.9879, 2.9879, 2.9878, 2.9878, 2.9878, 2.9878, 2.9878, 2.9878, 2.9878, 2.9878, 2.9878, 2.9878, 2.9878, 2.9878, 2.9878, 2.9878, 2.9878, 2.9878, 2.9878, 2.9878, 2.9878, 2.9878, 2.9878, 2.9878, 2.9877, 2.9876, 2.3312, 2.8358, 2.6654, 1.5983, 2.7988, 2.687, 2.9925, 2.9925, 2.9925, 2.9924, 2.9924, 2.9924, 2.9924, 2.9924, 2.9924, 2.9924, 2.9924, 2.9923, 2.9922, 2.9922, 2.9922, 2.9922, 2.9922, 2.9922, 2.9921, 2.9921, 2.9921, 2.9921, 2.9921, 2.9921, 2.9921, 2.992, 2.992, 2.992, 2.992, 2.992, 2.6481, 2.5755, 2.8043, 0.801, 0.8624, 1.8966, 3.0, 3.0, 3.0, 3.0, 3.0, 3.0, 3.0, 3.0, 3.0, 3.0, 3.0, 3.0, 3.0, 3.0, 2.9999, 2.9999, 2.9998, 2.9998, 2.9998, 2.9998, 2.9998, 2.9998, 2.9998, 2.9998, 2.9998, 2.9998, 2.9997, 2.9997, 2.9996, 2.9995, 2.5931, 0.7588, 3.0333, 3.0332, 3.0332, 3.0332, 3.0332, 3.0332, 3.0332, 3.0332, 3.0332, 3.0332, 3.0332, 3.0332, 3.0332, 3.0332, 3.0331, 3.033, 3.033, 3.033, 3.033, 3.033, 3.033, 3.033, 3.0329, 3.0329, 3.0329, 3.0329, 3.0328, 3.0327, 3.0325, 3.0325, 2.9636, 2.9503, 2.9194, 2.7454, 2.8825, 2.7545, 3.0493, 3.0491, 3.0491, 3.0491, 3.0491, 3.0491, 3.049, 3.049, 3.049, 3.049, 3.049, 3.049, 3.049, 3.049, 3.049, 3.049, 3.049, 3.049, 3.0489, 3.0489, 3.0488, 3.0488, 3.0488, 3.0488, 3.0488, 3.0488, 3.0488, 3.0488, 3.0488, 3.0488, 2.8654, 2.8198, 2.8569, 2.8827, 2.7612, 2.0282, 2.6367, 0.2111, 3.0708, 3.0708, 3.0707, 3.0707, 3.0707, 3.0707, 3.0707, 3.0707, 3.0707, 3.0706, 3.0706, 3.0706, 3.0705, 3.0705, 3.0705, 3.0705, 3.0705, 3.0705, 3.0705, 3.0705, 3.0705, 3.0705, 3.0705, 3.0705, 3.0705, 3.0704, 3.0704, 3.0704, 3.0704, 3.0703, 2.9645, 3.1238, 3.1236, 3.1235, 3.1235, 3.1235, 3.1234, 3.1234, 3.1233, 3.1233, 3.1232, 3.1232, 3.1232, 3.1231, 3.123, 3.123, 3.123, 3.123, 3.123, 3.123, 3.123, 3.123, 3.123, 3.123, 3.1229, 3.1229, 3.1229, 3.1228, 3.1227, 3.1227, 3.1227, 2.9811, 3.0086, 2.6872, 2.9931, 2.7829, 1.692, 1.6052, 2.7003, 3.1298, 3.1298, 3.1298, 3.1298, 3.1298, 3.1298, 3.1298, 3.1298, 3.1295, 3.1294, 3.1293, 3.1292, 3.1292, 3.1291, 3.1291, 3.1291, 3.1291, 3.129, 3.129, 3.129, 3.129, 3.129, 3.1289, 3.1288, 3.1288, 3.1288, 3.1288, 3.1288, 3.1288, 3.1288, 2.8963, 2.984, 1.8966, 3.134, 3.134, 3.134, 3.134, 3.134, 3.134, 3.134, 3.134, 3.1339, 3.1339, 3.1338, 3.1338, 3.1338, 3.1338, 3.1338, 3.1338, 3.1338, 3.1338, 3.1338, 3.1338, 3.1338, 3.1338, 3.1338, 3.1333, 3.1333, 3.1332, 3.1331, 3.133, 3.1329, 3.1329, 2.357, 2.8651, 2.8429, 3.1367, 3.1365, 3.1364, 3.1364, 3.1363, 3.1363, 3.1363, 3.1363, 3.1363, 3.1363, 3.1363, 3.1363, 3.1362, 3.1362, 3.1361, 3.136, 3.136, 3.136, 3.136, 3.1359, 3.1359, 3.1357, 3.1357, 3.1356, 3.1356, 3.1356, 3.1356, 3.1354, 3.1354, 3.1354, 3.0452, 2.8337, 2.8407, 2.6887, 2.8741, 1.9166, 2.4922, 2.1209, 1.2799, 1.4636, 3.167, 3.1669, 3.1669, 3.1669, 3.1669, 3.1669, 3.1669, 3.1669, 3.1669, 3.1669, 3.1669, 3.1669, 3.1669, 3.1668, 3.1668, 3.1668, 3.1667, 3.1667, 3.1666, 3.1664, 3.1664, 3.1664, 3.1664, 3.1664, 3.1664, 3.1664, 3.1664, 3.1664, 3.1664, 3.1664, 0.9983, 2.8342, 0.6405, 0.7365, 3.1703, 3.1701, 3.1701, 3.17, 3.17, 3.17, 3.17, 3.17, 3.17, 3.17, 3.1699, 3.1699, 3.1699, 3.1699, 3.1699, 3.1698, 3.1698, 3.1698, 3.1698, 3.1697, 3.1697, 3.1697, 3.1697, 3.1697, 3.1697, 3.1697, 3.1697, 3.1697, 3.1697, 3.1697, 3.099, 2.9474, 2.9354, 2.9398, 2.8302, 2.8025, 1.704, 0.3395]}, \"token.table\": {\"Topic\": [4, 17, 4, 10, 18, 7, 4, 7, 3, 19, 1, 5, 18, 4, 10, 14, 13, 14, 8, 11, 3, 13, 20, 12, 4, 13, 10, 9, 19, 9, 18, 9, 5, 8, 17, 20, 9, 5, 1, 13, 14, 18, 2, 2, 16, 12, 3, 17, 11, 11, 7, 9, 8, 6, 4, 6, 7, 11, 12, 15, 17, 6, 14, 11, 20, 7, 5, 4, 6, 8, 9, 15, 15, 8, 13, 9, 19, 19, 19, 8, 19, 16, 2, 2, 19, 19, 10, 10, 5, 8, 3, 9, 16, 8, 1, 6, 20, 18, 11, 12, 1, 4, 2, 15, 17, 17, 19, 16, 3, 9, 12, 10, 13, 11, 5, 19, 4, 4, 15, 12, 4, 8, 8, 3, 20, 7, 6, 10, 8, 7, 17, 17, 5, 10, 19, 14, 7, 8, 10, 6, 19, 18, 13, 6, 5, 18, 11, 3, 11, 13, 10, 13, 20, 3, 4, 19, 15, 18, 6, 20, 11, 11, 11, 2, 19, 20, 16, 3, 3, 6, 5, 15, 5, 15, 5, 6, 2, 18, 3, 16, 15, 20, 11, 13, 7, 13, 16, 18, 2, 20, 9, 12, 16, 14, 16, 14, 3, 5, 6, 8, 10, 11, 13, 20, 8, 9, 10, 12, 4, 17, 5, 8, 2, 14, 19, 20, 12, 15, 16, 7, 8, 14, 7, 5, 18, 1, 18, 13, 1, 7, 14, 18, 17, 14, 11, 1, 3, 18, 2, 7, 9, 2, 6, 16, 20, 18, 3, 18, 7, 17, 12, 6, 2, 2, 8, 7, 12, 9, 12, 19, 10, 19, 6, 10, 18, 18, 14, 11, 5, 20, 20, 11, 2, 3, 18, 18, 13, 13, 12, 4, 9, 4, 15, 9, 2, 19, 15, 16, 20, 15, 8, 15, 15, 1, 6, 4, 9, 19, 13, 14, 9, 16, 4, 15, 19, 6, 7, 4, 12, 19, 8, 10, 1, 2, 7, 10, 1, 7, 9, 18, 20, 5, 7, 8, 12, 6, 15, 9, 20, 13, 5, 1, 3, 14, 5, 10, 12, 5, 15, 18, 14, 19, 5, 6, 12, 9, 6, 11, 9, 8, 2, 7, 18, 19, 13, 20, 17, 16, 15, 15, 2, 19, 3, 20, 12, 18, 11, 6, 1, 12, 19, 7, 10, 13, 20, 4, 8, 6, 6, 9, 18, 11, 10, 18, 11, 16, 18, 8, 15, 20, 6, 15, 4, 3, 10, 9, 19, 2, 8, 3, 10, 14, 3, 12, 17, 1, 13, 16, 16, 12, 1, 14, 18, 10, 20, 14, 12, 15, 1, 13, 8, 20, 10, 11, 9, 5, 3, 12, 8, 15, 14, 5, 4, 9, 8, 16, 4, 18, 12, 2, 6, 18, 17, 17, 7, 6, 9, 14, 14, 9, 13, 3, 12, 4, 12, 8, 17, 5, 14, 16, 4, 7, 9, 12, 17, 7, 8, 14, 20, 14, 14, 18, 16, 20, 15, 2, 19, 6, 9, 16, 5, 13, 19, 1, 5, 14, 11, 12, 13, 2, 10, 1, 15, 18, 20, 16, 2, 8, 18, 10, 10, 5, 13, 20, 8, 13, 13, 19, 2, 14, 1, 11, 1, 1, 6, 19, 7, 8, 12, 13, 19, 20, 18, 13, 14, 15, 11, 15, 5, 18, 11, 5, 9, 5, 5, 12, 4, 5, 16, 15, 15, 17, 7, 17, 12, 16, 12, 12, 1, 1, 7, 1, 18, 10, 4, 19, 15, 6, 1, 19, 6, 5, 13, 9, 3, 1, 17, 3, 4, 9, 9, 17, 10, 18, 14, 4, 17, 4, 13, 20, 19, 5, 4, 6, 13, 3, 18, 1, 4, 6, 7, 8, 11, 3, 1, 17, 15, 17, 20, 11, 5, 6, 15, 16, 5, 3, 16, 15, 2, 7, 9, 13, 10, 11, 2, 18, 20, 4, 7, 8, 9, 10, 12, 13, 19, 18, 17, 1, 10, 13, 3, 19, 2, 4, 12, 5, 12, 10, 16, 14, 14, 3, 16, 18, 16, 5, 9, 15, 14, 5, 15, 15, 1, 6, 18, 2, 18, 2, 20, 1, 12, 5, 18, 15, 6, 7, 2, 9, 8, 7, 8, 10, 17, 18, 4, 18, 6, 9, 10, 20, 2, 5, 16, 2, 14, 20, 15, 17, 1, 17, 2, 7, 7, 20, 8, 13, 15, 4, 12, 3, 6, 11, 17, 7, 18, 1, 8, 14, 9, 12, 16, 8, 20, 5, 6, 11, 16, 10, 16, 7, 17, 1, 2, 13, 8, 4, 3, 17, 16, 12, 13, 20, 2, 10, 9, 5, 13, 4, 19, 6, 8, 5, 4, 4, 7, 6, 4, 15, 17, 19, 16, 10, 11, 8, 7, 18, 20, 3, 18, 11, 2, 2, 2, 13, 18, 12, 2, 15, 13, 16, 16, 8, 5, 16, 6, 14, 17, 4, 3, 9, 4, 8, 7, 3, 13, 20, 3, 4, 8, 9, 16, 13, 1, 10, 10, 1, 7, 20, 14, 7, 16, 5, 7, 10, 12, 11, 12, 6, 14, 7, 20, 17, 2, 6], \"Freq\": [0.99982745892247, 0.9998347319770289, 0.9996960863428056, 0.9991351952290249, 0.9983015586869447, 0.9994926236937874, 0.9990028371849499, 0.9993559695893391, 0.9988889022761662, 0.9997383258697897, 0.9997755055786772, 0.9993145791963559, 0.9992049069366619, 0.9997069476748515, 0.9993340883376887, 0.9991610824776692, 0.9994842730278521, 0.9995772470387919, 0.9989781643996269, 0.9998540308444478, 0.9999468948191138, 0.06856099824138283, 0.9309861866461457, 0.9995377449116685, 0.999653371867874, 0.9995407932647018, 0.9997474730857213, 0.999445926178209, 0.9990955253511672, 0.9995110720032093, 0.9985069920060223, 0.999445926178209, 0.7433056124700622, 0.25650555178607604, 0.9996794564826568, 0.9993804606591373, 0.9994850218932995, 0.9997176082527731, 0.9993991671576709, 0.269767285163477, 0.09115939959172517, 0.6387611734223716, 0.9993117316661175, 0.9996084753888845, 0.9993293988330305, 0.9992207534482973, 0.9988647276411403, 0.9995221584343377, 0.9998405177355547, 0.9998093272890041, 0.9991306037139772, 0.9995112702701319, 0.9995168895636307, 0.9998479960883402, 0.9989118877058093, 0.9997945262165313, 0.9996051795459784, 0.9995521725340673, 0.9995870144187845, 0.9989741574428642, 0.9997144251716434, 0.9997641402314184, 0.9992537485618306, 0.999784890100435, 0.9993804606591373, 0.9994926236937874, 0.9993763743474178, 0.9997609632531573, 0.11436736306894206, 0.8850744299222579, 0.7398924551278668, 0.2598463727277447, 0.9994254781451676, 0.999471366547923, 0.9995433504744943, 0.9994496309898177, 0.999657702669113, 0.9996803063324501, 0.9996620512606882, 0.9997498910008572, 0.999010352481692, 0.998754703155503, 0.9997001928155099, 0.9998259873337508, 0.9995956159468599, 0.9989888206568068, 0.9995233935618785, 0.9992034201656039, 0.9994525620663972, 0.9994718889442576, 0.7600290588006208, 0.23936161675251338, 0.9991956639348271, 0.9992475304654844, 0.9998191519076473, 0.8316430226442537, 0.1678748199759981, 0.9994501330002873, 0.9998279698377961, 0.999190656362008, 0.9999497426537294, 0.9996705035823149, 0.9997288770631115, 0.9995990399106002, 0.9996251615682763, 0.9995549071247638, 0.9996486956555917, 0.998753956925661, 0.999920095091414, 0.07965251414209137, 0.9200638708791575, 0.9990244188179832, 0.9996630249999136, 0.9996565706078213, 0.9996951852612528, 0.999252493887543, 0.9997843628172535, 0.9997969251662734, 0.99883796838574, 0.9996096288102054, 0.9279528689327242, 0.07158305924534107, 0.9994718889442576, 0.9988345031762582, 0.9989698353334104, 0.9996405228986533, 0.999744121176558, 0.9995233563090786, 0.9994718889442576, 0.9995283390978943, 0.9996464888041023, 0.9985342619310701, 0.999004554146672, 0.999689729641248, 0.9996620512606882, 0.9992887934392837, 0.933355135821905, 0.06605658890482682, 0.9997214957021958, 0.9996771666466322, 0.9996396765261393, 0.9987324787858072, 0.9992391227462748, 0.9998035686826224, 0.9997740545579009, 0.9993717736043947, 0.9996728993298774, 0.9999289954277448, 0.9995417568470555, 0.9992812007567166, 0.9996783221618498, 0.9993956848143271, 0.9994692697379541, 0.9990613518976489, 0.9998499781300462, 0.9991327561067683, 0.9990907835722938, 0.9993615359060727, 0.9994197554634023, 0.9994692697379541, 0.9997832735876789, 0.9992500688226178, 0.9995256317551832, 0.9999332008529803, 0.9997381055756299, 0.9993128359446952, 0.9986467553361704, 0.9990334645408947, 0.9976787649670686, 0.9997303347445473, 0.3449399332043027, 0.6544914403414221, 0.9991597758537903, 0.9994479849083643, 0.9435382871322844, 0.05617278630579548, 0.25601974597675936, 0.7435586652248639, 0.9997767246347339, 0.9990327018814527, 0.9992916661267724, 0.9992948100937313, 0.9998185183347736, 0.999380899370096, 0.9994034438877704, 0.7495208951969086, 0.07131916492157316, 0.17896757582432327, 0.19956009991247037, 0.8000566462929984, 0.9995295887215855, 0.9993630410225247, 0.9983569627556234, 0.9997512488296291, 0.9984020720648182, 0.9992537485618306, 0.039520593912838145, 0.1776544793034248, 0.0282525198150706, 0.11035184883638317, 0.11879702336894798, 0.10630569279292594, 0.36013141203073756, 0.05895155258665023, 0.9995769517535851, 0.9995349544296662, 0.9995465316267547, 0.9994345178455651, 0.9997069476748515, 0.9997682000612759, 0.999742497306018, 0.9989486140756418, 0.7314353202640029, 0.10707022011660156, 0.16092210597406387, 0.9993954431046463, 0.9995722734709567, 0.8910529150660196, 0.10861725628412934, 0.9993944330200459, 0.9994718889442576, 0.9992537485618306, 0.9996051795459784, 0.9992614641300354, 0.9989447824264359, 0.9997825461383036, 0.998061210144409, 0.999400313700339, 0.0419829496433562, 0.8716528958711989, 0.08628219995669067, 0.9989083101012848, 0.9995199465927652, 0.999566949243863, 0.9996036612308186, 0.9998605088079491, 0.9989497521296131, 0.9993502412095286, 0.9994985181007446, 0.9990449344021544, 0.9994850218932995, 0.9996706603038109, 0.9990122144823792, 0.9987324072760615, 0.9990531844454522, 0.998009956849494, 0.9989312663964387, 0.999592904884222, 0.9993270912988875, 0.9997444266097082, 0.9997772722306211, 0.9996021550689108, 0.999665299319214, 0.9992831547677469, 0.999475892875735, 0.9992186605012767, 0.9990249069124353, 0.25014572118232553, 0.7496206944447902, 0.9990431609383683, 0.9994072181566368, 0.9996589132122389, 0.8054788279520309, 0.12034449626291566, 0.07405815154640964, 0.9991772310367887, 0.9996397271005599, 0.9997490991388572, 0.9991440507701644, 0.9995550018641912, 0.9992887865330409, 0.9997867387718682, 0.9998988993019303, 0.9990465412717159, 0.9992123661551401, 0.9991324486903805, 0.9993458431841645, 0.9997393976316583, 0.9990352503894311, 0.9987795733518895, 0.9994412666311783, 0.9993937255352158, 0.9990599732037079, 0.9997089277547851, 0.2828468497169501, 0.7169220385892613, 0.9989152417606139, 0.9989231988706682, 0.9996479227737384, 0.9995530453392726, 0.7808267264942348, 0.2189453836099412, 0.9989034898315208, 0.9998677500022872, 0.9997566019265995, 0.9992627989993704, 0.9996357512982674, 0.9996192264028596, 0.10095267572192408, 0.898969935050258, 0.9994613633056478, 0.999336448549257, 0.9991253628800941, 0.9999198854961457, 0.999430013756613, 0.9993568605433614, 0.9994344255324417, 0.8574386908307298, 0.06256398171461956, 0.07993532587833173, 0.9992674788198704, 0.9995490004089064, 0.9998042012552996, 0.22519148236911238, 0.7742241708048883, 0.9996491645157772, 0.999349574238734, 0.9991841196761071, 0.8585063303983089, 0.14121400423763034, 0.9997888701640634, 0.7313281962037078, 0.2681132782271257, 0.9995409549959863, 0.9992977645957251, 0.28817982999422354, 0.71114039508406, 0.9995157307275847, 0.9993786737143174, 0.9994702624732766, 0.9993913908617768, 0.9994549284635427, 0.9999251447715816, 0.9992537485618306, 0.8620092210867409, 0.032290247695431665, 0.10552827326550493, 0.19759675909865673, 0.6461959967225902, 0.15612257303115792, 0.9992607949188633, 0.999084729423642, 0.0512021226243763, 0.9481601700370115, 0.9993559564205609, 0.999449405578083, 0.9987144467506314, 0.9995615570239684, 0.9994850218932995, 0.9995730874199258, 0.6790086146729257, 0.08823231036342462, 0.18763226503676206, 0.04498738984418778, 0.9993341840038658, 0.9993804606591373, 0.999768451527614, 0.9997887299175322, 0.99950538321822, 0.9991073613342346, 0.9997657014987181, 0.9991220447470576, 0.9999403067863909, 0.9990853044762119, 0.9324704577878863, 0.06735823985405225, 0.9997816411874719, 0.9993498705396796, 0.9998310438912528, 0.9997201174261297, 0.9996381168505649, 0.9995954779014546, 0.9993716971552702, 0.9994592903752849, 0.9990802936679772, 0.33564080389719314, 0.6640064409846639, 0.9997422411957426, 0.9986015948536159, 0.8273484564699656, 0.1721428087516024, 0.9995535634809152, 0.9992787343541853, 0.9995121022730887, 0.9994654477851217, 0.08736779997346968, 0.9124209918234705, 0.9995738994044018, 0.8669585015304561, 0.1329012877035183, 0.9997681111136342, 0.9989764703644511, 0.999280807741503, 0.999941418520493, 0.9995168608735902, 0.9993323107518755, 0.999359600748736, 0.9995669758017504, 0.999516388221694, 0.9989392842207845, 0.999591023944567, 0.9992014050900329, 0.9993897576288391, 0.9993289817836561, 0.9996251615682763, 0.9998208910443731, 0.9994625418115739, 0.999210962861807, 0.9997073376028043, 0.9997434421176544, 0.3795660248873414, 0.2581819661670241, 0.36206488414592, 0.6588894284972363, 0.3409252242238279, 0.9993541942586419, 0.9995750190834609, 0.9994007341599485, 0.999819056768584, 0.9993491363809662, 0.9994838688018717, 0.9993804606591373, 0.999346826392706, 0.9997423253308603, 0.999445926178209, 0.9993245620376555, 0.9991981409335409, 0.9997801941090153, 0.12211471042120794, 0.8774532821394861, 0.9996730781921812, 0.999372945580292, 0.275604803610336, 0.7239313251295306, 0.20827928064150197, 0.7915735463733633, 0.9992173411262834, 0.9993884321822776, 0.9993303573895679, 0.9991669879242743, 0.7047854716372406, 0.2951558301535796, 0.9996138749333987, 0.9987867312413211, 0.9996051795459784, 0.9998341507729243, 0.9990515281468746, 0.9994436648883085, 0.9992607949188633, 0.9993602746269394, 0.9996041566675788, 0.9981612131454812, 0.999627554093793, 0.9998668184749936, 0.999544036340079, 0.999323581732782, 0.999058100338812, 0.9991292070343099, 0.999586674145879, 0.9997902946402075, 0.07038144163265192, 0.17216317148452248, 0.249048650869029, 0.0486726003946736, 0.4596760985946519, 0.04246156260957564, 0.9572913279347672, 0.9995405574176885, 0.9994693677350781, 0.9994947011853952, 0.9995680368930054, 0.9986140508020004, 0.20911327217732567, 0.7904048292920159, 0.9988805075570971, 0.9990885837904819, 0.9994465779035225, 0.9996324722284312, 0.9994850218932995, 0.9997638053348219, 0.999748464972519, 0.9993764595167504, 0.9996486956555917, 0.2321137370891786, 0.7172597360019999, 0.05054689784591156, 0.24329252336734794, 0.7565697354355119, 0.9996041566675788, 0.9989849929230861, 0.9995949530786322, 0.999506005631419, 0.07714843927300508, 0.12858073212167512, 0.7941390931514887, 0.9992126446652586, 0.19108387644474917, 0.5688939582636717, 0.23945402532814064, 0.9993721078825041, 0.9992065217548789, 0.9997380759341462, 0.9991477108422097, 0.9994188614855345, 0.9995867897212994, 0.9994904527094846, 0.9996523647155049, 0.9995996682015633, 0.9993902184121124, 0.9995405574176885, 0.999843544378487, 0.9998638594552819, 0.9998435785054903, 0.999816645563626, 0.9995659422078985, 0.9991652708011358, 0.037083865376908186, 0.509427226635556, 0.08840732587800905, 0.07241633670110818, 0.061907972384859046, 0.23072712955242672, 0.9983015586869447, 0.999391249793954, 0.9992537485618306, 0.9989741574428642, 0.9998265665245393, 0.9994770222436921, 0.9992768216814253, 0.9995016249298976, 0.9998284471864464, 0.9049334610533745, 0.09455601917244238, 0.9996362021805918, 0.7738743872251318, 0.22580196959254406, 0.9998363285772726, 0.9994965107679921, 0.9990202464963748, 0.9989434828680189, 0.998798331882447, 0.999768451527614, 0.9996367580593833, 0.9991277111786024, 0.9997196489313733, 0.9997319417514993, 0.9997201174261297, 0.9994336075401068, 0.9993942817512007, 0.9998197649344216, 0.9996755546019003, 0.9995796757651454, 0.999554003922808, 0.9996729422619054, 0.9119635453775129, 0.08798598762388271, 0.9993498849709053, 0.999664807316819, 0.9997733451037091, 0.999568443566418, 0.9996847499109811, 0.9997068293612564, 0.9994358005986064, 0.9994351358732421, 0.9999453378614147, 0.9995257273643707, 0.9995087873915884, 0.9982771722047916, 0.9993585641119588, 0.9994458478065688, 0.9994681665980977, 0.9994840947813385, 0.9996390844034373, 0.9991638965821029, 0.9990883406124438, 0.999770733387553, 0.9985119032921999, 0.15335604766040317, 0.8463258955437535, 0.9991533902232554, 0.9994164905768279, 0.9992297694451016, 0.07579095286921932, 0.09226724697122352, 0.8318174765211833, 0.47472330005508145, 0.5248925919973717, 0.10480951179800689, 0.03668332912930241, 0.4410603261410156, 0.22944679317869643, 0.06112584587324059, 0.1268664389077367, 0.9988773323285263, 0.9994719967039128, 0.9996486306810802, 0.04575772109216125, 0.7470827924470174, 0.20634972300215024, 0.9998459101159076, 0.6373724020229896, 0.053752921039082205, 0.23891457883115474, 0.06987879735080688, 0.9991396729953179, 0.9994122865569406, 0.9988603155328025, 0.9997094535834365, 0.04588410770190711, 0.0008698409043015566, 0.12830153338447958, 0.824826637503951, 0.9990416065967265, 0.9996976410663851, 0.999258425377251, 0.2881703043982559, 0.7115285646334295, 0.03232771398004334, 0.0187298967021418, 0.11572765995117279, 0.5182815366126623, 0.11172142131230717, 0.03039770120511538, 0.05851447822167953, 0.11429477167887779, 0.9994936219742461, 0.9998712243596067, 0.9998662069781421, 0.20494398060475447, 0.7948053110637454, 0.9999228152462025, 0.9988852744685258, 0.9996178566825048, 0.10763756566934442, 0.8921637154472507, 0.9991479552335998, 0.0005018322226185835, 0.8283002866597149, 0.17143743613199558, 0.9996584812825191, 0.9993917892299026, 0.10655372804147543, 0.1548993396755387, 0.7385275633219505, 0.9997371554304215, 0.7658313659941484, 0.07914277274392083, 0.15475501287472995, 0.9995526060206725, 0.9991257169594794, 0.9987217464091146, 0.9993527955858936, 0.1904277024538106, 0.7608940243267763, 0.04854039474312819, 0.7937622183967216, 0.20562392309145844, 0.3075197723189926, 0.6919855925699084, 0.9998184421769383, 0.9996635952623296, 0.9997734033995537, 0.9988274304866666, 0.9988564264355546, 0.9985687766779145, 0.999201461945147, 0.9999012969681783, 0.9995749149990079, 0.9994656023413522, 0.9994639364668391, 0.9170683165862238, 0.0824499508169061, 0.9992418314824315, 0.9998558068708968, 0.9997066033919605, 0.998973957969044, 0.9993023415886177, 0.999497040345027, 0.9996970544631448, 0.9993863940779409, 0.9987355263181301, 0.9993674269663891, 0.998415752117674, 0.9998320622170541, 0.9994690187203776, 0.9995481741729639, 0.9992166017055408, 0.999766879077924, 0.9997518354800217, 0.999768451527614, 0.9993472270242567, 0.9996051795459784, 0.9994880500654422, 0.9995487522835845, 0.9996669613616054, 0.9994889341620595, 0.9993939512732739, 0.1399031291544679, 0.859810559434562, 0.9999284400968007, 0.9998574988572937, 0.9997347861818898, 0.9997611666180359, 0.9994926236937874, 0.9990507517459357, 0.99955197227699, 0.9993714651711586, 0.9995405574176885, 0.9994454781279477, 0.9996186784251199, 0.9991664311856723, 0.9995116939042803, 0.9996921178282633, 0.9998151852525234, 0.9997079221325524, 0.9998151075875653, 0.9995573918419592, 0.7083861787569844, 0.29125482963300775, 0.9994897359609944, 0.999682664918588, 0.9997799353391531, 0.9996472750889874, 0.9994069876908068, 0.9992600728970288, 0.9997686055995068, 0.9985284915170739, 0.9994818625707738, 0.9990565378742309, 0.9994513124334807, 0.9993764595167504, 0.99942324408911, 0.9999509678793823, 0.9996279145307304, 0.9994458141656061, 0.33802254738971155, 0.6618671669605196, 0.9998519545884013, 0.9996622893058559, 0.9988019231118845, 0.9994312793598228, 0.9994469967638693, 0.9989623681062043, 0.9998683006944195, 0.9994926236937874, 0.9985611742673098, 0.9998519545884013, 0.9995928028594826, 0.7641670014106762, 0.23530957444319942, 0.9988453470868246, 0.33416438523113856, 0.6656518862014136, 0.9996955619820346, 0.9996051795459784, 0.9994454447804466, 0.9993804606591373, 0.9986386031945494, 0.9993161766112018, 0.9998547899636331, 0.9998898582767516, 0.9998348837086729, 0.9998678230633639, 0.23023167307503917, 0.7690311071593632, 0.9994048831973856, 0.9997530684040679, 0.999187267201349, 0.999439339827194, 0.9997236889103656, 0.9990072968191842, 0.9996955920400443, 0.9996748012304315, 0.9988155353791773, 0.721878749596164, 0.11237549104165638, 0.16535250824700867, 0.999789736997585, 0.9986652647678247, 0.9992974875449644, 0.9996708307358918, 0.9993639702722202, 0.999400575920434, 0.9999375070245786, 0.9996367238525684, 0.9993804606591373, 0.3268665410764574, 0.6728128495275775, 0.9993956943918747, 0.9994850218932995, 0.9998236805247339, 0.9994137218173986, 0.9997695073050705, 0.9992564380387315, 0.9997229941326482, 0.999325859438832, 0.999415152255925, 0.9994692697379541, 0.9994762631748693, 0.13554230710024842, 0.8640822077640837, 0.7445964961276185, 0.2550587344733126, 0.9993264245364484, 0.9996663243113796, 0.9995956587126016, 0.9996123158901162, 0.9990547899687979, 0.9995405574176885, 0.999403683229095, 0.999421241412493, 0.998722330276342, 0.9998470145986457, 0.999574583378393], \"Term\": [\"absolutely tyrannical\", \"account since\", \"act beginnin\", \"act nothing\", \"act publix\", \"actively deleting\", \"address inflation\", \"adjusted inflation\", \"advanced manufacturing\", \"afford jo\", \"aim corporate\", \"allowed complain\", \"also lower\", \"america getting\", \"america le\", \"american people\", \"americans see\", \"amp gas\", \"amp trace\", \"announced billion\", \"announcements last\", \"annual inflation\", \"annual inflation\", \"another reason\", \"another tax\", \"around workers\", \"around world\", \"asking badly\", \"attacking pronouns\", \"auto maker\", \"bad news\", \"badly needed\", \"bank england\", \"bank england\", \"bank tax\", \"become natives\", \"belvidere illinois\", \"biden credit\", \"biden helped\", \"biden inflation\", \"biden inflation\", \"biden inflation\", \"biden laptop\", \"biden take\", \"biden took\", \"bidens inflati\", \"big day\", \"billion cost\", \"billion profits\", \"billion stock\", \"blame inflation\", \"blame nhs\", \"booming unemployment\", \"bottom line\", \"brag trump\", \"breaking inflation\", \"breaking nurses\", \"breaking us\", \"bring inflation\", \"burden fighting\", \"busting pay\", \"busy pronouns\", \"buy discounted\", \"buybacks folks\", \"campaign welcome\", \"canadian liberal\", \"card nft\", \"cash transaction\", \"caused inflation\", \"caused inflation\", \"central bank\", \"central bank\", \"central banks\", \"change narrative\", \"charge one\", \"cherokee plant\", \"christmas dinner\", \"christmas presents\", \"christmas travel\", \"climate change\", \"climate crisis\", \"clowns running\", \"collapsing productivity\", \"collusion false\", \"combat inflation\", \"combating climate\", \"coming america\", \"common price\", \"complain inflation\", \"conflicted climate\", \"consumer inflation\", \"consumer inflation\", \"consumer price\", \"consumer prices\", \"control inflation\", \"core inflation\", \"core inflation\", \"core november\", \"corporate gree\", \"corporate greed\", \"corporate profits\", \"corporations america\", \"corrupt joe\", \"cost living\", \"cost meeting\", \"cost rishi\", \"costs christmas\", \"country fyi\", \"couple weeks\", \"cpi inflation\", \"cpi inflation\", \"cpi report\", \"created inflation\", \"creation early\", \"credit plummeting\", \"crisis inflation\", \"current rate\", \"cut inflation\", \"cutting rates\", \"d get\", \"dark brandon\", \"dark brandon\", \"data conflicted\", \"day white\", \"deal like\", \"deal pay\", \"dealing inflation\", \"declining straight\", \"deleted weather\", \"deleting years\", \"demand inflation\", \"democrats stand\", \"digital trump\", \"digits many\", \"dinner christmas\", \"discounted russian\", \"donald trump\", \"donald trump\", \"double digits\", \"dr fauci\", \"driving costs\", \"driving inflation\", \"driving street\", \"dropped significantly\", \"dropping inflation\", \"due inflation\", \"early signs\", \"easing signed\", \"easing unemployment\", \"economic progress\", \"economies around\", \"energy prices\", \"enough explaining\", \"equality inflation\", \"eu trying\", \"ever combating\", \"exclusively fed\", \"expected core\", \"expected inflation\", \"explaining paying\", \"exxonmobil raked\", \"fair share\", \"falls lower\", \"false told\", \"families afford\", \"far enough\", \"faster wages\", \"fathom new\", \"fathom website\", \"fauci still\", \"fed chair\", \"fed chair\", \"fed inflation\", \"fed raise\", \"federal reserve\", \"federal reserve\", \"fell november\", \"fell november\", \"fight inflation\", \"fight unemployment\", \"fighting inflation\", \"five months\", \"folks corporate\", \"food energy\", \"food infla\", \"food inflation\", \"food inflation\", \"food inflation\", \"food price\", \"food price\", \"food prices\", \"free thanks\", \"fucking clowns\", \"fuelled inflation\", \"fyi inflation\", \"gas months\", \"gas prices\", \"gas prices\", \"gas prices\", \"gas prices\", \"gas prices\", \"gas prices\", \"gas prices\", \"gas prices\", \"gdp jobs\", \"get blame\", \"get inflation\", \"get recommended\", \"getting another\", \"girl saying\", \"give president\", \"giving nhs\", \"global inflation\", \"global inflation\", \"global inflation\", \"go far\", \"going new\", \"good news\", \"good news\", \"government actively\", \"government deleted\", \"govt buy\", \"govt reached\", \"great news\", \"health care\", \"high corporate\", \"high cost\", \"high gas\", \"high inflation\", \"high inflation\", \"high inflation\", \"high interest\", \"higher inflation\", \"highest inflation\", \"historic job\", \"hit record\", \"house marriage\", \"housing market\", \"hunter biden\", \"illegal immigration\", \"illinois auto\", \"incompetent corrupt\", \"increase inflation\", \"increased faster\", \"increases slowing\", \"india wholesale\", \"inflation advanced\", \"inflation amp\", \"inflation border\", \"inflation busting\", \"inflation came\", \"inflation caused\", \"inflation collapsing\", \"inflation coming\", \"inflation control\", \"inflation cost\", \"inflation crime\", \"inflation data\", \"inflation data\", \"inflation declined\", \"inflation declining\", \"inflation driving\", \"inflation dropped\", \"inflation dropped\", \"inflation dropped\", \"inflation eased\", \"inflation eases\", \"inflation easing\", \"inflation ever\", \"inflation expectations\", \"inflation fallen\", \"inflation falls\", \"inflation false\", \"inflation fathom\", \"inflation fed\", \"inflation fell\", \"inflation food\", \"inflation gas\", \"inflation get\", \"inflation getting\", \"inflation global\", \"inflation going\", \"inflation good\", \"inflation high\", \"inflation higher\", \"inflation higher\", \"inflation hit\", \"inflation increased\", \"inflation inflation\", \"inflation last\", \"inflation lower\", \"inflation lower\", \"inflation much\", \"inflation must\", \"inflation n\", \"inflation nothing\", \"inflation november\", \"inflation numbers\", \"inflation pay\", \"inflation pay\", \"inflation peaked\", \"inflation people\", \"inflation please\", \"inflation rate\", \"inflation rates\", \"inflation recession\", \"inflation record\", \"inflation reduction\", \"inflation reduction\", \"inflation reduction\", \"inflation related\", \"inflation report\", \"inflation reporting\", \"inflation right\", \"inflation right\", \"inflation rising\", \"inflation significantly\", \"inflation skyrocketing\", \"inflation slowed\", \"inflation slowed\", \"inflation still\", \"inflation target\", \"inflation target\", \"inflation tax\", \"inflation time\", \"inflation transitory\", \"inflation transitory\", \"inflation unemployment\", \"inflation universe\", \"inflation utter\", \"inflation year\", \"inflation years\", \"inflations easing\", \"instead purchased\", \"interest rate\", \"interest rate\", \"interest rate\", \"interest rates\", \"interest rates\", \"interest rates\", \"intl market\", \"investment ever\", \"janet yellen\", \"janet yellen\", \"january seniors\", \"jeep cherokee\", \"jeremy hunt\", \"job creation\", \"jobs jeep\", \"jobs manufacturing\", \"joe biden\", \"joe biden\", \"joe biden\", \"joe biden\", \"joe bidens\", \"join inflation\", \"judging girl\", \"keeping inflation\", \"kept inflation\", \"key interest\", \"lap inflation\", \"largest investment\", \"last couple\", \"last five\", \"last month\", \"last month\", \"last quarter\", \"last year\", \"latest inflation\", \"learned last\", \"let us\", \"liberal government\", \"like inflation\", \"like presidents\", \"like still\", \"line inflation\", \"line inflation\", \"line p\", \"long term\", \"losing jobs\", \"losing jobs\", \"low gas\", \"low inflation\", \"lower expec\", \"lower expectations\", \"lower expected\", \"lower expected\", \"lower gas\", \"lower inflation\", \"lower inflation\", \"lower october\", \"lower wage\", \"lowering inflation\", \"major announcements\", \"major economies\", \"maker finance\", \"making largest\", \"man incompetent\", \"manufacturing booming\", \"manufacturing gas\", \"many major\", \"market peak\", \"marriage equality\", \"medicare part\", \"meeting nurses\", \"mention corporate\", \"mick lynch\", \"middle class\", \"money pay\", \"month inflation\", \"month low\", \"month low\", \"month low\", \"months gas\", \"months gas\", \"months instead\", \"morning received\", \"much lower\", \"must take\", \"myth tories\", \"narrative statscan\", \"natives share\", \"near ye\", \"near year\", \"needed pay\", \"new rule\", \"new way\", \"new year\", \"news inflation\", \"news inflation\", \"next year\", \"nft allowed\", \"nhs staff\", \"nhs staff\", \"nhs workers\", \"nhs workers\", \"nothing brag\", \"november also\", \"november cpi\", \"november inflation\", \"november lower\", \"november lower\", \"nurses demand\", \"nurses pay\", \"nurses scotland\", \"october bottom\", \"october november\", \"oil amp\", \"oil intl\", \"one get\", \"one trading\", \"one year\", \"optimistic going\", \"outlaw cash\", \"part d\", \"pause thought\", \"pay cut\", \"pay digital\", \"pay fuelled\", \"pay nhs\", \"pay rise\", \"pay rise\", \"pay rise\", \"pay rise\", \"pay rise\", \"pay rises\", \"pay rises\", \"pay squeezed\", \"paying public\", \"pdm govt\", \"peak pric\", \"people pay\", \"people said\", \"people said\", \"percentage point\", \"performative investigations\", \"plan combat\", \"plans dealing\", \"plant belvidere\", \"plenty money\", \"plummeting gas\", \"plummeting weird\", \"presents christmas\", \"president biden\", \"president biden\", \"president biden\", \"president bidens\", \"president bidens\", \"presidents charge\", \"price gas\", \"price gouging\", \"price growth\", \"price increases\", \"price increases\", \"price increases\", \"price index\", \"price inflation\", \"price inflation\", \"price inflation\", \"price unemployment\", \"prices common\", \"prices dropping\", \"prices fall\", \"prices falling\", \"prices gdp\", \"prices inflation\", \"prices plummeting\", \"prices still\", \"printing money\", \"profit pushed\", \"profits hit\", \"profits last\", \"profits rea\", \"profits working\", \"pronouns dr\", \"pronouns republican\", \"public sector\", \"public sector\", \"public sector\", \"public sector\", \"public sector\", \"public sector\", \"publix morning\", \"pump gas\", \"purchased oil\", \"puts burden\", \"quarter announced\", \"raise interest\", \"raised interest\", \"raising interest\", \"raked billion\", \"rate cuts\", \"rate cuts\", \"rate hike\", \"rate hikes\", \"rate hikes\", \"rate infla\", \"rate inflation\", \"rates inflation\", \"rates puts\", \"rates see\", \"reach savings\", \"reached deal\", \"real terms\", \"reason optimistic\", \"reasonable wages\", \"received another\", \"recommended vaccines\", \"record corporate\", \"record high\", \"record inflation\", \"record job\", \"record profits\", \"reduce inflation\", \"reduction act\", \"reduction act\", \"relying exclusively\", \"reminder republicans\", \"reporting mention\", \"republican plan\", \"republicans busy\", \"republicans give\", \"republicans talk\", \"resistance inflation\", \"respect marriag\", \"retail inflation\", \"rise billion\", \"rise inflation\", \"rise line\", \"rise pay\", \"rise th\", \"rishi sunaks\", \"rising double\", \"rising inflation\", \"rose november\", \"rt absolutely\", \"rt always\", \"rt americans\", \"rt americans\", \"rt annual\", \"rt attacking\", \"rt bank\", \"rt biden\", \"rt biden\", \"rt biden\", \"rt big\", \"rt big\", \"rt breaking\", \"rt breaking\", \"rt breaking\", \"rt breaking\", \"rt breaking\", \"rt breaking\", \"rt consumer\", \"rt corporate\", \"rt cost\", \"rt democrats\", \"rt democrats\", \"rt democrats\", \"rt exxonmobil\", \"rt fed\", \"rt fed\", \"rt fed\", \"rt fed\", \"rt federal\", \"rt fight\", \"rt fucking\", \"rt good\", \"rt government\", \"rt government\", \"rt government\", \"rt government\", \"rt great\", \"rt historic\", \"rt hunter\", \"rt india\", \"rt india\", \"rt inflation\", \"rt inflation\", \"rt inflation\", \"rt inflation\", \"rt inflation\", \"rt inflation\", \"rt inflation\", \"rt inflation\", \"rt joe\", \"rt judging\", \"rt latest\", \"rt like\", \"rt like\", \"rt major\", \"rt making\", \"rt man\", \"rt morning\", \"rt morning\", \"rt new\", \"rt new\", \"rt one\", \"rt one\", \"rt pay\", \"rt pdm\", \"rt people\", \"rt people\", \"rt people\", \"rt plenty\", \"rt powell\", \"rt powell\", \"rt powell\", \"rt president\", \"rt price\", \"rt private\", \"rt relying\", \"rt reminder\", \"rt reminder\", \"rt reminder\", \"rt republican\", \"rt republican\", \"rt republicans\", \"rt republicans\", \"rt say\", \"rt starting\", \"rt still\", \"rt stop\", \"rt story\", \"rt think\", \"rt today\", \"rt told\", \"rt tories\", \"rt trudeau\", \"rt tweet\", \"rt uk\", \"rt uk\", \"rt unemployment\", \"rt us\", \"rt watch\", \"rt week\", \"rt well\", \"rt workers\", \"rt world\", \"rt wrote\", \"rule law\", \"rule pay\", \"running country\", \"russian collusion\", \"russian oil\", \"said go\", \"said inflation\", \"savings account\", \"say control\", \"saying reach\", \"says inflation\", \"scotland strike\", \"scottish govt\", \"sector wo\", \"sector workers\", \"see economic\", \"see inflation\", \"seniors medicare\", \"seniors medicare\", \"signed respect\", \"significantly november\", \"signs inflation\", \"since pandemic\", \"sinks canadian\", \"sky high\", \"slow inflation\", \"small businesses\", \"squeezed years\", \"staff asking\", \"starting january\", \"states fight\", \"statscan dele\", \"still high\", \"still waiting\", \"still zero\", \"stock buybacks\", \"stock market\", \"straight months\", \"straight months\", \"strike unions\", \"sunaks bank\", \"take aim\", \"take victory\", \"talk things\", \"tax americans\", \"tax cut\", \"tax dodgers\", \"tax g\", \"tell us\", \"thanks president\", \"things anymore\", \"thread yesterday\", \"told us\", \"took office\", \"tories way\", \"trading card\", \"trading card\", \"transaction current\", \"travel families\", \"treasury secretary\", \"trudeau government\", \"trump trading\", \"trump white\", \"trying outlaw\", \"tweet sinks\", \"two years\", \"tyrannical eu\", \"uk inflation\", \"unemployment inflation\", \"unemployment inflation\", \"unemployment kms\", \"unemployment near\", \"unemployment near\", \"unemployment wages\", \"unions scottish\", \"united states\", \"universe campaign\", \"us cpi\", \"us fell\", \"us inflation\", \"us russian\", \"us twitter\", \"us zero\", \"using inflation\", \"using inflation\", \"vaccines free\", \"victory lap\", \"wage workers\", \"wages created\", \"wages keeping\", \"wages straight\", \"wages th\", \"waiting republicans\", \"walked states\", \"wall street\", \"wall street\", \"wall street\", \"watch wealthiest\", \"way fathom\", \"way one\", \"wealthiest corporations\", \"weather data\", \"weeks ago\", \"weeks inflations\", \"weird republicans\", \"welcome become\", \"white house\", \"white house\", \"workers inflation\", \"workers losing\", \"workers reasonable\", \"workers wages\", \"working people\", \"world coming\", \"world inflation\", \"worst inflation\", \"worth food\", \"wrote thread\", \"y y\", \"year ago\", \"year ago\", \"year high\", \"year high\", \"year inflation\", \"year learned\", \"year low\", \"year year\", \"years ago\", \"years profit\", \"years worth\", \"yesterday people\", \"zero accountability\", \"zero inflation\", \"zero plans\"]}, \"R\": 30, \"lambda.step\": 0.01, \"plot.opts\": {\"xlab\": \"PC1\", \"ylab\": \"PC2\"}, \"topic.order\": [20, 4, 6, 8, 9, 17, 14, 2, 13, 18, 5, 19, 15, 1, 10, 16, 11, 7, 12, 3]};\n\nfunction LDAvis_load_lib(url, callback){\n  var s = document.createElement('script');\n  s.src = url;\n  s.async = true;\n  s.onreadystatechange = s.onload = callback;\n  s.onerror = function(){console.warn(\"failed to load library \" + url);};\n  document.getElementsByTagName(\"head\")[0].appendChild(s);\n}\n\nif(typeof(LDAvis) !== \"undefined\"){\n   // already loaded: just create the visualization\n   !function(LDAvis){\n       new LDAvis(\"#\" + \"ldavis_el160381406060140246089296309832\", ldavis_el160381406060140246089296309832_data);\n   }(LDAvis);\n}else if(typeof define === \"function\" && define.amd){\n   // require.js is available: use it to load d3/LDAvis\n   require.config({paths: {d3: \"https://d3js.org/d3.v5\"}});\n   require([\"d3\"], function(d3){\n      window.d3 = d3;\n      LDAvis_load_lib(\"https://cdn.jsdelivr.net/gh/bmabey/pyLDAvis@3.4.0/pyLDAvis/js/ldavis.v3.0.0.js\", function(){\n        new LDAvis(\"#\" + \"ldavis_el160381406060140246089296309832\", ldavis_el160381406060140246089296309832_data);\n      });\n    });\n}else{\n    // require.js not available: dynamically load d3 & LDAvis\n    LDAvis_load_lib(\"https://d3js.org/d3.v5.js\", function(){\n         LDAvis_load_lib(\"https://cdn.jsdelivr.net/gh/bmabey/pyLDAvis@3.4.0/pyLDAvis/js/ldavis.v3.0.0.js\", function(){\n                 new LDAvis(\"#\" + \"ldavis_el160381406060140246089296309832\", ldavis_el160381406060140246089296309832_data);\n            })\n         });\n}\n</script>",
       "datasetInfos": [],
       "metadata": {},
       "removedWidgets": [],
       "textData": null,
       "type": "htmlSandbox"
      }
     },
     "output_type": "display_data"
    }
   ],
   "source": [
    "# using pyLDAvis\n",
    "# It's not visible on this GitHub page, but I've included an image to provide a clearer depiction of its appearance.\n",
    "vis = pyLDAvis.gensim.prepare(lda_model, corpus, dictionary)\n",
    "html = pyLDAvis.prepared_data_to_html(vis)\n",
    "displayHTML(html)"
   ]
  },
  {
   "cell_type": "markdown",
   "metadata": {
    "application/vnd.databricks.v1+cell": {
     "cellMetadata": {},
     "inputWidgets": {},
     "nuid": "216e6f26-650b-4eec-9038-31f3a2b7aa17",
     "showTitle": false,
     "title": ""
    }
   },
   "source": [
    "##### Test data "
   ]
  },
  {
   "cell_type": "code",
   "execution_count": 0,
   "metadata": {
    "application/vnd.databricks.v1+cell": {
     "cellMetadata": {
      "byteLimit": 2048000,
      "rowLimit": 10000
     },
     "inputWidgets": {},
     "nuid": "5ac6fc54-2eec-4161-9d6e-47d1667e76b4",
     "showTitle": false,
     "title": ""
    }
   },
   "outputs": [
    {
     "name": "stdout",
     "output_type": "stream",
     "text": [
      "Test_Coherence_Score:  0.30149497846479506\n",
      "Test_LDA_Perplexity:  -9.39952669029089\n"
     ]
    }
   ],
   "source": [
    "# Evaluating the LDA model on the transformed testing data\n",
    "test_texts = test_transformed.select(\"filtered_tokens\").rdd.flatMap(lambda x: x).collect()\n",
    "test_texts = [test_texts.split() if isinstance(text, str) else text for text in test_texts]\n",
    "\n",
    "# Creating Gensim dictionary\n",
    "test_dictionary = gensim.corpora.Dictionary(test_texts)\n",
    "\n",
    "corpus = []\n",
    "for text in test_texts:\n",
    "    bow = test_dictionary.doc2bow(text)\n",
    "    corpus.append(bow)\n",
    "\n",
    "# Train an LDA model using Gensim\n",
    "lda_model_test = LdaModel(corpus=corpus, id2word=test_dictionary, num_topics=20, iterations=10)\n",
    "\n",
    "coherence_model_test= CoherenceModel(model=lda_model_test, texts=test_texts, dictionary=test_dictionary, coherence='c_v')\n",
    "coherence_score_test = coherence_model_test.get_coherence()\n",
    "\n",
    "print(\"Test_Coherence_Score: \", coherence_score_test)\n",
    "\n",
    "# Perplexity for checking differnec between 2 model \n",
    "print('Test_LDA_Perplexity: ', lda_model_test.log_perplexity(corpus)) # a measure of how good the model is. lower the better."
   ]
  },
  {
   "cell_type": "code",
   "execution_count": 0,
   "metadata": {
    "application/vnd.databricks.v1+cell": {
     "cellMetadata": {},
     "inputWidgets": {},
     "nuid": "a820183f-9b42-41b2-bb93-53ae0624166e",
     "showTitle": false,
     "title": ""
    }
   },
   "outputs": [],
   "source": []
  },
  {
   "cell_type": "markdown",
   "metadata": {
    "application/vnd.databricks.v1+cell": {
     "cellMetadata": {},
     "inputWidgets": {},
     "nuid": "da56234e-97a1-405e-b249-876c2d113fa8",
     "showTitle": false,
     "title": ""
    }
   },
   "source": [
    "#### Gensim preprocessing and model (just to compare result from spark LDA and Gensim LDA model)"
   ]
  },
  {
   "cell_type": "code",
   "execution_count": 0,
   "metadata": {
    "application/vnd.databricks.v1+cell": {
     "cellMetadata": {
      "byteLimit": 2048000,
      "rowLimit": 10000
     },
     "inputWidgets": {},
     "nuid": "11c80347-55e3-4c67-9932-db82f8b367ee",
     "showTitle": false,
     "title": ""
    }
   },
   "outputs": [
    {
     "name": "stdout",
     "output_type": "stream",
     "text": [
      "[['lost', 'count', 'amount', 'grade', 'daily_mail', 'utter', 'bullshite', 'one', 'tweet']]\n"
     ]
    }
   ],
   "source": [
    "# Preprocessing functions\n",
    "def sent_to_words(sentences):\n",
    "    for sentence in sentences:\n",
    "        yield gensim.utils.simple_preprocess(str(sentence), deacc=True)\n",
    "\n",
    "def remove_stopwords(texts):\n",
    "    stop_words = set(stopwords.words('english'))\n",
    "    stop_words.update(['from', 'subject', 're', 'edu', 'use', 'rt'])\n",
    "    return [[word for word in simple_preprocess(str(doc)) if word not in stop_words] for doc in texts]\n",
    "\n",
    "def make_bigrams(texts):\n",
    "    bigram = gensim.models.Phrases(texts, min_count=5, threshold=100)\n",
    "    bigram_mod = gensim.models.phrases.Phraser(bigram)\n",
    "    return [bigram_mod[doc] for doc in texts]\n",
    "\n",
    "def make_trigrams(texts):\n",
    "    bigram = gensim.models.Phrases(texts, min_count=5, threshold=100)\n",
    "    bigram_mod = gensim.models.phrases.Phraser(bigram)\n",
    "    trigram = gensim.models.Phrases(bigram_mod[texts], threshold=100)\n",
    "    trigram_mod = gensim.models.phrases.Phraser(trigram)\n",
    "    return [trigram_mod[bigram_mod[doc]] for doc in texts]\n",
    "\n",
    "def lemmatization(texts):\n",
    "    lemmatizer = WordNetLemmatizer()\n",
    "    texts_out = []\n",
    "    for sent in texts:\n",
    "        doc = [lemmatizer.lemmatize(token) for token in sent]\n",
    "        texts_out.append(doc)\n",
    "    return texts_out\n",
    "\n",
    "# Spliting the data into train and test sets\n",
    "train_data, test_data = df_clean.randomSplit([0.8, 0.2], seed=42)\n",
    "\n",
    "# Applying the preprocessing steps only on the train set\n",
    "train_tweets = train_data.select(\"tweet\").rdd.flatMap(list).collect()\n",
    "train_words = list(sent_to_words(train_tweets))\n",
    "train_words_nostops = remove_stopwords(train_words)\n",
    "train_words_bigrams = make_bigrams(train_words_nostops)\n",
    "train_words_trigrams = make_trigrams(train_words_nostops)\n",
    "train_data_lemmatized = lemmatization(train_words_trigrams)\n",
    "\n",
    "# Printting the preprocessed train data\n",
    "print(train_data_lemmatized[:1])"
   ]
  },
  {
   "cell_type": "code",
   "execution_count": 0,
   "metadata": {
    "application/vnd.databricks.v1+cell": {
     "cellMetadata": {
      "byteLimit": 2048000,
      "rowLimit": 10000
     },
     "inputWidgets": {},
     "nuid": "d986155f-02d1-4f43-b2c2-459e0cec5637",
     "showTitle": false,
     "title": ""
    }
   },
   "outputs": [],
   "source": [
    "# Creating Dictionary\n",
    "id2word = corpora.Dictionary(train_data_lemmatized)\n",
    "# Creating Corpus\n",
    "texts = train_data_lemmatized\n",
    "# TDF\n",
    "corpus = [id2word.doc2bow(text) for text in texts]"
   ]
  },
  {
   "cell_type": "code",
   "execution_count": 0,
   "metadata": {
    "application/vnd.databricks.v1+cell": {
     "cellMetadata": {
      "byteLimit": 2048000,
      "rowLimit": 10000
     },
     "inputWidgets": {},
     "nuid": "31bf2b98-d327-405e-804c-ef17715831ca",
     "showTitle": false,
     "title": ""
    }
   },
   "outputs": [
    {
     "name": "stdout",
     "output_type": "stream",
     "text": [
      "Out[28]: 'amount'"
     ]
    }
   ],
   "source": [
    "id2word[0]"
   ]
  },
  {
   "cell_type": "code",
   "execution_count": 0,
   "metadata": {
    "application/vnd.databricks.v1+cell": {
     "cellMetadata": {
      "byteLimit": 2048000,
      "rowLimit": 10000
     },
     "inputWidgets": {},
     "nuid": "e2df1981-c833-43af-9880-9ee7772b77b3",
     "showTitle": false,
     "title": ""
    }
   },
   "outputs": [
    {
     "name": "stdout",
     "output_type": "stream",
     "text": [
      "Out[29]: [[('amount', 1),\n",
      "  ('bullshite', 1),\n",
      "  ('count', 1),\n",
      "  ('daily_mail', 1),\n",
      "  ('grade', 1),\n",
      "  ('lost', 1),\n",
      "  ('one', 1),\n",
      "  ('tweet', 1),\n",
      "  ('utter', 1)]]"
     ]
    }
   ],
   "source": [
    "[[(id2word[id], freq) for id, freq in cp] for cp in corpus[:1]]"
   ]
  },
  {
   "cell_type": "code",
   "execution_count": 0,
   "metadata": {
    "application/vnd.databricks.v1+cell": {
     "cellMetadata": {
      "byteLimit": 2048000,
      "rowLimit": 10000
     },
     "inputWidgets": {},
     "nuid": "de7dc31a-bbe4-455a-9482-63c21448cb25",
     "showTitle": false,
     "title": ""
    }
   },
   "outputs": [],
   "source": [
    "lda_model = LdaModel(corpus=corpus, id2word=id2word, num_topics=10, iterations=10)"
   ]
  },
  {
   "cell_type": "code",
   "execution_count": 0,
   "metadata": {
    "application/vnd.databricks.v1+cell": {
     "cellMetadata": {
      "byteLimit": 2048000,
      "rowLimit": 10000
     },
     "inputWidgets": {},
     "nuid": "61191d6a-b6de-4e50-8333-bffa241a66a5",
     "showTitle": false,
     "title": ""
    }
   },
   "outputs": [
    {
     "name": "stdout",
     "output_type": "stream",
     "text": [
      "[(0, '0.091*\"price\" + 0.079*\"inflation\" + 0.075*\"gas\" + 0.038*\"republican\" + 0.025*\"still\" + 0.024*\"biden\" + 0.024*\"unemployment\" + 0.022*\"plan\" + 0.020*\"billion\" + 0.016*\"corporate\"'), (1, '0.069*\"inflation\" + 0.035*\"increase\" + 0.027*\"country\" + 0.020*\"price\" + 0.017*\"food\" + 0.014*\"increased\" + 0.014*\"economy\" + 0.013*\"month\" + 0.013*\"government\" + 0.013*\"unemployment\"'), (2, '0.099*\"inflation\" + 0.086*\"last\" + 0.065*\"week\" + 0.061*\"major\" + 0.056*\"easing\" + 0.052*\"respect\" + 0.052*\"announcement\" + 0.051*\"signed\" + 0.050*\"couple\" + 0.049*\"marriag\"'), (3, '0.107*\"inflation\" + 0.038*\"high\" + 0.037*\"profit\" + 0.034*\"act\" + 0.031*\"record\" + 0.031*\"reduction\" + 0.022*\"tax\" + 0.022*\"hit\" + 0.020*\"latest\" + 0.016*\"america\"'), (4, '0.065*\"inflation\" + 0.021*\"money\" + 0.014*\"amp\" + 0.013*\"new\" + 0.012*\"way\" + 0.012*\"spending\" + 0.011*\"know\" + 0.010*\"fight\" + 0.010*\"like\" + 0.009*\"mean\"'), (5, '0.139*\"inflation\" + 0.034*\"november\" + 0.021*\"year\" + 0.020*\"price\" + 0.020*\"month\" + 0.018*\"lower\" + 0.016*\"good\" + 0.015*\"world\" + 0.014*\"news\" + 0.013*\"expected\"'), (6, '0.163*\"u\" + 0.080*\"inflation\" + 0.077*\"told\" + 0.049*\"false\" + 0.031*\"zero\" + 0.031*\"twitter\" + 0.027*\"christmas\" + 0.026*\"russian\" + 0.024*\"collusion\" + 0.015*\"let\"'), (7, '0.077*\"inflation\" + 0.066*\"rate\" + 0.036*\"fed\" + 0.023*\"year\" + 0.022*\"interest\" + 0.017*\"market\" + 0.014*\"high\" + 0.012*\"infla\" + 0.012*\"current\" + 0.011*\"pay\"'), (8, '0.070*\"inflation\" + 0.043*\"people\" + 0.023*\"say\" + 0.022*\"control\" + 0.020*\"take\" + 0.020*\"corporate\" + 0.019*\"working\" + 0.016*\"must\" + 0.015*\"profit\" + 0.015*\"since\"'), (9, '0.085*\"inflation\" + 0.057*\"pay\" + 0.047*\"rise\" + 0.030*\"would\" + 0.028*\"cost\" + 0.020*\"breaking\" + 0.019*\"worker\" + 0.018*\"nurse\" + 0.017*\"line\" + 0.015*\"public\"')]\n"
     ]
    }
   ],
   "source": [
    "# Keywords in the 10 topics\n",
    "print(lda_model.print_topics())\n",
    "doc_lda = lda_model[corpus]"
   ]
  },
  {
   "cell_type": "code",
   "execution_count": 0,
   "metadata": {
    "application/vnd.databricks.v1+cell": {
     "cellMetadata": {
      "byteLimit": 2048000,
      "rowLimit": 10000
     },
     "inputWidgets": {},
     "nuid": "aaa395e6-ae4c-446e-99e3-26ae2579b559",
     "showTitle": false,
     "title": ""
    }
   },
   "outputs": [
    {
     "name": "stdout",
     "output_type": "stream",
     "text": [
      "\n",
      "Coherence Score:  0.2640968403781919\n",
      "\n",
      "Perplexity:  -7.671148248353711\n"
     ]
    }
   ],
   "source": [
    "# Coherence Score\n",
    "coherence_model_lda = CoherenceModel(model=lda_model, texts=train_data_lemmatized, dictionary=id2word, coherence='c_v')\n",
    "coherence_lda = coherence_model_lda.get_coherence()\n",
    "print('\\nCoherence Score: ', coherence_lda)\n",
    "\n",
    "# Perplexity\n",
    "print('\\nPerplexity: ', lda_model.log_perplexity(corpus))  # a measure of how good the model is. lower the better."
   ]
  },
  {
   "cell_type": "code",
   "execution_count": 0,
   "metadata": {
    "application/vnd.databricks.v1+cell": {
     "cellMetadata": {
      "byteLimit": 2048000,
      "rowLimit": 10000
     },
     "inputWidgets": {},
     "nuid": "c6158801-de0d-49a2-97cc-336f0c1d5517",
     "showTitle": false,
     "title": ""
    }
   },
   "outputs": [
    {
     "data": {
      "text/html": [
       "\n",
       "<link rel=\"stylesheet\" type=\"text/css\" href=\"https://cdn.jsdelivr.net/gh/bmabey/pyLDAvis@3.4.0/pyLDAvis/js/ldavis.v1.0.0.css\">\n",
       "\n",
       "\n",
       "<div id=\"ldavis_el970140423765618576961661120\" style=\"background-color:white;\"></div>\n",
       "<script type=\"text/javascript\">\n",
       "\n",
       "var ldavis_el970140423765618576961661120_data = {\"mdsDat\": {\"x\": [0.20020791424273654, 0.0879678375312125, 0.19150759258288433, 0.03245972184752565, -0.15113355339455606, -0.03840554314702011, -0.08504353561531872, -0.1523749969234283, 0.14043764882591606, -0.22562308594995212], \"y\": [0.04588043267032452, 0.06941724980074752, -0.048979916634530066, -0.23966769851667413, 0.09201265958829766, -0.2189343750450052, -0.10901688900069265, 0.1245399294547341, 0.22214023473839561, 0.06260837294440269], \"topics\": [1, 2, 3, 4, 5, 6, 7, 8, 9, 10], \"cluster\": [1, 1, 1, 1, 1, 1, 1, 1, 1, 1], \"Freq\": [13.956252919454384, 12.68201312699953, 12.108525220715684, 11.545778498271686, 10.345394964711009, 9.552165950092123, 7.894635855974438, 7.477801582147096, 7.260754700490024, 7.176677181144019]}, \"tinfo\": {\"Term\": [\"u\", \"price\", \"rate\", \"last\", \"gas\", \"told\", \"week\", \"major\", \"pay\", \"rise\", \"easing\", \"respect\", \"people\", \"announcement\", \"fed\", \"signed\", \"couple\", \"marriag\", \"false\", \"high\", \"profit\", \"november\", \"republican\", \"act\", \"reduction\", \"increase\", \"would\", \"cost\", \"corporate\", \"record\", \"fed\", \"interest\", \"infla\", \"current\", \"day\", \"hike\", \"stock\", \"next\", \"trying_outlaw_cash_transaction\", \"absolutely_tyrannical_eu\", \"powell\", \"raising\", \"issue\", \"two\", \"target\", \"key\", \"raised\", \"squeezed\", \"fuelled\", \"years_profit_pushed\", \"economist\", \"likely\", \"bps\", \"ecb\", \"peak\", \"hope\", \"forecast\", \"bitcoin\", \"expect\", \"investor\", \"rate\", \"market\", \"worth\", \"ahead\", \"cpi\", \"cannot\", \"year\", \"inflation\", \"point\", \"high\", \"raise\", \"data\", \"higher\", \"see\", \"pay\", \"time\", \"big\", \"recession\", \"say\", \"news\", \"consumer\", \"global\", \"le\", \"highest\", \"number\", \"due\", \"rose\", \"fell\", \"actually\", \"decline\", \"percent\", \"measure\", \"figure\", \"economies_around\", \"rising_double_digits\", \"jobs_manufacturing_booming\", \"lost\", \"index\", \"join\", \"morning\", \"election\", \"transitory\", \"though\", \"feel\", \"putting\", \"struggling\", \"wholesale\", \"question\", \"drug\", \"show\", \"retail\", \"november\", \"india\", \"good\", \"expected\", \"world\", \"many\", \"core\", \"month\", \"lower\", \"gdp\", \"inflation\", \"report\", \"th\", \"year\", \"coming\", \"cpi\", \"economic\", \"economy\", \"price\", \"today\", \"wage\", \"rate\", \"low\", \"food\", \"fight\", \"debt\", \"mean\", \"already\", \"trudeau\", \"printing\", \"gone\", \"reason\", \"sure\", \"england\", \"care\", \"fathom\", \"face\", \"taking\", \"congress\", \"brought\", \"run\", \"pdm\", \"value\", \"union\", \"government_deleted_weather\", \"conflicted_climate_change_narrative\", \"statscan_dele\", \"monetary\", \"impact\", \"saving\", \"home\", \"call\", \"canada\", \"seems\", \"maybe\", \"money\", \"first\", \"spending\", \"way\", \"start\", \"know\", \"make\", \"oil\", \"also\", \"caused\", \"stop\", \"ever\", \"new\", \"amp\", \"need\", \"keep\", \"bank\", \"inflation\", \"like\", \"could\", \"government\", \"one\", \"going\", \"get\", \"still\", \"high\", \"think\", \"time\", \"real\", \"control\", \"take\", \"working\", \"must\", \"pandemic\", \"aim\", \"really\", \"judging_girl_saying\", \"reach_savings_account\", \"covid\", \"never\", \"free\", \"tell\", \"saying\", \"account\", \"buy\", \"inflati\", \"please\", \"something\", \"anything\", \"trading_card\", \"hard\", \"talk\", \"lol\", \"life\", \"power\", \"trying\", \"love\", \"understand\", \"profits_accounted_roughly\", \"oh\", \"people\", \"say\", \"since\", \"thanks\", \"policy\", \"corporate\", \"like\", \"lie\", \"thing\", \"inflation\", \"ago\", \"going\", \"trump\", \"profit\", \"biden\", \"get\", \"today\", \"president\", \"price\", \"year\", \"rise\", \"nurse\", \"line\", \"demand\", \"govt\", \"significantly\", \"bottom\", \"created\", \"living\", \"fact\", \"yet\", \"take_victory_lap\", \"collapsing_productivity\", \"man_incompetent_corrupt\", \"busting\", \"support\", \"cost_rishi_sunaks\", \"adjusted\", \"history\", \"law\", \"staff\", \"former\", \"private\", \"related\", \"dems\", \"fuck\", \"brexit\", \"post\", \"soaring\", \"professor\", \"dropped\", \"would\", \"pay\", \"much\", \"cost\", \"public\", \"sector\", \"breaking\", \"blame\", \"worker\", \"got\", \"october\", \"dollar\", \"joe\", \"inflation\", \"lower\", \"wage\", \"biden\", \"november\", \"tax\", \"amp\", \"trump\", \"get\", \"act\", \"reduction\", \"hit\", \"latest\", \"rea\", \"crisis\", \"reporting_mention_corporate\", \"help\", \"watch_wealthiest_corporations\", \"beginnin\", \"paying\", \"ukraine\", \"reduce\", \"climate\", \"expensive\", \"grocery\", \"paid\", \"poor\", \"wo\", \"russia\", \"reality\", \"far_enough_explaining\", \"wrote_thread_yesterday\", \"took_office\", \"lying\", \"ghana\", \"worry\", \"shortage\", \"lead\", \"rich\", \"border\", \"america\", \"record\", \"cut\", \"tax\", \"energy\", \"high\", \"another\", \"war\", \"profit\", \"getting\", \"crime\", \"corporation\", \"inflation\", \"bidens\", \"corporate\", \"said\", \"biden\", \"big\", \"people\", \"republican\", \"plan\", \"last_quarter_announced\", \"exxonmobil_raked_billion\", \"stock_buybacks_folks\", \"gree\", \"plummeting\", \"sign\", \"credit\", \"dropping\", \"near\", \"waiting\", \"historic\", \"combat\", \"gop\", \"zero_plans_dealing\", \"dr_fauci_still\", \"republicans_busy_pronouns\", \"job_creation_early\", \"voted\", \"guy\", \"done\", \"house\", \"hunter\", \"cooling\", \"causing\", \"talk_things_anymore\", \"common\", \"investigation\", \"lowering\", \"gas\", \"price\", \"give\", \"billion\", \"unemployment\", \"reminder\", \"still\", \"biden\", \"low\", \"inflation\", \"president\", \"corporate\", \"profit\", \"year\", \"easing\", \"week\", \"major\", \"respect\", \"announcement\", \"signed\", \"couple\", \"marriag\", \"keeping\", \"came\", \"reasonable\", \"plenty\", \"learned\", \"reason_optimistic\", \"morning_received_another\", \"helped_slow\", \"reports_showing\", \"significantly_without_stopping\", \"white_house\", \"someone\", \"nothing_brag\", \"happened\", \"god\", \"fair_share\", \"starting_january_largest\", \"federal_taxesthanks\", \"whose\", \"dark_brandon_protecting_marriage\", \"pace_lowering\", \"rights_lgbtq_appointing_judges\", \"chewing\", \"last\", \"easing\", \"nh\", \"new\", \"decade\", \"inflation\", \"wage\", \"job\", \"money\", \"worker\", \"pay\", \"year\", \"month\", \"president\", \"going\", \"record\", \"biden\", \"increase\", \"country\", \"increased\", \"slowing\", \"falling\", \"yes\", \"eu\", \"housing\", \"went\", \"faster\", \"straight\", \"pakistan\", \"hatred\", \"benefit\", \"state\", \"five\", \"labour\", \"deal\", \"per\", \"inf\", \"financial\", \"huge\", \"tweet\", \"cherokee_plant_belvidere_illinois\", \"losing_jobs_jeep\", \"auto_maker_finance\", \"investment\", \"matching\", \"word\", \"find\", \"bad\", \"food\", \"problem\", \"economy\", \"unemployment\", \"inflation\", \"government\", \"price\", \"month\", \"level\", \"amp\", \"wage\", \"worker\", \"come\", \"uk\", \"market\", \"u\", \"told\", \"false\", \"zero\", \"twitter\", \"christmas\", \"collusion\", \"let\", \"driving\", \"worst\", \"enough\", \"business\", \"present\", \"gave\", \"dinner\", \"travel_families_cannot\", \"afford_jo\", \"talking\", \"best\", \"independent\", \"agree\", \"nhs_staff_asking\", \"badly_needed_pay\", \"fear\", \"interesting\", \"january\", \"article\", \"kid\", \"case\", \"deflation\", \"russian\", \"tory\", \"fall\", \"expectation\", \"inflation\", \"one\", \"democrat\", \"cost\", \"breaking\", \"way\", \"lower\", \"year\", \"th\"], \"Freq\": [67504.0, 72458.0, 60932.0, 38720.0, 36222.0, 31986.0, 28162.0, 26375.0, 50141.0, 27804.0, 27940.0, 22573.0, 33081.0, 22426.0, 29142.0, 22064.0, 21696.0, 21223.0, 20368.0, 37580.0, 37433.0, 30525.0, 17362.0, 18670.0, 17075.0, 14792.0, 23675.0, 23359.0, 29225.0, 25174.0, 29141.162829786917, 17663.929393787563, 9738.396754474188, 9393.206485999859, 8889.358861559762, 8291.35642162425, 7384.475303328547, 6636.639775764177, 6235.770108749928, 6235.230560047684, 6010.170791354533, 4198.082394787206, 3484.235056244777, 3461.3153127297605, 3241.8560370377727, 3131.3891661529087, 2878.2088475083237, 2856.47502227865, 2815.410372302505, 2708.3441225701977, 2613.400822541232, 2375.327116621827, 2372.267984366063, 2342.2903656037042, 2206.2576346561104, 2150.6816777776157, 2108.050759595896, 2064.404761444436, 2029.8349712117956, 2025.4866667436763, 53041.58586075115, 13345.210367242405, 3386.1843762159706, 3318.2999880343373, 7970.1646186006, 6751.889180813851, 18311.985582850524, 62254.28721076703, 4768.722919533207, 11077.552878755465, 5204.4113126114025, 5874.321664662609, 6229.295899791826, 5499.176868758689, 9048.393939163981, 5204.452614182208, 3767.866835309502, 3882.5842010334427, 3626.620344251011, 9985.257998866093, 8479.369163994603, 6568.980581832291, 6359.33239605843, 5820.809379056065, 6449.230554584388, 5624.040684360275, 4405.62902328354, 4355.971896194492, 3221.335781987884, 3211.8302951820074, 2744.0530408296327, 2480.427269265258, 2365.385631031035, 2360.5129601832914, 2359.073830845632, 2212.1981944709883, 2194.3994604364525, 2121.9661838689512, 2071.367890758582, 2007.209778476426, 1967.5644606060296, 1933.334643070388, 1915.2863302993665, 1808.0908129313073, 1776.647986385393, 1717.8364545408358, 1712.7261465229456, 1677.025298608139, 1672.386853054446, 5287.7317163043035, 4765.35574411798, 24584.516141566528, 3573.197787231432, 12085.484731808625, 9619.416854878453, 10788.907671727844, 7836.066067306957, 4844.6262497898015, 14393.969652203154, 13518.639192047065, 3896.7504329364297, 101899.59373724625, 5890.86952520439, 6257.184237594274, 15445.964327154234, 4319.344723919385, 6866.038303707054, 6237.67308294672, 6975.3766498577515, 14900.974440197862, 6124.0303139122125, 6286.887348518395, 7889.8372345936095, 5238.97361856678, 5326.285575011311, 7095.343749832368, 4690.964793576469, 6140.776975552417, 3830.482078979997, 3271.455356956117, 3015.3199212636896, 2985.1494340256822, 2912.685667461095, 2870.998625466617, 2760.402172378031, 2608.96239287269, 2513.536206478701, 2421.6301708696074, 2371.8700086801746, 2240.4718946143253, 2237.1853129681276, 2098.173398770872, 2081.3108145371734, 2034.2303451440164, 1986.5016155193264, 1978.3674155286872, 1978.3441237665993, 1959.4134590907474, 1911.7546047523206, 1899.3633873216463, 1882.7892626030343, 1870.263669621854, 1861.0521849147933, 1836.0799954881845, 1814.918208035565, 2575.9669243644057, 14904.278029143907, 3906.655262256375, 8127.327129149381, 8403.541366797075, 3300.4977410876936, 7420.084337796667, 5286.984697456055, 5283.121196779684, 5651.353531101622, 5016.827946745723, 5298.737427422507, 3577.149147193035, 8809.164634604218, 10052.643077338238, 5714.64783585858, 4850.476878879488, 5493.677097258244, 45134.35569309802, 6736.910569291705, 3986.808242140107, 5854.644030603361, 5545.080550270776, 5620.8892093265085, 4876.466576262475, 5239.095205809123, 5403.713887790287, 4089.224563231699, 4341.519301371478, 3844.3900298971116, 14468.129685947575, 13660.097365700682, 12517.222535109571, 10793.826541808745, 8850.815330625643, 6930.555110948584, 5892.988259800543, 5488.407394000755, 5488.407394000755, 4773.161683274477, 4065.4000311652403, 3686.011934276184, 3651.8397859970833, 3608.613399126293, 3537.993506426793, 3499.164865961751, 3111.9066108100565, 2787.983296637705, 2567.835988093396, 2550.8493120926955, 2544.42570736951, 2447.2918270605305, 2378.4055000264125, 2362.803409037975, 2356.5919572173975, 2279.5950526722977, 2243.5610530048616, 2241.2317197447474, 2168.3849981158214, 2109.4852331538877, 2893.488208643371, 28895.488740292327, 15505.448662986859, 9811.446779826996, 4775.260226480948, 6445.36297577976, 13261.761809212516, 8896.450258648443, 3806.966733870174, 4798.808266812896, 46803.720918096944, 3951.0803679586766, 7242.7919995648235, 5515.1517057351, 10060.153969235585, 9623.455701058236, 6364.139786618429, 5346.467472961229, 5369.0215319046765, 4932.96748791475, 4497.764229869543, 27803.403765765124, 10999.088905696284, 10412.79630020303, 6681.747460561088, 6262.362426768541, 6083.214680729507, 5742.409128062517, 4214.630634811368, 3748.7124538173834, 3655.987664119432, 3608.5168401854044, 3551.1696556529982, 3366.9054621888545, 3366.6090461246786, 3337.5599935105197, 2390.871377595221, 2291.649509592964, 1992.1896838418663, 1976.4043455435044, 1899.3409003818579, 1880.3613658764423, 1814.5557471671996, 1774.9229711123114, 1771.6212023148316, 1686.9679751231022, 1652.0398647403208, 1644.8469740787957, 1545.9922166762083, 1398.92517769174, 1343.0636917044694, 6833.452923881255, 17805.43743333934, 33883.19616299688, 8883.981324864566, 16893.29423101035, 9053.886456200176, 8137.94912824974, 12155.869713125843, 3818.348519553122, 11551.414735159493, 3566.4875472097797, 6374.168896225948, 4155.064365509315, 6376.590879878959, 50577.400109160386, 8490.874062229843, 6695.8869243096815, 7718.275193166476, 5940.353827444432, 5038.20137726535, 4816.754919705975, 3894.737026728265, 3773.801499144133, 18669.0637978512, 17074.229364031456, 11928.70911219124, 11106.71955237514, 7693.466469434071, 7851.703640836313, 7432.098852595832, 4579.678953882901, 3935.6516669364496, 3890.5210788482186, 3829.940840242515, 3415.1832934408567, 3115.2579807994443, 2969.694770444803, 2654.2321755750377, 2471.9898260346436, 2444.1363051679173, 2353.365014780021, 2059.289568562775, 1924.360504871223, 1818.038312077036, 1755.5057623054577, 1755.5057623054577, 1695.7815390339033, 1646.0004311334756, 1462.3798737764978, 1429.8568162453603, 1388.138468207213, 1297.3661498813592, 1279.442124207822, 6956.00630374314, 9072.778805353279, 17181.99118393519, 7787.907755314906, 12306.435194072195, 7680.597200174537, 21098.706177817672, 6600.910789966605, 4991.397402113065, 20310.779398100876, 6645.592683136366, 3966.532722072647, 3763.0061461677333, 59118.603344484865, 4411.045217978009, 8825.806431672556, 4466.967612713568, 5029.355039133519, 3774.296759708962, 4185.492501487713, 17361.577095951, 9897.679766216586, 6642.82955192117, 6642.388202360249, 6642.376308435604, 6637.416966641818, 6411.419654903212, 5742.7219722311265, 5403.6814024058, 5009.317516445061, 4781.6257452276195, 4229.835571802688, 3973.010481734278, 3783.6579270427455, 3338.018482372973, 3147.3909414378386, 3147.2131697427035, 3140.0271153422336, 3095.474172755553, 2927.138395302588, 2918.564787157415, 2739.0519064111736, 2539.2600965373545, 2297.1915439057198, 2057.3441817014686, 1974.5289083160455, 1891.4766060037757, 1868.7067492291947, 1730.5358761986076, 1722.0249235493309, 34033.119657983494, 41370.750234124505, 6601.564005149658, 9251.53126553862, 11042.233833901144, 5104.398399620256, 11216.768682400587, 11135.946915742208, 6738.991083106934, 36142.925180202765, 6235.065460716165, 7137.3020529175965, 7061.638426507779, 5415.55323833323, 3578.5561169896346, 28161.378816746197, 26374.747295048222, 22572.528382164786, 22425.205435580046, 22063.42747979238, 21695.733301762088, 21222.572322920718, 5135.580258432263, 4563.912006536249, 4508.377010954198, 4323.583986241799, 2949.206208998498, 2792.23037287194, 2792.2293669854052, 2244.4157142603453, 2243.077080459936, 2242.8869679048735, 1876.3678665244458, 1674.197749570095, 1336.8806407678615, 1259.881133010012, 1009.5028979925319, 1001.4941299917216, 991.6058630007816, 926.2712190314996, 905.1656071712904, 900.839892717368, 900.1786229094412, 900.1786229094412, 900.0106398581424, 37197.67439754196, 24361.50804538942, 4800.080082477699, 6810.108542317667, 2072.630210683062, 42762.766596882444, 5738.8248980716835, 3471.551418196295, 4494.255168715917, 4360.107323962973, 6157.190409111333, 5585.109341381469, 4489.645391904588, 3584.2239877875177, 3472.7114065481373, 3600.8247368019706, 2910.2502352817496, 14791.193010714564, 11441.102713498536, 6047.623802055284, 5043.805855335282, 4310.236519156487, 4212.505383502103, 3976.793319134006, 3355.2296409515443, 3145.8188664834406, 2497.039911729056, 2488.4608605120197, 2419.229544356384, 2414.9899276161455, 2401.669631581607, 2397.273549074278, 2113.6561986655274, 2093.05565401743, 2020.4623749187303, 1937.9310778843333, 1787.5432537939041, 1657.7823449864754, 1634.597478117895, 1621.6954008191128, 1601.6793075756775, 1601.6793075756775, 1600.1755953721042, 1587.0495630146838, 1532.533647148967, 1504.8328578877763, 1483.5107345335211, 4010.755962156414, 7088.94391701577, 3160.200629407329, 5671.901637452207, 5305.476782025707, 29100.519902623535, 5407.436204814223, 8512.731609649454, 5569.238997732948, 2531.7678891777564, 4523.611679071657, 4379.1740469055, 3686.0381215401717, 2790.6335663286222, 2774.5992436174865, 3031.6424168895087, 67503.45547235121, 31985.260813507546, 20367.64161702027, 12742.445662758177, 12720.292113774527, 11058.50177197263, 9781.997057148768, 6085.406523491993, 4643.461097403345, 4269.186599051225, 3837.538000046472, 3835.37284492792, 3600.2227886539786, 3278.4028125328146, 3108.1691807523403, 2844.043425418157, 2837.118945021176, 2380.2186983140036, 2306.6426187267093, 1910.7227476235098, 1582.6865906909193, 1569.2952201975609, 1569.2949305834466, 1470.1744034241701, 1462.9559647011686, 1439.5737761065952, 1373.0200664869174, 1152.9640220843391, 1075.4664708513033, 1072.2890178652137, 10710.805740118603, 3962.462469024149, 5853.018999716378, 3774.955865314311, 33175.03884411778, 4191.62137465348, 3345.7083603932306, 4742.219896533853, 3312.71590664364, 2571.8173563829096, 3135.3232070335976, 2637.727929592752, 2414.105480448571], \"Total\": [67504.0, 72458.0, 60932.0, 38720.0, 36222.0, 31986.0, 28162.0, 26375.0, 50141.0, 27804.0, 27940.0, 22573.0, 33081.0, 22426.0, 29142.0, 22064.0, 21696.0, 21223.0, 20368.0, 37580.0, 37433.0, 30525.0, 17362.0, 18670.0, 17075.0, 14792.0, 23675.0, 23359.0, 29225.0, 25174.0, 29142.119996037167, 17664.886556827867, 9739.353891389483, 9394.163633250651, 8890.316091181772, 8292.313568322124, 7385.432492890883, 6637.596964578952, 6236.727208422711, 6236.187659708187, 6011.127955265951, 4199.040308768839, 3485.192356585778, 3462.2725354062504, 3242.81619553453, 3132.3463386458416, 2879.166015885721, 2857.432125412403, 2816.3674777977126, 2709.3012222816633, 2614.3580544120623, 2376.2843144259245, 2373.225111203783, 2343.247497508171, 2207.21481869341, 2151.638895562953, 2109.0079208834513, 2065.361947117578, 2030.7921539042102, 2026.4438427027433, 60932.27914386497, 16377.697522026805, 3598.8183769809443, 3719.1689216075706, 14837.058926376307, 11668.085238319476, 53558.65086225727, 506969.21153668, 8065.692745534121, 37580.71953593567, 9767.10036485407, 13030.327586602667, 14752.315459307738, 11711.61671266028, 50141.18809383267, 15694.059366783931, 8633.70386668156, 10783.029414725925, 22783.426887852555, 9986.217309048936, 8480.328433514227, 6569.939920933426, 6360.291728582542, 5821.780272194463, 6450.317838423386, 5625.000026194188, 4406.58829332336, 4356.931153029757, 3222.2951411221566, 3212.789559541703, 2745.0123354790203, 2481.3865489501086, 2366.346737145925, 2361.472187494341, 2360.0330574354466, 2213.1574431738363, 2195.3588102124368, 2122.9254533100384, 2072.3271847035307, 2008.1690923124147, 1968.5238274577255, 1934.2939443311113, 1916.2456830942124, 1809.0501898674686, 1777.6072693503904, 1718.7957975672955, 1713.6853830666887, 1677.9846487047519, 1673.3558724451, 5298.090473888872, 5065.916631537747, 30525.726126673464, 3821.7548374966177, 14664.428980081602, 11973.348734793504, 14206.069520213063, 10107.243954761892, 5865.5930234526395, 29410.44836999378, 27276.60032580786, 4962.224673515714, 506969.21153668, 9246.631364445308, 10731.213584194571, 53558.65086225727, 6514.620355244411, 14837.058926376307, 12909.751505117472, 16163.016320248476, 72458.6812492567, 16539.440733793777, 24599.003588682386, 60932.27914386497, 15996.223534571078, 19010.116484739206, 7096.2974825940355, 4691.918529340801, 6142.200122091085, 3831.4358861854885, 3272.409048051456, 3016.273625718047, 2986.1031942489863, 2913.63942152729, 2871.95236746756, 2761.355906884987, 2609.916142396717, 2514.4898708560377, 2422.5839455488044, 2372.8237769168004, 2241.425624841501, 2238.139064896709, 2099.127167520881, 2082.264502159721, 2035.1842533402853, 1987.45537500661, 1979.321076909195, 1979.297785147107, 1960.3671204712552, 1912.7083437294716, 1900.3171656185018, 1883.743001351794, 1871.218020792319, 1862.005956254529, 1837.033736036541, 1815.8719680126383, 2584.245729825956, 19399.401031621506, 4309.0640858636625, 10406.347224258961, 10976.20299486561, 3675.1465309306423, 9896.903596780368, 6870.9235099919215, 7382.175063259304, 8271.661407523681, 7080.143760233018, 7801.275046078761, 4565.379806850803, 18842.23907935698, 25201.20979050363, 10257.079629325122, 8316.996313085787, 10679.180528474553, 506969.21153668, 19045.659119631477, 6952.718411479519, 17938.886842012078, 15940.335754385284, 17641.632124692933, 16482.786514252944, 22784.936684446322, 37580.71953593567, 10656.113039858377, 15694.059366783931, 10135.612394171776, 14469.085702710163, 13661.053391939768, 12518.178544906967, 10794.78255036147, 8851.77135745789, 6931.511091432215, 5893.944332827141, 5489.363363515653, 5489.363363515653, 4774.1177940091275, 4066.3561142195827, 3686.967972946661, 3652.795847922434, 3609.5694536293095, 3538.9495234826572, 3500.1210630653627, 3112.86266916277, 2788.9393584898794, 2568.792058844708, 2551.805399174279, 2545.381686095037, 2448.2478836358778, 2379.3615720260395, 2363.7594557108673, 2357.5518211115523, 2280.5511465493796, 2244.517126578455, 2242.187778578828, 2169.3410571217996, 2110.441202668786, 2898.620991333303, 33081.83340178945, 22783.426887852555, 15125.423397751887, 5994.689377408725, 10018.251653100213, 29225.61628595128, 19045.659119631477, 5269.5723460291865, 8053.308615997389, 506969.21153668, 5668.629357964595, 17641.632124692933, 10785.9783345058, 37433.317794744085, 39887.09122498969, 16482.786514252944, 16539.440733793777, 18714.897321135446, 72458.6812492567, 53558.65086225727, 27804.361088042642, 11000.046208261974, 10413.753600654203, 6682.70479063205, 6263.319783358715, 6084.171961076567, 5743.366405444878, 4215.588136739996, 3749.669807992175, 3656.9450511128625, 3609.4742356667093, 3552.126917808978, 3367.8627191846194, 3367.5663025351846, 3338.51725833071, 2391.830054665539, 2292.60676600347, 1993.147022040902, 1977.3617599028134, 1900.2982494092805, 1881.3186757203873, 1815.5130772600023, 1775.8803026761457, 1772.5785370685658, 1687.9253633476237, 1652.9972076968738, 1645.8043354046495, 1546.949639998024, 1399.8825472517083, 1344.020970645922, 7467.711108712683, 23675.227089649925, 50141.18809383267, 11132.898584792738, 23359.991895728406, 11447.1793660568, 10158.079861438984, 18158.78944881165, 4591.013958210652, 19598.295212646215, 4286.689971590755, 9810.726610902268, 5894.191211794915, 12059.794888829261, 506969.21153668, 27276.60032580786, 24599.003588682386, 39887.09122498969, 30525.726126673464, 18132.297150385242, 25201.20979050363, 10785.9783345058, 16482.786514252944, 18670.020285423132, 17075.185859722664, 11929.665625624479, 11107.676070269632, 7694.422933072269, 7852.680041083004, 7433.055311032524, 4580.635533702362, 3936.6081254300348, 3891.477537358713, 3830.897365126368, 3416.14113197204, 3116.21453007545, 2970.651272105451, 2655.188690552117, 2472.946387648948, 2445.0928687198684, 2354.3220742653803, 2060.2460508647596, 1925.317055468393, 1818.9948862427925, 1756.4622207506438, 1756.4622207506438, 1696.7381434813794, 1646.9569910728126, 1463.3364255928605, 1430.8133505131789, 1389.0950643749488, 1298.3227634986426, 1280.398683180172, 7076.962852593947, 11234.970524679753, 25174.98109793023, 10264.578246532856, 18132.297150385242, 10641.116268741844, 37580.71953593567, 9075.296368842555, 6412.017480414259, 37433.317794744085, 9501.285482288418, 4967.026712587219, 4807.474700599231, 506969.21153668, 7075.017925526625, 29225.61628595128, 9201.366516024225, 39887.09122498969, 8633.70386668156, 33081.83340178945, 17362.53150834508, 9898.634115863411, 6643.783832783714, 6643.342483222794, 6643.330589298149, 6638.3712476606215, 6412.3739454186325, 5743.6763076077195, 5404.635730241874, 5010.271825081629, 4782.580063003229, 4230.789868191253, 3973.964782971293, 3784.6122797859944, 3338.972898012737, 3148.3452223193417, 3148.1674506242066, 3140.9813962047783, 3096.428453629556, 2928.0927396444667, 2919.519179861542, 2740.006297601508, 2540.2144762774255, 2298.150558226691, 2058.2985466259956, 1975.4833224043593, 1892.4308868663206, 1869.6610622442658, 1731.4901805556647, 1722.9792599372847, 36222.822681085505, 72458.6812492567, 8531.416693837391, 12973.341203807397, 16348.552528464064, 6814.580483330904, 22784.936684446322, 39887.09122498969, 15996.223534571078, 506969.21153668, 18714.897321135446, 29225.61628595128, 37433.317794744085, 53558.65086225727, 27940.908630965532, 28162.329388803955, 26375.69785803521, 22573.478929751927, 22426.155975731082, 22064.378020996366, 21696.68384089773, 21223.52286019871, 5136.530819531492, 4564.86260269768, 4509.327559518378, 4324.534530008071, 2950.1567536796038, 2793.1809100579776, 2793.179904171443, 2245.36625149466, 2244.0276176554535, 2243.837505100391, 1877.3184512005296, 1675.1484555563027, 1337.8311847172117, 1260.8317911947145, 1010.4535474005439, 1002.4446749820838, 992.5564025501214, 927.2217562175376, 906.1161866942886, 901.790429903406, 901.1291600954792, 901.1291600954792, 900.9611770441804, 38720.109312032684, 27940.908630965532, 7245.15353848228, 18842.23907935698, 3325.0511380603075, 506969.21153668, 24599.003588682386, 10724.401268673058, 19399.401031621506, 19598.295212646215, 50141.18809383267, 53558.65086225727, 29410.44836999378, 18714.897321135446, 17641.632124692933, 25174.98109793023, 39887.09122498969, 14792.141020097793, 11442.05072684422, 6048.571815880654, 5044.7538546001815, 4311.184503304006, 4213.453409132448, 3977.7413080967995, 3356.1776446834097, 3146.7668559573153, 2497.9878861667084, 2489.4088406410838, 2420.177529539019, 2415.9378735219543, 2402.6176305718327, 2398.221558347798, 2114.604175633021, 2094.0036465871017, 2021.4103941311434, 1938.8791093698337, 1788.4912779066608, 1658.7311314960768, 1635.5455125054696, 1622.643400659018, 1602.6272389609067, 1602.6272389609067, 1601.1235267469212, 1587.9975813059682, 1533.4817152302126, 1505.7808695173524, 1484.4587697456313, 6005.571135024258, 19010.116484739206, 5114.135690293084, 16163.016320248476, 16348.552528464064, 506969.21153668, 17938.886842012078, 72458.6812492567, 29410.44836999378, 5136.959929452298, 25201.20979050363, 24599.003588682386, 19598.295212646215, 7143.168973231037, 9486.848472040201, 16377.697522026805, 67504.40641665245, 31986.211712460437, 20368.59250734994, 12743.396569694476, 12721.243023964042, 11059.452675734576, 9782.947943534007, 6086.357484514027, 4644.412023247078, 4270.13756352577, 3838.48895033717, 3836.323835943614, 3601.173690500719, 3279.353749085628, 3109.1200706314817, 2844.994309629256, 2838.069829232275, 2381.16968538418, 2307.5936222661503, 1911.6737474675892, 1583.6375908576456, 1570.246117353216, 1570.2458277391017, 1471.1254040645363, 1463.9069292851677, 1440.524757291494, 1373.971068287668, 1153.9150008031322, 1076.4174489337552, 1073.2400092112257, 12570.808806827734, 4710.411380653191, 10228.910455536536, 5878.902790560231, 506969.21153668, 15940.335754385284, 9770.896476992646, 23359.991895728406, 18158.78944881165, 10976.20299486561, 27276.60032580786, 53558.65086225727, 10731.213584194571], \"Category\": [\"Default\", \"Default\", \"Default\", \"Default\", \"Default\", \"Default\", \"Default\", \"Default\", \"Default\", \"Default\", \"Default\", \"Default\", \"Default\", \"Default\", \"Default\", \"Default\", \"Default\", \"Default\", \"Default\", \"Default\", \"Default\", \"Default\", \"Default\", \"Default\", \"Default\", \"Default\", \"Default\", \"Default\", \"Default\", \"Default\", \"Topic1\", \"Topic1\", \"Topic1\", \"Topic1\", \"Topic1\", \"Topic1\", \"Topic1\", \"Topic1\", \"Topic1\", \"Topic1\", \"Topic1\", \"Topic1\", \"Topic1\", \"Topic1\", \"Topic1\", \"Topic1\", \"Topic1\", \"Topic1\", \"Topic1\", \"Topic1\", \"Topic1\", \"Topic1\", \"Topic1\", \"Topic1\", \"Topic1\", \"Topic1\", \"Topic1\", \"Topic1\", \"Topic1\", \"Topic1\", \"Topic1\", \"Topic1\", \"Topic1\", \"Topic1\", \"Topic1\", \"Topic1\", \"Topic1\", \"Topic1\", \"Topic1\", \"Topic1\", \"Topic1\", \"Topic1\", \"Topic1\", \"Topic1\", \"Topic1\", \"Topic1\", \"Topic1\", \"Topic1\", \"Topic1\", \"Topic2\", \"Topic2\", \"Topic2\", \"Topic2\", \"Topic2\", \"Topic2\", \"Topic2\", \"Topic2\", \"Topic2\", \"Topic2\", \"Topic2\", \"Topic2\", \"Topic2\", \"Topic2\", \"Topic2\", \"Topic2\", \"Topic2\", \"Topic2\", \"Topic2\", \"Topic2\", \"Topic2\", \"Topic2\", \"Topic2\", \"Topic2\", \"Topic2\", \"Topic2\", \"Topic2\", \"Topic2\", \"Topic2\", \"Topic2\", \"Topic2\", \"Topic2\", \"Topic2\", \"Topic2\", \"Topic2\", \"Topic2\", \"Topic2\", \"Topic2\", \"Topic2\", \"Topic2\", \"Topic2\", \"Topic2\", \"Topic2\", \"Topic2\", \"Topic2\", \"Topic2\", \"Topic2\", \"Topic2\", \"Topic2\", \"Topic2\", \"Topic2\", \"Topic2\", \"Topic2\", \"Topic2\", \"Topic2\", \"Topic2\", \"Topic3\", \"Topic3\", \"Topic3\", \"Topic3\", \"Topic3\", \"Topic3\", \"Topic3\", \"Topic3\", \"Topic3\", \"Topic3\", \"Topic3\", \"Topic3\", \"Topic3\", \"Topic3\", \"Topic3\", \"Topic3\", \"Topic3\", \"Topic3\", \"Topic3\", \"Topic3\", \"Topic3\", \"Topic3\", \"Topic3\", \"Topic3\", \"Topic3\", \"Topic3\", \"Topic3\", \"Topic3\", \"Topic3\", \"Topic3\", \"Topic3\", \"Topic3\", \"Topic3\", \"Topic3\", \"Topic3\", \"Topic3\", \"Topic3\", \"Topic3\", \"Topic3\", \"Topic3\", \"Topic3\", \"Topic3\", \"Topic3\", \"Topic3\", \"Topic3\", \"Topic3\", \"Topic3\", \"Topic3\", \"Topic3\", \"Topic3\", \"Topic3\", \"Topic3\", \"Topic3\", \"Topic3\", \"Topic3\", \"Topic3\", \"Topic3\", \"Topic3\", \"Topic3\", \"Topic3\", \"Topic4\", \"Topic4\", \"Topic4\", \"Topic4\", \"Topic4\", \"Topic4\", \"Topic4\", \"Topic4\", \"Topic4\", \"Topic4\", \"Topic4\", \"Topic4\", \"Topic4\", \"Topic4\", \"Topic4\", \"Topic4\", \"Topic4\", \"Topic4\", \"Topic4\", \"Topic4\", \"Topic4\", \"Topic4\", \"Topic4\", \"Topic4\", \"Topic4\", \"Topic4\", \"Topic4\", \"Topic4\", \"Topic4\", \"Topic4\", \"Topic4\", \"Topic4\", \"Topic4\", \"Topic4\", \"Topic4\", \"Topic4\", \"Topic4\", \"Topic4\", \"Topic4\", \"Topic4\", \"Topic4\", \"Topic4\", \"Topic4\", \"Topic4\", \"Topic4\", \"Topic4\", \"Topic4\", \"Topic4\", \"Topic4\", \"Topic4\", \"Topic4\", \"Topic5\", \"Topic5\", \"Topic5\", \"Topic5\", \"Topic5\", \"Topic5\", \"Topic5\", \"Topic5\", \"Topic5\", \"Topic5\", \"Topic5\", \"Topic5\", \"Topic5\", \"Topic5\", \"Topic5\", \"Topic5\", \"Topic5\", \"Topic5\", \"Topic5\", \"Topic5\", \"Topic5\", \"Topic5\", \"Topic5\", \"Topic5\", \"Topic5\", \"Topic5\", \"Topic5\", \"Topic5\", \"Topic5\", \"Topic5\", \"Topic5\", \"Topic5\", \"Topic5\", \"Topic5\", \"Topic5\", \"Topic5\", \"Topic5\", \"Topic5\", \"Topic5\", \"Topic5\", \"Topic5\", \"Topic5\", \"Topic5\", \"Topic5\", \"Topic5\", \"Topic5\", \"Topic5\", \"Topic5\", \"Topic5\", \"Topic5\", \"Topic5\", \"Topic5\", \"Topic5\", \"Topic6\", \"Topic6\", \"Topic6\", \"Topic6\", \"Topic6\", \"Topic6\", \"Topic6\", \"Topic6\", \"Topic6\", \"Topic6\", \"Topic6\", \"Topic6\", \"Topic6\", \"Topic6\", \"Topic6\", \"Topic6\", \"Topic6\", \"Topic6\", \"Topic6\", \"Topic6\", \"Topic6\", \"Topic6\", \"Topic6\", \"Topic6\", \"Topic6\", \"Topic6\", \"Topic6\", \"Topic6\", \"Topic6\", \"Topic6\", \"Topic6\", \"Topic6\", \"Topic6\", \"Topic6\", \"Topic6\", \"Topic6\", \"Topic6\", \"Topic6\", \"Topic6\", \"Topic6\", \"Topic6\", \"Topic6\", \"Topic6\", \"Topic6\", \"Topic6\", \"Topic6\", \"Topic6\", \"Topic6\", \"Topic6\", \"Topic6\", \"Topic7\", \"Topic7\", \"Topic7\", \"Topic7\", \"Topic7\", \"Topic7\", \"Topic7\", \"Topic7\", \"Topic7\", \"Topic7\", \"Topic7\", \"Topic7\", \"Topic7\", \"Topic7\", \"Topic7\", \"Topic7\", \"Topic7\", \"Topic7\", \"Topic7\", \"Topic7\", \"Topic7\", \"Topic7\", \"Topic7\", \"Topic7\", \"Topic7\", \"Topic7\", \"Topic7\", \"Topic7\", \"Topic7\", \"Topic7\", \"Topic7\", \"Topic7\", \"Topic7\", \"Topic7\", \"Topic7\", \"Topic7\", \"Topic7\", \"Topic7\", \"Topic7\", \"Topic7\", \"Topic7\", \"Topic7\", \"Topic7\", \"Topic7\", \"Topic7\", \"Topic8\", \"Topic8\", \"Topic8\", \"Topic8\", \"Topic8\", \"Topic8\", \"Topic8\", \"Topic8\", \"Topic8\", \"Topic8\", \"Topic8\", \"Topic8\", \"Topic8\", \"Topic8\", \"Topic8\", \"Topic8\", \"Topic8\", \"Topic8\", \"Topic8\", \"Topic8\", \"Topic8\", \"Topic8\", \"Topic8\", \"Topic8\", \"Topic8\", \"Topic8\", \"Topic8\", \"Topic8\", \"Topic8\", \"Topic8\", \"Topic8\", \"Topic8\", \"Topic8\", \"Topic8\", \"Topic8\", \"Topic8\", \"Topic8\", \"Topic8\", \"Topic8\", \"Topic8\", \"Topic8\", \"Topic8\", \"Topic8\", \"Topic8\", \"Topic8\", \"Topic8\", \"Topic8\", \"Topic9\", \"Topic9\", \"Topic9\", \"Topic9\", \"Topic9\", \"Topic9\", \"Topic9\", \"Topic9\", \"Topic9\", \"Topic9\", \"Topic9\", \"Topic9\", \"Topic9\", \"Topic9\", \"Topic9\", \"Topic9\", \"Topic9\", \"Topic9\", \"Topic9\", \"Topic9\", \"Topic9\", \"Topic9\", \"Topic9\", \"Topic9\", \"Topic9\", \"Topic9\", \"Topic9\", \"Topic9\", \"Topic9\", \"Topic9\", \"Topic9\", \"Topic9\", \"Topic9\", \"Topic9\", \"Topic9\", \"Topic9\", \"Topic9\", \"Topic9\", \"Topic9\", \"Topic9\", \"Topic9\", \"Topic9\", \"Topic9\", \"Topic9\", \"Topic9\", \"Topic9\", \"Topic10\", \"Topic10\", \"Topic10\", \"Topic10\", \"Topic10\", \"Topic10\", \"Topic10\", \"Topic10\", \"Topic10\", \"Topic10\", \"Topic10\", \"Topic10\", \"Topic10\", \"Topic10\", \"Topic10\", \"Topic10\", \"Topic10\", \"Topic10\", \"Topic10\", \"Topic10\", \"Topic10\", \"Topic10\", \"Topic10\", \"Topic10\", \"Topic10\", \"Topic10\", \"Topic10\", \"Topic10\", \"Topic10\", \"Topic10\", \"Topic10\", \"Topic10\", \"Topic10\", \"Topic10\", \"Topic10\", \"Topic10\", \"Topic10\", \"Topic10\", \"Topic10\", \"Topic10\", \"Topic10\", \"Topic10\", \"Topic10\"], \"logprob\": [30.0, 29.0, 28.0, 27.0, 26.0, 25.0, 24.0, 23.0, 22.0, 21.0, 20.0, 19.0, 18.0, 17.0, 16.0, 15.0, 14.0, 13.0, 12.0, 11.0, 10.0, 9.0, 8.0, 7.0, 6.0, 5.0, 4.0, 3.0, 2.0, 1.0, -3.3203, -3.8209, -4.4164, -4.4525, -4.5076, -4.5773, -4.6931, -4.7999, -4.8622, -4.8623, -4.899, -5.2578, -5.4442, -5.4508, -5.5163, -5.551, -5.6353, -5.6429, -5.6574, -5.6961, -5.7318, -5.8273, -5.8286, -5.8413, -5.9012, -5.9267, -5.9467, -5.9676, -5.9845, -5.9867, -2.7214, -4.1013, -5.4728, -5.493, -4.6168, -4.7826, -3.7849, -2.5612, -5.1304, -4.2876, -5.043, -4.9219, -4.8632, -4.9879, -4.4899, -5.043, -5.366, -5.336, -5.4042, -4.2956, -4.4591, -4.7144, -4.7468, -4.8353, -4.7328, -4.8697, -5.1138, -5.1252, -5.4269, -5.4299, -5.5873, -5.6883, -5.7358, -5.7379, -5.7385, -5.8027, -5.8108, -5.8444, -5.8685, -5.9, -5.9199, -5.9375, -5.9469, -6.0045, -6.022, -6.0557, -6.0586, -6.0797, -6.0825, -4.9313, -5.0354, -3.3946, -5.3233, -4.1047, -4.3329, -4.2182, -4.538, -5.0189, -3.9299, -3.9927, -5.2366, -1.9727, -4.8233, -4.763, -3.8594, -5.1336, -4.6701, -4.7661, -4.6543, -3.8953, -4.7845, -4.7583, -4.5312, -4.9406, -4.9241, -4.591, -5.0048, -4.7355, -5.2075, -5.3652, -5.4467, -5.4568, -5.4814, -5.4958, -5.5351, -5.5915, -5.6288, -5.666, -5.6868, -5.7438, -5.7452, -5.8094, -5.8175, -5.8403, -5.8641, -5.8682, -5.8682, -5.8778, -5.9024, -5.9089, -5.9177, -5.9244, -5.9293, -5.9428, -5.9544, -5.6042, -3.8488, -5.1878, -4.4552, -4.4218, -5.3564, -4.5463, -4.8852, -4.8859, -4.8186, -4.9377, -4.883, -5.2759, -4.3747, -4.2426, -4.8074, -4.9714, -4.8469, -2.7408, -4.6429, -5.1675, -4.7832, -4.8375, -4.824, -4.966, -4.8943, -4.8634, -5.1421, -5.0822, -5.2038, -3.8309, -3.8884, -3.9758, -4.1239, -4.3224, -4.5669, -4.7291, -4.8002, -4.8002, -4.9399, -5.1004, -5.1983, -5.2076, -5.2195, -5.2393, -5.2503, -5.3676, -5.4775, -5.5598, -5.5664, -5.569, -5.6079, -5.6364, -5.643, -5.6456, -5.6789, -5.6948, -5.6958, -5.7289, -5.7564, -5.4404, -3.1392, -3.7617, -4.2193, -4.9394, -4.6395, -3.918, -4.3172, -5.166, -4.9345, -2.6569, -5.1289, -4.5229, -4.7954, -4.1943, -4.2387, -4.6522, -4.8264, -4.8222, -4.9069, -4.9993, -3.0679, -3.9953, -4.0501, -4.4937, -4.5585, -4.5876, -4.6452, -4.9545, -5.0717, -5.0967, -5.1098, -5.1258, -5.1791, -5.1792, -5.1878, -5.5214, -5.5638, -5.7039, -5.7118, -5.7516, -5.7616, -5.7972, -5.8193, -5.8212, -5.8702, -5.8911, -5.8954, -5.9574, -6.0574, -6.0981, -4.4713, -3.5136, -2.8702, -4.2088, -3.5662, -4.1899, -4.2965, -3.8953, -5.0533, -3.9463, -5.1215, -4.5408, -4.9688, -4.5405, -2.4696, -4.2541, -4.4916, -4.3495, -4.6113, -4.776, -4.821, -5.0335, -5.065, -3.3864, -3.4757, -3.8344, -3.9058, -4.2729, -4.2526, -4.3075, -4.7917, -4.9432, -4.9548, -4.9705, -5.0851, -5.177, -5.2249, -5.3372, -5.4083, -5.4196, -5.4575, -5.591, -5.6587, -5.7156, -5.7506, -5.7506, -5.7852, -5.815, -5.9332, -5.9557, -5.9853, -6.053, -6.0669, -4.3737, -4.108, -3.4695, -4.2607, -3.8032, -4.2746, -3.2641, -4.4261, -4.7056, -3.3022, -4.4194, -4.9354, -4.9881, -2.2338, -4.8292, -4.1356, -4.8166, -4.698, -4.9851, -4.8817, -3.2685, -3.8304, -4.2292, -4.2293, -4.2293, -4.23, -4.2646, -4.3748, -4.4356, -4.5114, -4.5579, -4.6806, -4.7432, -4.792, -4.9174, -4.9762, -4.9762, -4.9785, -4.9928, -5.0487, -5.0516, -5.1151, -5.1909, -5.291, -5.4013, -5.4424, -5.4854, -5.4975, -5.5743, -5.5792, -2.5954, -2.4002, -4.2354, -3.8979, -3.721, -4.4926, -3.7053, -3.7125, -4.2148, -2.5352, -4.2925, -4.1574, -4.1681, -4.4335, -4.8478, -2.7305, -2.7961, -2.9517, -2.9583, -2.9746, -2.9914, -3.0134, -4.4323, -4.5503, -4.5625, -4.6044, -4.9869, -5.0416, -5.0416, -5.26, -5.2606, -5.2607, -5.4391, -5.5531, -5.7781, -5.8375, -6.059, -6.067, -6.0769, -6.1451, -6.1681, -6.1729, -6.1736, -6.1736, -6.1738, -2.4522, -2.8755, -4.4999, -4.1501, -5.3397, -2.3128, -4.3212, -4.8239, -4.5657, -4.596, -4.2509, -4.3484, -4.5667, -4.7919, -4.8235, -4.7873, -5.0002, -3.345, -3.6018, -4.2394, -4.4209, -4.578, -4.601, -4.6586, -4.8285, -4.893, -5.1239, -5.1274, -5.1556, -5.1573, -5.1629, -5.1647, -5.2906, -5.3004, -5.3357, -5.3774, -5.4582, -5.5335, -5.5476, -5.5556, -5.568, -5.568, -5.5689, -5.5772, -5.6121, -5.6303, -5.6446, -4.65, -4.0805, -4.8884, -4.3035, -4.3703, -2.6683, -4.3513, -3.8975, -4.3218, -5.1101, -4.5297, -4.5622, -4.7345, -5.0128, -5.0185, -4.9299, -1.8152, -2.5621, -3.0134, -3.4824, -3.4842, -3.6242, -3.7468, -4.2215, -4.4919, -4.576, -4.6826, -4.6831, -4.7464, -4.84, -4.8933, -4.9822, -4.9846, -5.1602, -5.1916, -5.3799, -5.5683, -5.5768, -5.5768, -5.642, -5.6469, -5.663, -5.7104, -5.885, -5.9546, -5.9576, -3.6561, -4.6505, -4.2604, -4.699, -2.5256, -4.5943, -4.8197, -4.4709, -4.8296, -5.0828, -4.8846, -5.0575, -5.1461], \"loglift\": [30.0, 29.0, 28.0, 27.0, 26.0, 25.0, 24.0, 23.0, 22.0, 21.0, 20.0, 19.0, 18.0, 17.0, 16.0, 15.0, 14.0, 13.0, 12.0, 11.0, 10.0, 9.0, 8.0, 7.0, 6.0, 5.0, 4.0, 3.0, 2.0, 1.0, 1.9692, 1.9692, 1.9691, 1.9691, 1.9691, 1.9691, 1.9691, 1.9691, 1.9691, 1.9691, 1.9691, 1.969, 1.969, 1.969, 1.9689, 1.9689, 1.9689, 1.9689, 1.9689, 1.9689, 1.9689, 1.9688, 1.9688, 1.9688, 1.9688, 1.9688, 1.9688, 1.9688, 1.9688, 1.9688, 1.8306, 1.7645, 1.9083, 1.8552, 1.3478, 1.4222, 0.896, -0.128, 1.4437, 0.7477, 1.3397, 1.1726, 1.1071, 1.2133, 0.257, 0.8655, 1.1401, 0.9478, 0.1315, 2.0649, 2.0649, 2.0648, 2.0648, 2.0648, 2.0648, 2.0648, 2.0648, 2.0648, 2.0647, 2.0647, 2.0646, 2.0646, 2.0646, 2.0646, 2.0646, 2.0646, 2.0645, 2.0645, 2.0645, 2.0645, 2.0645, 2.0645, 2.0645, 2.0645, 2.0644, 2.0644, 2.0644, 2.0644, 2.0644, 2.063, 2.0038, 1.8485, 1.9977, 1.8716, 1.8461, 1.7898, 1.8105, 1.8738, 1.3504, 1.363, 1.8233, 0.4605, 1.6141, 1.5256, 0.8216, 1.654, 1.2944, 1.3376, 1.2246, 0.4834, 1.0715, 0.7007, 0.0208, 0.9488, 0.7927, 2.1111, 2.1111, 2.111, 2.111, 2.111, 2.1109, 2.1109, 2.1109, 2.1109, 2.1109, 2.1109, 2.1109, 2.1109, 2.1109, 2.1108, 2.1108, 2.1108, 2.1108, 2.1108, 2.1108, 2.1108, 2.1108, 2.1108, 2.1108, 2.1108, 2.1108, 2.1108, 2.1107, 2.1107, 2.1107, 2.1081, 1.8477, 2.0132, 1.8641, 1.8442, 2.0037, 1.8232, 1.8492, 1.7767, 1.7303, 1.7668, 1.7244, 1.8673, 1.351, 1.1922, 1.5263, 1.572, 1.4466, -0.3075, 1.072, 1.5551, 0.9915, 1.0553, 0.9675, 0.8934, 0.6413, 0.1719, 1.1535, 0.8262, 1.1418, 2.1588, 2.1588, 2.1588, 2.1588, 2.1587, 2.1587, 2.1587, 2.1587, 2.1587, 2.1587, 2.1586, 2.1586, 2.1586, 2.1586, 2.1586, 2.1586, 2.1585, 2.1585, 2.1585, 2.1585, 2.1585, 2.1585, 2.1584, 2.1584, 2.1584, 2.1584, 2.1584, 2.1584, 2.1584, 2.1584, 2.1571, 2.0236, 1.774, 1.726, 1.9314, 1.7178, 1.3687, 1.3977, 1.8337, 1.6411, -0.2236, 1.7979, 1.2686, 1.4881, 0.8449, 0.737, 1.2072, 1.0295, 0.9102, -0.5282, -0.3183, 2.2686, 2.2685, 2.2685, 2.2685, 2.2685, 2.2685, 2.2685, 2.2684, 2.2684, 2.2684, 2.2684, 2.2684, 2.2683, 2.2683, 2.2683, 2.2682, 2.2682, 2.2681, 2.2681, 2.2681, 2.2681, 2.2681, 2.2681, 2.2681, 2.2681, 2.268, 2.268, 2.268, 2.2679, 2.2679, 2.1799, 1.9837, 1.8767, 2.043, 1.9445, 2.0341, 2.0469, 1.8673, 2.0843, 1.74, 2.0847, 1.8374, 1.919, 1.6314, -0.0363, 1.1016, 0.9674, 0.6262, 0.6318, 0.988, 0.6138, 1.25, 0.7944, 2.3484, 2.3483, 2.3483, 2.3483, 2.3483, 2.3483, 2.3483, 2.3482, 2.3482, 2.3482, 2.3482, 2.3481, 2.3481, 2.3481, 2.348, 2.348, 2.348, 2.348, 2.3479, 2.3479, 2.3479, 2.3479, 2.3479, 2.3478, 2.3478, 2.3477, 2.3477, 2.3477, 2.3477, 2.3477, 2.3312, 2.1346, 1.9664, 2.0723, 1.9608, 2.0224, 1.7711, 2.0301, 2.0979, 1.737, 1.9909, 2.1235, 2.1034, 0.1995, 1.8759, 1.151, 1.6258, 0.2776, 1.5209, 0.281, 2.5389, 2.5389, 2.5388, 2.5388, 2.5388, 2.5388, 2.5388, 2.5388, 2.5388, 2.5388, 2.5388, 2.5388, 2.5387, 2.5387, 2.5387, 2.5387, 2.5387, 2.5387, 2.5387, 2.5387, 2.5387, 2.5386, 2.5386, 2.5386, 2.5385, 2.5385, 2.5385, 2.5385, 2.5384, 2.5384, 2.4766, 1.9785, 2.2825, 2.2009, 2.1466, 2.25, 1.8303, 1.2631, 1.6745, -0.102, 1.4399, 1.1293, 0.8711, 0.2475, 0.4839, 2.5932, 2.5932, 2.5932, 2.5932, 2.5932, 2.5932, 2.5932, 2.593, 2.593, 2.593, 2.593, 2.5929, 2.5929, 2.5929, 2.5928, 2.5928, 2.5928, 2.5927, 2.5927, 2.5925, 2.5925, 2.5923, 2.5923, 2.5923, 2.5922, 2.5922, 2.5922, 2.5922, 2.5922, 2.5922, 2.5531, 2.4561, 2.1815, 1.5755, 2.1206, 0.1204, 1.1378, 1.4653, 1.1308, 1.0903, 0.496, 0.3326, 0.7137, 0.9405, 0.9679, 0.6485, -0.0246, 2.6226, 2.6226, 2.6225, 2.6225, 2.6225, 2.6225, 2.6224, 2.6224, 2.6224, 2.6223, 2.6223, 2.6223, 2.6223, 2.6223, 2.6223, 2.6222, 2.6222, 2.6222, 2.6222, 2.6222, 2.6221, 2.6221, 2.6221, 2.6221, 2.6221, 2.6221, 2.6221, 2.6221, 2.6221, 2.622, 2.219, 1.6363, 2.1413, 1.5755, 1.4973, -0.235, 1.4235, 0.4812, 0.9586, 1.9151, 0.9051, 0.8968, 0.9518, 1.6828, 1.3933, 0.9359, 2.6343, 2.6343, 2.6343, 2.6343, 2.6343, 2.6342, 2.6342, 2.6342, 2.6341, 2.6341, 2.6341, 2.6341, 2.6341, 2.634, 2.634, 2.634, 2.634, 2.6339, 2.6339, 2.6338, 2.6337, 2.6337, 2.6337, 2.6337, 2.6337, 2.6337, 2.6336, 2.6335, 2.6334, 2.6334, 2.4742, 2.4614, 2.0761, 2.1914, -0.0923, 1.2986, 1.5626, 1.0398, 0.9329, 1.1832, 0.471, -0.3765, 1.1425]}, \"token.table\": {\"Topic\": [1, 4, 6, 2, 5, 10, 1, 4, 10, 1, 7, 4, 3, 2, 3, 2, 6, 1, 2, 3, 5, 6, 9, 8, 1, 6, 4, 10, 9, 2, 3, 7, 9, 10, 1, 3, 5, 6, 9, 10, 2, 4, 5, 6, 7, 8, 10, 4, 6, 1, 3, 6, 5, 7, 1, 5, 10, 2, 6, 5, 1, 2, 5, 8, 10, 5, 3, 10, 5, 4, 3, 8, 3, 1, 4, 7, 3, 10, 2, 3, 4, 7, 9, 8, 10, 6, 5, 10, 7, 1, 2, 9, 1, 2, 6, 7, 3, 3, 2, 4, 7, 1, 2, 4, 6, 7, 6, 8, 3, 5, 6, 10, 5, 1, 3, 9, 9, 8, 4, 1, 2, 5, 7, 2, 6, 6, 1, 1, 6, 8, 1, 2, 3, 9, 1, 9, 3, 3, 8, 2, 10, 5, 2, 4, 5, 6, 7, 10, 5, 10, 1, 2, 5, 7, 7, 10, 2, 5, 7, 2, 2, 7, 8, 1, 1, 2, 3, 4, 7, 9, 10, 2, 1, 2, 3, 4, 9, 2, 2, 6, 3, 10, 9, 3, 4, 1, 1, 10, 1, 2, 6, 7, 3, 5, 8, 1, 7, 10, 9, 10, 6, 9, 3, 10, 1, 8, 2, 2, 3, 2, 9, 9, 1, 3, 9, 1, 2, 4, 6, 9, 1, 5, 4, 5, 1, 3, 7, 10, 2, 7, 3, 4, 5, 10, 4, 6, 6, 5, 7, 2, 8, 1, 3, 4, 8, 3, 2, 7, 7, 5, 9, 1, 3, 4, 5, 9, 3, 5, 7, 6, 7, 8, 4, 9, 6, 8, 1, 3, 6, 1, 2, 3, 8, 9, 2, 1, 7, 5, 6, 3, 1, 7, 9, 9, 7, 3, 9, 9, 10, 2, 2, 9, 9, 1, 4, 1, 2, 3, 4, 5, 6, 7, 8, 9, 10, 1, 10, 7, 9, 1, 1, 10, 2, 3, 4, 5, 6, 7, 8, 7, 2, 4, 5, 6, 2, 4, 1, 3, 4, 8, 1, 10, 3, 4, 9, 8, 9, 7, 6, 5, 2, 6, 8, 10, 1, 2, 9, 2, 4, 7, 4, 2, 3, 4, 6, 9, 1, 5, 5, 4, 9, 2, 4, 1, 2, 7, 9, 2, 5, 7, 10, 7, 6, 8, 3, 4, 5, 2, 3, 1, 9, 8, 9, 3, 9, 3, 5, 2, 3, 3, 8, 1, 2, 6, 7, 8, 9, 2, 8, 2, 5, 4, 7, 1, 3, 4, 9, 4, 1, 3, 5, 8, 9, 2, 1, 5, 8, 10, 8, 2, 5, 2, 5, 2, 5, 3, 4, 1, 3, 1, 2, 3, 4, 5, 10, 8, 6, 9, 4, 1, 3, 5, 8, 9, 6, 3, 1, 4, 6, 9, 2, 7, 4, 8, 7, 1, 3, 8, 1, 3, 4, 6, 5, 1, 4, 10, 4, 5, 6, 7, 8, 2, 4, 6, 7, 9, 3, 5, 2, 3, 9, 5, 4, 6, 7, 4, 5, 6, 2, 2, 1, 2, 3, 6, 1, 1, 1, 2, 6, 4, 1, 2, 3, 5, 9, 6, 4, 3, 8, 8, 1, 2, 3, 4, 5, 6, 4, 6, 7, 8, 6, 6, 5, 7, 10, 1, 2, 10, 6, 8, 7, 7, 8, 1, 2, 9, 6, 8, 5, 2, 2, 3, 6, 3, 10, 1, 2, 3, 6, 3, 1, 4, 5, 4, 5, 6, 1, 2, 4, 7, 9, 3, 6, 1, 2, 3, 7, 8, 5, 8, 2, 4, 10, 9, 5, 8, 4, 2, 3, 1, 5, 3, 7, 8, 9, 3, 1, 3, 4, 7, 1, 7, 2, 3, 4, 10, 9, 2, 5, 3, 4, 5, 3, 4, 7, 10, 1, 5, 6, 7, 4, 1, 2, 8, 10, 4, 6, 3, 4, 1, 2, 3, 4, 5, 7, 2, 1, 3, 4, 7, 9, 10, 1, 2, 3, 4, 9, 10, 6, 7, 10, 4, 2, 10, 3, 4, 5, 8, 4, 1, 9, 10, 1, 10, 1, 2, 5, 9, 6, 4, 7, 9, 3, 3, 7, 1, 2, 4, 5, 6, 8, 9, 7, 2, 6, 7, 6, 3, 10, 8, 9, 8, 2, 8, 6, 9, 5, 8, 9, 4, 2, 3, 6, 10, 1, 5, 1, 4, 5, 6, 1, 2, 3, 4, 7, 8, 10, 1, 9, 5, 10, 7], \"Freq\": [0.9998095535649351, 0.9997316934089179, 0.9999453516703499, 0.9995980687474502, 0.9994245170937127, 0.9996230433722048, 0.3028950900780915, 0.6969938852059053, 0.9995973884041864, 0.8921347940727119, 0.10755090947229799, 0.9999262655104387, 0.9996252354918255, 0.3166232115857436, 0.6831759330549969, 0.19234585397914056, 0.8075677617550867, 0.09055120841301466, 0.03785532551534443, 0.39890942076075214, 0.1911416174081909, 0.10205859247952398, 0.1795151914375453, 0.9999484541295293, 0.27260817712728086, 0.7273591662155137, 0.9996843806449585, 0.9992932396394065, 0.9992982885279289, 0.0006660482259001404, 0.1948191060757911, 0.13670639836600382, 0.6678798585213659, 0.9992066033756667, 0.18372196207083485, 0.5144589498558444, 0.30180218336100956, 0.9998772863638223, 0.9997429343046627, 0.9997427526838251, 0.06613668530302017, 0.24125599797989503, 0.19349618543165642, 0.1260808909738015, 0.2791880695733255, 0.07295593412880541, 0.020833807993483607, 0.37639480606712117, 0.6234613178978864, 0.4364291453800191, 0.12636523291125287, 0.43712409624845866, 0.2868189421324991, 0.7131547574872028, 0.9993405770259888, 0.8316245680699402, 0.16815457479046458, 0.016956426435955633, 0.9829075190708949, 0.9997620898009253, 0.9994837779197602, 5.5069750261653155e-05, 0.6694278841806558, 0.14808255845358534, 0.1824460826168569, 0.9995112812699867, 0.9994910660760208, 0.9996549207000696, 0.9998450634546162, 0.999679707345785, 0.9994597459523961, 0.9998110342473024, 0.9994372797753995, 0.5786724952801658, 0.27090991670328857, 0.15041028276313553, 0.9996489763093017, 0.998683179155857, 0.010169285036894559, 0.7086014309736111, 0.2812089792841259, 0.9997553396685875, 0.9996086183077024, 0.9989331648591854, 0.9999590688845237, 0.9997807645375388, 0.9997438377818356, 0.9999031024656905, 0.9998382186230107, 0.388063058621187, 0.22105034977014945, 0.39072294250062517, 0.30040123495831533, 0.6629703289652344, 0.036379710109923726, 0.9996464266932572, 0.9993443204166418, 0.9993639651364289, 0.999843351171521, 0.9999249639726745, 0.9993691164830659, 0.17389546051382912, 0.8260034374406883, 0.453779994585607, 0.3019953424983085, 0.24420357573197687, 0.7827394285675509, 0.21716182923851265, 4.2808234029518625e-05, 0.7231594974606581, 0.07375858723286059, 0.2029966457679773, 0.9997353379513366, 0.19632608703759252, 0.573444768512001, 0.23012581630780074, 0.9999081697093202, 0.9999684817780106, 0.999765863755911, 0.5371684536368242, 0.46276017599378105, 0.9998604852464428, 0.9998823731563783, 0.20132768713843321, 0.7986669348781645, 0.9999134001284343, 0.9998761323204407, 0.24121789912180144, 0.7587257667046, 0.9991234882549256, 0.45079449929098053, 0.19738567452781783, 0.2735925076561705, 0.07820217820522798, 0.9998519635108275, 0.9993022722475168, 0.9998042316090834, 0.37653556231630264, 0.6234490580524724, 0.9997542448619586, 0.9988446114563535, 0.9998945351240057, 0.15802030076110507, 0.24675320280765825, 0.0021492398419580352, 0.08893759155531109, 0.16170471191874744, 0.3424455481519803, 0.9994517747243347, 0.9996397467431182, 0.0005089756833807284, 0.29435760355518786, 0.7049313214823087, 0.9996327389457503, 0.9996291650166274, 0.9996959737335943, 0.08476492874255273, 0.9150059369634483, 0.99974615647094, 0.9991897285763137, 0.9998222175663056, 0.12809175418273874, 0.8719115158982623, 0.9994676202537301, 0.17506146412687554, 0.4832006253201105, 0.015414704142145236, 0.1127829609596154, 0.21278488582147218, 0.0006196865986792054, 7.746082483490068e-05, 0.9998000452866471, 0.9994805400087526, 0.43154073854778935, 0.2174099147321766, 6.186963993516694e-05, 0.35092459771226686, 0.9997338983402594, 0.27816630560601674, 0.7218227680269643, 0.9995089706178019, 0.9998726190583075, 0.9998136359206441, 0.7835054587643198, 0.21619230858271837, 0.9996099286169255, 0.3577198118289679, 0.6421266237063024, 0.19651979175737092, 0.8033675634994266, 0.9995523140949091, 0.9997979205157368, 0.9997589575585699, 0.9997415736086669, 0.9985588481657508, 0.26601073612167775, 0.16169855110079198, 0.5722017047115693, 0.9997252487563224, 0.9999709107367274, 0.9997368456063653, 0.9996045272388312, 0.9998051808194913, 0.999235004669604, 0.9999615677913165, 0.9986823473356345, 0.999419479971672, 0.9997862823631928, 0.9998171606253518, 0.9994308792009283, 0.9995592224187548, 0.9996909515070533, 0.09329171996276482, 0.9066934076978164, 0.9997142842901839, 0.18043024632455612, 0.2801666157214536, 0.06480759867984057, 0.101682701500107, 0.3729067102608683, 0.999522087672848, 0.9997173926938733, 0.9997374609831808, 0.9993967275369671, 0.9995144533486866, 0.06043151355907533, 0.9395457747629102, 0.9995871902852794, 0.7853332439377423, 0.21462147929014513, 0.29582376716361886, 0.3860997650183081, 0.22896613972015947, 0.0890626107867499, 0.3004856558959392, 0.699484297402596, 0.9990867270372779, 0.22610547218885693, 0.7738456855317954, 0.9998569361448145, 0.9995511447293043, 0.0739727475766483, 0.3186213135083066, 0.4105629200748381, 0.19686387152007628, 0.9996305572255135, 0.8241030057436817, 0.1757995489290204, 0.9997086235670508, 0.8318772814532904, 0.16772848159419962, 0.09866832962314799, 0.3263859152223342, 0.12620627020723563, 0.1472778117877723, 0.3014122363120685, 0.9993325605811979, 0.9997892837338082, 0.9997934361292155, 0.9996173036125349, 0.9998221693951788, 0.9993402837709808, 0.9994902952253247, 0.9996117973345949, 0.9998612564353382, 0.9993915239913531, 0.29477881575436377, 0.14379714030841143, 0.5614315069147248, 0.4222388015753766, 0.20817071113147878, 0.15963595724996177, 0.07958072773310196, 0.13028463262608345, 0.9998659736097927, 0.999841592058561, 0.9997572240762105, 0.9993113248519176, 0.999944204167546, 0.9993490759607994, 0.9997030656192958, 0.9995219001038033, 0.9996491113379308, 0.9996664644907167, 0.9994993547213118, 0.9993068706412105, 0.9999228630868079, 0.9999054626615902, 0.9996475614793153, 0.999564066977201, 0.9349108333543549, 0.06489165593951302, 0.9997253115445798, 0.9998609875557886, 0.9997228695080846, 0.12279641166235955, 0.2009983992738529, 0.08902710257925493, 0.09232118821995497, 0.09976345476029105, 0.11661260418715319, 0.07129229779150996, 0.08435028997200954, 0.05740190792216284, 0.0654378988803736, 0.9999498124811039, 0.9993804733982572, 0.9997169024917558, 0.9993717992283415, 0.9992874992771487, 0.9996578792606599, 0.9996357179640003, 0.033754798140333914, 0.07767333384226008, 0.31134605246015173, 0.04419827159811678, 0.11086866019021277, 0.0983737901603654, 0.3237476771912689, 0.9995386770109668, 0.9994770172463752, 0.19925712022066389, 0.5287817959413956, 0.2719780916869653, 0.9993595679710583, 0.9997516354037128, 0.2511724090478688, 0.5831432187085513, 0.16556457982714953, 0.9998966579681614, 0.9995701820615329, 0.9992070466173891, 0.7497294408741996, 0.2501792581677248, 0.9995207044702441, 0.9606894365982672, 0.03930774026836289, 0.9998820201253619, 0.9999391348590511, 0.9993168180785915, 0.9997969073373258, 0.9989811751470196, 0.9996079009435139, 0.9997769627371574, 0.15826481248933588, 0.3486497898750315, 0.4928985304095922, 0.2764930253017405, 0.7224495177239026, 0.0007590748807185738, 0.9997659346841877, 0.13021339846641058, 0.35372889736621294, 0.46708806159564054, 0.046782313723214446, 0.002205226909511792, 0.9994595282988118, 0.9999276340997586, 0.9998213688067288, 0.9996787085466617, 0.9996086183077024, 0.9993810532446378, 0.9994702590968626, 0.18348080680773626, 0.32751480302069175, 0.42128693597183464, 0.06770347999072517, 0.49562628181375473, 0.3112924594186398, 0.07812557190214596, 0.11493367804468681, 0.999431647286735, 0.9994189337802991, 0.999973541627639, 0.7694744370696999, 0.2303911545075345, 0.999831836262657, 0.7752855313547838, 0.22459139308006115, 0.8148276021126871, 0.18512980813830404, 0.9999753641182872, 0.999685868292117, 0.9968092315174256, 0.0027087207378190914, 0.9998046103892367, 0.00016280811112021442, 0.9994412200909627, 0.9996296645373071, 0.7682711427897237, 0.23165663685567756, 0.09972646329977118, 0.4894179041039572, 0.029785333055097018, 0.03903374697174815, 0.15266683266824843, 0.1893544746390814, 0.9994178317369338, 0.9995775767362206, 0.20192405265154503, 0.7979952329876895, 0.9999275066118453, 0.9998787133732029, 0.14175574847279096, 0.5571761365350759, 0.27873430872332144, 0.02232604291627863, 0.9996665038227123, 0.12079243822426183, 0.46751343950682006, 0.0010083727268281964, 0.36142201419473774, 0.04919797461945989, 0.9998781010855999, 0.9999100631475311, 0.3373289450691159, 0.6625118397429446, 0.9992064190833241, 0.9993787073236842, 0.8053862469308325, 0.19458996570140918, 0.9997956940330078, 0.9999048905575334, 0.35022890110725446, 0.6496970359888359, 0.0013799665468371863, 0.9980608049999949, 0.28419808281730347, 0.7156427414317512, 0.06863092577576567, 0.1282281647949406, 0.34785967406455265, 0.1802973315169566, 0.012044915675454303, 0.2629806589140856, 0.9987469497764787, 0.9995530359055684, 0.9995134532385964, 0.999912858406895, 0.18045045089613457, 0.00045870472707903353, 0.6757518377225605, 0.12279326107067866, 0.020502106932054193, 0.9997657558945491, 0.9993927274088333, 0.9994496146532175, 0.8734401037893208, 0.12650447601170817, 0.9995465888690093, 0.9996312091330388, 0.9999359390542181, 0.9996631843259626, 0.9998763959440348, 0.999785735293929, 0.591269733482042, 0.32855206410723664, 0.08009231449557543, 0.11928229010200592, 0.2372669485962076, 0.6433258240229525, 0.9994384480017278, 0.999386120935375, 0.9998123554723265, 0.9997583274770164, 0.99967408111866, 0.2868837540421119, 0.10189743322002373, 0.08650862316896613, 0.33315705093175035, 0.1915051917464945, 0.205648236251234, 0.06808017914417404, 0.03782845551067931, 0.5709598806757803, 0.11748764748719918, 0.9995777486143209, 0.9995043006700288, 0.013883088814941297, 0.3679996218270355, 0.6178952204959789, 0.9992403610745513, 0.2687445461062631, 0.5425914986048022, 0.18865546566624553, 0.9993171083530006, 0.7909372003767967, 0.20895977284087672, 0.9996583782251226, 0.99941319564186, 0.532809104606529, 0.09112223349343021, 0.1277758959548325, 0.24828249013659356, 0.9995950160986592, 0.9997522508258216, 0.8705074017461989, 0.1294880170389033, 0.9998150695530196, 0.9997516354037128, 0.08267877335974987, 0.2298825082675623, 0.3792568076311199, 0.11770379071382052, 0.1903190379605698, 0.9994530571524324, 0.9998397791404507, 0.9997805419838277, 0.9995772167661159, 0.999705597009564, 0.36010288488104764, 0.12464029803763275, 0.22516863365727108, 0.1542238211581721, 0.0011128598039074353, 0.13474877458979195, 0.13533277291239387, 0.6825029950633259, 0.03908642458050941, 0.14303883629513658, 0.9996102546651624, 0.9999305506989847, 0.999673618372068, 0.7489822759427168, 0.25078579733270046, 0.22916453749285115, 0.6370968807788514, 0.13367030124642001, 0.9998580245957598, 0.9995420655042886, 0.9999693876238712, 0.9996875510928005, 0.9999787835205456, 0.013225642045290096, 0.9405997663553329, 0.04599365069481481, 0.998907619010746, 0.9987469497764787, 0.9999510476777965, 0.9995622699299944, 0.999866496871457, 0.9994630303783777, 0.9993159280105829, 0.14788229051660534, 0.8520533694047122, 0.11856934490110986, 0.012824182124959636, 0.3830952711057858, 0.48547136908639577, 0.9996055718050388, 0.15919466451878705, 0.6805385369075801, 0.16024806180261691, 0.9998422377968827, 0.8011356586093209, 0.1987580357252665, 0.4695338086035185, 0.10613393782399955, 0.0967415539457695, 0.19954546475839657, 0.1279925766678804, 0.99951980754811, 0.9992116706746478, 0.0009437362432072494, 0.998095450815987, 0.0009437362432072494, 0.9998822517893594, 0.9999375454411153, 0.9998073754186988, 0.9996267532303532, 0.20647355897912756, 0.6486429994057702, 0.14478933530716917, 0.9998505666238812, 0.9993695562149547, 0.9993144156552255, 0.9996916609727202, 0.21890486170686246, 0.7809656765108303, 0.9994988068484054, 0.9992990683942037, 0.8979233813472887, 0.10176464988602604, 0.9994394247534025, 0.9994906399104179, 0.9993026201791598, 0.1389514504186095, 0.22993261173186835, 0.13881978448327917, 0.4922989322001083, 0.9998060380495981, 0.9997997105096211, 0.07844871465051295, 0.6792479394331179, 0.13228606784204144, 0.10998202151983678, 0.99943406618548, 0.999537002843257, 0.9996529625238549, 0.9996683902287697, 0.9999228908701587, 0.9996827484391597, 0.9996528284465057, 0.9994277574110436, 0.999243889498818, 0.9995087769715196, 0.9997483065689465, 0.2778467591952607, 0.6786784872284395, 0.04340321545983925, 0.9997821263614044, 0.1470476743025739, 0.5830654614139448, 0.044822516691722464, 0.22495125840710609, 0.7965383524282037, 0.20334664955182835, 0.4040575315263759, 0.5959041468331525, 0.13945047264811572, 0.11955578879791348, 0.3837234069031933, 0.30986908525173495, 0.00046921424175005294, 0.04692142417500529, 0.999349935603142, 0.33159043676195915, 0.2766651953152242, 0.09634218685320566, 0.07671692656829339, 0.1015033754346274, 0.11717809631153783, 0.12902491894056373, 0.3702664496682344, 0.04824830614553414, 0.3232273742531648, 0.12914584201361018, 0.9999621176627188, 0.9995649632300568, 0.15858487500011384, 0.8411154949805235, 0.9994571792110453, 0.9993310508286998, 0.9996505055824223, 0.999569415671829, 0.5113119857061803, 0.36111698718505386, 0.12748032281885727, 0.9997696045299314, 0.9998833990331133, 0.9996034861025185, 0.9999022875389064, 0.9996324566037951, 0.9999791655578191, 0.0755783126623298, 0.29366970582601226, 0.33825774802429054, 0.2925102059106906, 0.9996659587739628, 0.9993818136076865, 0.6754114763845328, 0.324493559338883, 0.9997708753553229, 0.9994181100122302, 0.9996268083897508, 0.0011789095397889385, 0.25557945781562263, 0.0593926495735048, 0.2722061475319563, 0.00032521642476936234, 0.23330213271892133, 0.17801534050812973, 0.9998133047927548, 0.060043504431483, 0.7783821574481341, 0.1614156547703504, 0.9998455204555144, 0.7656563935571506, 0.23432511235471104, 0.9999527954955145, 0.9997563035355277, 0.9992976944323503, 0.9996000531524274, 0.9987681638285697, 0.9993951931788746, 0.9994814188882591, 0.5893879990411857, 0.2224683296528066, 0.18807758327987276, 0.9999058533234098, 0.7594641138880043, 0.24046059996676455, 0.9994315467402599, 0.9997336002625568, 0.9408643741673126, 0.05890822425383056, 0.09985120696195846, 0.14804504247109324, 0.7520519204558673, 0.9997368456063653, 0.3419055503674841, 0.28839412030232414, 0.031068743764279903, 0.08398269798781911, 0.10112278619431488, 0.10427820548287454, 0.049254414693612004, 0.999519720335649, 0.9998923901397687, 0.9998686136440529, 0.9998904083627282, 0.9995727208344863], \"Term\": [\"absolutely_tyrannical_eu\", \"account\", \"act\", \"actually\", \"adjusted\", \"afford_jo\", \"ago\", \"ago\", \"agree\", \"ahead\", \"ahead\", \"aim\", \"already\", \"also\", \"also\", \"america\", \"america\", \"amp\", \"amp\", \"amp\", \"amp\", \"amp\", \"amp\", \"announcement\", \"another\", \"another\", \"anything\", \"article\", \"auto_maker_finance\", \"bad\", \"bad\", \"bad\", \"bad\", \"badly_needed_pay\", \"bank\", \"bank\", \"bank\", \"beginnin\", \"benefit\", \"best\", \"biden\", \"biden\", \"biden\", \"biden\", \"biden\", \"biden\", \"biden\", \"bidens\", \"bidens\", \"big\", \"big\", \"big\", \"billion\", \"billion\", \"bitcoin\", \"blame\", \"blame\", \"border\", \"border\", \"bottom\", \"bps\", \"breaking\", \"breaking\", \"breaking\", \"breaking\", \"brexit\", \"brought\", \"business\", \"busting\", \"buy\", \"call\", \"came\", \"canada\", \"cannot\", \"cannot\", \"cannot\", \"care\", \"case\", \"caused\", \"caused\", \"caused\", \"causing\", \"cherokee_plant_belvidere_illinois\", \"chewing\", \"christmas\", \"climate\", \"collapsing_productivity\", \"collusion\", \"combat\", \"come\", \"come\", \"come\", \"coming\", \"coming\", \"coming\", \"common\", \"conflicted_climate_change_narrative\", \"congress\", \"consumer\", \"control\", \"cooling\", \"core\", \"core\", \"corporate\", \"corporate\", \"corporate\", \"corporation\", \"corporation\", \"cost\", \"cost\", \"cost\", \"cost\", \"cost_rishi_sunaks\", \"could\", \"could\", \"could\", \"country\", \"couple\", \"covid\", \"cpi\", \"cpi\", \"created\", \"credit\", \"crime\", \"crime\", \"crisis\", \"current\", \"cut\", \"cut\", \"dark_brandon_protecting_marriage\", \"data\", \"data\", \"data\", \"data\", \"day\", \"deal\", \"debt\", \"decade\", \"decade\", \"decline\", \"deflation\", \"demand\", \"democrat\", \"democrat\", \"democrat\", \"democrat\", \"democrat\", \"democrat\", \"dems\", \"dinner\", \"dollar\", \"dollar\", \"dollar\", \"done\", \"dr_fauci_still\", \"driving\", \"dropped\", \"dropped\", \"dropping\", \"drug\", \"due\", \"easing\", \"easing\", \"ecb\", \"economic\", \"economic\", \"economic\", \"economic\", \"economic\", \"economic\", \"economic\", \"economies_around\", \"economist\", \"economy\", \"economy\", \"economy\", \"economy\", \"election\", \"energy\", \"energy\", \"england\", \"enough\", \"eu\", \"ever\", \"ever\", \"expect\", \"expectation\", \"expectation\", \"expected\", \"expected\", \"expensive\", \"exxonmobil_raked_billion\", \"face\", \"fact\", \"fair_share\", \"fall\", \"fall\", \"fall\", \"falling\", \"false\", \"far_enough_explaining\", \"faster\", \"fathom\", \"fear\", \"fed\", \"federal_taxesthanks\", \"feel\", \"fell\", \"fight\", \"figure\", \"financial\", \"find\", \"first\", \"first\", \"five\", \"food\", \"food\", \"food\", \"food\", \"food\", \"forecast\", \"former\", \"free\", \"fuck\", \"fuelled\", \"gas\", \"gas\", \"gave\", \"gdp\", \"gdp\", \"get\", \"get\", \"get\", \"get\", \"getting\", \"getting\", \"ghana\", \"give\", \"give\", \"global\", \"god\", \"going\", \"going\", \"going\", \"going\", \"gone\", \"good\", \"good\", \"gop\", \"got\", \"got\", \"government\", \"government\", \"government\", \"government\", \"government\", \"government_deleted_weather\", \"govt\", \"gree\", \"grocery\", \"guy\", \"happened\", \"hard\", \"hatred\", \"help\", \"helped_slow\", \"high\", \"high\", \"high\", \"higher\", \"higher\", \"higher\", \"higher\", \"higher\", \"highest\", \"hike\", \"historic\", \"history\", \"hit\", \"home\", \"hope\", \"house\", \"housing\", \"huge\", \"hunter\", \"impact\", \"increase\", \"increased\", \"independent\", \"index\", \"india\", \"india\", \"inf\", \"infla\", \"inflati\", \"inflation\", \"inflation\", \"inflation\", \"inflation\", \"inflation\", \"inflation\", \"inflation\", \"inflation\", \"inflation\", \"inflation\", \"interest\", \"interesting\", \"investigation\", \"investment\", \"investor\", \"issue\", \"january\", \"job\", \"job\", \"job\", \"job\", \"job\", \"job\", \"job\", \"job_creation_early\", \"jobs_manufacturing_booming\", \"joe\", \"joe\", \"joe\", \"join\", \"judging_girl_saying\", \"keep\", \"keep\", \"keep\", \"keeping\", \"key\", \"kid\", \"know\", \"know\", \"labour\", \"last\", \"last\", \"last_quarter_announced\", \"latest\", \"law\", \"le\", \"lead\", \"learned\", \"let\", \"level\", \"level\", \"level\", \"lie\", \"lie\", \"lie\", \"life\", \"like\", \"like\", \"like\", \"like\", \"like\", \"likely\", \"line\", \"living\", \"lol\", \"losing_jobs_jeep\", \"lost\", \"love\", \"low\", \"low\", \"low\", \"low\", \"lower\", \"lower\", \"lower\", \"lower\", \"lowering\", \"lying\", \"major\", \"make\", \"make\", \"man_incompetent_corrupt\", \"many\", \"many\", \"market\", \"market\", \"marriag\", \"matching\", \"maybe\", \"maybe\", \"mean\", \"mean\", \"measure\", \"monetary\", \"money\", \"money\", \"month\", \"month\", \"month\", \"month\", \"month\", \"month\", \"morning\", \"morning_received_another\", \"much\", \"much\", \"must\", \"near\", \"need\", \"need\", \"need\", \"need\", \"never\", \"new\", \"new\", \"new\", \"new\", \"new\", \"news\", \"next\", \"nh\", \"nh\", \"nhs_staff_asking\", \"nothing_brag\", \"november\", \"november\", \"number\", \"nurse\", \"october\", \"october\", \"oh\", \"oh\", \"oil\", \"oil\", \"one\", \"one\", \"one\", \"one\", \"one\", \"one\", \"pace_lowering\", \"paid\", \"pakistan\", \"pandemic\", \"pay\", \"pay\", \"pay\", \"pay\", \"pay\", \"paying\", \"pdm\", \"peak\", \"people\", \"people\", \"per\", \"percent\", \"plan\", \"please\", \"plenty\", \"plummeting\", \"point\", \"point\", \"point\", \"policy\", \"policy\", \"policy\", \"poor\", \"post\", \"powell\", \"power\", \"present\", \"president\", \"president\", \"president\", \"president\", \"president\", \"price\", \"price\", \"price\", \"price\", \"price\", \"printing\", \"private\", \"problem\", \"problem\", \"problem\", \"professor\", \"profit\", \"profit\", \"profit\", \"profits_accounted_roughly\", \"public\", \"public\", \"putting\", \"question\", \"raise\", \"raise\", \"raise\", \"raise\", \"raised\", \"raising\", \"rate\", \"rate\", \"rea\", \"reach_savings_account\", \"real\", \"real\", \"real\", \"real\", \"real\", \"reality\", \"really\", \"reason\", \"reason_optimistic\", \"reasonable\", \"recession\", \"recession\", \"recession\", \"recession\", \"recession\", \"recession\", \"record\", \"record\", \"record\", \"record\", \"reduce\", \"reduction\", \"related\", \"reminder\", \"reminder\", \"report\", \"report\", \"report\", \"reporting_mention_corporate\", \"reports_showing\", \"republican\", \"republicans_busy_pronouns\", \"respect\", \"retail\", \"retail\", \"retail\", \"rich\", \"rights_lgbtq_appointing_judges\", \"rise\", \"rising_double_digits\", \"rose\", \"run\", \"russia\", \"russian\", \"russian\", \"said\", \"said\", \"said\", \"said\", \"saving\", \"say\", \"say\", \"say\", \"saying\", \"sector\", \"sector\", \"see\", \"see\", \"see\", \"see\", \"see\", \"seems\", \"shortage\", \"show\", \"show\", \"show\", \"sign\", \"signed\", \"significantly\", \"significantly_without_stopping\", \"since\", \"since\", \"since\", \"slowing\", \"soaring\", \"someone\", \"something\", \"spending\", \"spending\", \"squeezed\", \"staff\", \"start\", \"start\", \"starting_january_largest\", \"state\", \"statscan_dele\", \"still\", \"still\", \"still\", \"still\", \"stock\", \"stock_buybacks_folks\", \"stop\", \"stop\", \"stop\", \"stop\", \"straight\", \"struggling\", \"support\", \"sure\", \"take\", \"take_victory_lap\", \"taking\", \"talk\", \"talk_things_anymore\", \"talking\", \"target\", \"tax\", \"tax\", \"tax\", \"tell\", \"th\", \"th\", \"th\", \"th\", \"thanks\", \"thanks\", \"thing\", \"thing\", \"think\", \"think\", \"think\", \"think\", \"think\", \"think\", \"though\", \"time\", \"time\", \"time\", \"time\", \"time\", \"time\", \"today\", \"today\", \"today\", \"today\", \"today\", \"told\", \"took_office\", \"tory\", \"tory\", \"trading_card\", \"transitory\", \"travel_families_cannot\", \"trudeau\", \"trump\", \"trump\", \"trump\", \"trying\", \"trying_outlaw_cash_transaction\", \"tweet\", \"twitter\", \"two\", \"u\", \"uk\", \"uk\", \"uk\", \"uk\", \"ukraine\", \"understand\", \"unemployment\", \"unemployment\", \"union\", \"value\", \"voted\", \"wage\", \"wage\", \"wage\", \"wage\", \"wage\", \"wage\", \"wage\", \"waiting\", \"war\", \"war\", \"war\", \"watch_wealthiest_corporations\", \"way\", \"way\", \"week\", \"went\", \"white_house\", \"wholesale\", \"whose\", \"wo\", \"word\", \"worker\", \"worker\", \"worker\", \"working\", \"world\", \"world\", \"worry\", \"worst\", \"worth\", \"worth\", \"would\", \"would\", \"would\", \"wrote_thread_yesterday\", \"year\", \"year\", \"year\", \"year\", \"year\", \"year\", \"year\", \"years_profit_pushed\", \"yes\", \"yet\", \"zero\", \"zero_plans_dealing\"]}, \"R\": 30, \"lambda.step\": 0.01, \"plot.opts\": {\"xlab\": \"PC1\", \"ylab\": \"PC2\"}, \"topic.order\": [8, 6, 5, 9, 10, 4, 1, 3, 2, 7]};\n",
       "\n",
       "function LDAvis_load_lib(url, callback){\n",
       "  var s = document.createElement('script');\n",
       "  s.src = url;\n",
       "  s.async = true;\n",
       "  s.onreadystatechange = s.onload = callback;\n",
       "  s.onerror = function(){console.warn(\"failed to load library \" + url);};\n",
       "  document.getElementsByTagName(\"head\")[0].appendChild(s);\n",
       "}\n",
       "\n",
       "if(typeof(LDAvis) !== \"undefined\"){\n",
       "   // already loaded: just create the visualization\n",
       "   !function(LDAvis){\n",
       "       new LDAvis(\"#\" + \"ldavis_el970140423765618576961661120\", ldavis_el970140423765618576961661120_data);\n",
       "   }(LDAvis);\n",
       "}else if(typeof define === \"function\" && define.amd){\n",
       "   // require.js is available: use it to load d3/LDAvis\n",
       "   require.config({paths: {d3: \"https://d3js.org/d3.v5\"}});\n",
       "   require([\"d3\"], function(d3){\n",
       "      window.d3 = d3;\n",
       "      LDAvis_load_lib(\"https://cdn.jsdelivr.net/gh/bmabey/pyLDAvis@3.4.0/pyLDAvis/js/ldavis.v3.0.0.js\", function(){\n",
       "        new LDAvis(\"#\" + \"ldavis_el970140423765618576961661120\", ldavis_el970140423765618576961661120_data);\n",
       "      });\n",
       "    });\n",
       "}else{\n",
       "    // require.js not available: dynamically load d3 & LDAvis\n",
       "    LDAvis_load_lib(\"https://d3js.org/d3.v5.js\", function(){\n",
       "         LDAvis_load_lib(\"https://cdn.jsdelivr.net/gh/bmabey/pyLDAvis@3.4.0/pyLDAvis/js/ldavis.v3.0.0.js\", function(){\n",
       "                 new LDAvis(\"#\" + \"ldavis_el970140423765618576961661120\", ldavis_el970140423765618576961661120_data);\n",
       "            })\n",
       "         });\n",
       "}\n",
       "</script>"
      ]
     },
     "metadata": {
      "application/vnd.databricks.v1+output": {
       "addedWidgets": {},
       "arguments": {},
       "data": "\n<link rel=\"stylesheet\" type=\"text/css\" href=\"https://cdn.jsdelivr.net/gh/bmabey/pyLDAvis@3.4.0/pyLDAvis/js/ldavis.v1.0.0.css\">\n\n\n<div id=\"ldavis_el970140423765618576961661120\" style=\"background-color:white;\"></div>\n<script type=\"text/javascript\">\n\nvar ldavis_el970140423765618576961661120_data = {\"mdsDat\": {\"x\": [0.20020791424273654, 0.0879678375312125, 0.19150759258288433, 0.03245972184752565, -0.15113355339455606, -0.03840554314702011, -0.08504353561531872, -0.1523749969234283, 0.14043764882591606, -0.22562308594995212], \"y\": [0.04588043267032452, 0.06941724980074752, -0.048979916634530066, -0.23966769851667413, 0.09201265958829766, -0.2189343750450052, -0.10901688900069265, 0.1245399294547341, 0.22214023473839561, 0.06260837294440269], \"topics\": [1, 2, 3, 4, 5, 6, 7, 8, 9, 10], \"cluster\": [1, 1, 1, 1, 1, 1, 1, 1, 1, 1], \"Freq\": [13.956252919454384, 12.68201312699953, 12.108525220715684, 11.545778498271686, 10.345394964711009, 9.552165950092123, 7.894635855974438, 7.477801582147096, 7.260754700490024, 7.176677181144019]}, \"tinfo\": {\"Term\": [\"u\", \"price\", \"rate\", \"last\", \"gas\", \"told\", \"week\", \"major\", \"pay\", \"rise\", \"easing\", \"respect\", \"people\", \"announcement\", \"fed\", \"signed\", \"couple\", \"marriag\", \"false\", \"high\", \"profit\", \"november\", \"republican\", \"act\", \"reduction\", \"increase\", \"would\", \"cost\", \"corporate\", \"record\", \"fed\", \"interest\", \"infla\", \"current\", \"day\", \"hike\", \"stock\", \"next\", \"trying_outlaw_cash_transaction\", \"absolutely_tyrannical_eu\", \"powell\", \"raising\", \"issue\", \"two\", \"target\", \"key\", \"raised\", \"squeezed\", \"fuelled\", \"years_profit_pushed\", \"economist\", \"likely\", \"bps\", \"ecb\", \"peak\", \"hope\", \"forecast\", \"bitcoin\", \"expect\", \"investor\", \"rate\", \"market\", \"worth\", \"ahead\", \"cpi\", \"cannot\", \"year\", \"inflation\", \"point\", \"high\", \"raise\", \"data\", \"higher\", \"see\", \"pay\", \"time\", \"big\", \"recession\", \"say\", \"news\", \"consumer\", \"global\", \"le\", \"highest\", \"number\", \"due\", \"rose\", \"fell\", \"actually\", \"decline\", \"percent\", \"measure\", \"figure\", \"economies_around\", \"rising_double_digits\", \"jobs_manufacturing_booming\", \"lost\", \"index\", \"join\", \"morning\", \"election\", \"transitory\", \"though\", \"feel\", \"putting\", \"struggling\", \"wholesale\", \"question\", \"drug\", \"show\", \"retail\", \"november\", \"india\", \"good\", \"expected\", \"world\", \"many\", \"core\", \"month\", \"lower\", \"gdp\", \"inflation\", \"report\", \"th\", \"year\", \"coming\", \"cpi\", \"economic\", \"economy\", \"price\", \"today\", \"wage\", \"rate\", \"low\", \"food\", \"fight\", \"debt\", \"mean\", \"already\", \"trudeau\", \"printing\", \"gone\", \"reason\", \"sure\", \"england\", \"care\", \"fathom\", \"face\", \"taking\", \"congress\", \"brought\", \"run\", \"pdm\", \"value\", \"union\", \"government_deleted_weather\", \"conflicted_climate_change_narrative\", \"statscan_dele\", \"monetary\", \"impact\", \"saving\", \"home\", \"call\", \"canada\", \"seems\", \"maybe\", \"money\", \"first\", \"spending\", \"way\", \"start\", \"know\", \"make\", \"oil\", \"also\", \"caused\", \"stop\", \"ever\", \"new\", \"amp\", \"need\", \"keep\", \"bank\", \"inflation\", \"like\", \"could\", \"government\", \"one\", \"going\", \"get\", \"still\", \"high\", \"think\", \"time\", \"real\", \"control\", \"take\", \"working\", \"must\", \"pandemic\", \"aim\", \"really\", \"judging_girl_saying\", \"reach_savings_account\", \"covid\", \"never\", \"free\", \"tell\", \"saying\", \"account\", \"buy\", \"inflati\", \"please\", \"something\", \"anything\", \"trading_card\", \"hard\", \"talk\", \"lol\", \"life\", \"power\", \"trying\", \"love\", \"understand\", \"profits_accounted_roughly\", \"oh\", \"people\", \"say\", \"since\", \"thanks\", \"policy\", \"corporate\", \"like\", \"lie\", \"thing\", \"inflation\", \"ago\", \"going\", \"trump\", \"profit\", \"biden\", \"get\", \"today\", \"president\", \"price\", \"year\", \"rise\", \"nurse\", \"line\", \"demand\", \"govt\", \"significantly\", \"bottom\", \"created\", \"living\", \"fact\", \"yet\", \"take_victory_lap\", \"collapsing_productivity\", \"man_incompetent_corrupt\", \"busting\", \"support\", \"cost_rishi_sunaks\", \"adjusted\", \"history\", \"law\", \"staff\", \"former\", \"private\", \"related\", \"dems\", \"fuck\", \"brexit\", \"post\", \"soaring\", \"professor\", \"dropped\", \"would\", \"pay\", \"much\", \"cost\", \"public\", \"sector\", \"breaking\", \"blame\", \"worker\", \"got\", \"october\", \"dollar\", \"joe\", \"inflation\", \"lower\", \"wage\", \"biden\", \"november\", \"tax\", \"amp\", \"trump\", \"get\", \"act\", \"reduction\", \"hit\", \"latest\", \"rea\", \"crisis\", \"reporting_mention_corporate\", \"help\", \"watch_wealthiest_corporations\", \"beginnin\", \"paying\", \"ukraine\", \"reduce\", \"climate\", \"expensive\", \"grocery\", \"paid\", \"poor\", \"wo\", \"russia\", \"reality\", \"far_enough_explaining\", \"wrote_thread_yesterday\", \"took_office\", \"lying\", \"ghana\", \"worry\", \"shortage\", \"lead\", \"rich\", \"border\", \"america\", \"record\", \"cut\", \"tax\", \"energy\", \"high\", \"another\", \"war\", \"profit\", \"getting\", \"crime\", \"corporation\", \"inflation\", \"bidens\", \"corporate\", \"said\", \"biden\", \"big\", \"people\", \"republican\", \"plan\", \"last_quarter_announced\", \"exxonmobil_raked_billion\", \"stock_buybacks_folks\", \"gree\", \"plummeting\", \"sign\", \"credit\", \"dropping\", \"near\", \"waiting\", \"historic\", \"combat\", \"gop\", \"zero_plans_dealing\", \"dr_fauci_still\", \"republicans_busy_pronouns\", \"job_creation_early\", \"voted\", \"guy\", \"done\", \"house\", \"hunter\", \"cooling\", \"causing\", \"talk_things_anymore\", \"common\", \"investigation\", \"lowering\", \"gas\", \"price\", \"give\", \"billion\", \"unemployment\", \"reminder\", \"still\", \"biden\", \"low\", \"inflation\", \"president\", \"corporate\", \"profit\", \"year\", \"easing\", \"week\", \"major\", \"respect\", \"announcement\", \"signed\", \"couple\", \"marriag\", \"keeping\", \"came\", \"reasonable\", \"plenty\", \"learned\", \"reason_optimistic\", \"morning_received_another\", \"helped_slow\", \"reports_showing\", \"significantly_without_stopping\", \"white_house\", \"someone\", \"nothing_brag\", \"happened\", \"god\", \"fair_share\", \"starting_january_largest\", \"federal_taxesthanks\", \"whose\", \"dark_brandon_protecting_marriage\", \"pace_lowering\", \"rights_lgbtq_appointing_judges\", \"chewing\", \"last\", \"easing\", \"nh\", \"new\", \"decade\", \"inflation\", \"wage\", \"job\", \"money\", \"worker\", \"pay\", \"year\", \"month\", \"president\", \"going\", \"record\", \"biden\", \"increase\", \"country\", \"increased\", \"slowing\", \"falling\", \"yes\", \"eu\", \"housing\", \"went\", \"faster\", \"straight\", \"pakistan\", \"hatred\", \"benefit\", \"state\", \"five\", \"labour\", \"deal\", \"per\", \"inf\", \"financial\", \"huge\", \"tweet\", \"cherokee_plant_belvidere_illinois\", \"losing_jobs_jeep\", \"auto_maker_finance\", \"investment\", \"matching\", \"word\", \"find\", \"bad\", \"food\", \"problem\", \"economy\", \"unemployment\", \"inflation\", \"government\", \"price\", \"month\", \"level\", \"amp\", \"wage\", \"worker\", \"come\", \"uk\", \"market\", \"u\", \"told\", \"false\", \"zero\", \"twitter\", \"christmas\", \"collusion\", \"let\", \"driving\", \"worst\", \"enough\", \"business\", \"present\", \"gave\", \"dinner\", \"travel_families_cannot\", \"afford_jo\", \"talking\", \"best\", \"independent\", \"agree\", \"nhs_staff_asking\", \"badly_needed_pay\", \"fear\", \"interesting\", \"january\", \"article\", \"kid\", \"case\", \"deflation\", \"russian\", \"tory\", \"fall\", \"expectation\", \"inflation\", \"one\", \"democrat\", \"cost\", \"breaking\", \"way\", \"lower\", \"year\", \"th\"], \"Freq\": [67504.0, 72458.0, 60932.0, 38720.0, 36222.0, 31986.0, 28162.0, 26375.0, 50141.0, 27804.0, 27940.0, 22573.0, 33081.0, 22426.0, 29142.0, 22064.0, 21696.0, 21223.0, 20368.0, 37580.0, 37433.0, 30525.0, 17362.0, 18670.0, 17075.0, 14792.0, 23675.0, 23359.0, 29225.0, 25174.0, 29141.162829786917, 17663.929393787563, 9738.396754474188, 9393.206485999859, 8889.358861559762, 8291.35642162425, 7384.475303328547, 6636.639775764177, 6235.770108749928, 6235.230560047684, 6010.170791354533, 4198.082394787206, 3484.235056244777, 3461.3153127297605, 3241.8560370377727, 3131.3891661529087, 2878.2088475083237, 2856.47502227865, 2815.410372302505, 2708.3441225701977, 2613.400822541232, 2375.327116621827, 2372.267984366063, 2342.2903656037042, 2206.2576346561104, 2150.6816777776157, 2108.050759595896, 2064.404761444436, 2029.8349712117956, 2025.4866667436763, 53041.58586075115, 13345.210367242405, 3386.1843762159706, 3318.2999880343373, 7970.1646186006, 6751.889180813851, 18311.985582850524, 62254.28721076703, 4768.722919533207, 11077.552878755465, 5204.4113126114025, 5874.321664662609, 6229.295899791826, 5499.176868758689, 9048.393939163981, 5204.452614182208, 3767.866835309502, 3882.5842010334427, 3626.620344251011, 9985.257998866093, 8479.369163994603, 6568.980581832291, 6359.33239605843, 5820.809379056065, 6449.230554584388, 5624.040684360275, 4405.62902328354, 4355.971896194492, 3221.335781987884, 3211.8302951820074, 2744.0530408296327, 2480.427269265258, 2365.385631031035, 2360.5129601832914, 2359.073830845632, 2212.1981944709883, 2194.3994604364525, 2121.9661838689512, 2071.367890758582, 2007.209778476426, 1967.5644606060296, 1933.334643070388, 1915.2863302993665, 1808.0908129313073, 1776.647986385393, 1717.8364545408358, 1712.7261465229456, 1677.025298608139, 1672.386853054446, 5287.7317163043035, 4765.35574411798, 24584.516141566528, 3573.197787231432, 12085.484731808625, 9619.416854878453, 10788.907671727844, 7836.066067306957, 4844.6262497898015, 14393.969652203154, 13518.639192047065, 3896.7504329364297, 101899.59373724625, 5890.86952520439, 6257.184237594274, 15445.964327154234, 4319.344723919385, 6866.038303707054, 6237.67308294672, 6975.3766498577515, 14900.974440197862, 6124.0303139122125, 6286.887348518395, 7889.8372345936095, 5238.97361856678, 5326.285575011311, 7095.343749832368, 4690.964793576469, 6140.776975552417, 3830.482078979997, 3271.455356956117, 3015.3199212636896, 2985.1494340256822, 2912.685667461095, 2870.998625466617, 2760.402172378031, 2608.96239287269, 2513.536206478701, 2421.6301708696074, 2371.8700086801746, 2240.4718946143253, 2237.1853129681276, 2098.173398770872, 2081.3108145371734, 2034.2303451440164, 1986.5016155193264, 1978.3674155286872, 1978.3441237665993, 1959.4134590907474, 1911.7546047523206, 1899.3633873216463, 1882.7892626030343, 1870.263669621854, 1861.0521849147933, 1836.0799954881845, 1814.918208035565, 2575.9669243644057, 14904.278029143907, 3906.655262256375, 8127.327129149381, 8403.541366797075, 3300.4977410876936, 7420.084337796667, 5286.984697456055, 5283.121196779684, 5651.353531101622, 5016.827946745723, 5298.737427422507, 3577.149147193035, 8809.164634604218, 10052.643077338238, 5714.64783585858, 4850.476878879488, 5493.677097258244, 45134.35569309802, 6736.910569291705, 3986.808242140107, 5854.644030603361, 5545.080550270776, 5620.8892093265085, 4876.466576262475, 5239.095205809123, 5403.713887790287, 4089.224563231699, 4341.519301371478, 3844.3900298971116, 14468.129685947575, 13660.097365700682, 12517.222535109571, 10793.826541808745, 8850.815330625643, 6930.555110948584, 5892.988259800543, 5488.407394000755, 5488.407394000755, 4773.161683274477, 4065.4000311652403, 3686.011934276184, 3651.8397859970833, 3608.613399126293, 3537.993506426793, 3499.164865961751, 3111.9066108100565, 2787.983296637705, 2567.835988093396, 2550.8493120926955, 2544.42570736951, 2447.2918270605305, 2378.4055000264125, 2362.803409037975, 2356.5919572173975, 2279.5950526722977, 2243.5610530048616, 2241.2317197447474, 2168.3849981158214, 2109.4852331538877, 2893.488208643371, 28895.488740292327, 15505.448662986859, 9811.446779826996, 4775.260226480948, 6445.36297577976, 13261.761809212516, 8896.450258648443, 3806.966733870174, 4798.808266812896, 46803.720918096944, 3951.0803679586766, 7242.7919995648235, 5515.1517057351, 10060.153969235585, 9623.455701058236, 6364.139786618429, 5346.467472961229, 5369.0215319046765, 4932.96748791475, 4497.764229869543, 27803.403765765124, 10999.088905696284, 10412.79630020303, 6681.747460561088, 6262.362426768541, 6083.214680729507, 5742.409128062517, 4214.630634811368, 3748.7124538173834, 3655.987664119432, 3608.5168401854044, 3551.1696556529982, 3366.9054621888545, 3366.6090461246786, 3337.5599935105197, 2390.871377595221, 2291.649509592964, 1992.1896838418663, 1976.4043455435044, 1899.3409003818579, 1880.3613658764423, 1814.5557471671996, 1774.9229711123114, 1771.6212023148316, 1686.9679751231022, 1652.0398647403208, 1644.8469740787957, 1545.9922166762083, 1398.92517769174, 1343.0636917044694, 6833.452923881255, 17805.43743333934, 33883.19616299688, 8883.981324864566, 16893.29423101035, 9053.886456200176, 8137.94912824974, 12155.869713125843, 3818.348519553122, 11551.414735159493, 3566.4875472097797, 6374.168896225948, 4155.064365509315, 6376.590879878959, 50577.400109160386, 8490.874062229843, 6695.8869243096815, 7718.275193166476, 5940.353827444432, 5038.20137726535, 4816.754919705975, 3894.737026728265, 3773.801499144133, 18669.0637978512, 17074.229364031456, 11928.70911219124, 11106.71955237514, 7693.466469434071, 7851.703640836313, 7432.098852595832, 4579.678953882901, 3935.6516669364496, 3890.5210788482186, 3829.940840242515, 3415.1832934408567, 3115.2579807994443, 2969.694770444803, 2654.2321755750377, 2471.9898260346436, 2444.1363051679173, 2353.365014780021, 2059.289568562775, 1924.360504871223, 1818.038312077036, 1755.5057623054577, 1755.5057623054577, 1695.7815390339033, 1646.0004311334756, 1462.3798737764978, 1429.8568162453603, 1388.138468207213, 1297.3661498813592, 1279.442124207822, 6956.00630374314, 9072.778805353279, 17181.99118393519, 7787.907755314906, 12306.435194072195, 7680.597200174537, 21098.706177817672, 6600.910789966605, 4991.397402113065, 20310.779398100876, 6645.592683136366, 3966.532722072647, 3763.0061461677333, 59118.603344484865, 4411.045217978009, 8825.806431672556, 4466.967612713568, 5029.355039133519, 3774.296759708962, 4185.492501487713, 17361.577095951, 9897.679766216586, 6642.82955192117, 6642.388202360249, 6642.376308435604, 6637.416966641818, 6411.419654903212, 5742.7219722311265, 5403.6814024058, 5009.317516445061, 4781.6257452276195, 4229.835571802688, 3973.010481734278, 3783.6579270427455, 3338.018482372973, 3147.3909414378386, 3147.2131697427035, 3140.0271153422336, 3095.474172755553, 2927.138395302588, 2918.564787157415, 2739.0519064111736, 2539.2600965373545, 2297.1915439057198, 2057.3441817014686, 1974.5289083160455, 1891.4766060037757, 1868.7067492291947, 1730.5358761986076, 1722.0249235493309, 34033.119657983494, 41370.750234124505, 6601.564005149658, 9251.53126553862, 11042.233833901144, 5104.398399620256, 11216.768682400587, 11135.946915742208, 6738.991083106934, 36142.925180202765, 6235.065460716165, 7137.3020529175965, 7061.638426507779, 5415.55323833323, 3578.5561169896346, 28161.378816746197, 26374.747295048222, 22572.528382164786, 22425.205435580046, 22063.42747979238, 21695.733301762088, 21222.572322920718, 5135.580258432263, 4563.912006536249, 4508.377010954198, 4323.583986241799, 2949.206208998498, 2792.23037287194, 2792.2293669854052, 2244.4157142603453, 2243.077080459936, 2242.8869679048735, 1876.3678665244458, 1674.197749570095, 1336.8806407678615, 1259.881133010012, 1009.5028979925319, 1001.4941299917216, 991.6058630007816, 926.2712190314996, 905.1656071712904, 900.839892717368, 900.1786229094412, 900.1786229094412, 900.0106398581424, 37197.67439754196, 24361.50804538942, 4800.080082477699, 6810.108542317667, 2072.630210683062, 42762.766596882444, 5738.8248980716835, 3471.551418196295, 4494.255168715917, 4360.107323962973, 6157.190409111333, 5585.109341381469, 4489.645391904588, 3584.2239877875177, 3472.7114065481373, 3600.8247368019706, 2910.2502352817496, 14791.193010714564, 11441.102713498536, 6047.623802055284, 5043.805855335282, 4310.236519156487, 4212.505383502103, 3976.793319134006, 3355.2296409515443, 3145.8188664834406, 2497.039911729056, 2488.4608605120197, 2419.229544356384, 2414.9899276161455, 2401.669631581607, 2397.273549074278, 2113.6561986655274, 2093.05565401743, 2020.4623749187303, 1937.9310778843333, 1787.5432537939041, 1657.7823449864754, 1634.597478117895, 1621.6954008191128, 1601.6793075756775, 1601.6793075756775, 1600.1755953721042, 1587.0495630146838, 1532.533647148967, 1504.8328578877763, 1483.5107345335211, 4010.755962156414, 7088.94391701577, 3160.200629407329, 5671.901637452207, 5305.476782025707, 29100.519902623535, 5407.436204814223, 8512.731609649454, 5569.238997732948, 2531.7678891777564, 4523.611679071657, 4379.1740469055, 3686.0381215401717, 2790.6335663286222, 2774.5992436174865, 3031.6424168895087, 67503.45547235121, 31985.260813507546, 20367.64161702027, 12742.445662758177, 12720.292113774527, 11058.50177197263, 9781.997057148768, 6085.406523491993, 4643.461097403345, 4269.186599051225, 3837.538000046472, 3835.37284492792, 3600.2227886539786, 3278.4028125328146, 3108.1691807523403, 2844.043425418157, 2837.118945021176, 2380.2186983140036, 2306.6426187267093, 1910.7227476235098, 1582.6865906909193, 1569.2952201975609, 1569.2949305834466, 1470.1744034241701, 1462.9559647011686, 1439.5737761065952, 1373.0200664869174, 1152.9640220843391, 1075.4664708513033, 1072.2890178652137, 10710.805740118603, 3962.462469024149, 5853.018999716378, 3774.955865314311, 33175.03884411778, 4191.62137465348, 3345.7083603932306, 4742.219896533853, 3312.71590664364, 2571.8173563829096, 3135.3232070335976, 2637.727929592752, 2414.105480448571], \"Total\": [67504.0, 72458.0, 60932.0, 38720.0, 36222.0, 31986.0, 28162.0, 26375.0, 50141.0, 27804.0, 27940.0, 22573.0, 33081.0, 22426.0, 29142.0, 22064.0, 21696.0, 21223.0, 20368.0, 37580.0, 37433.0, 30525.0, 17362.0, 18670.0, 17075.0, 14792.0, 23675.0, 23359.0, 29225.0, 25174.0, 29142.119996037167, 17664.886556827867, 9739.353891389483, 9394.163633250651, 8890.316091181772, 8292.313568322124, 7385.432492890883, 6637.596964578952, 6236.727208422711, 6236.187659708187, 6011.127955265951, 4199.040308768839, 3485.192356585778, 3462.2725354062504, 3242.81619553453, 3132.3463386458416, 2879.166015885721, 2857.432125412403, 2816.3674777977126, 2709.3012222816633, 2614.3580544120623, 2376.2843144259245, 2373.225111203783, 2343.247497508171, 2207.21481869341, 2151.638895562953, 2109.0079208834513, 2065.361947117578, 2030.7921539042102, 2026.4438427027433, 60932.27914386497, 16377.697522026805, 3598.8183769809443, 3719.1689216075706, 14837.058926376307, 11668.085238319476, 53558.65086225727, 506969.21153668, 8065.692745534121, 37580.71953593567, 9767.10036485407, 13030.327586602667, 14752.315459307738, 11711.61671266028, 50141.18809383267, 15694.059366783931, 8633.70386668156, 10783.029414725925, 22783.426887852555, 9986.217309048936, 8480.328433514227, 6569.939920933426, 6360.291728582542, 5821.780272194463, 6450.317838423386, 5625.000026194188, 4406.58829332336, 4356.931153029757, 3222.2951411221566, 3212.789559541703, 2745.0123354790203, 2481.3865489501086, 2366.346737145925, 2361.472187494341, 2360.0330574354466, 2213.1574431738363, 2195.3588102124368, 2122.9254533100384, 2072.3271847035307, 2008.1690923124147, 1968.5238274577255, 1934.2939443311113, 1916.2456830942124, 1809.0501898674686, 1777.6072693503904, 1718.7957975672955, 1713.6853830666887, 1677.9846487047519, 1673.3558724451, 5298.090473888872, 5065.916631537747, 30525.726126673464, 3821.7548374966177, 14664.428980081602, 11973.348734793504, 14206.069520213063, 10107.243954761892, 5865.5930234526395, 29410.44836999378, 27276.60032580786, 4962.224673515714, 506969.21153668, 9246.631364445308, 10731.213584194571, 53558.65086225727, 6514.620355244411, 14837.058926376307, 12909.751505117472, 16163.016320248476, 72458.6812492567, 16539.440733793777, 24599.003588682386, 60932.27914386497, 15996.223534571078, 19010.116484739206, 7096.2974825940355, 4691.918529340801, 6142.200122091085, 3831.4358861854885, 3272.409048051456, 3016.273625718047, 2986.1031942489863, 2913.63942152729, 2871.95236746756, 2761.355906884987, 2609.916142396717, 2514.4898708560377, 2422.5839455488044, 2372.8237769168004, 2241.425624841501, 2238.139064896709, 2099.127167520881, 2082.264502159721, 2035.1842533402853, 1987.45537500661, 1979.321076909195, 1979.297785147107, 1960.3671204712552, 1912.7083437294716, 1900.3171656185018, 1883.743001351794, 1871.218020792319, 1862.005956254529, 1837.033736036541, 1815.8719680126383, 2584.245729825956, 19399.401031621506, 4309.0640858636625, 10406.347224258961, 10976.20299486561, 3675.1465309306423, 9896.903596780368, 6870.9235099919215, 7382.175063259304, 8271.661407523681, 7080.143760233018, 7801.275046078761, 4565.379806850803, 18842.23907935698, 25201.20979050363, 10257.079629325122, 8316.996313085787, 10679.180528474553, 506969.21153668, 19045.659119631477, 6952.718411479519, 17938.886842012078, 15940.335754385284, 17641.632124692933, 16482.786514252944, 22784.936684446322, 37580.71953593567, 10656.113039858377, 15694.059366783931, 10135.612394171776, 14469.085702710163, 13661.053391939768, 12518.178544906967, 10794.78255036147, 8851.77135745789, 6931.511091432215, 5893.944332827141, 5489.363363515653, 5489.363363515653, 4774.1177940091275, 4066.3561142195827, 3686.967972946661, 3652.795847922434, 3609.5694536293095, 3538.9495234826572, 3500.1210630653627, 3112.86266916277, 2788.9393584898794, 2568.792058844708, 2551.805399174279, 2545.381686095037, 2448.2478836358778, 2379.3615720260395, 2363.7594557108673, 2357.5518211115523, 2280.5511465493796, 2244.517126578455, 2242.187778578828, 2169.3410571217996, 2110.441202668786, 2898.620991333303, 33081.83340178945, 22783.426887852555, 15125.423397751887, 5994.689377408725, 10018.251653100213, 29225.61628595128, 19045.659119631477, 5269.5723460291865, 8053.308615997389, 506969.21153668, 5668.629357964595, 17641.632124692933, 10785.9783345058, 37433.317794744085, 39887.09122498969, 16482.786514252944, 16539.440733793777, 18714.897321135446, 72458.6812492567, 53558.65086225727, 27804.361088042642, 11000.046208261974, 10413.753600654203, 6682.70479063205, 6263.319783358715, 6084.171961076567, 5743.366405444878, 4215.588136739996, 3749.669807992175, 3656.9450511128625, 3609.4742356667093, 3552.126917808978, 3367.8627191846194, 3367.5663025351846, 3338.51725833071, 2391.830054665539, 2292.60676600347, 1993.147022040902, 1977.3617599028134, 1900.2982494092805, 1881.3186757203873, 1815.5130772600023, 1775.8803026761457, 1772.5785370685658, 1687.9253633476237, 1652.9972076968738, 1645.8043354046495, 1546.949639998024, 1399.8825472517083, 1344.020970645922, 7467.711108712683, 23675.227089649925, 50141.18809383267, 11132.898584792738, 23359.991895728406, 11447.1793660568, 10158.079861438984, 18158.78944881165, 4591.013958210652, 19598.295212646215, 4286.689971590755, 9810.726610902268, 5894.191211794915, 12059.794888829261, 506969.21153668, 27276.60032580786, 24599.003588682386, 39887.09122498969, 30525.726126673464, 18132.297150385242, 25201.20979050363, 10785.9783345058, 16482.786514252944, 18670.020285423132, 17075.185859722664, 11929.665625624479, 11107.676070269632, 7694.422933072269, 7852.680041083004, 7433.055311032524, 4580.635533702362, 3936.6081254300348, 3891.477537358713, 3830.897365126368, 3416.14113197204, 3116.21453007545, 2970.651272105451, 2655.188690552117, 2472.946387648948, 2445.0928687198684, 2354.3220742653803, 2060.2460508647596, 1925.317055468393, 1818.9948862427925, 1756.4622207506438, 1756.4622207506438, 1696.7381434813794, 1646.9569910728126, 1463.3364255928605, 1430.8133505131789, 1389.0950643749488, 1298.3227634986426, 1280.398683180172, 7076.962852593947, 11234.970524679753, 25174.98109793023, 10264.578246532856, 18132.297150385242, 10641.116268741844, 37580.71953593567, 9075.296368842555, 6412.017480414259, 37433.317794744085, 9501.285482288418, 4967.026712587219, 4807.474700599231, 506969.21153668, 7075.017925526625, 29225.61628595128, 9201.366516024225, 39887.09122498969, 8633.70386668156, 33081.83340178945, 17362.53150834508, 9898.634115863411, 6643.783832783714, 6643.342483222794, 6643.330589298149, 6638.3712476606215, 6412.3739454186325, 5743.6763076077195, 5404.635730241874, 5010.271825081629, 4782.580063003229, 4230.789868191253, 3973.964782971293, 3784.6122797859944, 3338.972898012737, 3148.3452223193417, 3148.1674506242066, 3140.9813962047783, 3096.428453629556, 2928.0927396444667, 2919.519179861542, 2740.006297601508, 2540.2144762774255, 2298.150558226691, 2058.2985466259956, 1975.4833224043593, 1892.4308868663206, 1869.6610622442658, 1731.4901805556647, 1722.9792599372847, 36222.822681085505, 72458.6812492567, 8531.416693837391, 12973.341203807397, 16348.552528464064, 6814.580483330904, 22784.936684446322, 39887.09122498969, 15996.223534571078, 506969.21153668, 18714.897321135446, 29225.61628595128, 37433.317794744085, 53558.65086225727, 27940.908630965532, 28162.329388803955, 26375.69785803521, 22573.478929751927, 22426.155975731082, 22064.378020996366, 21696.68384089773, 21223.52286019871, 5136.530819531492, 4564.86260269768, 4509.327559518378, 4324.534530008071, 2950.1567536796038, 2793.1809100579776, 2793.179904171443, 2245.36625149466, 2244.0276176554535, 2243.837505100391, 1877.3184512005296, 1675.1484555563027, 1337.8311847172117, 1260.8317911947145, 1010.4535474005439, 1002.4446749820838, 992.5564025501214, 927.2217562175376, 906.1161866942886, 901.790429903406, 901.1291600954792, 901.1291600954792, 900.9611770441804, 38720.109312032684, 27940.908630965532, 7245.15353848228, 18842.23907935698, 3325.0511380603075, 506969.21153668, 24599.003588682386, 10724.401268673058, 19399.401031621506, 19598.295212646215, 50141.18809383267, 53558.65086225727, 29410.44836999378, 18714.897321135446, 17641.632124692933, 25174.98109793023, 39887.09122498969, 14792.141020097793, 11442.05072684422, 6048.571815880654, 5044.7538546001815, 4311.184503304006, 4213.453409132448, 3977.7413080967995, 3356.1776446834097, 3146.7668559573153, 2497.9878861667084, 2489.4088406410838, 2420.177529539019, 2415.9378735219543, 2402.6176305718327, 2398.221558347798, 2114.604175633021, 2094.0036465871017, 2021.4103941311434, 1938.8791093698337, 1788.4912779066608, 1658.7311314960768, 1635.5455125054696, 1622.643400659018, 1602.6272389609067, 1602.6272389609067, 1601.1235267469212, 1587.9975813059682, 1533.4817152302126, 1505.7808695173524, 1484.4587697456313, 6005.571135024258, 19010.116484739206, 5114.135690293084, 16163.016320248476, 16348.552528464064, 506969.21153668, 17938.886842012078, 72458.6812492567, 29410.44836999378, 5136.959929452298, 25201.20979050363, 24599.003588682386, 19598.295212646215, 7143.168973231037, 9486.848472040201, 16377.697522026805, 67504.40641665245, 31986.211712460437, 20368.59250734994, 12743.396569694476, 12721.243023964042, 11059.452675734576, 9782.947943534007, 6086.357484514027, 4644.412023247078, 4270.13756352577, 3838.48895033717, 3836.323835943614, 3601.173690500719, 3279.353749085628, 3109.1200706314817, 2844.994309629256, 2838.069829232275, 2381.16968538418, 2307.5936222661503, 1911.6737474675892, 1583.6375908576456, 1570.246117353216, 1570.2458277391017, 1471.1254040645363, 1463.9069292851677, 1440.524757291494, 1373.971068287668, 1153.9150008031322, 1076.4174489337552, 1073.2400092112257, 12570.808806827734, 4710.411380653191, 10228.910455536536, 5878.902790560231, 506969.21153668, 15940.335754385284, 9770.896476992646, 23359.991895728406, 18158.78944881165, 10976.20299486561, 27276.60032580786, 53558.65086225727, 10731.213584194571], \"Category\": [\"Default\", \"Default\", \"Default\", \"Default\", \"Default\", \"Default\", \"Default\", \"Default\", \"Default\", \"Default\", \"Default\", \"Default\", \"Default\", \"Default\", \"Default\", \"Default\", \"Default\", \"Default\", \"Default\", \"Default\", \"Default\", \"Default\", \"Default\", \"Default\", \"Default\", \"Default\", \"Default\", \"Default\", \"Default\", \"Default\", \"Topic1\", \"Topic1\", \"Topic1\", \"Topic1\", \"Topic1\", \"Topic1\", \"Topic1\", \"Topic1\", \"Topic1\", \"Topic1\", \"Topic1\", \"Topic1\", \"Topic1\", \"Topic1\", \"Topic1\", \"Topic1\", \"Topic1\", \"Topic1\", \"Topic1\", \"Topic1\", \"Topic1\", \"Topic1\", \"Topic1\", \"Topic1\", \"Topic1\", \"Topic1\", \"Topic1\", \"Topic1\", \"Topic1\", \"Topic1\", \"Topic1\", \"Topic1\", \"Topic1\", \"Topic1\", \"Topic1\", \"Topic1\", \"Topic1\", \"Topic1\", \"Topic1\", \"Topic1\", \"Topic1\", \"Topic1\", \"Topic1\", \"Topic1\", \"Topic1\", \"Topic1\", \"Topic1\", \"Topic1\", \"Topic1\", \"Topic2\", \"Topic2\", \"Topic2\", \"Topic2\", \"Topic2\", \"Topic2\", \"Topic2\", \"Topic2\", \"Topic2\", \"Topic2\", \"Topic2\", \"Topic2\", \"Topic2\", \"Topic2\", \"Topic2\", \"Topic2\", \"Topic2\", \"Topic2\", \"Topic2\", \"Topic2\", \"Topic2\", \"Topic2\", \"Topic2\", \"Topic2\", \"Topic2\", \"Topic2\", \"Topic2\", \"Topic2\", \"Topic2\", \"Topic2\", \"Topic2\", \"Topic2\", \"Topic2\", \"Topic2\", \"Topic2\", \"Topic2\", \"Topic2\", \"Topic2\", \"Topic2\", \"Topic2\", \"Topic2\", \"Topic2\", \"Topic2\", \"Topic2\", \"Topic2\", \"Topic2\", \"Topic2\", \"Topic2\", \"Topic2\", \"Topic2\", \"Topic2\", \"Topic2\", \"Topic2\", \"Topic2\", \"Topic2\", \"Topic2\", \"Topic3\", \"Topic3\", \"Topic3\", \"Topic3\", \"Topic3\", \"Topic3\", \"Topic3\", \"Topic3\", \"Topic3\", \"Topic3\", \"Topic3\", \"Topic3\", \"Topic3\", \"Topic3\", \"Topic3\", \"Topic3\", \"Topic3\", \"Topic3\", \"Topic3\", \"Topic3\", \"Topic3\", \"Topic3\", \"Topic3\", \"Topic3\", \"Topic3\", \"Topic3\", \"Topic3\", \"Topic3\", \"Topic3\", \"Topic3\", \"Topic3\", \"Topic3\", \"Topic3\", \"Topic3\", \"Topic3\", \"Topic3\", \"Topic3\", \"Topic3\", \"Topic3\", \"Topic3\", \"Topic3\", \"Topic3\", \"Topic3\", \"Topic3\", \"Topic3\", \"Topic3\", \"Topic3\", \"Topic3\", \"Topic3\", \"Topic3\", \"Topic3\", \"Topic3\", \"Topic3\", \"Topic3\", \"Topic3\", \"Topic3\", \"Topic3\", \"Topic3\", \"Topic3\", \"Topic3\", \"Topic4\", \"Topic4\", \"Topic4\", \"Topic4\", \"Topic4\", \"Topic4\", \"Topic4\", \"Topic4\", \"Topic4\", \"Topic4\", \"Topic4\", \"Topic4\", \"Topic4\", \"Topic4\", \"Topic4\", \"Topic4\", \"Topic4\", \"Topic4\", \"Topic4\", \"Topic4\", \"Topic4\", \"Topic4\", \"Topic4\", \"Topic4\", \"Topic4\", \"Topic4\", \"Topic4\", \"Topic4\", \"Topic4\", \"Topic4\", \"Topic4\", \"Topic4\", \"Topic4\", \"Topic4\", \"Topic4\", \"Topic4\", \"Topic4\", \"Topic4\", \"Topic4\", \"Topic4\", \"Topic4\", \"Topic4\", \"Topic4\", \"Topic4\", \"Topic4\", \"Topic4\", \"Topic4\", \"Topic4\", \"Topic4\", \"Topic4\", \"Topic4\", \"Topic5\", \"Topic5\", \"Topic5\", \"Topic5\", \"Topic5\", \"Topic5\", \"Topic5\", \"Topic5\", \"Topic5\", \"Topic5\", \"Topic5\", \"Topic5\", \"Topic5\", \"Topic5\", \"Topic5\", \"Topic5\", \"Topic5\", \"Topic5\", \"Topic5\", \"Topic5\", \"Topic5\", \"Topic5\", \"Topic5\", \"Topic5\", \"Topic5\", \"Topic5\", \"Topic5\", \"Topic5\", \"Topic5\", \"Topic5\", \"Topic5\", \"Topic5\", \"Topic5\", \"Topic5\", \"Topic5\", \"Topic5\", \"Topic5\", \"Topic5\", \"Topic5\", \"Topic5\", \"Topic5\", \"Topic5\", \"Topic5\", \"Topic5\", \"Topic5\", \"Topic5\", \"Topic5\", \"Topic5\", \"Topic5\", \"Topic5\", \"Topic5\", \"Topic5\", \"Topic5\", \"Topic6\", \"Topic6\", \"Topic6\", \"Topic6\", \"Topic6\", \"Topic6\", \"Topic6\", \"Topic6\", \"Topic6\", \"Topic6\", \"Topic6\", \"Topic6\", \"Topic6\", \"Topic6\", \"Topic6\", \"Topic6\", \"Topic6\", \"Topic6\", \"Topic6\", \"Topic6\", \"Topic6\", \"Topic6\", \"Topic6\", \"Topic6\", \"Topic6\", \"Topic6\", \"Topic6\", \"Topic6\", \"Topic6\", \"Topic6\", \"Topic6\", \"Topic6\", \"Topic6\", \"Topic6\", \"Topic6\", \"Topic6\", \"Topic6\", \"Topic6\", \"Topic6\", \"Topic6\", \"Topic6\", \"Topic6\", \"Topic6\", \"Topic6\", \"Topic6\", \"Topic6\", \"Topic6\", \"Topic6\", \"Topic6\", \"Topic6\", \"Topic7\", \"Topic7\", \"Topic7\", \"Topic7\", \"Topic7\", \"Topic7\", \"Topic7\", \"Topic7\", \"Topic7\", \"Topic7\", \"Topic7\", \"Topic7\", \"Topic7\", \"Topic7\", \"Topic7\", \"Topic7\", \"Topic7\", \"Topic7\", \"Topic7\", \"Topic7\", \"Topic7\", \"Topic7\", \"Topic7\", \"Topic7\", \"Topic7\", \"Topic7\", \"Topic7\", \"Topic7\", \"Topic7\", \"Topic7\", \"Topic7\", \"Topic7\", \"Topic7\", \"Topic7\", \"Topic7\", \"Topic7\", \"Topic7\", \"Topic7\", \"Topic7\", \"Topic7\", \"Topic7\", \"Topic7\", \"Topic7\", \"Topic7\", \"Topic7\", \"Topic8\", \"Topic8\", \"Topic8\", \"Topic8\", \"Topic8\", \"Topic8\", \"Topic8\", \"Topic8\", \"Topic8\", \"Topic8\", \"Topic8\", \"Topic8\", \"Topic8\", \"Topic8\", \"Topic8\", \"Topic8\", \"Topic8\", \"Topic8\", \"Topic8\", \"Topic8\", \"Topic8\", \"Topic8\", \"Topic8\", \"Topic8\", \"Topic8\", \"Topic8\", \"Topic8\", \"Topic8\", \"Topic8\", \"Topic8\", \"Topic8\", \"Topic8\", \"Topic8\", \"Topic8\", \"Topic8\", \"Topic8\", \"Topic8\", \"Topic8\", \"Topic8\", \"Topic8\", \"Topic8\", \"Topic8\", \"Topic8\", \"Topic8\", \"Topic8\", \"Topic8\", \"Topic8\", \"Topic9\", \"Topic9\", \"Topic9\", \"Topic9\", \"Topic9\", \"Topic9\", \"Topic9\", \"Topic9\", \"Topic9\", \"Topic9\", \"Topic9\", \"Topic9\", \"Topic9\", \"Topic9\", \"Topic9\", \"Topic9\", \"Topic9\", \"Topic9\", \"Topic9\", \"Topic9\", \"Topic9\", \"Topic9\", \"Topic9\", \"Topic9\", \"Topic9\", \"Topic9\", \"Topic9\", \"Topic9\", \"Topic9\", \"Topic9\", \"Topic9\", \"Topic9\", \"Topic9\", \"Topic9\", \"Topic9\", \"Topic9\", \"Topic9\", \"Topic9\", \"Topic9\", \"Topic9\", \"Topic9\", \"Topic9\", \"Topic9\", \"Topic9\", \"Topic9\", \"Topic9\", \"Topic10\", \"Topic10\", \"Topic10\", \"Topic10\", \"Topic10\", \"Topic10\", \"Topic10\", \"Topic10\", \"Topic10\", \"Topic10\", \"Topic10\", \"Topic10\", \"Topic10\", \"Topic10\", \"Topic10\", \"Topic10\", \"Topic10\", \"Topic10\", \"Topic10\", \"Topic10\", \"Topic10\", \"Topic10\", \"Topic10\", \"Topic10\", \"Topic10\", \"Topic10\", \"Topic10\", \"Topic10\", \"Topic10\", \"Topic10\", \"Topic10\", \"Topic10\", \"Topic10\", \"Topic10\", \"Topic10\", \"Topic10\", \"Topic10\", \"Topic10\", \"Topic10\", \"Topic10\", \"Topic10\", \"Topic10\", \"Topic10\"], \"logprob\": [30.0, 29.0, 28.0, 27.0, 26.0, 25.0, 24.0, 23.0, 22.0, 21.0, 20.0, 19.0, 18.0, 17.0, 16.0, 15.0, 14.0, 13.0, 12.0, 11.0, 10.0, 9.0, 8.0, 7.0, 6.0, 5.0, 4.0, 3.0, 2.0, 1.0, -3.3203, -3.8209, -4.4164, -4.4525, -4.5076, -4.5773, -4.6931, -4.7999, -4.8622, -4.8623, -4.899, -5.2578, -5.4442, -5.4508, -5.5163, -5.551, -5.6353, -5.6429, -5.6574, -5.6961, -5.7318, -5.8273, -5.8286, -5.8413, -5.9012, -5.9267, -5.9467, -5.9676, -5.9845, -5.9867, -2.7214, -4.1013, -5.4728, -5.493, -4.6168, -4.7826, -3.7849, -2.5612, -5.1304, -4.2876, -5.043, -4.9219, -4.8632, -4.9879, -4.4899, -5.043, -5.366, -5.336, -5.4042, -4.2956, -4.4591, -4.7144, -4.7468, -4.8353, -4.7328, -4.8697, -5.1138, -5.1252, -5.4269, -5.4299, -5.5873, -5.6883, -5.7358, -5.7379, -5.7385, -5.8027, -5.8108, -5.8444, -5.8685, -5.9, -5.9199, -5.9375, -5.9469, -6.0045, -6.022, -6.0557, -6.0586, -6.0797, -6.0825, -4.9313, -5.0354, -3.3946, -5.3233, -4.1047, -4.3329, -4.2182, -4.538, -5.0189, -3.9299, -3.9927, -5.2366, -1.9727, -4.8233, -4.763, -3.8594, -5.1336, -4.6701, -4.7661, -4.6543, -3.8953, -4.7845, -4.7583, -4.5312, -4.9406, -4.9241, -4.591, -5.0048, -4.7355, -5.2075, -5.3652, -5.4467, -5.4568, -5.4814, -5.4958, -5.5351, -5.5915, -5.6288, -5.666, -5.6868, -5.7438, -5.7452, -5.8094, -5.8175, -5.8403, -5.8641, -5.8682, -5.8682, -5.8778, -5.9024, -5.9089, -5.9177, -5.9244, -5.9293, -5.9428, -5.9544, -5.6042, -3.8488, -5.1878, -4.4552, -4.4218, -5.3564, -4.5463, -4.8852, -4.8859, -4.8186, -4.9377, -4.883, -5.2759, -4.3747, -4.2426, -4.8074, -4.9714, -4.8469, -2.7408, -4.6429, -5.1675, -4.7832, -4.8375, -4.824, -4.966, -4.8943, -4.8634, -5.1421, -5.0822, -5.2038, -3.8309, -3.8884, -3.9758, -4.1239, -4.3224, -4.5669, -4.7291, -4.8002, -4.8002, -4.9399, -5.1004, -5.1983, -5.2076, -5.2195, -5.2393, -5.2503, -5.3676, -5.4775, -5.5598, -5.5664, -5.569, -5.6079, -5.6364, -5.643, -5.6456, -5.6789, -5.6948, -5.6958, -5.7289, -5.7564, -5.4404, -3.1392, -3.7617, -4.2193, -4.9394, -4.6395, -3.918, -4.3172, -5.166, -4.9345, -2.6569, -5.1289, -4.5229, -4.7954, -4.1943, -4.2387, -4.6522, -4.8264, -4.8222, -4.9069, -4.9993, -3.0679, -3.9953, -4.0501, -4.4937, -4.5585, -4.5876, -4.6452, -4.9545, -5.0717, -5.0967, -5.1098, -5.1258, -5.1791, -5.1792, -5.1878, -5.5214, -5.5638, -5.7039, -5.7118, -5.7516, -5.7616, -5.7972, -5.8193, -5.8212, -5.8702, -5.8911, -5.8954, -5.9574, -6.0574, -6.0981, -4.4713, -3.5136, -2.8702, -4.2088, -3.5662, -4.1899, -4.2965, -3.8953, -5.0533, -3.9463, -5.1215, -4.5408, -4.9688, -4.5405, -2.4696, -4.2541, -4.4916, -4.3495, -4.6113, -4.776, -4.821, -5.0335, -5.065, -3.3864, -3.4757, -3.8344, -3.9058, -4.2729, -4.2526, -4.3075, -4.7917, -4.9432, -4.9548, -4.9705, -5.0851, -5.177, -5.2249, -5.3372, -5.4083, -5.4196, -5.4575, -5.591, -5.6587, -5.7156, -5.7506, -5.7506, -5.7852, -5.815, -5.9332, -5.9557, -5.9853, -6.053, -6.0669, -4.3737, -4.108, -3.4695, -4.2607, -3.8032, -4.2746, -3.2641, -4.4261, -4.7056, -3.3022, -4.4194, -4.9354, -4.9881, -2.2338, -4.8292, -4.1356, -4.8166, -4.698, -4.9851, -4.8817, -3.2685, -3.8304, -4.2292, -4.2293, -4.2293, -4.23, -4.2646, -4.3748, -4.4356, -4.5114, -4.5579, -4.6806, -4.7432, -4.792, -4.9174, -4.9762, -4.9762, -4.9785, -4.9928, -5.0487, -5.0516, -5.1151, -5.1909, -5.291, -5.4013, -5.4424, -5.4854, -5.4975, -5.5743, -5.5792, -2.5954, -2.4002, -4.2354, -3.8979, -3.721, -4.4926, -3.7053, -3.7125, -4.2148, -2.5352, -4.2925, -4.1574, -4.1681, -4.4335, -4.8478, -2.7305, -2.7961, -2.9517, -2.9583, -2.9746, -2.9914, -3.0134, -4.4323, -4.5503, -4.5625, -4.6044, -4.9869, -5.0416, -5.0416, -5.26, -5.2606, -5.2607, -5.4391, -5.5531, -5.7781, -5.8375, -6.059, -6.067, -6.0769, -6.1451, -6.1681, -6.1729, -6.1736, -6.1736, -6.1738, -2.4522, -2.8755, -4.4999, -4.1501, -5.3397, -2.3128, -4.3212, -4.8239, -4.5657, -4.596, -4.2509, -4.3484, -4.5667, -4.7919, -4.8235, -4.7873, -5.0002, -3.345, -3.6018, -4.2394, -4.4209, -4.578, -4.601, -4.6586, -4.8285, -4.893, -5.1239, -5.1274, -5.1556, -5.1573, -5.1629, -5.1647, -5.2906, -5.3004, -5.3357, -5.3774, -5.4582, -5.5335, -5.5476, -5.5556, -5.568, -5.568, -5.5689, -5.5772, -5.6121, -5.6303, -5.6446, -4.65, -4.0805, -4.8884, -4.3035, -4.3703, -2.6683, -4.3513, -3.8975, -4.3218, -5.1101, -4.5297, -4.5622, -4.7345, -5.0128, -5.0185, -4.9299, -1.8152, -2.5621, -3.0134, -3.4824, -3.4842, -3.6242, -3.7468, -4.2215, -4.4919, -4.576, -4.6826, -4.6831, -4.7464, -4.84, -4.8933, -4.9822, -4.9846, -5.1602, -5.1916, -5.3799, -5.5683, -5.5768, -5.5768, -5.642, -5.6469, -5.663, -5.7104, -5.885, -5.9546, -5.9576, -3.6561, -4.6505, -4.2604, -4.699, -2.5256, -4.5943, -4.8197, -4.4709, -4.8296, -5.0828, -4.8846, -5.0575, -5.1461], \"loglift\": [30.0, 29.0, 28.0, 27.0, 26.0, 25.0, 24.0, 23.0, 22.0, 21.0, 20.0, 19.0, 18.0, 17.0, 16.0, 15.0, 14.0, 13.0, 12.0, 11.0, 10.0, 9.0, 8.0, 7.0, 6.0, 5.0, 4.0, 3.0, 2.0, 1.0, 1.9692, 1.9692, 1.9691, 1.9691, 1.9691, 1.9691, 1.9691, 1.9691, 1.9691, 1.9691, 1.9691, 1.969, 1.969, 1.969, 1.9689, 1.9689, 1.9689, 1.9689, 1.9689, 1.9689, 1.9689, 1.9688, 1.9688, 1.9688, 1.9688, 1.9688, 1.9688, 1.9688, 1.9688, 1.9688, 1.8306, 1.7645, 1.9083, 1.8552, 1.3478, 1.4222, 0.896, -0.128, 1.4437, 0.7477, 1.3397, 1.1726, 1.1071, 1.2133, 0.257, 0.8655, 1.1401, 0.9478, 0.1315, 2.0649, 2.0649, 2.0648, 2.0648, 2.0648, 2.0648, 2.0648, 2.0648, 2.0648, 2.0647, 2.0647, 2.0646, 2.0646, 2.0646, 2.0646, 2.0646, 2.0646, 2.0645, 2.0645, 2.0645, 2.0645, 2.0645, 2.0645, 2.0645, 2.0645, 2.0644, 2.0644, 2.0644, 2.0644, 2.0644, 2.063, 2.0038, 1.8485, 1.9977, 1.8716, 1.8461, 1.7898, 1.8105, 1.8738, 1.3504, 1.363, 1.8233, 0.4605, 1.6141, 1.5256, 0.8216, 1.654, 1.2944, 1.3376, 1.2246, 0.4834, 1.0715, 0.7007, 0.0208, 0.9488, 0.7927, 2.1111, 2.1111, 2.111, 2.111, 2.111, 2.1109, 2.1109, 2.1109, 2.1109, 2.1109, 2.1109, 2.1109, 2.1109, 2.1109, 2.1108, 2.1108, 2.1108, 2.1108, 2.1108, 2.1108, 2.1108, 2.1108, 2.1108, 2.1108, 2.1108, 2.1108, 2.1108, 2.1107, 2.1107, 2.1107, 2.1081, 1.8477, 2.0132, 1.8641, 1.8442, 2.0037, 1.8232, 1.8492, 1.7767, 1.7303, 1.7668, 1.7244, 1.8673, 1.351, 1.1922, 1.5263, 1.572, 1.4466, -0.3075, 1.072, 1.5551, 0.9915, 1.0553, 0.9675, 0.8934, 0.6413, 0.1719, 1.1535, 0.8262, 1.1418, 2.1588, 2.1588, 2.1588, 2.1588, 2.1587, 2.1587, 2.1587, 2.1587, 2.1587, 2.1587, 2.1586, 2.1586, 2.1586, 2.1586, 2.1586, 2.1586, 2.1585, 2.1585, 2.1585, 2.1585, 2.1585, 2.1585, 2.1584, 2.1584, 2.1584, 2.1584, 2.1584, 2.1584, 2.1584, 2.1584, 2.1571, 2.0236, 1.774, 1.726, 1.9314, 1.7178, 1.3687, 1.3977, 1.8337, 1.6411, -0.2236, 1.7979, 1.2686, 1.4881, 0.8449, 0.737, 1.2072, 1.0295, 0.9102, -0.5282, -0.3183, 2.2686, 2.2685, 2.2685, 2.2685, 2.2685, 2.2685, 2.2685, 2.2684, 2.2684, 2.2684, 2.2684, 2.2684, 2.2683, 2.2683, 2.2683, 2.2682, 2.2682, 2.2681, 2.2681, 2.2681, 2.2681, 2.2681, 2.2681, 2.2681, 2.2681, 2.268, 2.268, 2.268, 2.2679, 2.2679, 2.1799, 1.9837, 1.8767, 2.043, 1.9445, 2.0341, 2.0469, 1.8673, 2.0843, 1.74, 2.0847, 1.8374, 1.919, 1.6314, -0.0363, 1.1016, 0.9674, 0.6262, 0.6318, 0.988, 0.6138, 1.25, 0.7944, 2.3484, 2.3483, 2.3483, 2.3483, 2.3483, 2.3483, 2.3483, 2.3482, 2.3482, 2.3482, 2.3482, 2.3481, 2.3481, 2.3481, 2.348, 2.348, 2.348, 2.348, 2.3479, 2.3479, 2.3479, 2.3479, 2.3479, 2.3478, 2.3478, 2.3477, 2.3477, 2.3477, 2.3477, 2.3477, 2.3312, 2.1346, 1.9664, 2.0723, 1.9608, 2.0224, 1.7711, 2.0301, 2.0979, 1.737, 1.9909, 2.1235, 2.1034, 0.1995, 1.8759, 1.151, 1.6258, 0.2776, 1.5209, 0.281, 2.5389, 2.5389, 2.5388, 2.5388, 2.5388, 2.5388, 2.5388, 2.5388, 2.5388, 2.5388, 2.5388, 2.5388, 2.5387, 2.5387, 2.5387, 2.5387, 2.5387, 2.5387, 2.5387, 2.5387, 2.5387, 2.5386, 2.5386, 2.5386, 2.5385, 2.5385, 2.5385, 2.5385, 2.5384, 2.5384, 2.4766, 1.9785, 2.2825, 2.2009, 2.1466, 2.25, 1.8303, 1.2631, 1.6745, -0.102, 1.4399, 1.1293, 0.8711, 0.2475, 0.4839, 2.5932, 2.5932, 2.5932, 2.5932, 2.5932, 2.5932, 2.5932, 2.593, 2.593, 2.593, 2.593, 2.5929, 2.5929, 2.5929, 2.5928, 2.5928, 2.5928, 2.5927, 2.5927, 2.5925, 2.5925, 2.5923, 2.5923, 2.5923, 2.5922, 2.5922, 2.5922, 2.5922, 2.5922, 2.5922, 2.5531, 2.4561, 2.1815, 1.5755, 2.1206, 0.1204, 1.1378, 1.4653, 1.1308, 1.0903, 0.496, 0.3326, 0.7137, 0.9405, 0.9679, 0.6485, -0.0246, 2.6226, 2.6226, 2.6225, 2.6225, 2.6225, 2.6225, 2.6224, 2.6224, 2.6224, 2.6223, 2.6223, 2.6223, 2.6223, 2.6223, 2.6223, 2.6222, 2.6222, 2.6222, 2.6222, 2.6222, 2.6221, 2.6221, 2.6221, 2.6221, 2.6221, 2.6221, 2.6221, 2.6221, 2.6221, 2.622, 2.219, 1.6363, 2.1413, 1.5755, 1.4973, -0.235, 1.4235, 0.4812, 0.9586, 1.9151, 0.9051, 0.8968, 0.9518, 1.6828, 1.3933, 0.9359, 2.6343, 2.6343, 2.6343, 2.6343, 2.6343, 2.6342, 2.6342, 2.6342, 2.6341, 2.6341, 2.6341, 2.6341, 2.6341, 2.634, 2.634, 2.634, 2.634, 2.6339, 2.6339, 2.6338, 2.6337, 2.6337, 2.6337, 2.6337, 2.6337, 2.6337, 2.6336, 2.6335, 2.6334, 2.6334, 2.4742, 2.4614, 2.0761, 2.1914, -0.0923, 1.2986, 1.5626, 1.0398, 0.9329, 1.1832, 0.471, -0.3765, 1.1425]}, \"token.table\": {\"Topic\": [1, 4, 6, 2, 5, 10, 1, 4, 10, 1, 7, 4, 3, 2, 3, 2, 6, 1, 2, 3, 5, 6, 9, 8, 1, 6, 4, 10, 9, 2, 3, 7, 9, 10, 1, 3, 5, 6, 9, 10, 2, 4, 5, 6, 7, 8, 10, 4, 6, 1, 3, 6, 5, 7, 1, 5, 10, 2, 6, 5, 1, 2, 5, 8, 10, 5, 3, 10, 5, 4, 3, 8, 3, 1, 4, 7, 3, 10, 2, 3, 4, 7, 9, 8, 10, 6, 5, 10, 7, 1, 2, 9, 1, 2, 6, 7, 3, 3, 2, 4, 7, 1, 2, 4, 6, 7, 6, 8, 3, 5, 6, 10, 5, 1, 3, 9, 9, 8, 4, 1, 2, 5, 7, 2, 6, 6, 1, 1, 6, 8, 1, 2, 3, 9, 1, 9, 3, 3, 8, 2, 10, 5, 2, 4, 5, 6, 7, 10, 5, 10, 1, 2, 5, 7, 7, 10, 2, 5, 7, 2, 2, 7, 8, 1, 1, 2, 3, 4, 7, 9, 10, 2, 1, 2, 3, 4, 9, 2, 2, 6, 3, 10, 9, 3, 4, 1, 1, 10, 1, 2, 6, 7, 3, 5, 8, 1, 7, 10, 9, 10, 6, 9, 3, 10, 1, 8, 2, 2, 3, 2, 9, 9, 1, 3, 9, 1, 2, 4, 6, 9, 1, 5, 4, 5, 1, 3, 7, 10, 2, 7, 3, 4, 5, 10, 4, 6, 6, 5, 7, 2, 8, 1, 3, 4, 8, 3, 2, 7, 7, 5, 9, 1, 3, 4, 5, 9, 3, 5, 7, 6, 7, 8, 4, 9, 6, 8, 1, 3, 6, 1, 2, 3, 8, 9, 2, 1, 7, 5, 6, 3, 1, 7, 9, 9, 7, 3, 9, 9, 10, 2, 2, 9, 9, 1, 4, 1, 2, 3, 4, 5, 6, 7, 8, 9, 10, 1, 10, 7, 9, 1, 1, 10, 2, 3, 4, 5, 6, 7, 8, 7, 2, 4, 5, 6, 2, 4, 1, 3, 4, 8, 1, 10, 3, 4, 9, 8, 9, 7, 6, 5, 2, 6, 8, 10, 1, 2, 9, 2, 4, 7, 4, 2, 3, 4, 6, 9, 1, 5, 5, 4, 9, 2, 4, 1, 2, 7, 9, 2, 5, 7, 10, 7, 6, 8, 3, 4, 5, 2, 3, 1, 9, 8, 9, 3, 9, 3, 5, 2, 3, 3, 8, 1, 2, 6, 7, 8, 9, 2, 8, 2, 5, 4, 7, 1, 3, 4, 9, 4, 1, 3, 5, 8, 9, 2, 1, 5, 8, 10, 8, 2, 5, 2, 5, 2, 5, 3, 4, 1, 3, 1, 2, 3, 4, 5, 10, 8, 6, 9, 4, 1, 3, 5, 8, 9, 6, 3, 1, 4, 6, 9, 2, 7, 4, 8, 7, 1, 3, 8, 1, 3, 4, 6, 5, 1, 4, 10, 4, 5, 6, 7, 8, 2, 4, 6, 7, 9, 3, 5, 2, 3, 9, 5, 4, 6, 7, 4, 5, 6, 2, 2, 1, 2, 3, 6, 1, 1, 1, 2, 6, 4, 1, 2, 3, 5, 9, 6, 4, 3, 8, 8, 1, 2, 3, 4, 5, 6, 4, 6, 7, 8, 6, 6, 5, 7, 10, 1, 2, 10, 6, 8, 7, 7, 8, 1, 2, 9, 6, 8, 5, 2, 2, 3, 6, 3, 10, 1, 2, 3, 6, 3, 1, 4, 5, 4, 5, 6, 1, 2, 4, 7, 9, 3, 6, 1, 2, 3, 7, 8, 5, 8, 2, 4, 10, 9, 5, 8, 4, 2, 3, 1, 5, 3, 7, 8, 9, 3, 1, 3, 4, 7, 1, 7, 2, 3, 4, 10, 9, 2, 5, 3, 4, 5, 3, 4, 7, 10, 1, 5, 6, 7, 4, 1, 2, 8, 10, 4, 6, 3, 4, 1, 2, 3, 4, 5, 7, 2, 1, 3, 4, 7, 9, 10, 1, 2, 3, 4, 9, 10, 6, 7, 10, 4, 2, 10, 3, 4, 5, 8, 4, 1, 9, 10, 1, 10, 1, 2, 5, 9, 6, 4, 7, 9, 3, 3, 7, 1, 2, 4, 5, 6, 8, 9, 7, 2, 6, 7, 6, 3, 10, 8, 9, 8, 2, 8, 6, 9, 5, 8, 9, 4, 2, 3, 6, 10, 1, 5, 1, 4, 5, 6, 1, 2, 3, 4, 7, 8, 10, 1, 9, 5, 10, 7], \"Freq\": [0.9998095535649351, 0.9997316934089179, 0.9999453516703499, 0.9995980687474502, 0.9994245170937127, 0.9996230433722048, 0.3028950900780915, 0.6969938852059053, 0.9995973884041864, 0.8921347940727119, 0.10755090947229799, 0.9999262655104387, 0.9996252354918255, 0.3166232115857436, 0.6831759330549969, 0.19234585397914056, 0.8075677617550867, 0.09055120841301466, 0.03785532551534443, 0.39890942076075214, 0.1911416174081909, 0.10205859247952398, 0.1795151914375453, 0.9999484541295293, 0.27260817712728086, 0.7273591662155137, 0.9996843806449585, 0.9992932396394065, 0.9992982885279289, 0.0006660482259001404, 0.1948191060757911, 0.13670639836600382, 0.6678798585213659, 0.9992066033756667, 0.18372196207083485, 0.5144589498558444, 0.30180218336100956, 0.9998772863638223, 0.9997429343046627, 0.9997427526838251, 0.06613668530302017, 0.24125599797989503, 0.19349618543165642, 0.1260808909738015, 0.2791880695733255, 0.07295593412880541, 0.020833807993483607, 0.37639480606712117, 0.6234613178978864, 0.4364291453800191, 0.12636523291125287, 0.43712409624845866, 0.2868189421324991, 0.7131547574872028, 0.9993405770259888, 0.8316245680699402, 0.16815457479046458, 0.016956426435955633, 0.9829075190708949, 0.9997620898009253, 0.9994837779197602, 5.5069750261653155e-05, 0.6694278841806558, 0.14808255845358534, 0.1824460826168569, 0.9995112812699867, 0.9994910660760208, 0.9996549207000696, 0.9998450634546162, 0.999679707345785, 0.9994597459523961, 0.9998110342473024, 0.9994372797753995, 0.5786724952801658, 0.27090991670328857, 0.15041028276313553, 0.9996489763093017, 0.998683179155857, 0.010169285036894559, 0.7086014309736111, 0.2812089792841259, 0.9997553396685875, 0.9996086183077024, 0.9989331648591854, 0.9999590688845237, 0.9997807645375388, 0.9997438377818356, 0.9999031024656905, 0.9998382186230107, 0.388063058621187, 0.22105034977014945, 0.39072294250062517, 0.30040123495831533, 0.6629703289652344, 0.036379710109923726, 0.9996464266932572, 0.9993443204166418, 0.9993639651364289, 0.999843351171521, 0.9999249639726745, 0.9993691164830659, 0.17389546051382912, 0.8260034374406883, 0.453779994585607, 0.3019953424983085, 0.24420357573197687, 0.7827394285675509, 0.21716182923851265, 4.2808234029518625e-05, 0.7231594974606581, 0.07375858723286059, 0.2029966457679773, 0.9997353379513366, 0.19632608703759252, 0.573444768512001, 0.23012581630780074, 0.9999081697093202, 0.9999684817780106, 0.999765863755911, 0.5371684536368242, 0.46276017599378105, 0.9998604852464428, 0.9998823731563783, 0.20132768713843321, 0.7986669348781645, 0.9999134001284343, 0.9998761323204407, 0.24121789912180144, 0.7587257667046, 0.9991234882549256, 0.45079449929098053, 0.19738567452781783, 0.2735925076561705, 0.07820217820522798, 0.9998519635108275, 0.9993022722475168, 0.9998042316090834, 0.37653556231630264, 0.6234490580524724, 0.9997542448619586, 0.9988446114563535, 0.9998945351240057, 0.15802030076110507, 0.24675320280765825, 0.0021492398419580352, 0.08893759155531109, 0.16170471191874744, 0.3424455481519803, 0.9994517747243347, 0.9996397467431182, 0.0005089756833807284, 0.29435760355518786, 0.7049313214823087, 0.9996327389457503, 0.9996291650166274, 0.9996959737335943, 0.08476492874255273, 0.9150059369634483, 0.99974615647094, 0.9991897285763137, 0.9998222175663056, 0.12809175418273874, 0.8719115158982623, 0.9994676202537301, 0.17506146412687554, 0.4832006253201105, 0.015414704142145236, 0.1127829609596154, 0.21278488582147218, 0.0006196865986792054, 7.746082483490068e-05, 0.9998000452866471, 0.9994805400087526, 0.43154073854778935, 0.2174099147321766, 6.186963993516694e-05, 0.35092459771226686, 0.9997338983402594, 0.27816630560601674, 0.7218227680269643, 0.9995089706178019, 0.9998726190583075, 0.9998136359206441, 0.7835054587643198, 0.21619230858271837, 0.9996099286169255, 0.3577198118289679, 0.6421266237063024, 0.19651979175737092, 0.8033675634994266, 0.9995523140949091, 0.9997979205157368, 0.9997589575585699, 0.9997415736086669, 0.9985588481657508, 0.26601073612167775, 0.16169855110079198, 0.5722017047115693, 0.9997252487563224, 0.9999709107367274, 0.9997368456063653, 0.9996045272388312, 0.9998051808194913, 0.999235004669604, 0.9999615677913165, 0.9986823473356345, 0.999419479971672, 0.9997862823631928, 0.9998171606253518, 0.9994308792009283, 0.9995592224187548, 0.9996909515070533, 0.09329171996276482, 0.9066934076978164, 0.9997142842901839, 0.18043024632455612, 0.2801666157214536, 0.06480759867984057, 0.101682701500107, 0.3729067102608683, 0.999522087672848, 0.9997173926938733, 0.9997374609831808, 0.9993967275369671, 0.9995144533486866, 0.06043151355907533, 0.9395457747629102, 0.9995871902852794, 0.7853332439377423, 0.21462147929014513, 0.29582376716361886, 0.3860997650183081, 0.22896613972015947, 0.0890626107867499, 0.3004856558959392, 0.699484297402596, 0.9990867270372779, 0.22610547218885693, 0.7738456855317954, 0.9998569361448145, 0.9995511447293043, 0.0739727475766483, 0.3186213135083066, 0.4105629200748381, 0.19686387152007628, 0.9996305572255135, 0.8241030057436817, 0.1757995489290204, 0.9997086235670508, 0.8318772814532904, 0.16772848159419962, 0.09866832962314799, 0.3263859152223342, 0.12620627020723563, 0.1472778117877723, 0.3014122363120685, 0.9993325605811979, 0.9997892837338082, 0.9997934361292155, 0.9996173036125349, 0.9998221693951788, 0.9993402837709808, 0.9994902952253247, 0.9996117973345949, 0.9998612564353382, 0.9993915239913531, 0.29477881575436377, 0.14379714030841143, 0.5614315069147248, 0.4222388015753766, 0.20817071113147878, 0.15963595724996177, 0.07958072773310196, 0.13028463262608345, 0.9998659736097927, 0.999841592058561, 0.9997572240762105, 0.9993113248519176, 0.999944204167546, 0.9993490759607994, 0.9997030656192958, 0.9995219001038033, 0.9996491113379308, 0.9996664644907167, 0.9994993547213118, 0.9993068706412105, 0.9999228630868079, 0.9999054626615902, 0.9996475614793153, 0.999564066977201, 0.9349108333543549, 0.06489165593951302, 0.9997253115445798, 0.9998609875557886, 0.9997228695080846, 0.12279641166235955, 0.2009983992738529, 0.08902710257925493, 0.09232118821995497, 0.09976345476029105, 0.11661260418715319, 0.07129229779150996, 0.08435028997200954, 0.05740190792216284, 0.0654378988803736, 0.9999498124811039, 0.9993804733982572, 0.9997169024917558, 0.9993717992283415, 0.9992874992771487, 0.9996578792606599, 0.9996357179640003, 0.033754798140333914, 0.07767333384226008, 0.31134605246015173, 0.04419827159811678, 0.11086866019021277, 0.0983737901603654, 0.3237476771912689, 0.9995386770109668, 0.9994770172463752, 0.19925712022066389, 0.5287817959413956, 0.2719780916869653, 0.9993595679710583, 0.9997516354037128, 0.2511724090478688, 0.5831432187085513, 0.16556457982714953, 0.9998966579681614, 0.9995701820615329, 0.9992070466173891, 0.7497294408741996, 0.2501792581677248, 0.9995207044702441, 0.9606894365982672, 0.03930774026836289, 0.9998820201253619, 0.9999391348590511, 0.9993168180785915, 0.9997969073373258, 0.9989811751470196, 0.9996079009435139, 0.9997769627371574, 0.15826481248933588, 0.3486497898750315, 0.4928985304095922, 0.2764930253017405, 0.7224495177239026, 0.0007590748807185738, 0.9997659346841877, 0.13021339846641058, 0.35372889736621294, 0.46708806159564054, 0.046782313723214446, 0.002205226909511792, 0.9994595282988118, 0.9999276340997586, 0.9998213688067288, 0.9996787085466617, 0.9996086183077024, 0.9993810532446378, 0.9994702590968626, 0.18348080680773626, 0.32751480302069175, 0.42128693597183464, 0.06770347999072517, 0.49562628181375473, 0.3112924594186398, 0.07812557190214596, 0.11493367804468681, 0.999431647286735, 0.9994189337802991, 0.999973541627639, 0.7694744370696999, 0.2303911545075345, 0.999831836262657, 0.7752855313547838, 0.22459139308006115, 0.8148276021126871, 0.18512980813830404, 0.9999753641182872, 0.999685868292117, 0.9968092315174256, 0.0027087207378190914, 0.9998046103892367, 0.00016280811112021442, 0.9994412200909627, 0.9996296645373071, 0.7682711427897237, 0.23165663685567756, 0.09972646329977118, 0.4894179041039572, 0.029785333055097018, 0.03903374697174815, 0.15266683266824843, 0.1893544746390814, 0.9994178317369338, 0.9995775767362206, 0.20192405265154503, 0.7979952329876895, 0.9999275066118453, 0.9998787133732029, 0.14175574847279096, 0.5571761365350759, 0.27873430872332144, 0.02232604291627863, 0.9996665038227123, 0.12079243822426183, 0.46751343950682006, 0.0010083727268281964, 0.36142201419473774, 0.04919797461945989, 0.9998781010855999, 0.9999100631475311, 0.3373289450691159, 0.6625118397429446, 0.9992064190833241, 0.9993787073236842, 0.8053862469308325, 0.19458996570140918, 0.9997956940330078, 0.9999048905575334, 0.35022890110725446, 0.6496970359888359, 0.0013799665468371863, 0.9980608049999949, 0.28419808281730347, 0.7156427414317512, 0.06863092577576567, 0.1282281647949406, 0.34785967406455265, 0.1802973315169566, 0.012044915675454303, 0.2629806589140856, 0.9987469497764787, 0.9995530359055684, 0.9995134532385964, 0.999912858406895, 0.18045045089613457, 0.00045870472707903353, 0.6757518377225605, 0.12279326107067866, 0.020502106932054193, 0.9997657558945491, 0.9993927274088333, 0.9994496146532175, 0.8734401037893208, 0.12650447601170817, 0.9995465888690093, 0.9996312091330388, 0.9999359390542181, 0.9996631843259626, 0.9998763959440348, 0.999785735293929, 0.591269733482042, 0.32855206410723664, 0.08009231449557543, 0.11928229010200592, 0.2372669485962076, 0.6433258240229525, 0.9994384480017278, 0.999386120935375, 0.9998123554723265, 0.9997583274770164, 0.99967408111866, 0.2868837540421119, 0.10189743322002373, 0.08650862316896613, 0.33315705093175035, 0.1915051917464945, 0.205648236251234, 0.06808017914417404, 0.03782845551067931, 0.5709598806757803, 0.11748764748719918, 0.9995777486143209, 0.9995043006700288, 0.013883088814941297, 0.3679996218270355, 0.6178952204959789, 0.9992403610745513, 0.2687445461062631, 0.5425914986048022, 0.18865546566624553, 0.9993171083530006, 0.7909372003767967, 0.20895977284087672, 0.9996583782251226, 0.99941319564186, 0.532809104606529, 0.09112223349343021, 0.1277758959548325, 0.24828249013659356, 0.9995950160986592, 0.9997522508258216, 0.8705074017461989, 0.1294880170389033, 0.9998150695530196, 0.9997516354037128, 0.08267877335974987, 0.2298825082675623, 0.3792568076311199, 0.11770379071382052, 0.1903190379605698, 0.9994530571524324, 0.9998397791404507, 0.9997805419838277, 0.9995772167661159, 0.999705597009564, 0.36010288488104764, 0.12464029803763275, 0.22516863365727108, 0.1542238211581721, 0.0011128598039074353, 0.13474877458979195, 0.13533277291239387, 0.6825029950633259, 0.03908642458050941, 0.14303883629513658, 0.9996102546651624, 0.9999305506989847, 0.999673618372068, 0.7489822759427168, 0.25078579733270046, 0.22916453749285115, 0.6370968807788514, 0.13367030124642001, 0.9998580245957598, 0.9995420655042886, 0.9999693876238712, 0.9996875510928005, 0.9999787835205456, 0.013225642045290096, 0.9405997663553329, 0.04599365069481481, 0.998907619010746, 0.9987469497764787, 0.9999510476777965, 0.9995622699299944, 0.999866496871457, 0.9994630303783777, 0.9993159280105829, 0.14788229051660534, 0.8520533694047122, 0.11856934490110986, 0.012824182124959636, 0.3830952711057858, 0.48547136908639577, 0.9996055718050388, 0.15919466451878705, 0.6805385369075801, 0.16024806180261691, 0.9998422377968827, 0.8011356586093209, 0.1987580357252665, 0.4695338086035185, 0.10613393782399955, 0.0967415539457695, 0.19954546475839657, 0.1279925766678804, 0.99951980754811, 0.9992116706746478, 0.0009437362432072494, 0.998095450815987, 0.0009437362432072494, 0.9998822517893594, 0.9999375454411153, 0.9998073754186988, 0.9996267532303532, 0.20647355897912756, 0.6486429994057702, 0.14478933530716917, 0.9998505666238812, 0.9993695562149547, 0.9993144156552255, 0.9996916609727202, 0.21890486170686246, 0.7809656765108303, 0.9994988068484054, 0.9992990683942037, 0.8979233813472887, 0.10176464988602604, 0.9994394247534025, 0.9994906399104179, 0.9993026201791598, 0.1389514504186095, 0.22993261173186835, 0.13881978448327917, 0.4922989322001083, 0.9998060380495981, 0.9997997105096211, 0.07844871465051295, 0.6792479394331179, 0.13228606784204144, 0.10998202151983678, 0.99943406618548, 0.999537002843257, 0.9996529625238549, 0.9996683902287697, 0.9999228908701587, 0.9996827484391597, 0.9996528284465057, 0.9994277574110436, 0.999243889498818, 0.9995087769715196, 0.9997483065689465, 0.2778467591952607, 0.6786784872284395, 0.04340321545983925, 0.9997821263614044, 0.1470476743025739, 0.5830654614139448, 0.044822516691722464, 0.22495125840710609, 0.7965383524282037, 0.20334664955182835, 0.4040575315263759, 0.5959041468331525, 0.13945047264811572, 0.11955578879791348, 0.3837234069031933, 0.30986908525173495, 0.00046921424175005294, 0.04692142417500529, 0.999349935603142, 0.33159043676195915, 0.2766651953152242, 0.09634218685320566, 0.07671692656829339, 0.1015033754346274, 0.11717809631153783, 0.12902491894056373, 0.3702664496682344, 0.04824830614553414, 0.3232273742531648, 0.12914584201361018, 0.9999621176627188, 0.9995649632300568, 0.15858487500011384, 0.8411154949805235, 0.9994571792110453, 0.9993310508286998, 0.9996505055824223, 0.999569415671829, 0.5113119857061803, 0.36111698718505386, 0.12748032281885727, 0.9997696045299314, 0.9998833990331133, 0.9996034861025185, 0.9999022875389064, 0.9996324566037951, 0.9999791655578191, 0.0755783126623298, 0.29366970582601226, 0.33825774802429054, 0.2925102059106906, 0.9996659587739628, 0.9993818136076865, 0.6754114763845328, 0.324493559338883, 0.9997708753553229, 0.9994181100122302, 0.9996268083897508, 0.0011789095397889385, 0.25557945781562263, 0.0593926495735048, 0.2722061475319563, 0.00032521642476936234, 0.23330213271892133, 0.17801534050812973, 0.9998133047927548, 0.060043504431483, 0.7783821574481341, 0.1614156547703504, 0.9998455204555144, 0.7656563935571506, 0.23432511235471104, 0.9999527954955145, 0.9997563035355277, 0.9992976944323503, 0.9996000531524274, 0.9987681638285697, 0.9993951931788746, 0.9994814188882591, 0.5893879990411857, 0.2224683296528066, 0.18807758327987276, 0.9999058533234098, 0.7594641138880043, 0.24046059996676455, 0.9994315467402599, 0.9997336002625568, 0.9408643741673126, 0.05890822425383056, 0.09985120696195846, 0.14804504247109324, 0.7520519204558673, 0.9997368456063653, 0.3419055503674841, 0.28839412030232414, 0.031068743764279903, 0.08398269798781911, 0.10112278619431488, 0.10427820548287454, 0.049254414693612004, 0.999519720335649, 0.9998923901397687, 0.9998686136440529, 0.9998904083627282, 0.9995727208344863], \"Term\": [\"absolutely_tyrannical_eu\", \"account\", \"act\", \"actually\", \"adjusted\", \"afford_jo\", \"ago\", \"ago\", \"agree\", \"ahead\", \"ahead\", \"aim\", \"already\", \"also\", \"also\", \"america\", \"america\", \"amp\", \"amp\", \"amp\", \"amp\", \"amp\", \"amp\", \"announcement\", \"another\", \"another\", \"anything\", \"article\", \"auto_maker_finance\", \"bad\", \"bad\", \"bad\", \"bad\", \"badly_needed_pay\", \"bank\", \"bank\", \"bank\", \"beginnin\", \"benefit\", \"best\", \"biden\", \"biden\", \"biden\", \"biden\", \"biden\", \"biden\", \"biden\", \"bidens\", \"bidens\", \"big\", \"big\", \"big\", \"billion\", \"billion\", \"bitcoin\", \"blame\", \"blame\", \"border\", \"border\", \"bottom\", \"bps\", \"breaking\", \"breaking\", \"breaking\", \"breaking\", \"brexit\", \"brought\", \"business\", \"busting\", \"buy\", \"call\", \"came\", \"canada\", \"cannot\", \"cannot\", \"cannot\", \"care\", \"case\", \"caused\", \"caused\", \"caused\", \"causing\", \"cherokee_plant_belvidere_illinois\", \"chewing\", \"christmas\", \"climate\", \"collapsing_productivity\", \"collusion\", \"combat\", \"come\", \"come\", \"come\", \"coming\", \"coming\", \"coming\", \"common\", \"conflicted_climate_change_narrative\", \"congress\", \"consumer\", \"control\", \"cooling\", \"core\", \"core\", \"corporate\", \"corporate\", \"corporate\", \"corporation\", \"corporation\", \"cost\", \"cost\", \"cost\", \"cost\", \"cost_rishi_sunaks\", \"could\", \"could\", \"could\", \"country\", \"couple\", \"covid\", \"cpi\", \"cpi\", \"created\", \"credit\", \"crime\", \"crime\", \"crisis\", \"current\", \"cut\", \"cut\", \"dark_brandon_protecting_marriage\", \"data\", \"data\", \"data\", \"data\", \"day\", \"deal\", \"debt\", \"decade\", \"decade\", \"decline\", \"deflation\", \"demand\", \"democrat\", \"democrat\", \"democrat\", \"democrat\", \"democrat\", \"democrat\", \"dems\", \"dinner\", \"dollar\", \"dollar\", \"dollar\", \"done\", \"dr_fauci_still\", \"driving\", \"dropped\", \"dropped\", \"dropping\", \"drug\", \"due\", \"easing\", \"easing\", \"ecb\", \"economic\", \"economic\", \"economic\", \"economic\", \"economic\", \"economic\", \"economic\", \"economies_around\", \"economist\", \"economy\", \"economy\", \"economy\", \"economy\", \"election\", \"energy\", \"energy\", \"england\", \"enough\", \"eu\", \"ever\", \"ever\", \"expect\", \"expectation\", \"expectation\", \"expected\", \"expected\", \"expensive\", \"exxonmobil_raked_billion\", \"face\", \"fact\", \"fair_share\", \"fall\", \"fall\", \"fall\", \"falling\", \"false\", \"far_enough_explaining\", \"faster\", \"fathom\", \"fear\", \"fed\", \"federal_taxesthanks\", \"feel\", \"fell\", \"fight\", \"figure\", \"financial\", \"find\", \"first\", \"first\", \"five\", \"food\", \"food\", \"food\", \"food\", \"food\", \"forecast\", \"former\", \"free\", \"fuck\", \"fuelled\", \"gas\", \"gas\", \"gave\", \"gdp\", \"gdp\", \"get\", \"get\", \"get\", \"get\", \"getting\", \"getting\", \"ghana\", \"give\", \"give\", \"global\", \"god\", \"going\", \"going\", \"going\", \"going\", \"gone\", \"good\", \"good\", \"gop\", \"got\", \"got\", \"government\", \"government\", \"government\", \"government\", \"government\", \"government_deleted_weather\", \"govt\", \"gree\", \"grocery\", \"guy\", \"happened\", \"hard\", \"hatred\", \"help\", \"helped_slow\", \"high\", \"high\", \"high\", \"higher\", \"higher\", \"higher\", \"higher\", \"higher\", \"highest\", \"hike\", \"historic\", \"history\", \"hit\", \"home\", \"hope\", \"house\", \"housing\", \"huge\", \"hunter\", \"impact\", \"increase\", \"increased\", \"independent\", \"index\", \"india\", \"india\", \"inf\", \"infla\", \"inflati\", \"inflation\", \"inflation\", \"inflation\", \"inflation\", \"inflation\", \"inflation\", \"inflation\", \"inflation\", \"inflation\", \"inflation\", \"interest\", \"interesting\", \"investigation\", \"investment\", \"investor\", \"issue\", \"january\", \"job\", \"job\", \"job\", \"job\", \"job\", \"job\", \"job\", \"job_creation_early\", \"jobs_manufacturing_booming\", \"joe\", \"joe\", \"joe\", \"join\", \"judging_girl_saying\", \"keep\", \"keep\", \"keep\", \"keeping\", \"key\", \"kid\", \"know\", \"know\", \"labour\", \"last\", \"last\", \"last_quarter_announced\", \"latest\", \"law\", \"le\", \"lead\", \"learned\", \"let\", \"level\", \"level\", \"level\", \"lie\", \"lie\", \"lie\", \"life\", \"like\", \"like\", \"like\", \"like\", \"like\", \"likely\", \"line\", \"living\", \"lol\", \"losing_jobs_jeep\", \"lost\", \"love\", \"low\", \"low\", \"low\", \"low\", \"lower\", \"lower\", \"lower\", \"lower\", \"lowering\", \"lying\", \"major\", \"make\", \"make\", \"man_incompetent_corrupt\", \"many\", \"many\", \"market\", \"market\", \"marriag\", \"matching\", \"maybe\", \"maybe\", \"mean\", \"mean\", \"measure\", \"monetary\", \"money\", \"money\", \"month\", \"month\", \"month\", \"month\", \"month\", \"month\", \"morning\", \"morning_received_another\", \"much\", \"much\", \"must\", \"near\", \"need\", \"need\", \"need\", \"need\", \"never\", \"new\", \"new\", \"new\", \"new\", \"new\", \"news\", \"next\", \"nh\", \"nh\", \"nhs_staff_asking\", \"nothing_brag\", \"november\", \"november\", \"number\", \"nurse\", \"october\", \"october\", \"oh\", \"oh\", \"oil\", \"oil\", \"one\", \"one\", \"one\", \"one\", \"one\", \"one\", \"pace_lowering\", \"paid\", \"pakistan\", \"pandemic\", \"pay\", \"pay\", \"pay\", \"pay\", \"pay\", \"paying\", \"pdm\", \"peak\", \"people\", \"people\", \"per\", \"percent\", \"plan\", \"please\", \"plenty\", \"plummeting\", \"point\", \"point\", \"point\", \"policy\", \"policy\", \"policy\", \"poor\", \"post\", \"powell\", \"power\", \"present\", \"president\", \"president\", \"president\", \"president\", \"president\", \"price\", \"price\", \"price\", \"price\", \"price\", \"printing\", \"private\", \"problem\", \"problem\", \"problem\", \"professor\", \"profit\", \"profit\", \"profit\", \"profits_accounted_roughly\", \"public\", \"public\", \"putting\", \"question\", \"raise\", \"raise\", \"raise\", \"raise\", \"raised\", \"raising\", \"rate\", \"rate\", \"rea\", \"reach_savings_account\", \"real\", \"real\", \"real\", \"real\", \"real\", \"reality\", \"really\", \"reason\", \"reason_optimistic\", \"reasonable\", \"recession\", \"recession\", \"recession\", \"recession\", \"recession\", \"recession\", \"record\", \"record\", \"record\", \"record\", \"reduce\", \"reduction\", \"related\", \"reminder\", \"reminder\", \"report\", \"report\", \"report\", \"reporting_mention_corporate\", \"reports_showing\", \"republican\", \"republicans_busy_pronouns\", \"respect\", \"retail\", \"retail\", \"retail\", \"rich\", \"rights_lgbtq_appointing_judges\", \"rise\", \"rising_double_digits\", \"rose\", \"run\", \"russia\", \"russian\", \"russian\", \"said\", \"said\", \"said\", \"said\", \"saving\", \"say\", \"say\", \"say\", \"saying\", \"sector\", \"sector\", \"see\", \"see\", \"see\", \"see\", \"see\", \"seems\", \"shortage\", \"show\", \"show\", \"show\", \"sign\", \"signed\", \"significantly\", \"significantly_without_stopping\", \"since\", \"since\", \"since\", \"slowing\", \"soaring\", \"someone\", \"something\", \"spending\", \"spending\", \"squeezed\", \"staff\", \"start\", \"start\", \"starting_january_largest\", \"state\", \"statscan_dele\", \"still\", \"still\", \"still\", \"still\", \"stock\", \"stock_buybacks_folks\", \"stop\", \"stop\", \"stop\", \"stop\", \"straight\", \"struggling\", \"support\", \"sure\", \"take\", \"take_victory_lap\", \"taking\", \"talk\", \"talk_things_anymore\", \"talking\", \"target\", \"tax\", \"tax\", \"tax\", \"tell\", \"th\", \"th\", \"th\", \"th\", \"thanks\", \"thanks\", \"thing\", \"thing\", \"think\", \"think\", \"think\", \"think\", \"think\", \"think\", \"though\", \"time\", \"time\", \"time\", \"time\", \"time\", \"time\", \"today\", \"today\", \"today\", \"today\", \"today\", \"told\", \"took_office\", \"tory\", \"tory\", \"trading_card\", \"transitory\", \"travel_families_cannot\", \"trudeau\", \"trump\", \"trump\", \"trump\", \"trying\", \"trying_outlaw_cash_transaction\", \"tweet\", \"twitter\", \"two\", \"u\", \"uk\", \"uk\", \"uk\", \"uk\", \"ukraine\", \"understand\", \"unemployment\", \"unemployment\", \"union\", \"value\", \"voted\", \"wage\", \"wage\", \"wage\", \"wage\", \"wage\", \"wage\", \"wage\", \"waiting\", \"war\", \"war\", \"war\", \"watch_wealthiest_corporations\", \"way\", \"way\", \"week\", \"went\", \"white_house\", \"wholesale\", \"whose\", \"wo\", \"word\", \"worker\", \"worker\", \"worker\", \"working\", \"world\", \"world\", \"worry\", \"worst\", \"worth\", \"worth\", \"would\", \"would\", \"would\", \"wrote_thread_yesterday\", \"year\", \"year\", \"year\", \"year\", \"year\", \"year\", \"year\", \"years_profit_pushed\", \"yes\", \"yet\", \"zero\", \"zero_plans_dealing\"]}, \"R\": 30, \"lambda.step\": 0.01, \"plot.opts\": {\"xlab\": \"PC1\", \"ylab\": \"PC2\"}, \"topic.order\": [8, 6, 5, 9, 10, 4, 1, 3, 2, 7]};\n\nfunction LDAvis_load_lib(url, callback){\n  var s = document.createElement('script');\n  s.src = url;\n  s.async = true;\n  s.onreadystatechange = s.onload = callback;\n  s.onerror = function(){console.warn(\"failed to load library \" + url);};\n  document.getElementsByTagName(\"head\")[0].appendChild(s);\n}\n\nif(typeof(LDAvis) !== \"undefined\"){\n   // already loaded: just create the visualization\n   !function(LDAvis){\n       new LDAvis(\"#\" + \"ldavis_el970140423765618576961661120\", ldavis_el970140423765618576961661120_data);\n   }(LDAvis);\n}else if(typeof define === \"function\" && define.amd){\n   // require.js is available: use it to load d3/LDAvis\n   require.config({paths: {d3: \"https://d3js.org/d3.v5\"}});\n   require([\"d3\"], function(d3){\n      window.d3 = d3;\n      LDAvis_load_lib(\"https://cdn.jsdelivr.net/gh/bmabey/pyLDAvis@3.4.0/pyLDAvis/js/ldavis.v3.0.0.js\", function(){\n        new LDAvis(\"#\" + \"ldavis_el970140423765618576961661120\", ldavis_el970140423765618576961661120_data);\n      });\n    });\n}else{\n    // require.js not available: dynamically load d3 & LDAvis\n    LDAvis_load_lib(\"https://d3js.org/d3.v5.js\", function(){\n         LDAvis_load_lib(\"https://cdn.jsdelivr.net/gh/bmabey/pyLDAvis@3.4.0/pyLDAvis/js/ldavis.v3.0.0.js\", function(){\n                 new LDAvis(\"#\" + \"ldavis_el970140423765618576961661120\", ldavis_el970140423765618576961661120_data);\n            })\n         });\n}\n</script>",
       "datasetInfos": [],
       "metadata": {},
       "removedWidgets": [],
       "textData": null,
       "type": "htmlSandbox"
      }
     },
     "output_type": "display_data"
    }
   ],
   "source": [
    "# Visualing the topics\n",
    "# It's not visible on this GitHub page, but I've included an image to provide a clearer depiction of its appearance.\n",
    "pyLDAvis.enable_notebook()\n",
    "vis = pyLDAvis.gensim.prepare(lda_model, corpus, id2word)\n",
    "vis"
   ]
  },
  {
   "cell_type": "markdown",
   "metadata": {
    "application/vnd.databricks.v1+cell": {
     "cellMetadata": {},
     "inputWidgets": {},
     "nuid": "7ca5588b-f514-4f6b-952b-2145175bb7ff",
     "showTitle": false,
     "title": ""
    }
   },
   "source": [
    "# 6. Conclusion"
   ]
  },
  {
   "cell_type": "markdown",
   "metadata": {
    "application/vnd.databricks.v1+cell": {
     "cellMetadata": {},
     "inputWidgets": {},
     "nuid": "34518b10-18d2-4d7f-a320-504ab4451385",
     "showTitle": false,
     "title": ""
    }
   },
   "source": [
    "In this project, we applied a LDA model and Gensim LDA (Latent Dirichlet Allocation) model to a collection of Twitter tweets discussing inflation in the aftermath of the COVID-19 pandemic. Through this analysis, we uncovered ten distinct topics that capture various facets of the inflation-related discussions on the platform.\n",
    "\n",
    "These topics range from economic factors such as price, government policies, and corporate profits to discussions on the Federal Reserve's role, public sentiment about wage increases, and even unrelated themes that emerged in the Twitter discourse.\n",
    "\n",
    "The insights gained from this analysis can be valuable for businesses and policymakers. By monitoring these topics and understanding their evolution over time, businesses can adapt their strategies to respond to changing economic conditions, rising costs, and shifting public sentiment. This analysis also serves as a reminder of the interconnectedness of economic factors and the importance of staying informed and engaged with the community.\n",
    "\n",
    "In conclusion, this project illustrates the power of natural language processing and topic modeling techniques in extracting meaningful insights from social media data. It encourages businesses and decision-makers to address inflation-related challenges and opportunities in a dynamic post-COVID-19 economic landscape.\n"
   ]
  },
  {
   "cell_type": "code",
   "execution_count": 0,
   "metadata": {
    "application/vnd.databricks.v1+cell": {
     "cellMetadata": {},
     "inputWidgets": {},
     "nuid": "aac3449e-87b1-4d62-8fe3-082913b1a37e",
     "showTitle": false,
     "title": ""
    }
   },
   "outputs": [],
   "source": []
  },
  {
   "cell_type": "code",
   "execution_count": 0,
   "metadata": {
    "application/vnd.databricks.v1+cell": {
     "cellMetadata": {},
     "inputWidgets": {},
     "nuid": "26e04640-6bcb-475e-8372-04ae1fbdbf43",
     "showTitle": false,
     "title": ""
    }
   },
   "outputs": [],
   "source": []
  }
 ],
 "metadata": {
  "application/vnd.databricks.v1+notebook": {
   "dashboards": [],
   "language": "python",
   "notebookMetadata": {
    "mostRecentlyExecutedCommandWithImplicitDF": {
     "commandId": 3725176933208957,
     "dataframes": [
      "_sqldf"
     ]
    },
    "pythonIndentUnit": 4
   },
   "notebookName": "Twitter_Inflation_Topic_Modelling",
   "widgets": {}
  },
  "kernelspec": {
   "display_name": "Python 3 (ipykernel)",
   "language": "python",
   "name": "python3"
  },
  "language_info": {
   "codemirror_mode": {
    "name": "ipython",
    "version": 3
   },
   "file_extension": ".py",
   "mimetype": "text/x-python",
   "name": "python",
   "nbconvert_exporter": "python",
   "pygments_lexer": "ipython3",
   "version": "3.9.13"
  }
 },
 "nbformat": 4,
 "nbformat_minor": 1
}
